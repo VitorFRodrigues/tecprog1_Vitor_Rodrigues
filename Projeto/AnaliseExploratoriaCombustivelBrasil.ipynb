{
  "nbformat": 4,
  "nbformat_minor": 0,
  "metadata": {
    "colab": {
      "provenance": [],
      "toc_visible": true
    },
    "kernelspec": {
      "name": "python3",
      "display_name": "Python 3"
    },
    "language_info": {
      "name": "python"
    }
  },
  "cells": [
    {
      "cell_type": "markdown",
      "source": [
        "#Análise Exploratória sobre Combustíveis no Brasil no período de 2004 a 2020\n",
        "\n",
        "---\n",
        "\n",
        "Autores: \n",
        "  - Carlos Magno Dias\n",
        "  - Karine Almeida\n",
        "  - Luana Jaime Tocchio\n",
        "  - Moroni Bora\n",
        "  - Vitor Rodrigues\n",
        "\n",
        "e-mails: \n",
        "  - carlosmagdias@gmail.com\n",
        "  - almeida.karinealves@gmail.com\n",
        "  - luanatocchio@gmail.com\n",
        "  - moronibora@gmail.com\n",
        "  - vitorfbaiano@gmail.com \n",
        "\n",
        "---"
      ],
      "metadata": {
        "id": "vTsNoU6MiwQn"
      }
    },
    {
      "cell_type": "markdown",
      "source": [
        "## 1.Introdução\n",
        "\n",
        "A gestão eficiente dos recursos energéticos é fundamental para o desenvolvimento de qualquer país. O papel dos combustíveis, como petróleo, gás natural, e outros, é primordial na geração de energia, transporte e produção de bens. Conhecer a dinâmica destes recursos é essencial para a tomada de decisões estratégicas em diversos setores da economia.\n",
        "\n",
        "A ANP (Agência Nacional do Petróleo e Gás Natural) é responsável por regulamentar e fiscalizar o setor de petróleo e gás natural no Brasil. Ela tem como missão garantir a segurança e a eficiência dos processos, bem como assegurar a proteção do meio ambiente e o equilíbrio entre as necessidades do mercado e o interesse público. Dado isso, o Levantamento de Preços de Combustíveis (LPC) é um programa que acompanha os preços praticados por revendedores de combustíveis desde 2004, abrangendo postos de coleta em 459 municípios de todo território nacional. Informações como preços de distribuição e de venda ao consumidor final; preços mínimos, máximos e médios e desvios padrões de distribuição e revenda; além de margens médias brutas de revenda de gasolina comum, etanol hidratado combustível, óleo diesel B, GNV e GLP P13, apurados em níveis municipal, estadual, regional e nacional; número total de revendas pesquisadas e período e data da coleta são levantadas nesse relatório.\n",
        "\n",
        "Conhecer a série histórica do preço médio de combustíveis é importante para entender a variação dos custos dos setores que dependem diretamente destes recursos, bem como para acompanhar tendências e possíveis impactos econômicos.\n",
        "\n",
        "Visto que nosso país enfrenta uma série de dificuldades em níveis socio-políticos e econômicos, foi de interesse do grupo analisar a evolução dos preços médios de revenda dos combustíveis no período disponibilizado da série histórica, 2004 a 2020."
      ],
      "metadata": {
        "id": "wDMKIFvijdcZ"
      }
    },
    {
      "cell_type": "markdown",
      "source": [
        "## 2.Objetivos"
      ],
      "metadata": {
        "id": "0TSCFlbvjlcZ"
      }
    },
    {
      "cell_type": "markdown",
      "source": [
        "### 2.1. Objetivo Geral\n",
        "  Acompanhar a evolução de preços médios da Gasolina Comum e Óleo Diesel S10 ao longo da série histórica de 2004 a 2020 em nível nacional, regional e estadual e verificar se houve alguma mudança abrupta dos preços de revenda."
      ],
      "metadata": {
        "id": "gjPZ9Yx8f6x5"
      }
    },
    {
      "cell_type": "markdown",
      "source": [
        "### 2.2. Objetivos Específicos\n",
        " - Como se deu a evolução de preços desses produtos em escala nacional no período de 2004 a 2020?\n",
        "\n",
        " - Como se deu a evolução de preços desses produtos em escala regional no período de 2004 a 2020?\n",
        "\n",
        " - Como se deu a evolução de preços desses produtos em escala estadual no período de 2004 a 2020?\n",
        "\n",
        " - Qual região tem maior variação de preços médios? (Preço médio min e max)"
      ],
      "metadata": {
        "id": "vLejxmBBgDdl"
      }
    },
    {
      "cell_type": "markdown",
      "source": [
        "## 3.Preparação e Limpeza de Dados"
      ],
      "metadata": {
        "id": "ukUxsF69jrcR"
      }
    },
    {
      "cell_type": "markdown",
      "source": [
        "### 3.1. Leitura dos Dados"
      ],
      "metadata": {
        "id": "H7KE8EygfQSK"
      }
    },
    {
      "cell_type": "markdown",
      "source": [
        "Primeiro foi realizada a leitura do *dataset*, que está alocado em um repositório pessoal do GitHub; e importadas as bibliotecas necessárias."
      ],
      "metadata": {
        "id": "tb7JOCcgoLkd"
      }
    },
    {
      "cell_type": "code",
      "source": [
        "url_gas_tsv = 'https://raw.githubusercontent.com/VitorFRodrigues/tecprog1_Vitor_Rodrigues/main/Projeto/dados/2004-2021.tsv'"
      ],
      "metadata": {
        "id": "VMOCqshliRxu"
      },
      "execution_count": 1,
      "outputs": []
    },
    {
      "cell_type": "markdown",
      "source": [
        "A princípio as bibliotecas utilizadas foram: NumPy e Pandas.\n"
      ],
      "metadata": {
        "id": "yrF7axzVecQ-"
      }
    },
    {
      "cell_type": "code",
      "execution_count": 2,
      "metadata": {
        "id": "3RUCeK0Wn4vR"
      },
      "outputs": [],
      "source": [
        "import pandas as pd\n",
        "import numpy as np"
      ]
    },
    {
      "cell_type": "markdown",
      "source": [
        "A leitura do *dataset* se deu através do comando **pd.read_csv**, utilizando a variável com o link do *dataset* como parâmetro e tendo como separador a tabulação, uma vez que se trata de um arquivo do tipo **.tsv**.\n",
        "\n",
        "Abaixo está presente as primeiras cinco linhas do *dataset*, no qual é possível visualizar a estrutura e disposição dos dados de forma crua (sem tratamento)."
      ],
      "metadata": {
        "id": "EujhWAj5ngwI"
      }
    },
    {
      "cell_type": "code",
      "source": [
        "dataset_gas=pd.read_csv(url_gas_tsv,sep='\\t')\n",
        "dataset_gas.head()"
      ],
      "metadata": {
        "id": "UmJJu8ocogbj",
        "colab": {
          "base_uri": "https://localhost:8080/",
          "height": 409
        },
        "outputId": "692d1096-130b-42ec-de94-3add13790c1c"
      },
      "execution_count": 3,
      "outputs": [
        {
          "output_type": "execute_result",
          "data": {
            "text/plain": [
              "  DATA INICIAL  DATA FINAL        REGIÃO              ESTADO  \\\n",
              "0   2004-05-09  2004-05-15  CENTRO OESTE    DISTRITO FEDERAL   \n",
              "1   2004-05-09  2004-05-15  CENTRO OESTE               GOIAS   \n",
              "2   2004-05-09  2004-05-15  CENTRO OESTE         MATO GROSSO   \n",
              "3   2004-05-09  2004-05-15  CENTRO OESTE  MATO GROSSO DO SUL   \n",
              "4   2004-05-09  2004-05-15      NORDESTE             ALAGOAS   \n",
              "\n",
              "            PRODUTO  NÚMERO DE POSTOS PESQUISADOS UNIDADE DE MEDIDA  \\\n",
              "0  ETANOL HIDRATADO                           127              R$/l   \n",
              "1  ETANOL HIDRATADO                           387              R$/l   \n",
              "2  ETANOL HIDRATADO                           192              R$/l   \n",
              "3  ETANOL HIDRATADO                           162              R$/l   \n",
              "4  ETANOL HIDRATADO                           103              R$/l   \n",
              "\n",
              "   PREÇO MÉDIO REVENDA  DESVIO PADRÃO REVENDA  PREÇO MÍNIMO REVENDA  \\\n",
              "0                1.288                  0.016                  1.19   \n",
              "1                1.162                  0.114                  0.89   \n",
              "2                1.389                  0.097                  1.18   \n",
              "3                1.262                  0.070                  1.09   \n",
              "4                1.181                  0.078                  1.05   \n",
              "\n",
              "   PREÇO MÁXIMO REVENDA MARGEM MÉDIA REVENDA  COEF DE VARIAÇÃO REVENDA  \\\n",
              "0                 1.350                0.463                     0.012   \n",
              "1                 1.449                0.399                     0.098   \n",
              "2                 1.760                0.419                     0.070   \n",
              "3                 1.509                0.432                     0.055   \n",
              "4                 1.400                 0.24                     0.066   \n",
              "\n",
              "  PREÇO MÉDIO DISTRIBUIÇÃO DESVIO PADRÃO DISTRIBUIÇÃO  \\\n",
              "0                    0.825                       0.11   \n",
              "1                    0.763                      0.088   \n",
              "2                     0.97                      0.095   \n",
              "3                     0.83                      0.119   \n",
              "4                    0.941                      0.077   \n",
              "\n",
              "  PREÇO MÍNIMO DISTRIBUIÇÃO PREÇO MÁXIMO DISTRIBUIÇÃO  \\\n",
              "0                    0.4201                    0.9666   \n",
              "1                    0.5013                      1.05   \n",
              "2                    0.5614                     1.161   \n",
              "3                    0.5991                   1.22242   \n",
              "4                    0.7441                    1.0317   \n",
              "\n",
              "  COEF DE VARIAÇÃO DISTRIBUIÇÃO  \n",
              "0                         0.133  \n",
              "1                         0.115  \n",
              "2                         0.098  \n",
              "3                         0.143  \n",
              "4                         0.082  "
            ],
            "text/html": [
              "\n",
              "  <div id=\"df-6bf13e6b-4940-4a77-b82a-8f9ede5be5d9\">\n",
              "    <div class=\"colab-df-container\">\n",
              "      <div>\n",
              "<style scoped>\n",
              "    .dataframe tbody tr th:only-of-type {\n",
              "        vertical-align: middle;\n",
              "    }\n",
              "\n",
              "    .dataframe tbody tr th {\n",
              "        vertical-align: top;\n",
              "    }\n",
              "\n",
              "    .dataframe thead th {\n",
              "        text-align: right;\n",
              "    }\n",
              "</style>\n",
              "<table border=\"1\" class=\"dataframe\">\n",
              "  <thead>\n",
              "    <tr style=\"text-align: right;\">\n",
              "      <th></th>\n",
              "      <th>DATA INICIAL</th>\n",
              "      <th>DATA FINAL</th>\n",
              "      <th>REGIÃO</th>\n",
              "      <th>ESTADO</th>\n",
              "      <th>PRODUTO</th>\n",
              "      <th>NÚMERO DE POSTOS PESQUISADOS</th>\n",
              "      <th>UNIDADE DE MEDIDA</th>\n",
              "      <th>PREÇO MÉDIO REVENDA</th>\n",
              "      <th>DESVIO PADRÃO REVENDA</th>\n",
              "      <th>PREÇO MÍNIMO REVENDA</th>\n",
              "      <th>PREÇO MÁXIMO REVENDA</th>\n",
              "      <th>MARGEM MÉDIA REVENDA</th>\n",
              "      <th>COEF DE VARIAÇÃO REVENDA</th>\n",
              "      <th>PREÇO MÉDIO DISTRIBUIÇÃO</th>\n",
              "      <th>DESVIO PADRÃO DISTRIBUIÇÃO</th>\n",
              "      <th>PREÇO MÍNIMO DISTRIBUIÇÃO</th>\n",
              "      <th>PREÇO MÁXIMO DISTRIBUIÇÃO</th>\n",
              "      <th>COEF DE VARIAÇÃO DISTRIBUIÇÃO</th>\n",
              "    </tr>\n",
              "  </thead>\n",
              "  <tbody>\n",
              "    <tr>\n",
              "      <th>0</th>\n",
              "      <td>2004-05-09</td>\n",
              "      <td>2004-05-15</td>\n",
              "      <td>CENTRO OESTE</td>\n",
              "      <td>DISTRITO FEDERAL</td>\n",
              "      <td>ETANOL HIDRATADO</td>\n",
              "      <td>127</td>\n",
              "      <td>R$/l</td>\n",
              "      <td>1.288</td>\n",
              "      <td>0.016</td>\n",
              "      <td>1.19</td>\n",
              "      <td>1.350</td>\n",
              "      <td>0.463</td>\n",
              "      <td>0.012</td>\n",
              "      <td>0.825</td>\n",
              "      <td>0.11</td>\n",
              "      <td>0.4201</td>\n",
              "      <td>0.9666</td>\n",
              "      <td>0.133</td>\n",
              "    </tr>\n",
              "    <tr>\n",
              "      <th>1</th>\n",
              "      <td>2004-05-09</td>\n",
              "      <td>2004-05-15</td>\n",
              "      <td>CENTRO OESTE</td>\n",
              "      <td>GOIAS</td>\n",
              "      <td>ETANOL HIDRATADO</td>\n",
              "      <td>387</td>\n",
              "      <td>R$/l</td>\n",
              "      <td>1.162</td>\n",
              "      <td>0.114</td>\n",
              "      <td>0.89</td>\n",
              "      <td>1.449</td>\n",
              "      <td>0.399</td>\n",
              "      <td>0.098</td>\n",
              "      <td>0.763</td>\n",
              "      <td>0.088</td>\n",
              "      <td>0.5013</td>\n",
              "      <td>1.05</td>\n",
              "      <td>0.115</td>\n",
              "    </tr>\n",
              "    <tr>\n",
              "      <th>2</th>\n",
              "      <td>2004-05-09</td>\n",
              "      <td>2004-05-15</td>\n",
              "      <td>CENTRO OESTE</td>\n",
              "      <td>MATO GROSSO</td>\n",
              "      <td>ETANOL HIDRATADO</td>\n",
              "      <td>192</td>\n",
              "      <td>R$/l</td>\n",
              "      <td>1.389</td>\n",
              "      <td>0.097</td>\n",
              "      <td>1.18</td>\n",
              "      <td>1.760</td>\n",
              "      <td>0.419</td>\n",
              "      <td>0.070</td>\n",
              "      <td>0.97</td>\n",
              "      <td>0.095</td>\n",
              "      <td>0.5614</td>\n",
              "      <td>1.161</td>\n",
              "      <td>0.098</td>\n",
              "    </tr>\n",
              "    <tr>\n",
              "      <th>3</th>\n",
              "      <td>2004-05-09</td>\n",
              "      <td>2004-05-15</td>\n",
              "      <td>CENTRO OESTE</td>\n",
              "      <td>MATO GROSSO DO SUL</td>\n",
              "      <td>ETANOL HIDRATADO</td>\n",
              "      <td>162</td>\n",
              "      <td>R$/l</td>\n",
              "      <td>1.262</td>\n",
              "      <td>0.070</td>\n",
              "      <td>1.09</td>\n",
              "      <td>1.509</td>\n",
              "      <td>0.432</td>\n",
              "      <td>0.055</td>\n",
              "      <td>0.83</td>\n",
              "      <td>0.119</td>\n",
              "      <td>0.5991</td>\n",
              "      <td>1.22242</td>\n",
              "      <td>0.143</td>\n",
              "    </tr>\n",
              "    <tr>\n",
              "      <th>4</th>\n",
              "      <td>2004-05-09</td>\n",
              "      <td>2004-05-15</td>\n",
              "      <td>NORDESTE</td>\n",
              "      <td>ALAGOAS</td>\n",
              "      <td>ETANOL HIDRATADO</td>\n",
              "      <td>103</td>\n",
              "      <td>R$/l</td>\n",
              "      <td>1.181</td>\n",
              "      <td>0.078</td>\n",
              "      <td>1.05</td>\n",
              "      <td>1.400</td>\n",
              "      <td>0.24</td>\n",
              "      <td>0.066</td>\n",
              "      <td>0.941</td>\n",
              "      <td>0.077</td>\n",
              "      <td>0.7441</td>\n",
              "      <td>1.0317</td>\n",
              "      <td>0.082</td>\n",
              "    </tr>\n",
              "  </tbody>\n",
              "</table>\n",
              "</div>\n",
              "      <button class=\"colab-df-convert\" onclick=\"convertToInteractive('df-6bf13e6b-4940-4a77-b82a-8f9ede5be5d9')\"\n",
              "              title=\"Convert this dataframe to an interactive table.\"\n",
              "              style=\"display:none;\">\n",
              "        \n",
              "  <svg xmlns=\"http://www.w3.org/2000/svg\" height=\"24px\"viewBox=\"0 0 24 24\"\n",
              "       width=\"24px\">\n",
              "    <path d=\"M0 0h24v24H0V0z\" fill=\"none\"/>\n",
              "    <path d=\"M18.56 5.44l.94 2.06.94-2.06 2.06-.94-2.06-.94-.94-2.06-.94 2.06-2.06.94zm-11 1L8.5 8.5l.94-2.06 2.06-.94-2.06-.94L8.5 2.5l-.94 2.06-2.06.94zm10 10l.94 2.06.94-2.06 2.06-.94-2.06-.94-.94-2.06-.94 2.06-2.06.94z\"/><path d=\"M17.41 7.96l-1.37-1.37c-.4-.4-.92-.59-1.43-.59-.52 0-1.04.2-1.43.59L10.3 9.45l-7.72 7.72c-.78.78-.78 2.05 0 2.83L4 21.41c.39.39.9.59 1.41.59.51 0 1.02-.2 1.41-.59l7.78-7.78 2.81-2.81c.8-.78.8-2.07 0-2.86zM5.41 20L4 18.59l7.72-7.72 1.47 1.35L5.41 20z\"/>\n",
              "  </svg>\n",
              "      </button>\n",
              "      \n",
              "  <style>\n",
              "    .colab-df-container {\n",
              "      display:flex;\n",
              "      flex-wrap:wrap;\n",
              "      gap: 12px;\n",
              "    }\n",
              "\n",
              "    .colab-df-convert {\n",
              "      background-color: #E8F0FE;\n",
              "      border: none;\n",
              "      border-radius: 50%;\n",
              "      cursor: pointer;\n",
              "      display: none;\n",
              "      fill: #1967D2;\n",
              "      height: 32px;\n",
              "      padding: 0 0 0 0;\n",
              "      width: 32px;\n",
              "    }\n",
              "\n",
              "    .colab-df-convert:hover {\n",
              "      background-color: #E2EBFA;\n",
              "      box-shadow: 0px 1px 2px rgba(60, 64, 67, 0.3), 0px 1px 3px 1px rgba(60, 64, 67, 0.15);\n",
              "      fill: #174EA6;\n",
              "    }\n",
              "\n",
              "    [theme=dark] .colab-df-convert {\n",
              "      background-color: #3B4455;\n",
              "      fill: #D2E3FC;\n",
              "    }\n",
              "\n",
              "    [theme=dark] .colab-df-convert:hover {\n",
              "      background-color: #434B5C;\n",
              "      box-shadow: 0px 1px 3px 1px rgba(0, 0, 0, 0.15);\n",
              "      filter: drop-shadow(0px 1px 2px rgba(0, 0, 0, 0.3));\n",
              "      fill: #FFFFFF;\n",
              "    }\n",
              "  </style>\n",
              "\n",
              "      <script>\n",
              "        const buttonEl =\n",
              "          document.querySelector('#df-6bf13e6b-4940-4a77-b82a-8f9ede5be5d9 button.colab-df-convert');\n",
              "        buttonEl.style.display =\n",
              "          google.colab.kernel.accessAllowed ? 'block' : 'none';\n",
              "\n",
              "        async function convertToInteractive(key) {\n",
              "          const element = document.querySelector('#df-6bf13e6b-4940-4a77-b82a-8f9ede5be5d9');\n",
              "          const dataTable =\n",
              "            await google.colab.kernel.invokeFunction('convertToInteractive',\n",
              "                                                     [key], {});\n",
              "          if (!dataTable) return;\n",
              "\n",
              "          const docLinkHtml = 'Like what you see? Visit the ' +\n",
              "            '<a target=\"_blank\" href=https://colab.research.google.com/notebooks/data_table.ipynb>data table notebook</a>'\n",
              "            + ' to learn more about interactive tables.';\n",
              "          element.innerHTML = '';\n",
              "          dataTable['output_type'] = 'display_data';\n",
              "          await google.colab.output.renderOutput(dataTable, element);\n",
              "          const docLink = document.createElement('div');\n",
              "          docLink.innerHTML = docLinkHtml;\n",
              "          element.appendChild(docLink);\n",
              "        }\n",
              "      </script>\n",
              "    </div>\n",
              "  </div>\n",
              "  "
            ]
          },
          "metadata": {},
          "execution_count": 3
        }
      ]
    },
    {
      "cell_type": "markdown",
      "source": [
        "Foi feita a conversão do *dataset* em formato **.tsv** para o formato **.csv**.\n",
        "\n",
        "*<sub>*Apenas para exemplificar uma maneira de converter o formato de um dataset para outro.*"
      ],
      "metadata": {
        "id": "olRjN7hgsNer"
      }
    },
    {
      "cell_type": "code",
      "source": [
        "dataset_gas.to_csv(r'/content/gas.csv')"
      ],
      "metadata": {
        "id": "YbmAOzjKuqDD"
      },
      "execution_count": 4,
      "outputs": []
    },
    {
      "cell_type": "markdown",
      "source": [
        "### 3.2. Investigação e Limpeza do *Dataset*"
      ],
      "metadata": {
        "id": "5DQEyDqem0J0"
      }
    },
    {
      "cell_type": "markdown",
      "source": [
        "Foram obtidas informações preliminares a respeito dos dados presentes no *dataset* através do método **.info()**."
      ],
      "metadata": {
        "id": "_b4q7um1snfc"
      }
    },
    {
      "cell_type": "code",
      "source": [
        "dataset_gas.info()"
      ],
      "metadata": {
        "colab": {
          "base_uri": "https://localhost:8080/"
        },
        "id": "BSBiz8rLsrIE",
        "outputId": "6150c8c7-43a7-4667-bb0e-ac563e116f3e"
      },
      "execution_count": 5,
      "outputs": [
        {
          "output_type": "stream",
          "name": "stdout",
          "text": [
            "<class 'pandas.core.frame.DataFrame'>\n",
            "RangeIndex: 120823 entries, 0 to 120822\n",
            "Data columns (total 18 columns):\n",
            " #   Column                         Non-Null Count   Dtype  \n",
            "---  ------                         --------------   -----  \n",
            " 0   DATA INICIAL                   120823 non-null  object \n",
            " 1   DATA FINAL                     120823 non-null  object \n",
            " 2   REGIÃO                         120823 non-null  object \n",
            " 3   ESTADO                         120823 non-null  object \n",
            " 4   PRODUTO                        120823 non-null  object \n",
            " 5   NÚMERO DE POSTOS PESQUISADOS   120823 non-null  int64  \n",
            " 6   UNIDADE DE MEDIDA              120823 non-null  object \n",
            " 7   PREÇO MÉDIO REVENDA            120823 non-null  float64\n",
            " 8   DESVIO PADRÃO REVENDA          120823 non-null  float64\n",
            " 9   PREÇO MÍNIMO REVENDA           120823 non-null  float64\n",
            " 10  PREÇO MÁXIMO REVENDA           120823 non-null  float64\n",
            " 11  MARGEM MÉDIA REVENDA           120823 non-null  object \n",
            " 12  COEF DE VARIAÇÃO REVENDA       120823 non-null  float64\n",
            " 13  PREÇO MÉDIO DISTRIBUIÇÃO       120823 non-null  object \n",
            " 14  DESVIO PADRÃO DISTRIBUIÇÃO     120823 non-null  object \n",
            " 15  PREÇO MÍNIMO DISTRIBUIÇÃO      120823 non-null  object \n",
            " 16  PREÇO MÁXIMO DISTRIBUIÇÃO      120823 non-null  object \n",
            " 17  COEF DE VARIAÇÃO DISTRIBUIÇÃO  120823 non-null  object \n",
            "dtypes: float64(5), int64(1), object(12)\n",
            "memory usage: 16.6+ MB\n"
          ]
        }
      ]
    },
    {
      "cell_type": "markdown",
      "source": [
        "Foi observado o tipo *Object* para diversas colunas, inclusive colunas cujos dados são numéricos. Isto nos indicou a necessidade de conversão de algumas dessas colunas para outros tipos.\n",
        "\n",
        "Além do método acima, aplicamos o (atributo) **.shape** para indentificar o formato do *dataset*."
      ],
      "metadata": {
        "id": "eRPW36cMo-Ol"
      }
    },
    {
      "cell_type": "code",
      "source": [
        "dataset_gas.shape"
      ],
      "metadata": {
        "colab": {
          "base_uri": "https://localhost:8080/"
        },
        "id": "AF5oUSsKozpI",
        "outputId": "ba8048c9-8758-493e-c2a4-36105ed27355"
      },
      "execution_count": 6,
      "outputs": [
        {
          "output_type": "execute_result",
          "data": {
            "text/plain": [
              "(120823, 18)"
            ]
          },
          "metadata": {},
          "execution_count": 6
        }
      ]
    },
    {
      "cell_type": "markdown",
      "source": [
        "O *dataset* possui 120.823 linhas e 18 colunas.\n",
        "\n",
        "Outro método utilizado foi o **.describe()** que nos retorna dados estatísticos sobre o *dataset*, como média, desvio-padrão, quartis, entre outros."
      ],
      "metadata": {
        "id": "sxdWXD-YpKmM"
      }
    },
    {
      "cell_type": "code",
      "source": [
        "dataset_gas.describe()"
      ],
      "metadata": {
        "colab": {
          "base_uri": "https://localhost:8080/",
          "height": 300
        },
        "id": "dXJMubGOoz7_",
        "outputId": "70a7c0aa-3086-4f0c-9a8d-5e7ef7a08a36"
      },
      "execution_count": 7,
      "outputs": [
        {
          "output_type": "execute_result",
          "data": {
            "text/plain": [
              "       NÚMERO DE POSTOS PESQUISADOS  PREÇO MÉDIO REVENDA  \\\n",
              "count                 120823.000000        120823.000000   \n",
              "mean                     221.066461            11.473440   \n",
              "std                      387.940239            19.161823   \n",
              "min                        1.000000             0.766000   \n",
              "25%                       39.000000             2.157000   \n",
              "50%                       99.000000             2.899000   \n",
              "75%                      226.000000             4.026000   \n",
              "max                     4167.000000           107.500000   \n",
              "\n",
              "       DESVIO PADRÃO REVENDA  PREÇO MÍNIMO REVENDA  PREÇO MÁXIMO REVENDA  \\\n",
              "count          120823.000000         120823.000000         120823.000000   \n",
              "mean                0.684132              9.977821             13.233902   \n",
              "std                 1.403317             16.433783             22.451445   \n",
              "min                 0.000000              0.590000              0.999000   \n",
              "25%                 0.075000              1.989000              2.420000   \n",
              "50%                 0.121000              2.690000              3.200000   \n",
              "75%                 0.204000              3.790000              4.589000   \n",
              "max                10.748000            100.000000            120.000000   \n",
              "\n",
              "       COEF DE VARIAÇÃO REVENDA  \n",
              "count             120823.000000  \n",
              "mean                   0.045298  \n",
              "std                    0.024763  \n",
              "min                    0.000000  \n",
              "25%                    0.029000  \n",
              "50%                    0.041000  \n",
              "75%                    0.058000  \n",
              "max                    0.395000  "
            ],
            "text/html": [
              "\n",
              "  <div id=\"df-4d906d1f-c7fc-44cb-94cc-a7ef1bf18300\">\n",
              "    <div class=\"colab-df-container\">\n",
              "      <div>\n",
              "<style scoped>\n",
              "    .dataframe tbody tr th:only-of-type {\n",
              "        vertical-align: middle;\n",
              "    }\n",
              "\n",
              "    .dataframe tbody tr th {\n",
              "        vertical-align: top;\n",
              "    }\n",
              "\n",
              "    .dataframe thead th {\n",
              "        text-align: right;\n",
              "    }\n",
              "</style>\n",
              "<table border=\"1\" class=\"dataframe\">\n",
              "  <thead>\n",
              "    <tr style=\"text-align: right;\">\n",
              "      <th></th>\n",
              "      <th>NÚMERO DE POSTOS PESQUISADOS</th>\n",
              "      <th>PREÇO MÉDIO REVENDA</th>\n",
              "      <th>DESVIO PADRÃO REVENDA</th>\n",
              "      <th>PREÇO MÍNIMO REVENDA</th>\n",
              "      <th>PREÇO MÁXIMO REVENDA</th>\n",
              "      <th>COEF DE VARIAÇÃO REVENDA</th>\n",
              "    </tr>\n",
              "  </thead>\n",
              "  <tbody>\n",
              "    <tr>\n",
              "      <th>count</th>\n",
              "      <td>120823.000000</td>\n",
              "      <td>120823.000000</td>\n",
              "      <td>120823.000000</td>\n",
              "      <td>120823.000000</td>\n",
              "      <td>120823.000000</td>\n",
              "      <td>120823.000000</td>\n",
              "    </tr>\n",
              "    <tr>\n",
              "      <th>mean</th>\n",
              "      <td>221.066461</td>\n",
              "      <td>11.473440</td>\n",
              "      <td>0.684132</td>\n",
              "      <td>9.977821</td>\n",
              "      <td>13.233902</td>\n",
              "      <td>0.045298</td>\n",
              "    </tr>\n",
              "    <tr>\n",
              "      <th>std</th>\n",
              "      <td>387.940239</td>\n",
              "      <td>19.161823</td>\n",
              "      <td>1.403317</td>\n",
              "      <td>16.433783</td>\n",
              "      <td>22.451445</td>\n",
              "      <td>0.024763</td>\n",
              "    </tr>\n",
              "    <tr>\n",
              "      <th>min</th>\n",
              "      <td>1.000000</td>\n",
              "      <td>0.766000</td>\n",
              "      <td>0.000000</td>\n",
              "      <td>0.590000</td>\n",
              "      <td>0.999000</td>\n",
              "      <td>0.000000</td>\n",
              "    </tr>\n",
              "    <tr>\n",
              "      <th>25%</th>\n",
              "      <td>39.000000</td>\n",
              "      <td>2.157000</td>\n",
              "      <td>0.075000</td>\n",
              "      <td>1.989000</td>\n",
              "      <td>2.420000</td>\n",
              "      <td>0.029000</td>\n",
              "    </tr>\n",
              "    <tr>\n",
              "      <th>50%</th>\n",
              "      <td>99.000000</td>\n",
              "      <td>2.899000</td>\n",
              "      <td>0.121000</td>\n",
              "      <td>2.690000</td>\n",
              "      <td>3.200000</td>\n",
              "      <td>0.041000</td>\n",
              "    </tr>\n",
              "    <tr>\n",
              "      <th>75%</th>\n",
              "      <td>226.000000</td>\n",
              "      <td>4.026000</td>\n",
              "      <td>0.204000</td>\n",
              "      <td>3.790000</td>\n",
              "      <td>4.589000</td>\n",
              "      <td>0.058000</td>\n",
              "    </tr>\n",
              "    <tr>\n",
              "      <th>max</th>\n",
              "      <td>4167.000000</td>\n",
              "      <td>107.500000</td>\n",
              "      <td>10.748000</td>\n",
              "      <td>100.000000</td>\n",
              "      <td>120.000000</td>\n",
              "      <td>0.395000</td>\n",
              "    </tr>\n",
              "  </tbody>\n",
              "</table>\n",
              "</div>\n",
              "      <button class=\"colab-df-convert\" onclick=\"convertToInteractive('df-4d906d1f-c7fc-44cb-94cc-a7ef1bf18300')\"\n",
              "              title=\"Convert this dataframe to an interactive table.\"\n",
              "              style=\"display:none;\">\n",
              "        \n",
              "  <svg xmlns=\"http://www.w3.org/2000/svg\" height=\"24px\"viewBox=\"0 0 24 24\"\n",
              "       width=\"24px\">\n",
              "    <path d=\"M0 0h24v24H0V0z\" fill=\"none\"/>\n",
              "    <path d=\"M18.56 5.44l.94 2.06.94-2.06 2.06-.94-2.06-.94-.94-2.06-.94 2.06-2.06.94zm-11 1L8.5 8.5l.94-2.06 2.06-.94-2.06-.94L8.5 2.5l-.94 2.06-2.06.94zm10 10l.94 2.06.94-2.06 2.06-.94-2.06-.94-.94-2.06-.94 2.06-2.06.94z\"/><path d=\"M17.41 7.96l-1.37-1.37c-.4-.4-.92-.59-1.43-.59-.52 0-1.04.2-1.43.59L10.3 9.45l-7.72 7.72c-.78.78-.78 2.05 0 2.83L4 21.41c.39.39.9.59 1.41.59.51 0 1.02-.2 1.41-.59l7.78-7.78 2.81-2.81c.8-.78.8-2.07 0-2.86zM5.41 20L4 18.59l7.72-7.72 1.47 1.35L5.41 20z\"/>\n",
              "  </svg>\n",
              "      </button>\n",
              "      \n",
              "  <style>\n",
              "    .colab-df-container {\n",
              "      display:flex;\n",
              "      flex-wrap:wrap;\n",
              "      gap: 12px;\n",
              "    }\n",
              "\n",
              "    .colab-df-convert {\n",
              "      background-color: #E8F0FE;\n",
              "      border: none;\n",
              "      border-radius: 50%;\n",
              "      cursor: pointer;\n",
              "      display: none;\n",
              "      fill: #1967D2;\n",
              "      height: 32px;\n",
              "      padding: 0 0 0 0;\n",
              "      width: 32px;\n",
              "    }\n",
              "\n",
              "    .colab-df-convert:hover {\n",
              "      background-color: #E2EBFA;\n",
              "      box-shadow: 0px 1px 2px rgba(60, 64, 67, 0.3), 0px 1px 3px 1px rgba(60, 64, 67, 0.15);\n",
              "      fill: #174EA6;\n",
              "    }\n",
              "\n",
              "    [theme=dark] .colab-df-convert {\n",
              "      background-color: #3B4455;\n",
              "      fill: #D2E3FC;\n",
              "    }\n",
              "\n",
              "    [theme=dark] .colab-df-convert:hover {\n",
              "      background-color: #434B5C;\n",
              "      box-shadow: 0px 1px 3px 1px rgba(0, 0, 0, 0.15);\n",
              "      filter: drop-shadow(0px 1px 2px rgba(0, 0, 0, 0.3));\n",
              "      fill: #FFFFFF;\n",
              "    }\n",
              "  </style>\n",
              "\n",
              "      <script>\n",
              "        const buttonEl =\n",
              "          document.querySelector('#df-4d906d1f-c7fc-44cb-94cc-a7ef1bf18300 button.colab-df-convert');\n",
              "        buttonEl.style.display =\n",
              "          google.colab.kernel.accessAllowed ? 'block' : 'none';\n",
              "\n",
              "        async function convertToInteractive(key) {\n",
              "          const element = document.querySelector('#df-4d906d1f-c7fc-44cb-94cc-a7ef1bf18300');\n",
              "          const dataTable =\n",
              "            await google.colab.kernel.invokeFunction('convertToInteractive',\n",
              "                                                     [key], {});\n",
              "          if (!dataTable) return;\n",
              "\n",
              "          const docLinkHtml = 'Like what you see? Visit the ' +\n",
              "            '<a target=\"_blank\" href=https://colab.research.google.com/notebooks/data_table.ipynb>data table notebook</a>'\n",
              "            + ' to learn more about interactive tables.';\n",
              "          element.innerHTML = '';\n",
              "          dataTable['output_type'] = 'display_data';\n",
              "          await google.colab.output.renderOutput(dataTable, element);\n",
              "          const docLink = document.createElement('div');\n",
              "          docLink.innerHTML = docLinkHtml;\n",
              "          element.appendChild(docLink);\n",
              "        }\n",
              "      </script>\n",
              "    </div>\n",
              "  </div>\n",
              "  "
            ]
          },
          "metadata": {},
          "execution_count": 7
        }
      ]
    },
    {
      "cell_type": "markdown",
      "source": [
        "O método **.describe()** nos retorna apenas as colunas que possuem dados dos tipos **int/float**. Considerando que o dataset possui 18 colunas, sendo a maioria com dados numéricos, esperava-se que mais colunas aparecessem no resultado do **.describe()**. No entanto, apenas seis colunas foram apresentadas, o que nos levou a questionar a possibilidade de divergência dos tipos de dados presentes na mesma coluna, ou mesmo dados faltantes.\n",
        "\n",
        "Dessa forma, utilizamos o método **.isna()** aliado ao **.sum()** para identificar as colunas onde poderiam haver números 'NaN' e quantificar esses elementos."
      ],
      "metadata": {
        "id": "v9NFTFjSqLqu"
      }
    },
    {
      "cell_type": "code",
      "source": [
        "dataset_gas.isna().sum()"
      ],
      "metadata": {
        "colab": {
          "base_uri": "https://localhost:8080/"
        },
        "id": "5oTd5uN6ozx3",
        "outputId": "b97ec1ce-3898-43e8-e4af-2f5163ebbf8f"
      },
      "execution_count": 8,
      "outputs": [
        {
          "output_type": "execute_result",
          "data": {
            "text/plain": [
              "DATA INICIAL                     0\n",
              "DATA FINAL                       0\n",
              "REGIÃO                           0\n",
              "ESTADO                           0\n",
              "PRODUTO                          0\n",
              "NÚMERO DE POSTOS PESQUISADOS     0\n",
              "UNIDADE DE MEDIDA                0\n",
              "PREÇO MÉDIO REVENDA              0\n",
              "DESVIO PADRÃO REVENDA            0\n",
              "PREÇO MÍNIMO REVENDA             0\n",
              "PREÇO MÁXIMO REVENDA             0\n",
              "MARGEM MÉDIA REVENDA             0\n",
              "COEF DE VARIAÇÃO REVENDA         0\n",
              "PREÇO MÉDIO DISTRIBUIÇÃO         0\n",
              "DESVIO PADRÃO DISTRIBUIÇÃO       0\n",
              "PREÇO MÍNIMO DISTRIBUIÇÃO        0\n",
              "PREÇO MÁXIMO DISTRIBUIÇÃO        0\n",
              "COEF DE VARIAÇÃO DISTRIBUIÇÃO    0\n",
              "dtype: int64"
            ]
          },
          "metadata": {},
          "execution_count": 8
        }
      ]
    },
    {
      "cell_type": "markdown",
      "source": [
        "O resultado da análise mostrou que não há colunas com valores 'NaN' - *Not a Number*. Porém isso não condiz com o observado: por que algumas colunas, que possuem valores númericos, estão sendo classificadas como **'Object'**?"
      ],
      "metadata": {
        "id": "2xoOXRJrq7ax"
      }
    },
    {
      "cell_type": "markdown",
      "source": [
        "Na descrição do *dataset* no Kaggle, existe a seguinte informação:\n",
        "\n",
        "    *NULL values are now replaces with '-99999.0'*\n",
        "\n",
        "Portanto, verificamos se há ocorrências deste valor ao longo do *dataset* utilizando o método **.isin()**. Vale ressaltar que encontramos a *string* '-' também sendo utilizada para substituir valores 'NaN' e também foi vericada a ocorrência desta *string*."
      ],
      "metadata": {
        "id": "NRRgtPUYtESc"
      }
    },
    {
      "cell_type": "code",
      "source": [
        "buscando_nulos = dataset_gas.isin(['-', '-99999.0'])\n",
        "resultado = dataset_gas[buscando_nulos]\n",
        "resultado.tail()"
      ],
      "metadata": {
        "colab": {
          "base_uri": "https://localhost:8080/",
          "height": 305
        },
        "id": "JFz8IH2DsGFO",
        "outputId": "9a6736ee-09a4-479b-984e-9649442c2d41"
      },
      "execution_count": 9,
      "outputs": [
        {
          "output_type": "execute_result",
          "data": {
            "text/plain": [
              "       DATA INICIAL DATA FINAL REGIÃO ESTADO PRODUTO  \\\n",
              "120818          NaN        NaN    NaN    NaN     NaN   \n",
              "120819          NaN        NaN    NaN    NaN     NaN   \n",
              "120820          NaN        NaN    NaN    NaN     NaN   \n",
              "120821          NaN        NaN    NaN    NaN     NaN   \n",
              "120822          NaN        NaN    NaN    NaN     NaN   \n",
              "\n",
              "        NÚMERO DE POSTOS PESQUISADOS UNIDADE DE MEDIDA  PREÇO MÉDIO REVENDA  \\\n",
              "120818                           NaN               NaN                  NaN   \n",
              "120819                           NaN               NaN                  NaN   \n",
              "120820                           NaN               NaN                  NaN   \n",
              "120821                           NaN               NaN                  NaN   \n",
              "120822                           NaN               NaN                  NaN   \n",
              "\n",
              "        DESVIO PADRÃO REVENDA  PREÇO MÍNIMO REVENDA  PREÇO MÁXIMO REVENDA  \\\n",
              "120818                    NaN                   NaN                   NaN   \n",
              "120819                    NaN                   NaN                   NaN   \n",
              "120820                    NaN                   NaN                   NaN   \n",
              "120821                    NaN                   NaN                   NaN   \n",
              "120822                    NaN                   NaN                   NaN   \n",
              "\n",
              "       MARGEM MÉDIA REVENDA  COEF DE VARIAÇÃO REVENDA  \\\n",
              "120818             -99999.0                       NaN   \n",
              "120819             -99999.0                       NaN   \n",
              "120820             -99999.0                       NaN   \n",
              "120821             -99999.0                       NaN   \n",
              "120822             -99999.0                       NaN   \n",
              "\n",
              "       PREÇO MÉDIO DISTRIBUIÇÃO DESVIO PADRÃO DISTRIBUIÇÃO  \\\n",
              "120818                 -99999.0                   -99999.0   \n",
              "120819                 -99999.0                   -99999.0   \n",
              "120820                 -99999.0                   -99999.0   \n",
              "120821                 -99999.0                   -99999.0   \n",
              "120822                 -99999.0                   -99999.0   \n",
              "\n",
              "       PREÇO MÍNIMO DISTRIBUIÇÃO PREÇO MÁXIMO DISTRIBUIÇÃO  \\\n",
              "120818                  -99999.0                  -99999.0   \n",
              "120819                  -99999.0                  -99999.0   \n",
              "120820                  -99999.0                  -99999.0   \n",
              "120821                  -99999.0                  -99999.0   \n",
              "120822                  -99999.0                  -99999.0   \n",
              "\n",
              "       COEF DE VARIAÇÃO DISTRIBUIÇÃO  \n",
              "120818                      -99999.0  \n",
              "120819                      -99999.0  \n",
              "120820                      -99999.0  \n",
              "120821                      -99999.0  \n",
              "120822                      -99999.0  "
            ],
            "text/html": [
              "\n",
              "  <div id=\"df-cad992da-cfcf-45e2-8975-3ba2ff8cb79e\">\n",
              "    <div class=\"colab-df-container\">\n",
              "      <div>\n",
              "<style scoped>\n",
              "    .dataframe tbody tr th:only-of-type {\n",
              "        vertical-align: middle;\n",
              "    }\n",
              "\n",
              "    .dataframe tbody tr th {\n",
              "        vertical-align: top;\n",
              "    }\n",
              "\n",
              "    .dataframe thead th {\n",
              "        text-align: right;\n",
              "    }\n",
              "</style>\n",
              "<table border=\"1\" class=\"dataframe\">\n",
              "  <thead>\n",
              "    <tr style=\"text-align: right;\">\n",
              "      <th></th>\n",
              "      <th>DATA INICIAL</th>\n",
              "      <th>DATA FINAL</th>\n",
              "      <th>REGIÃO</th>\n",
              "      <th>ESTADO</th>\n",
              "      <th>PRODUTO</th>\n",
              "      <th>NÚMERO DE POSTOS PESQUISADOS</th>\n",
              "      <th>UNIDADE DE MEDIDA</th>\n",
              "      <th>PREÇO MÉDIO REVENDA</th>\n",
              "      <th>DESVIO PADRÃO REVENDA</th>\n",
              "      <th>PREÇO MÍNIMO REVENDA</th>\n",
              "      <th>PREÇO MÁXIMO REVENDA</th>\n",
              "      <th>MARGEM MÉDIA REVENDA</th>\n",
              "      <th>COEF DE VARIAÇÃO REVENDA</th>\n",
              "      <th>PREÇO MÉDIO DISTRIBUIÇÃO</th>\n",
              "      <th>DESVIO PADRÃO DISTRIBUIÇÃO</th>\n",
              "      <th>PREÇO MÍNIMO DISTRIBUIÇÃO</th>\n",
              "      <th>PREÇO MÁXIMO DISTRIBUIÇÃO</th>\n",
              "      <th>COEF DE VARIAÇÃO DISTRIBUIÇÃO</th>\n",
              "    </tr>\n",
              "  </thead>\n",
              "  <tbody>\n",
              "    <tr>\n",
              "      <th>120818</th>\n",
              "      <td>NaN</td>\n",
              "      <td>NaN</td>\n",
              "      <td>NaN</td>\n",
              "      <td>NaN</td>\n",
              "      <td>NaN</td>\n",
              "      <td>NaN</td>\n",
              "      <td>NaN</td>\n",
              "      <td>NaN</td>\n",
              "      <td>NaN</td>\n",
              "      <td>NaN</td>\n",
              "      <td>NaN</td>\n",
              "      <td>-99999.0</td>\n",
              "      <td>NaN</td>\n",
              "      <td>-99999.0</td>\n",
              "      <td>-99999.0</td>\n",
              "      <td>-99999.0</td>\n",
              "      <td>-99999.0</td>\n",
              "      <td>-99999.0</td>\n",
              "    </tr>\n",
              "    <tr>\n",
              "      <th>120819</th>\n",
              "      <td>NaN</td>\n",
              "      <td>NaN</td>\n",
              "      <td>NaN</td>\n",
              "      <td>NaN</td>\n",
              "      <td>NaN</td>\n",
              "      <td>NaN</td>\n",
              "      <td>NaN</td>\n",
              "      <td>NaN</td>\n",
              "      <td>NaN</td>\n",
              "      <td>NaN</td>\n",
              "      <td>NaN</td>\n",
              "      <td>-99999.0</td>\n",
              "      <td>NaN</td>\n",
              "      <td>-99999.0</td>\n",
              "      <td>-99999.0</td>\n",
              "      <td>-99999.0</td>\n",
              "      <td>-99999.0</td>\n",
              "      <td>-99999.0</td>\n",
              "    </tr>\n",
              "    <tr>\n",
              "      <th>120820</th>\n",
              "      <td>NaN</td>\n",
              "      <td>NaN</td>\n",
              "      <td>NaN</td>\n",
              "      <td>NaN</td>\n",
              "      <td>NaN</td>\n",
              "      <td>NaN</td>\n",
              "      <td>NaN</td>\n",
              "      <td>NaN</td>\n",
              "      <td>NaN</td>\n",
              "      <td>NaN</td>\n",
              "      <td>NaN</td>\n",
              "      <td>-99999.0</td>\n",
              "      <td>NaN</td>\n",
              "      <td>-99999.0</td>\n",
              "      <td>-99999.0</td>\n",
              "      <td>-99999.0</td>\n",
              "      <td>-99999.0</td>\n",
              "      <td>-99999.0</td>\n",
              "    </tr>\n",
              "    <tr>\n",
              "      <th>120821</th>\n",
              "      <td>NaN</td>\n",
              "      <td>NaN</td>\n",
              "      <td>NaN</td>\n",
              "      <td>NaN</td>\n",
              "      <td>NaN</td>\n",
              "      <td>NaN</td>\n",
              "      <td>NaN</td>\n",
              "      <td>NaN</td>\n",
              "      <td>NaN</td>\n",
              "      <td>NaN</td>\n",
              "      <td>NaN</td>\n",
              "      <td>-99999.0</td>\n",
              "      <td>NaN</td>\n",
              "      <td>-99999.0</td>\n",
              "      <td>-99999.0</td>\n",
              "      <td>-99999.0</td>\n",
              "      <td>-99999.0</td>\n",
              "      <td>-99999.0</td>\n",
              "    </tr>\n",
              "    <tr>\n",
              "      <th>120822</th>\n",
              "      <td>NaN</td>\n",
              "      <td>NaN</td>\n",
              "      <td>NaN</td>\n",
              "      <td>NaN</td>\n",
              "      <td>NaN</td>\n",
              "      <td>NaN</td>\n",
              "      <td>NaN</td>\n",
              "      <td>NaN</td>\n",
              "      <td>NaN</td>\n",
              "      <td>NaN</td>\n",
              "      <td>NaN</td>\n",
              "      <td>-99999.0</td>\n",
              "      <td>NaN</td>\n",
              "      <td>-99999.0</td>\n",
              "      <td>-99999.0</td>\n",
              "      <td>-99999.0</td>\n",
              "      <td>-99999.0</td>\n",
              "      <td>-99999.0</td>\n",
              "    </tr>\n",
              "  </tbody>\n",
              "</table>\n",
              "</div>\n",
              "      <button class=\"colab-df-convert\" onclick=\"convertToInteractive('df-cad992da-cfcf-45e2-8975-3ba2ff8cb79e')\"\n",
              "              title=\"Convert this dataframe to an interactive table.\"\n",
              "              style=\"display:none;\">\n",
              "        \n",
              "  <svg xmlns=\"http://www.w3.org/2000/svg\" height=\"24px\"viewBox=\"0 0 24 24\"\n",
              "       width=\"24px\">\n",
              "    <path d=\"M0 0h24v24H0V0z\" fill=\"none\"/>\n",
              "    <path d=\"M18.56 5.44l.94 2.06.94-2.06 2.06-.94-2.06-.94-.94-2.06-.94 2.06-2.06.94zm-11 1L8.5 8.5l.94-2.06 2.06-.94-2.06-.94L8.5 2.5l-.94 2.06-2.06.94zm10 10l.94 2.06.94-2.06 2.06-.94-2.06-.94-.94-2.06-.94 2.06-2.06.94z\"/><path d=\"M17.41 7.96l-1.37-1.37c-.4-.4-.92-.59-1.43-.59-.52 0-1.04.2-1.43.59L10.3 9.45l-7.72 7.72c-.78.78-.78 2.05 0 2.83L4 21.41c.39.39.9.59 1.41.59.51 0 1.02-.2 1.41-.59l7.78-7.78 2.81-2.81c.8-.78.8-2.07 0-2.86zM5.41 20L4 18.59l7.72-7.72 1.47 1.35L5.41 20z\"/>\n",
              "  </svg>\n",
              "      </button>\n",
              "      \n",
              "  <style>\n",
              "    .colab-df-container {\n",
              "      display:flex;\n",
              "      flex-wrap:wrap;\n",
              "      gap: 12px;\n",
              "    }\n",
              "\n",
              "    .colab-df-convert {\n",
              "      background-color: #E8F0FE;\n",
              "      border: none;\n",
              "      border-radius: 50%;\n",
              "      cursor: pointer;\n",
              "      display: none;\n",
              "      fill: #1967D2;\n",
              "      height: 32px;\n",
              "      padding: 0 0 0 0;\n",
              "      width: 32px;\n",
              "    }\n",
              "\n",
              "    .colab-df-convert:hover {\n",
              "      background-color: #E2EBFA;\n",
              "      box-shadow: 0px 1px 2px rgba(60, 64, 67, 0.3), 0px 1px 3px 1px rgba(60, 64, 67, 0.15);\n",
              "      fill: #174EA6;\n",
              "    }\n",
              "\n",
              "    [theme=dark] .colab-df-convert {\n",
              "      background-color: #3B4455;\n",
              "      fill: #D2E3FC;\n",
              "    }\n",
              "\n",
              "    [theme=dark] .colab-df-convert:hover {\n",
              "      background-color: #434B5C;\n",
              "      box-shadow: 0px 1px 3px 1px rgba(0, 0, 0, 0.15);\n",
              "      filter: drop-shadow(0px 1px 2px rgba(0, 0, 0, 0.3));\n",
              "      fill: #FFFFFF;\n",
              "    }\n",
              "  </style>\n",
              "\n",
              "      <script>\n",
              "        const buttonEl =\n",
              "          document.querySelector('#df-cad992da-cfcf-45e2-8975-3ba2ff8cb79e button.colab-df-convert');\n",
              "        buttonEl.style.display =\n",
              "          google.colab.kernel.accessAllowed ? 'block' : 'none';\n",
              "\n",
              "        async function convertToInteractive(key) {\n",
              "          const element = document.querySelector('#df-cad992da-cfcf-45e2-8975-3ba2ff8cb79e');\n",
              "          const dataTable =\n",
              "            await google.colab.kernel.invokeFunction('convertToInteractive',\n",
              "                                                     [key], {});\n",
              "          if (!dataTable) return;\n",
              "\n",
              "          const docLinkHtml = 'Like what you see? Visit the ' +\n",
              "            '<a target=\"_blank\" href=https://colab.research.google.com/notebooks/data_table.ipynb>data table notebook</a>'\n",
              "            + ' to learn more about interactive tables.';\n",
              "          element.innerHTML = '';\n",
              "          dataTable['output_type'] = 'display_data';\n",
              "          await google.colab.output.renderOutput(dataTable, element);\n",
              "          const docLink = document.createElement('div');\n",
              "          docLink.innerHTML = docLinkHtml;\n",
              "          element.appendChild(docLink);\n",
              "        }\n",
              "      </script>\n",
              "    </div>\n",
              "  </div>\n",
              "  "
            ]
          },
          "metadata": {},
          "execution_count": 9
        }
      ]
    },
    {
      "cell_type": "markdown",
      "source": [
        "Ao criar um *dataframe* no qual somente os valores indesejados ('-' e '-99999.0'), NÃO nulos, estão presentes, é possível quantificá-los através da combinação dos métodos **.notna()** e **.sum()**."
      ],
      "metadata": {
        "id": "ewcnQf3Ntc8p"
      }
    },
    {
      "cell_type": "code",
      "source": [
        "resultado.notna().sum()"
      ],
      "metadata": {
        "colab": {
          "base_uri": "https://localhost:8080/"
        },
        "id": "OsyzAiqTsnIT",
        "outputId": "53f68d57-99a7-4b5d-9f3d-f86d4e574cb9"
      },
      "execution_count": 10,
      "outputs": [
        {
          "output_type": "execute_result",
          "data": {
            "text/plain": [
              "DATA INICIAL                        0\n",
              "DATA FINAL                          0\n",
              "REGIÃO                              0\n",
              "ESTADO                              0\n",
              "PRODUTO                             0\n",
              "NÚMERO DE POSTOS PESQUISADOS        0\n",
              "UNIDADE DE MEDIDA                   0\n",
              "PREÇO MÉDIO REVENDA                 0\n",
              "DESVIO PADRÃO REVENDA               0\n",
              "PREÇO MÍNIMO REVENDA                0\n",
              "PREÇO MÁXIMO REVENDA                0\n",
              "MARGEM MÉDIA REVENDA             8948\n",
              "COEF DE VARIAÇÃO REVENDA            0\n",
              "PREÇO MÉDIO DISTRIBUIÇÃO         8908\n",
              "DESVIO PADRÃO DISTRIBUIÇÃO       8908\n",
              "PREÇO MÍNIMO DISTRIBUIÇÃO        8908\n",
              "PREÇO MÁXIMO DISTRIBUIÇÃO        8908\n",
              "COEF DE VARIAÇÃO DISTRIBUIÇÃO    8908\n",
              "dtype: int64"
            ]
          },
          "metadata": {},
          "execution_count": 10
        }
      ]
    },
    {
      "cell_type": "markdown",
      "source": [
        "Identificamos aproximadamente 9.000 linhas que possuem valores não-definidos.\n",
        "\n",
        "Dessa forma, quanto isto representa em nosso volume total de linhas?"
      ],
      "metadata": {
        "id": "_zkaeZx33v6N"
      }
    },
    {
      "cell_type": "code",
      "source": [
        "8948 / dataset_gas.shape[0] *100"
      ],
      "metadata": {
        "colab": {
          "base_uri": "https://localhost:8080/"
        },
        "id": "ZyD6vmx33hNk",
        "outputId": "6aa00d9f-c3d1-4257-bac2-0a6c4f601496"
      },
      "execution_count": 11,
      "outputs": [
        {
          "output_type": "execute_result",
          "data": {
            "text/plain": [
              "7.405874709285484"
            ]
          },
          "metadata": {},
          "execution_count": 11
        }
      ]
    },
    {
      "cell_type": "markdown",
      "source": [
        "Foi observado que estes valores 'NaN' se encontram em aproximadamente 7,4% das linhas do *dataset*. Assim, foi optado por remover estas linhas já que apresentam dados incompletos e não são uma quantidade expressiva em relação ao todo.\n",
        "\n",
        "<sub> *Com relação aos dados -99999.0, segundo o site da ANP, [aqui](https://www.gov.br/anp/pt-br/assuntos/precos-e-defesa-da-concorrencia/precos/precos-revenda-e-de-distribuicao-combustiveis), na seção de observações, item 3, temos que não foi possível levantar dados de distribuição durante o período pandêmico.\n",
        "\n",
        "<sub> *Seguimos a análise com a remoção destes dados, visto que caso seja necessário aplicar um algoritmo de machine learning, estes dados serão removidos ou será aplicado um \"valor falso\", seja média ou valor da série temporal anterior."
      ],
      "metadata": {
        "id": "p0sYPl3O4cg1"
      }
    },
    {
      "cell_type": "markdown",
      "source": [
        "Os valores '-' e '-99999.0' foram substituídos por 'NaN' utilizando o método **.replace()**."
      ],
      "metadata": {
        "id": "7fHFt2k748Cy"
      }
    },
    {
      "cell_type": "code",
      "source": [
        "dataset_gas = dataset_gas.replace('-' , np.nan)\n",
        "dataset_gas = dataset_gas.replace('-99999.0' , np.nan)"
      ],
      "metadata": {
        "id": "NeVktDMcDXN7"
      },
      "execution_count": 12,
      "outputs": []
    },
    {
      "cell_type": "code",
      "source": [
        "dataset_gas.isna().sum()"
      ],
      "metadata": {
        "colab": {
          "base_uri": "https://localhost:8080/"
        },
        "id": "9Y_rIidk535z",
        "outputId": "6b8adb1f-5da2-400e-8ca2-974603e23892"
      },
      "execution_count": 13,
      "outputs": [
        {
          "output_type": "execute_result",
          "data": {
            "text/plain": [
              "DATA INICIAL                        0\n",
              "DATA FINAL                          0\n",
              "REGIÃO                              0\n",
              "ESTADO                              0\n",
              "PRODUTO                             0\n",
              "NÚMERO DE POSTOS PESQUISADOS        0\n",
              "UNIDADE DE MEDIDA                   0\n",
              "PREÇO MÉDIO REVENDA                 0\n",
              "DESVIO PADRÃO REVENDA               0\n",
              "PREÇO MÍNIMO REVENDA                0\n",
              "PREÇO MÁXIMO REVENDA                0\n",
              "MARGEM MÉDIA REVENDA             8948\n",
              "COEF DE VARIAÇÃO REVENDA            0\n",
              "PREÇO MÉDIO DISTRIBUIÇÃO         8908\n",
              "DESVIO PADRÃO DISTRIBUIÇÃO       8908\n",
              "PREÇO MÍNIMO DISTRIBUIÇÃO        8908\n",
              "PREÇO MÁXIMO DISTRIBUIÇÃO        8908\n",
              "COEF DE VARIAÇÃO DISTRIBUIÇÃO    8908\n",
              "dtype: int64"
            ]
          },
          "metadata": {},
          "execution_count": 13
        }
      ]
    },
    {
      "cell_type": "markdown",
      "source": [
        "Assim, os valores indesejados foram substituídos por 'NaN'. \n",
        "\n",
        "Para a remoção desses valores, foi criado um novo *dataframe* para futuras análises e o *dataframe* original será mantido caso seja necessário recuperar os dados."
      ],
      "metadata": {
        "id": "GXzQhyEp7MqC"
      }
    },
    {
      "cell_type": "code",
      "source": [
        "dataset_gas_limpo = dataset_gas.copy()\n",
        "dataset_gas_limpo.shape"
      ],
      "metadata": {
        "colab": {
          "base_uri": "https://localhost:8080/"
        },
        "id": "4Ydb7NCa6sf0",
        "outputId": "4e80c3a1-a89e-4086-814c-3582e80db910"
      },
      "execution_count": 14,
      "outputs": [
        {
          "output_type": "execute_result",
          "data": {
            "text/plain": [
              "(120823, 18)"
            ]
          },
          "metadata": {},
          "execution_count": 14
        }
      ]
    },
    {
      "cell_type": "markdown",
      "source": [
        "Com o novo *dataframe*, é possível remover as linhas que possuem 'NaN' utilizando o método **.dropna()**. Ao atribuir o **.shape** ao novo *dataframe* é possível observar a redução do número de linhas correspondente aos 7,4% calculados anteriormente."
      ],
      "metadata": {
        "id": "as1H1EGR7asx"
      }
    },
    {
      "cell_type": "code",
      "source": [
        "dataset_gas_limpo = dataset_gas_limpo.dropna()\n",
        "dataset_gas_limpo.shape"
      ],
      "metadata": {
        "colab": {
          "base_uri": "https://localhost:8080/"
        },
        "id": "qFtrihz96uIS",
        "outputId": "3aab8d0a-6ad7-40a2-9b23-3d3d2ba9d4eb"
      },
      "execution_count": 15,
      "outputs": [
        {
          "output_type": "execute_result",
          "data": {
            "text/plain": [
              "(111875, 18)"
            ]
          },
          "metadata": {},
          "execution_count": 15
        }
      ]
    },
    {
      "cell_type": "markdown",
      "source": [
        "Foi aplicado o método **.info()** a fim de conferir se os tipos de dados das colunas novamente."
      ],
      "metadata": {
        "id": "q_rxq0EuEwSq"
      }
    },
    {
      "cell_type": "code",
      "source": [
        "dataset_gas_limpo.info()"
      ],
      "metadata": {
        "colab": {
          "base_uri": "https://localhost:8080/"
        },
        "id": "XEezYDJkDi87",
        "outputId": "170ff8f3-4138-4661-9325-678127f37eb3"
      },
      "execution_count": 16,
      "outputs": [
        {
          "output_type": "stream",
          "name": "stdout",
          "text": [
            "<class 'pandas.core.frame.DataFrame'>\n",
            "Int64Index: 111875 entries, 0 to 115883\n",
            "Data columns (total 18 columns):\n",
            " #   Column                         Non-Null Count   Dtype  \n",
            "---  ------                         --------------   -----  \n",
            " 0   DATA INICIAL                   111875 non-null  object \n",
            " 1   DATA FINAL                     111875 non-null  object \n",
            " 2   REGIÃO                         111875 non-null  object \n",
            " 3   ESTADO                         111875 non-null  object \n",
            " 4   PRODUTO                        111875 non-null  object \n",
            " 5   NÚMERO DE POSTOS PESQUISADOS   111875 non-null  int64  \n",
            " 6   UNIDADE DE MEDIDA              111875 non-null  object \n",
            " 7   PREÇO MÉDIO REVENDA            111875 non-null  float64\n",
            " 8   DESVIO PADRÃO REVENDA          111875 non-null  float64\n",
            " 9   PREÇO MÍNIMO REVENDA           111875 non-null  float64\n",
            " 10  PREÇO MÁXIMO REVENDA           111875 non-null  float64\n",
            " 11  MARGEM MÉDIA REVENDA           111875 non-null  object \n",
            " 12  COEF DE VARIAÇÃO REVENDA       111875 non-null  float64\n",
            " 13  PREÇO MÉDIO DISTRIBUIÇÃO       111875 non-null  object \n",
            " 14  DESVIO PADRÃO DISTRIBUIÇÃO     111875 non-null  object \n",
            " 15  PREÇO MÍNIMO DISTRIBUIÇÃO      111875 non-null  object \n",
            " 16  PREÇO MÁXIMO DISTRIBUIÇÃO      111875 non-null  object \n",
            " 17  COEF DE VARIAÇÃO DISTRIBUIÇÃO  111875 non-null  object \n",
            "dtypes: float64(5), int64(1), object(12)\n",
            "memory usage: 16.2+ MB\n"
          ]
        }
      ]
    },
    {
      "cell_type": "markdown",
      "source": [
        "Vimos que as colunas:\n",
        "\n",
        "        -'MARGEM MÉDIA REVENDA',\n",
        "        -'PREÇO MÉDIO DISTRIBUIÇÃO',\n",
        "        -'DESVIO PADRÃO DISTRIBUIÇÃO', \n",
        "        -'PREÇO MÍNIMO DISTRIBUIÇÃO',\n",
        "        -'PREÇO MÁXIMO DISTRIBUIÇÃO', \n",
        "        -'COEF DE VARIAÇÃO DISTRIBUIÇÃO',\n",
        "\n",
        "Ainda estavam com o tipo *'Object'*. Desta forma, uma mudança para o tipo *'Float'* será feita:"
      ],
      "metadata": {
        "id": "jW896N57EqEP"
      }
    },
    {
      "cell_type": "code",
      "source": [
        "cols = ['MARGEM MÉDIA REVENDA',\n",
        "        'PREÇO MÉDIO DISTRIBUIÇÃO',\n",
        "        'DESVIO PADRÃO DISTRIBUIÇÃO', \n",
        "        'PREÇO MÍNIMO DISTRIBUIÇÃO',\n",
        "        'PREÇO MÁXIMO DISTRIBUIÇÃO', \n",
        "        'COEF DE VARIAÇÃO DISTRIBUIÇÃO',\n",
        "]\n",
        "for coluna in cols:\n",
        "  dataset_gas_limpo[coluna]=dataset_gas_limpo[coluna].astype(float)"
      ],
      "metadata": {
        "id": "nLdR9NsDD7j8"
      },
      "execution_count": 17,
      "outputs": []
    },
    {
      "cell_type": "markdown",
      "source": [
        "Aplicando o **.info()** novamente, viu-se que:"
      ],
      "metadata": {
        "id": "1rkLqaNdFHXw"
      }
    },
    {
      "cell_type": "code",
      "source": [
        "dataset_gas_limpo.info()"
      ],
      "metadata": {
        "colab": {
          "base_uri": "https://localhost:8080/"
        },
        "id": "3KMu4kZdEtbg",
        "outputId": "3a261957-aadd-4e80-e32d-b44ded31eca8"
      },
      "execution_count": 18,
      "outputs": [
        {
          "output_type": "stream",
          "name": "stdout",
          "text": [
            "<class 'pandas.core.frame.DataFrame'>\n",
            "Int64Index: 111875 entries, 0 to 115883\n",
            "Data columns (total 18 columns):\n",
            " #   Column                         Non-Null Count   Dtype  \n",
            "---  ------                         --------------   -----  \n",
            " 0   DATA INICIAL                   111875 non-null  object \n",
            " 1   DATA FINAL                     111875 non-null  object \n",
            " 2   REGIÃO                         111875 non-null  object \n",
            " 3   ESTADO                         111875 non-null  object \n",
            " 4   PRODUTO                        111875 non-null  object \n",
            " 5   NÚMERO DE POSTOS PESQUISADOS   111875 non-null  int64  \n",
            " 6   UNIDADE DE MEDIDA              111875 non-null  object \n",
            " 7   PREÇO MÉDIO REVENDA            111875 non-null  float64\n",
            " 8   DESVIO PADRÃO REVENDA          111875 non-null  float64\n",
            " 9   PREÇO MÍNIMO REVENDA           111875 non-null  float64\n",
            " 10  PREÇO MÁXIMO REVENDA           111875 non-null  float64\n",
            " 11  MARGEM MÉDIA REVENDA           111875 non-null  float64\n",
            " 12  COEF DE VARIAÇÃO REVENDA       111875 non-null  float64\n",
            " 13  PREÇO MÉDIO DISTRIBUIÇÃO       111875 non-null  float64\n",
            " 14  DESVIO PADRÃO DISTRIBUIÇÃO     111875 non-null  float64\n",
            " 15  PREÇO MÍNIMO DISTRIBUIÇÃO      111875 non-null  float64\n",
            " 16  PREÇO MÁXIMO DISTRIBUIÇÃO      111875 non-null  float64\n",
            " 17  COEF DE VARIAÇÃO DISTRIBUIÇÃO  111875 non-null  float64\n",
            "dtypes: float64(11), int64(1), object(6)\n",
            "memory usage: 16.2+ MB\n"
          ]
        }
      ]
    },
    {
      "cell_type": "markdown",
      "source": [
        "Feito isso, adequamos os tipos de dados *'Object'* das colunas selecionadas para *'Float'*."
      ],
      "metadata": {
        "id": "GblehaXpFMaN"
      }
    },
    {
      "cell_type": "markdown",
      "source": [
        "Verificamos a ocorrência de duplicatas nas linhas do *dataframe*, pois não há sentido em haver dados duplicados, visto que se trata de um *dataset* contendo uma série temporal.\n",
        "\n"
      ],
      "metadata": {
        "id": "fNQ4w_1kEkCe"
      }
    },
    {
      "cell_type": "code",
      "source": [
        "dataset_gas_limpo.duplicated().sum()"
      ],
      "metadata": {
        "colab": {
          "base_uri": "https://localhost:8080/"
        },
        "id": "2PHADvgxv9hx",
        "outputId": "4eae36f6-7865-4281-8cef-fa3eaa01b220"
      },
      "execution_count": 19,
      "outputs": [
        {
          "output_type": "execute_result",
          "data": {
            "text/plain": [
              "0"
            ]
          },
          "metadata": {},
          "execution_count": 19
        }
      ]
    },
    {
      "cell_type": "markdown",
      "source": [
        "A série temporal apresentada no *dataset* é semanal. Desta forma, criamos um \"Calendário\", no qual foi extraída a informação de dia, mês e ano e explicitada em colunas para cada um dos dados."
      ],
      "metadata": {
        "id": "tVDRoRR1FwCl"
      }
    },
    {
      "cell_type": "markdown",
      "source": [
        "Isto foi feito utilizando a função **.to_datetime** do próprio Pandas:"
      ],
      "metadata": {
        "id": "vkY37xVs8g6f"
      }
    },
    {
      "cell_type": "code",
      "source": [
        "dataset_gas_limpo['DIA INICIAL']=pd.to_datetime(dataset_gas_limpo['DATA INICIAL'], errors ='coerce').dt.day\n",
        "dataset_gas_limpo['MES INICIAL']=pd.to_datetime(dataset_gas_limpo['DATA INICIAL'], errors ='coerce').dt.month\n",
        "dataset_gas_limpo['ANO INICIAL']=pd.to_datetime(dataset_gas_limpo['DATA INICIAL'], errors ='coerce', ).dt.year\n",
        "dataset_gas_limpo['SEMANA INICIAL']=pd.to_datetime(dataset_gas_limpo['DATA INICIAL'], errors ='coerce').dt.week\n",
        "\n",
        "dataset_gas_limpo['DIA FINAL']=pd.to_datetime(dataset_gas_limpo['DATA FINAL'], errors ='coerce').dt.day\n",
        "dataset_gas_limpo['MES FINAL']=pd.to_datetime(dataset_gas_limpo['DATA FINAL'], errors ='coerce').dt.month\n",
        "dataset_gas_limpo['ANO FINAL']=pd.to_datetime(dataset_gas_limpo['DATA FINAL'], errors ='coerce').dt.year\n",
        "dataset_gas_limpo['SEMANA FINAL']=pd.to_datetime(dataset_gas_limpo['DATA FINAL'], errors ='coerce').dt.week"
      ],
      "metadata": {
        "colab": {
          "base_uri": "https://localhost:8080/"
        },
        "id": "4gqrjD148ozy",
        "outputId": "1fd1716c-2c49-4ef9-e293-4bf6ea6f7bff"
      },
      "execution_count": 20,
      "outputs": [
        {
          "output_type": "stream",
          "name": "stderr",
          "text": [
            "<ipython-input-20-a1c81358fe2e>:4: FutureWarning: Series.dt.weekofyear and Series.dt.week have been deprecated.  Please use Series.dt.isocalendar().week instead.\n",
            "  dataset_gas_limpo['SEMANA INICIAL']=pd.to_datetime(dataset_gas_limpo['DATA INICIAL'], errors ='coerce').dt.week\n",
            "<ipython-input-20-a1c81358fe2e>:9: FutureWarning: Series.dt.weekofyear and Series.dt.week have been deprecated.  Please use Series.dt.isocalendar().week instead.\n",
            "  dataset_gas_limpo['SEMANA FINAL']=pd.to_datetime(dataset_gas_limpo['DATA FINAL'], errors ='coerce').dt.week\n"
          ]
        }
      ]
    },
    {
      "cell_type": "markdown",
      "source": [
        "Após aplicarmos a função no *dataframe*, as novas colunas criadas foram inseridas."
      ],
      "metadata": {
        "id": "1_TQuxpiPjs2"
      }
    },
    {
      "cell_type": "code",
      "source": [
        "dataset_gas_limpo.head()"
      ],
      "metadata": {
        "colab": {
          "base_uri": "https://localhost:8080/",
          "height": 438
        },
        "id": "ri_-1wD63Cjd",
        "outputId": "97b5c7f6-191d-4848-be1f-cd64eef2a0c3"
      },
      "execution_count": 21,
      "outputs": [
        {
          "output_type": "execute_result",
          "data": {
            "text/plain": [
              "  DATA INICIAL  DATA FINAL        REGIÃO              ESTADO  \\\n",
              "0   2004-05-09  2004-05-15  CENTRO OESTE    DISTRITO FEDERAL   \n",
              "1   2004-05-09  2004-05-15  CENTRO OESTE               GOIAS   \n",
              "2   2004-05-09  2004-05-15  CENTRO OESTE         MATO GROSSO   \n",
              "3   2004-05-09  2004-05-15  CENTRO OESTE  MATO GROSSO DO SUL   \n",
              "4   2004-05-09  2004-05-15      NORDESTE             ALAGOAS   \n",
              "\n",
              "            PRODUTO  NÚMERO DE POSTOS PESQUISADOS UNIDADE DE MEDIDA  \\\n",
              "0  ETANOL HIDRATADO                           127              R$/l   \n",
              "1  ETANOL HIDRATADO                           387              R$/l   \n",
              "2  ETANOL HIDRATADO                           192              R$/l   \n",
              "3  ETANOL HIDRATADO                           162              R$/l   \n",
              "4  ETANOL HIDRATADO                           103              R$/l   \n",
              "\n",
              "   PREÇO MÉDIO REVENDA  DESVIO PADRÃO REVENDA  PREÇO MÍNIMO REVENDA  ...  \\\n",
              "0                1.288                  0.016                  1.19  ...   \n",
              "1                1.162                  0.114                  0.89  ...   \n",
              "2                1.389                  0.097                  1.18  ...   \n",
              "3                1.262                  0.070                  1.09  ...   \n",
              "4                1.181                  0.078                  1.05  ...   \n",
              "\n",
              "   PREÇO MÁXIMO DISTRIBUIÇÃO  COEF DE VARIAÇÃO DISTRIBUIÇÃO  DIA INICIAL  \\\n",
              "0                    0.96660                          0.133            9   \n",
              "1                    1.05000                          0.115            9   \n",
              "2                    1.16100                          0.098            9   \n",
              "3                    1.22242                          0.143            9   \n",
              "4                    1.03170                          0.082            9   \n",
              "\n",
              "   MES INICIAL  ANO INICIAL  SEMANA INICIAL  DIA FINAL  MES FINAL  ANO FINAL  \\\n",
              "0            5         2004              19         15          5       2004   \n",
              "1            5         2004              19         15          5       2004   \n",
              "2            5         2004              19         15          5       2004   \n",
              "3            5         2004              19         15          5       2004   \n",
              "4            5         2004              19         15          5       2004   \n",
              "\n",
              "   SEMANA FINAL  \n",
              "0            20  \n",
              "1            20  \n",
              "2            20  \n",
              "3            20  \n",
              "4            20  \n",
              "\n",
              "[5 rows x 26 columns]"
            ],
            "text/html": [
              "\n",
              "  <div id=\"df-756c51f0-f04d-4055-b35f-ee98d92820a0\">\n",
              "    <div class=\"colab-df-container\">\n",
              "      <div>\n",
              "<style scoped>\n",
              "    .dataframe tbody tr th:only-of-type {\n",
              "        vertical-align: middle;\n",
              "    }\n",
              "\n",
              "    .dataframe tbody tr th {\n",
              "        vertical-align: top;\n",
              "    }\n",
              "\n",
              "    .dataframe thead th {\n",
              "        text-align: right;\n",
              "    }\n",
              "</style>\n",
              "<table border=\"1\" class=\"dataframe\">\n",
              "  <thead>\n",
              "    <tr style=\"text-align: right;\">\n",
              "      <th></th>\n",
              "      <th>DATA INICIAL</th>\n",
              "      <th>DATA FINAL</th>\n",
              "      <th>REGIÃO</th>\n",
              "      <th>ESTADO</th>\n",
              "      <th>PRODUTO</th>\n",
              "      <th>NÚMERO DE POSTOS PESQUISADOS</th>\n",
              "      <th>UNIDADE DE MEDIDA</th>\n",
              "      <th>PREÇO MÉDIO REVENDA</th>\n",
              "      <th>DESVIO PADRÃO REVENDA</th>\n",
              "      <th>PREÇO MÍNIMO REVENDA</th>\n",
              "      <th>...</th>\n",
              "      <th>PREÇO MÁXIMO DISTRIBUIÇÃO</th>\n",
              "      <th>COEF DE VARIAÇÃO DISTRIBUIÇÃO</th>\n",
              "      <th>DIA INICIAL</th>\n",
              "      <th>MES INICIAL</th>\n",
              "      <th>ANO INICIAL</th>\n",
              "      <th>SEMANA INICIAL</th>\n",
              "      <th>DIA FINAL</th>\n",
              "      <th>MES FINAL</th>\n",
              "      <th>ANO FINAL</th>\n",
              "      <th>SEMANA FINAL</th>\n",
              "    </tr>\n",
              "  </thead>\n",
              "  <tbody>\n",
              "    <tr>\n",
              "      <th>0</th>\n",
              "      <td>2004-05-09</td>\n",
              "      <td>2004-05-15</td>\n",
              "      <td>CENTRO OESTE</td>\n",
              "      <td>DISTRITO FEDERAL</td>\n",
              "      <td>ETANOL HIDRATADO</td>\n",
              "      <td>127</td>\n",
              "      <td>R$/l</td>\n",
              "      <td>1.288</td>\n",
              "      <td>0.016</td>\n",
              "      <td>1.19</td>\n",
              "      <td>...</td>\n",
              "      <td>0.96660</td>\n",
              "      <td>0.133</td>\n",
              "      <td>9</td>\n",
              "      <td>5</td>\n",
              "      <td>2004</td>\n",
              "      <td>19</td>\n",
              "      <td>15</td>\n",
              "      <td>5</td>\n",
              "      <td>2004</td>\n",
              "      <td>20</td>\n",
              "    </tr>\n",
              "    <tr>\n",
              "      <th>1</th>\n",
              "      <td>2004-05-09</td>\n",
              "      <td>2004-05-15</td>\n",
              "      <td>CENTRO OESTE</td>\n",
              "      <td>GOIAS</td>\n",
              "      <td>ETANOL HIDRATADO</td>\n",
              "      <td>387</td>\n",
              "      <td>R$/l</td>\n",
              "      <td>1.162</td>\n",
              "      <td>0.114</td>\n",
              "      <td>0.89</td>\n",
              "      <td>...</td>\n",
              "      <td>1.05000</td>\n",
              "      <td>0.115</td>\n",
              "      <td>9</td>\n",
              "      <td>5</td>\n",
              "      <td>2004</td>\n",
              "      <td>19</td>\n",
              "      <td>15</td>\n",
              "      <td>5</td>\n",
              "      <td>2004</td>\n",
              "      <td>20</td>\n",
              "    </tr>\n",
              "    <tr>\n",
              "      <th>2</th>\n",
              "      <td>2004-05-09</td>\n",
              "      <td>2004-05-15</td>\n",
              "      <td>CENTRO OESTE</td>\n",
              "      <td>MATO GROSSO</td>\n",
              "      <td>ETANOL HIDRATADO</td>\n",
              "      <td>192</td>\n",
              "      <td>R$/l</td>\n",
              "      <td>1.389</td>\n",
              "      <td>0.097</td>\n",
              "      <td>1.18</td>\n",
              "      <td>...</td>\n",
              "      <td>1.16100</td>\n",
              "      <td>0.098</td>\n",
              "      <td>9</td>\n",
              "      <td>5</td>\n",
              "      <td>2004</td>\n",
              "      <td>19</td>\n",
              "      <td>15</td>\n",
              "      <td>5</td>\n",
              "      <td>2004</td>\n",
              "      <td>20</td>\n",
              "    </tr>\n",
              "    <tr>\n",
              "      <th>3</th>\n",
              "      <td>2004-05-09</td>\n",
              "      <td>2004-05-15</td>\n",
              "      <td>CENTRO OESTE</td>\n",
              "      <td>MATO GROSSO DO SUL</td>\n",
              "      <td>ETANOL HIDRATADO</td>\n",
              "      <td>162</td>\n",
              "      <td>R$/l</td>\n",
              "      <td>1.262</td>\n",
              "      <td>0.070</td>\n",
              "      <td>1.09</td>\n",
              "      <td>...</td>\n",
              "      <td>1.22242</td>\n",
              "      <td>0.143</td>\n",
              "      <td>9</td>\n",
              "      <td>5</td>\n",
              "      <td>2004</td>\n",
              "      <td>19</td>\n",
              "      <td>15</td>\n",
              "      <td>5</td>\n",
              "      <td>2004</td>\n",
              "      <td>20</td>\n",
              "    </tr>\n",
              "    <tr>\n",
              "      <th>4</th>\n",
              "      <td>2004-05-09</td>\n",
              "      <td>2004-05-15</td>\n",
              "      <td>NORDESTE</td>\n",
              "      <td>ALAGOAS</td>\n",
              "      <td>ETANOL HIDRATADO</td>\n",
              "      <td>103</td>\n",
              "      <td>R$/l</td>\n",
              "      <td>1.181</td>\n",
              "      <td>0.078</td>\n",
              "      <td>1.05</td>\n",
              "      <td>...</td>\n",
              "      <td>1.03170</td>\n",
              "      <td>0.082</td>\n",
              "      <td>9</td>\n",
              "      <td>5</td>\n",
              "      <td>2004</td>\n",
              "      <td>19</td>\n",
              "      <td>15</td>\n",
              "      <td>5</td>\n",
              "      <td>2004</td>\n",
              "      <td>20</td>\n",
              "    </tr>\n",
              "  </tbody>\n",
              "</table>\n",
              "<p>5 rows × 26 columns</p>\n",
              "</div>\n",
              "      <button class=\"colab-df-convert\" onclick=\"convertToInteractive('df-756c51f0-f04d-4055-b35f-ee98d92820a0')\"\n",
              "              title=\"Convert this dataframe to an interactive table.\"\n",
              "              style=\"display:none;\">\n",
              "        \n",
              "  <svg xmlns=\"http://www.w3.org/2000/svg\" height=\"24px\"viewBox=\"0 0 24 24\"\n",
              "       width=\"24px\">\n",
              "    <path d=\"M0 0h24v24H0V0z\" fill=\"none\"/>\n",
              "    <path d=\"M18.56 5.44l.94 2.06.94-2.06 2.06-.94-2.06-.94-.94-2.06-.94 2.06-2.06.94zm-11 1L8.5 8.5l.94-2.06 2.06-.94-2.06-.94L8.5 2.5l-.94 2.06-2.06.94zm10 10l.94 2.06.94-2.06 2.06-.94-2.06-.94-.94-2.06-.94 2.06-2.06.94z\"/><path d=\"M17.41 7.96l-1.37-1.37c-.4-.4-.92-.59-1.43-.59-.52 0-1.04.2-1.43.59L10.3 9.45l-7.72 7.72c-.78.78-.78 2.05 0 2.83L4 21.41c.39.39.9.59 1.41.59.51 0 1.02-.2 1.41-.59l7.78-7.78 2.81-2.81c.8-.78.8-2.07 0-2.86zM5.41 20L4 18.59l7.72-7.72 1.47 1.35L5.41 20z\"/>\n",
              "  </svg>\n",
              "      </button>\n",
              "      \n",
              "  <style>\n",
              "    .colab-df-container {\n",
              "      display:flex;\n",
              "      flex-wrap:wrap;\n",
              "      gap: 12px;\n",
              "    }\n",
              "\n",
              "    .colab-df-convert {\n",
              "      background-color: #E8F0FE;\n",
              "      border: none;\n",
              "      border-radius: 50%;\n",
              "      cursor: pointer;\n",
              "      display: none;\n",
              "      fill: #1967D2;\n",
              "      height: 32px;\n",
              "      padding: 0 0 0 0;\n",
              "      width: 32px;\n",
              "    }\n",
              "\n",
              "    .colab-df-convert:hover {\n",
              "      background-color: #E2EBFA;\n",
              "      box-shadow: 0px 1px 2px rgba(60, 64, 67, 0.3), 0px 1px 3px 1px rgba(60, 64, 67, 0.15);\n",
              "      fill: #174EA6;\n",
              "    }\n",
              "\n",
              "    [theme=dark] .colab-df-convert {\n",
              "      background-color: #3B4455;\n",
              "      fill: #D2E3FC;\n",
              "    }\n",
              "\n",
              "    [theme=dark] .colab-df-convert:hover {\n",
              "      background-color: #434B5C;\n",
              "      box-shadow: 0px 1px 3px 1px rgba(0, 0, 0, 0.15);\n",
              "      filter: drop-shadow(0px 1px 2px rgba(0, 0, 0, 0.3));\n",
              "      fill: #FFFFFF;\n",
              "    }\n",
              "  </style>\n",
              "\n",
              "      <script>\n",
              "        const buttonEl =\n",
              "          document.querySelector('#df-756c51f0-f04d-4055-b35f-ee98d92820a0 button.colab-df-convert');\n",
              "        buttonEl.style.display =\n",
              "          google.colab.kernel.accessAllowed ? 'block' : 'none';\n",
              "\n",
              "        async function convertToInteractive(key) {\n",
              "          const element = document.querySelector('#df-756c51f0-f04d-4055-b35f-ee98d92820a0');\n",
              "          const dataTable =\n",
              "            await google.colab.kernel.invokeFunction('convertToInteractive',\n",
              "                                                     [key], {});\n",
              "          if (!dataTable) return;\n",
              "\n",
              "          const docLinkHtml = 'Like what you see? Visit the ' +\n",
              "            '<a target=\"_blank\" href=https://colab.research.google.com/notebooks/data_table.ipynb>data table notebook</a>'\n",
              "            + ' to learn more about interactive tables.';\n",
              "          element.innerHTML = '';\n",
              "          dataTable['output_type'] = 'display_data';\n",
              "          await google.colab.output.renderOutput(dataTable, element);\n",
              "          const docLink = document.createElement('div');\n",
              "          docLink.innerHTML = docLinkHtml;\n",
              "          element.appendChild(docLink);\n",
              "        }\n",
              "      </script>\n",
              "    </div>\n",
              "  </div>\n",
              "  "
            ]
          },
          "metadata": {},
          "execution_count": 21
        }
      ]
    },
    {
      "cell_type": "markdown",
      "source": [
        "As colunas foram reordenadas a fim de melhor compreensão dos dados, no qual dados referentes a datas venham em sequência. O atributo **.columns** foi utilizado para extrair o nome das colunas e em seguida foi feito um **.reindex()** para ordena-las na sequência desejada."
      ],
      "metadata": {
        "id": "8HDuwHJD9c4E"
      }
    },
    {
      "cell_type": "code",
      "source": [
        "dataset_gas_limpo.columns"
      ],
      "metadata": {
        "colab": {
          "base_uri": "https://localhost:8080/"
        },
        "id": "0-264wpT9i54",
        "outputId": "8a41d71d-d42a-4c31-ff19-7803139d61f9"
      },
      "execution_count": 22,
      "outputs": [
        {
          "output_type": "execute_result",
          "data": {
            "text/plain": [
              "Index(['DATA INICIAL', 'DATA FINAL', 'REGIÃO', 'ESTADO', 'PRODUTO',\n",
              "       'NÚMERO DE POSTOS PESQUISADOS', 'UNIDADE DE MEDIDA',\n",
              "       'PREÇO MÉDIO REVENDA', 'DESVIO PADRÃO REVENDA', 'PREÇO MÍNIMO REVENDA',\n",
              "       'PREÇO MÁXIMO REVENDA', 'MARGEM MÉDIA REVENDA',\n",
              "       'COEF DE VARIAÇÃO REVENDA', 'PREÇO MÉDIO DISTRIBUIÇÃO',\n",
              "       'DESVIO PADRÃO DISTRIBUIÇÃO', 'PREÇO MÍNIMO DISTRIBUIÇÃO',\n",
              "       'PREÇO MÁXIMO DISTRIBUIÇÃO', 'COEF DE VARIAÇÃO DISTRIBUIÇÃO',\n",
              "       'DIA INICIAL', 'MES INICIAL', 'ANO INICIAL', 'SEMANA INICIAL',\n",
              "       'DIA FINAL', 'MES FINAL', 'ANO FINAL', 'SEMANA FINAL'],\n",
              "      dtype='object')"
            ]
          },
          "metadata": {},
          "execution_count": 22
        }
      ]
    },
    {
      "cell_type": "code",
      "source": [
        "cols = ['DATA INICIAL', \n",
        "        'DIA INICIAL', \n",
        "        'MES INICIAL', \n",
        "        'ANO INICIAL', \n",
        "        'SEMANA INICIAL',\n",
        "        'DATA FINAL',\n",
        "        'DIA FINAL', \n",
        "        'MES FINAL', \n",
        "        'ANO FINAL', \n",
        "        'SEMANA FINAL',\n",
        "        'REGIÃO', \n",
        "        'ESTADO', \n",
        "        'PRODUTO',\n",
        "        'NÚMERO DE POSTOS PESQUISADOS', \n",
        "        'UNIDADE DE MEDIDA',\n",
        "        'PREÇO MÉDIO REVENDA', \n",
        "        'DESVIO PADRÃO REVENDA', \n",
        "        'PREÇO MÍNIMO REVENDA',\n",
        "        'PREÇO MÁXIMO REVENDA', \n",
        "        'MARGEM MÉDIA REVENDA',\n",
        "        'COEF DE VARIAÇÃO REVENDA', \n",
        "        'PREÇO MÉDIO DISTRIBUIÇÃO',\n",
        "        'DESVIO PADRÃO DISTRIBUIÇÃO', \n",
        "        'PREÇO MÍNIMO DISTRIBUIÇÃO',\n",
        "        'PREÇO MÁXIMO DISTRIBUIÇÃO', \n",
        "        'COEF DE VARIAÇÃO DISTRIBUIÇÃO',\n",
        "]\n",
        "\n",
        "dataset_gas_limpo = dataset_gas_limpo.reindex(columns=cols)\n",
        "\n",
        "dataset_gas_limpo.head()"
      ],
      "metadata": {
        "colab": {
          "base_uri": "https://localhost:8080/",
          "height": 421
        },
        "id": "SmaSe6-f9cZG",
        "outputId": "5cc52b42-2e7d-41f0-8889-f2d795b02914"
      },
      "execution_count": 23,
      "outputs": [
        {
          "output_type": "execute_result",
          "data": {
            "text/plain": [
              "  DATA INICIAL  DIA INICIAL  MES INICIAL  ANO INICIAL  SEMANA INICIAL  \\\n",
              "0   2004-05-09            9            5         2004              19   \n",
              "1   2004-05-09            9            5         2004              19   \n",
              "2   2004-05-09            9            5         2004              19   \n",
              "3   2004-05-09            9            5         2004              19   \n",
              "4   2004-05-09            9            5         2004              19   \n",
              "\n",
              "   DATA FINAL  DIA FINAL  MES FINAL  ANO FINAL  SEMANA FINAL  ...  \\\n",
              "0  2004-05-15         15          5       2004            20  ...   \n",
              "1  2004-05-15         15          5       2004            20  ...   \n",
              "2  2004-05-15         15          5       2004            20  ...   \n",
              "3  2004-05-15         15          5       2004            20  ...   \n",
              "4  2004-05-15         15          5       2004            20  ...   \n",
              "\n",
              "  DESVIO PADRÃO REVENDA PREÇO MÍNIMO REVENDA PREÇO MÁXIMO REVENDA  \\\n",
              "0                 0.016                 1.19                1.350   \n",
              "1                 0.114                 0.89                1.449   \n",
              "2                 0.097                 1.18                1.760   \n",
              "3                 0.070                 1.09                1.509   \n",
              "4                 0.078                 1.05                1.400   \n",
              "\n",
              "   MARGEM MÉDIA REVENDA COEF DE VARIAÇÃO REVENDA  PREÇO MÉDIO DISTRIBUIÇÃO  \\\n",
              "0                 0.463                    0.012                     0.825   \n",
              "1                 0.399                    0.098                     0.763   \n",
              "2                 0.419                    0.070                     0.970   \n",
              "3                 0.432                    0.055                     0.830   \n",
              "4                 0.240                    0.066                     0.941   \n",
              "\n",
              "   DESVIO PADRÃO DISTRIBUIÇÃO  PREÇO MÍNIMO DISTRIBUIÇÃO  \\\n",
              "0                       0.110                     0.4201   \n",
              "1                       0.088                     0.5013   \n",
              "2                       0.095                     0.5614   \n",
              "3                       0.119                     0.5991   \n",
              "4                       0.077                     0.7441   \n",
              "\n",
              "   PREÇO MÁXIMO DISTRIBUIÇÃO  COEF DE VARIAÇÃO DISTRIBUIÇÃO  \n",
              "0                    0.96660                          0.133  \n",
              "1                    1.05000                          0.115  \n",
              "2                    1.16100                          0.098  \n",
              "3                    1.22242                          0.143  \n",
              "4                    1.03170                          0.082  \n",
              "\n",
              "[5 rows x 26 columns]"
            ],
            "text/html": [
              "\n",
              "  <div id=\"df-f51fe71b-6de0-434c-bbb3-954ded25cfc6\">\n",
              "    <div class=\"colab-df-container\">\n",
              "      <div>\n",
              "<style scoped>\n",
              "    .dataframe tbody tr th:only-of-type {\n",
              "        vertical-align: middle;\n",
              "    }\n",
              "\n",
              "    .dataframe tbody tr th {\n",
              "        vertical-align: top;\n",
              "    }\n",
              "\n",
              "    .dataframe thead th {\n",
              "        text-align: right;\n",
              "    }\n",
              "</style>\n",
              "<table border=\"1\" class=\"dataframe\">\n",
              "  <thead>\n",
              "    <tr style=\"text-align: right;\">\n",
              "      <th></th>\n",
              "      <th>DATA INICIAL</th>\n",
              "      <th>DIA INICIAL</th>\n",
              "      <th>MES INICIAL</th>\n",
              "      <th>ANO INICIAL</th>\n",
              "      <th>SEMANA INICIAL</th>\n",
              "      <th>DATA FINAL</th>\n",
              "      <th>DIA FINAL</th>\n",
              "      <th>MES FINAL</th>\n",
              "      <th>ANO FINAL</th>\n",
              "      <th>SEMANA FINAL</th>\n",
              "      <th>...</th>\n",
              "      <th>DESVIO PADRÃO REVENDA</th>\n",
              "      <th>PREÇO MÍNIMO REVENDA</th>\n",
              "      <th>PREÇO MÁXIMO REVENDA</th>\n",
              "      <th>MARGEM MÉDIA REVENDA</th>\n",
              "      <th>COEF DE VARIAÇÃO REVENDA</th>\n",
              "      <th>PREÇO MÉDIO DISTRIBUIÇÃO</th>\n",
              "      <th>DESVIO PADRÃO DISTRIBUIÇÃO</th>\n",
              "      <th>PREÇO MÍNIMO DISTRIBUIÇÃO</th>\n",
              "      <th>PREÇO MÁXIMO DISTRIBUIÇÃO</th>\n",
              "      <th>COEF DE VARIAÇÃO DISTRIBUIÇÃO</th>\n",
              "    </tr>\n",
              "  </thead>\n",
              "  <tbody>\n",
              "    <tr>\n",
              "      <th>0</th>\n",
              "      <td>2004-05-09</td>\n",
              "      <td>9</td>\n",
              "      <td>5</td>\n",
              "      <td>2004</td>\n",
              "      <td>19</td>\n",
              "      <td>2004-05-15</td>\n",
              "      <td>15</td>\n",
              "      <td>5</td>\n",
              "      <td>2004</td>\n",
              "      <td>20</td>\n",
              "      <td>...</td>\n",
              "      <td>0.016</td>\n",
              "      <td>1.19</td>\n",
              "      <td>1.350</td>\n",
              "      <td>0.463</td>\n",
              "      <td>0.012</td>\n",
              "      <td>0.825</td>\n",
              "      <td>0.110</td>\n",
              "      <td>0.4201</td>\n",
              "      <td>0.96660</td>\n",
              "      <td>0.133</td>\n",
              "    </tr>\n",
              "    <tr>\n",
              "      <th>1</th>\n",
              "      <td>2004-05-09</td>\n",
              "      <td>9</td>\n",
              "      <td>5</td>\n",
              "      <td>2004</td>\n",
              "      <td>19</td>\n",
              "      <td>2004-05-15</td>\n",
              "      <td>15</td>\n",
              "      <td>5</td>\n",
              "      <td>2004</td>\n",
              "      <td>20</td>\n",
              "      <td>...</td>\n",
              "      <td>0.114</td>\n",
              "      <td>0.89</td>\n",
              "      <td>1.449</td>\n",
              "      <td>0.399</td>\n",
              "      <td>0.098</td>\n",
              "      <td>0.763</td>\n",
              "      <td>0.088</td>\n",
              "      <td>0.5013</td>\n",
              "      <td>1.05000</td>\n",
              "      <td>0.115</td>\n",
              "    </tr>\n",
              "    <tr>\n",
              "      <th>2</th>\n",
              "      <td>2004-05-09</td>\n",
              "      <td>9</td>\n",
              "      <td>5</td>\n",
              "      <td>2004</td>\n",
              "      <td>19</td>\n",
              "      <td>2004-05-15</td>\n",
              "      <td>15</td>\n",
              "      <td>5</td>\n",
              "      <td>2004</td>\n",
              "      <td>20</td>\n",
              "      <td>...</td>\n",
              "      <td>0.097</td>\n",
              "      <td>1.18</td>\n",
              "      <td>1.760</td>\n",
              "      <td>0.419</td>\n",
              "      <td>0.070</td>\n",
              "      <td>0.970</td>\n",
              "      <td>0.095</td>\n",
              "      <td>0.5614</td>\n",
              "      <td>1.16100</td>\n",
              "      <td>0.098</td>\n",
              "    </tr>\n",
              "    <tr>\n",
              "      <th>3</th>\n",
              "      <td>2004-05-09</td>\n",
              "      <td>9</td>\n",
              "      <td>5</td>\n",
              "      <td>2004</td>\n",
              "      <td>19</td>\n",
              "      <td>2004-05-15</td>\n",
              "      <td>15</td>\n",
              "      <td>5</td>\n",
              "      <td>2004</td>\n",
              "      <td>20</td>\n",
              "      <td>...</td>\n",
              "      <td>0.070</td>\n",
              "      <td>1.09</td>\n",
              "      <td>1.509</td>\n",
              "      <td>0.432</td>\n",
              "      <td>0.055</td>\n",
              "      <td>0.830</td>\n",
              "      <td>0.119</td>\n",
              "      <td>0.5991</td>\n",
              "      <td>1.22242</td>\n",
              "      <td>0.143</td>\n",
              "    </tr>\n",
              "    <tr>\n",
              "      <th>4</th>\n",
              "      <td>2004-05-09</td>\n",
              "      <td>9</td>\n",
              "      <td>5</td>\n",
              "      <td>2004</td>\n",
              "      <td>19</td>\n",
              "      <td>2004-05-15</td>\n",
              "      <td>15</td>\n",
              "      <td>5</td>\n",
              "      <td>2004</td>\n",
              "      <td>20</td>\n",
              "      <td>...</td>\n",
              "      <td>0.078</td>\n",
              "      <td>1.05</td>\n",
              "      <td>1.400</td>\n",
              "      <td>0.240</td>\n",
              "      <td>0.066</td>\n",
              "      <td>0.941</td>\n",
              "      <td>0.077</td>\n",
              "      <td>0.7441</td>\n",
              "      <td>1.03170</td>\n",
              "      <td>0.082</td>\n",
              "    </tr>\n",
              "  </tbody>\n",
              "</table>\n",
              "<p>5 rows × 26 columns</p>\n",
              "</div>\n",
              "      <button class=\"colab-df-convert\" onclick=\"convertToInteractive('df-f51fe71b-6de0-434c-bbb3-954ded25cfc6')\"\n",
              "              title=\"Convert this dataframe to an interactive table.\"\n",
              "              style=\"display:none;\">\n",
              "        \n",
              "  <svg xmlns=\"http://www.w3.org/2000/svg\" height=\"24px\"viewBox=\"0 0 24 24\"\n",
              "       width=\"24px\">\n",
              "    <path d=\"M0 0h24v24H0V0z\" fill=\"none\"/>\n",
              "    <path d=\"M18.56 5.44l.94 2.06.94-2.06 2.06-.94-2.06-.94-.94-2.06-.94 2.06-2.06.94zm-11 1L8.5 8.5l.94-2.06 2.06-.94-2.06-.94L8.5 2.5l-.94 2.06-2.06.94zm10 10l.94 2.06.94-2.06 2.06-.94-2.06-.94-.94-2.06-.94 2.06-2.06.94z\"/><path d=\"M17.41 7.96l-1.37-1.37c-.4-.4-.92-.59-1.43-.59-.52 0-1.04.2-1.43.59L10.3 9.45l-7.72 7.72c-.78.78-.78 2.05 0 2.83L4 21.41c.39.39.9.59 1.41.59.51 0 1.02-.2 1.41-.59l7.78-7.78 2.81-2.81c.8-.78.8-2.07 0-2.86zM5.41 20L4 18.59l7.72-7.72 1.47 1.35L5.41 20z\"/>\n",
              "  </svg>\n",
              "      </button>\n",
              "      \n",
              "  <style>\n",
              "    .colab-df-container {\n",
              "      display:flex;\n",
              "      flex-wrap:wrap;\n",
              "      gap: 12px;\n",
              "    }\n",
              "\n",
              "    .colab-df-convert {\n",
              "      background-color: #E8F0FE;\n",
              "      border: none;\n",
              "      border-radius: 50%;\n",
              "      cursor: pointer;\n",
              "      display: none;\n",
              "      fill: #1967D2;\n",
              "      height: 32px;\n",
              "      padding: 0 0 0 0;\n",
              "      width: 32px;\n",
              "    }\n",
              "\n",
              "    .colab-df-convert:hover {\n",
              "      background-color: #E2EBFA;\n",
              "      box-shadow: 0px 1px 2px rgba(60, 64, 67, 0.3), 0px 1px 3px 1px rgba(60, 64, 67, 0.15);\n",
              "      fill: #174EA6;\n",
              "    }\n",
              "\n",
              "    [theme=dark] .colab-df-convert {\n",
              "      background-color: #3B4455;\n",
              "      fill: #D2E3FC;\n",
              "    }\n",
              "\n",
              "    [theme=dark] .colab-df-convert:hover {\n",
              "      background-color: #434B5C;\n",
              "      box-shadow: 0px 1px 3px 1px rgba(0, 0, 0, 0.15);\n",
              "      filter: drop-shadow(0px 1px 2px rgba(0, 0, 0, 0.3));\n",
              "      fill: #FFFFFF;\n",
              "    }\n",
              "  </style>\n",
              "\n",
              "      <script>\n",
              "        const buttonEl =\n",
              "          document.querySelector('#df-f51fe71b-6de0-434c-bbb3-954ded25cfc6 button.colab-df-convert');\n",
              "        buttonEl.style.display =\n",
              "          google.colab.kernel.accessAllowed ? 'block' : 'none';\n",
              "\n",
              "        async function convertToInteractive(key) {\n",
              "          const element = document.querySelector('#df-f51fe71b-6de0-434c-bbb3-954ded25cfc6');\n",
              "          const dataTable =\n",
              "            await google.colab.kernel.invokeFunction('convertToInteractive',\n",
              "                                                     [key], {});\n",
              "          if (!dataTable) return;\n",
              "\n",
              "          const docLinkHtml = 'Like what you see? Visit the ' +\n",
              "            '<a target=\"_blank\" href=https://colab.research.google.com/notebooks/data_table.ipynb>data table notebook</a>'\n",
              "            + ' to learn more about interactive tables.';\n",
              "          element.innerHTML = '';\n",
              "          dataTable['output_type'] = 'display_data';\n",
              "          await google.colab.output.renderOutput(dataTable, element);\n",
              "          const docLink = document.createElement('div');\n",
              "          docLink.innerHTML = docLinkHtml;\n",
              "          element.appendChild(docLink);\n",
              "        }\n",
              "      </script>\n",
              "    </div>\n",
              "  </div>\n",
              "  "
            ]
          },
          "metadata": {},
          "execution_count": 23
        }
      ]
    },
    {
      "cell_type": "markdown",
      "source": [
        "O próximo ponto de investigação dos dados é referente às colunas do tipo *'Object'*, uma vez que possuem *strings* e essas podem conter divergências, por exemplo a mesma palavra escrita de forma errada."
      ],
      "metadata": {
        "id": "gO52pUR1m4XJ"
      }
    },
    {
      "cell_type": "markdown",
      "source": [
        "Analisando os valores únicos das colunas:\n",
        "\n",
        "- REGIÃO\n",
        "- ESTADO\n",
        "- PRODUTO\n",
        "- UNIDADE DE MEDIDA\n",
        "\n",
        "O método **.unique()** permite extrair valores únicos de cada coluna, assim é possível identificar se há discrepâncias."
      ],
      "metadata": {
        "id": "_JGwCmegnLan"
      }
    },
    {
      "cell_type": "code",
      "source": [
        "dataset_gas_limpo['REGIÃO'].unique()"
      ],
      "metadata": {
        "colab": {
          "base_uri": "https://localhost:8080/"
        },
        "id": "V6yz-b9DGQfI",
        "outputId": "80f887b4-115e-418f-e055-d64e56c1dacc"
      },
      "execution_count": 24,
      "outputs": [
        {
          "output_type": "execute_result",
          "data": {
            "text/plain": [
              "array(['CENTRO OESTE', 'NORDESTE', 'NORTE', 'SUDESTE', 'SUL'],\n",
              "      dtype=object)"
            ]
          },
          "metadata": {},
          "execution_count": 24
        }
      ]
    },
    {
      "cell_type": "code",
      "source": [
        "dataset_gas_limpo['ESTADO'].unique()"
      ],
      "metadata": {
        "colab": {
          "base_uri": "https://localhost:8080/"
        },
        "id": "j-fTGPTwGWjh",
        "outputId": "ff9f5cf4-3b80-433e-e51c-a9ecd9922887"
      },
      "execution_count": 25,
      "outputs": [
        {
          "output_type": "execute_result",
          "data": {
            "text/plain": [
              "array(['DISTRITO FEDERAL', 'GOIAS', 'MATO GROSSO', 'MATO GROSSO DO SUL',\n",
              "       'ALAGOAS', 'BAHIA', 'CEARA', 'MARANHAO', 'PARAIBA', 'PERNAMBUCO',\n",
              "       'PIAUI', 'RIO GRANDE DO NORTE', 'SERGIPE', 'ACRE', 'AMAPA',\n",
              "       'AMAZONAS', 'PARA', 'RONDONIA', 'RORAIMA', 'TOCANTINS',\n",
              "       'ESPIRITO SANTO', 'MINAS GERAIS', 'RIO DE JANEIRO', 'SAO PAULO',\n",
              "       'PARANA', 'RIO GRANDE DO SUL', 'SANTA CATARINA'], dtype=object)"
            ]
          },
          "metadata": {},
          "execution_count": 25
        }
      ]
    },
    {
      "cell_type": "code",
      "source": [
        "dataset_gas_limpo['PRODUTO'].unique()"
      ],
      "metadata": {
        "colab": {
          "base_uri": "https://localhost:8080/"
        },
        "id": "In-Ltq2CGZxv",
        "outputId": "246d5071-0ae4-49f7-eb57-996683e16b08"
      },
      "execution_count": 26,
      "outputs": [
        {
          "output_type": "execute_result",
          "data": {
            "text/plain": [
              "array(['ETANOL HIDRATADO', 'GASOLINA COMUM', 'GLP', 'GNV', 'ÓLEO DIESEL',\n",
              "       'ÓLEO DIESEL S10', 'OLEO DIESEL', 'OLEO DIESEL S10'], dtype=object)"
            ]
          },
          "metadata": {},
          "execution_count": 26
        }
      ]
    },
    {
      "cell_type": "code",
      "source": [
        "dataset_gas_limpo['UNIDADE DE MEDIDA'].unique()"
      ],
      "metadata": {
        "colab": {
          "base_uri": "https://localhost:8080/"
        },
        "id": "Df6c07uvGhXm",
        "outputId": "316f3d44-e510-4422-cfc2-50925234b814"
      },
      "execution_count": 27,
      "outputs": [
        {
          "output_type": "execute_result",
          "data": {
            "text/plain": [
              "array(['R$/l', 'R$/13Kg', 'R$/m3'], dtype=object)"
            ]
          },
          "metadata": {},
          "execution_count": 27
        }
      ]
    },
    {
      "cell_type": "markdown",
      "source": [
        "Analisando os valores únicos das colunas, fizemos as seguintes modificações:\n",
        "\n",
        "- REGIÃO\n",
        "  - Não houve.\n",
        "- ESTADO\n",
        "  - Modificação para siglas a fim de simplificação.\n",
        "- PRODUTO\n",
        "  - Padronização de palavras.\n",
        "- UNIDADE DE MEDIDA\n",
        "  - Não houve."
      ],
      "metadata": {
        "id": "Xo1ucMEsnezG"
      }
    },
    {
      "cell_type": "markdown",
      "source": [
        "A primeira modificação foi referente à mudança dos nomes dos estados/unidade federativa para suas respectivas siglas. Isto foi feito utilizando um dicionário e a função **.map()**."
      ],
      "metadata": {
        "id": "VVYndsDPIKQ0"
      }
    },
    {
      "cell_type": "code",
      "source": [
        "estado = {'DISTRITO FEDERAL': 'DF',\n",
        "          'GOIAS': 'GO',\n",
        "          'MATO GROSSO': 'MT',\n",
        "          'MATO GROSSO DO SUL': 'MS',\n",
        "          'ALAGOAS': 'AL',\n",
        "          'BAHIA': 'BA',\n",
        "          'CEARA': 'CE',\n",
        "          'MARANHAO': 'MA',\n",
        "          'PARAIBA': 'PB',\n",
        "          'PERNAMBUCO': 'PE',\n",
        "          'PIAUI': 'PI',\n",
        "          'RIO GRANDE DO NORTE': 'RN',\n",
        "          'SERGIPE': 'SE',\n",
        "          'ACRE': 'AC',\n",
        "          'AMAPA': 'AP',\n",
        "          'AMAZONAS': 'AM',\n",
        "          'PARA': 'PA',\n",
        "          'RONDONIA': 'RO',\n",
        "          'RORAIMA': 'RR',\n",
        "          'TOCANTINS': 'TO',\n",
        "          'ESPIRITO SANTO': 'ES',\n",
        "          'MINAS GERAIS': 'MG',\n",
        "          'RIO DE JANEIRO': 'RJ',\n",
        "          'SAO PAULO': 'SP',\n",
        "          'PARANA': 'PR',\n",
        "          'RIO GRANDE DO SUL': 'RS',\n",
        "          'SANTA CATARINA': 'SC'\n",
        "}\n",
        "dataset_gas_limpo['ESTADO'] = dataset_gas_limpo['ESTADO'].map(estado)"
      ],
      "metadata": {
        "id": "tkdVsMraqomW"
      },
      "execution_count": 28,
      "outputs": []
    },
    {
      "cell_type": "markdown",
      "source": [
        "Para os nomes iguais, porém com alguma divergência na escrita, foi utilizado o método **.replace()**, como no caso do 'Óleo Diesel' e 'Oleo Diesel'."
      ],
      "metadata": {
        "id": "TvOBXRpXJJ1L"
      }
    },
    {
      "cell_type": "code",
      "source": [
        "dataset_gas_limpo = dataset_gas_limpo.replace('ÓLEO DIESEL' , 'OLEO DIESEL')\n",
        "dataset_gas_limpo = dataset_gas_limpo.replace('ÓLEO DIESEL S10' , 'OLEO DIESEL S10')\n",
        "dataset_gas_limpo['PRODUTO'].unique()"
      ],
      "metadata": {
        "colab": {
          "base_uri": "https://localhost:8080/"
        },
        "id": "Zi_XnIttqojN",
        "outputId": "8d97ac85-a163-4cda-e27b-b6af5b196a1e"
      },
      "execution_count": 29,
      "outputs": [
        {
          "output_type": "execute_result",
          "data": {
            "text/plain": [
              "array(['ETANOL HIDRATADO', 'GASOLINA COMUM', 'GLP', 'GNV', 'OLEO DIESEL',\n",
              "       'OLEO DIESEL S10'], dtype=object)"
            ]
          },
          "metadata": {},
          "execution_count": 29
        }
      ]
    },
    {
      "cell_type": "markdown",
      "source": [
        "Após a investigação e limpeza, a versão final do *dataframe* se apresenta da seguinte forma:"
      ],
      "metadata": {
        "id": "x4qUUYLsA-Hs"
      }
    },
    {
      "cell_type": "code",
      "source": [
        "dataset_gas_limpo.head()"
      ],
      "metadata": {
        "colab": {
          "base_uri": "https://localhost:8080/",
          "height": 421
        },
        "id": "msAvbc2IA5Nt",
        "outputId": "92ba6f87-fc7e-45c1-c3cc-6c16702fa204"
      },
      "execution_count": 30,
      "outputs": [
        {
          "output_type": "execute_result",
          "data": {
            "text/plain": [
              "  DATA INICIAL  DIA INICIAL  MES INICIAL  ANO INICIAL  SEMANA INICIAL  \\\n",
              "0   2004-05-09            9            5         2004              19   \n",
              "1   2004-05-09            9            5         2004              19   \n",
              "2   2004-05-09            9            5         2004              19   \n",
              "3   2004-05-09            9            5         2004              19   \n",
              "4   2004-05-09            9            5         2004              19   \n",
              "\n",
              "   DATA FINAL  DIA FINAL  MES FINAL  ANO FINAL  SEMANA FINAL  ...  \\\n",
              "0  2004-05-15         15          5       2004            20  ...   \n",
              "1  2004-05-15         15          5       2004            20  ...   \n",
              "2  2004-05-15         15          5       2004            20  ...   \n",
              "3  2004-05-15         15          5       2004            20  ...   \n",
              "4  2004-05-15         15          5       2004            20  ...   \n",
              "\n",
              "  DESVIO PADRÃO REVENDA PREÇO MÍNIMO REVENDA PREÇO MÁXIMO REVENDA  \\\n",
              "0                 0.016                 1.19                1.350   \n",
              "1                 0.114                 0.89                1.449   \n",
              "2                 0.097                 1.18                1.760   \n",
              "3                 0.070                 1.09                1.509   \n",
              "4                 0.078                 1.05                1.400   \n",
              "\n",
              "   MARGEM MÉDIA REVENDA COEF DE VARIAÇÃO REVENDA  PREÇO MÉDIO DISTRIBUIÇÃO  \\\n",
              "0                 0.463                    0.012                     0.825   \n",
              "1                 0.399                    0.098                     0.763   \n",
              "2                 0.419                    0.070                     0.970   \n",
              "3                 0.432                    0.055                     0.830   \n",
              "4                 0.240                    0.066                     0.941   \n",
              "\n",
              "   DESVIO PADRÃO DISTRIBUIÇÃO  PREÇO MÍNIMO DISTRIBUIÇÃO  \\\n",
              "0                       0.110                     0.4201   \n",
              "1                       0.088                     0.5013   \n",
              "2                       0.095                     0.5614   \n",
              "3                       0.119                     0.5991   \n",
              "4                       0.077                     0.7441   \n",
              "\n",
              "   PREÇO MÁXIMO DISTRIBUIÇÃO  COEF DE VARIAÇÃO DISTRIBUIÇÃO  \n",
              "0                    0.96660                          0.133  \n",
              "1                    1.05000                          0.115  \n",
              "2                    1.16100                          0.098  \n",
              "3                    1.22242                          0.143  \n",
              "4                    1.03170                          0.082  \n",
              "\n",
              "[5 rows x 26 columns]"
            ],
            "text/html": [
              "\n",
              "  <div id=\"df-4e9fe36f-09d6-4e3e-bf78-577202b122dd\">\n",
              "    <div class=\"colab-df-container\">\n",
              "      <div>\n",
              "<style scoped>\n",
              "    .dataframe tbody tr th:only-of-type {\n",
              "        vertical-align: middle;\n",
              "    }\n",
              "\n",
              "    .dataframe tbody tr th {\n",
              "        vertical-align: top;\n",
              "    }\n",
              "\n",
              "    .dataframe thead th {\n",
              "        text-align: right;\n",
              "    }\n",
              "</style>\n",
              "<table border=\"1\" class=\"dataframe\">\n",
              "  <thead>\n",
              "    <tr style=\"text-align: right;\">\n",
              "      <th></th>\n",
              "      <th>DATA INICIAL</th>\n",
              "      <th>DIA INICIAL</th>\n",
              "      <th>MES INICIAL</th>\n",
              "      <th>ANO INICIAL</th>\n",
              "      <th>SEMANA INICIAL</th>\n",
              "      <th>DATA FINAL</th>\n",
              "      <th>DIA FINAL</th>\n",
              "      <th>MES FINAL</th>\n",
              "      <th>ANO FINAL</th>\n",
              "      <th>SEMANA FINAL</th>\n",
              "      <th>...</th>\n",
              "      <th>DESVIO PADRÃO REVENDA</th>\n",
              "      <th>PREÇO MÍNIMO REVENDA</th>\n",
              "      <th>PREÇO MÁXIMO REVENDA</th>\n",
              "      <th>MARGEM MÉDIA REVENDA</th>\n",
              "      <th>COEF DE VARIAÇÃO REVENDA</th>\n",
              "      <th>PREÇO MÉDIO DISTRIBUIÇÃO</th>\n",
              "      <th>DESVIO PADRÃO DISTRIBUIÇÃO</th>\n",
              "      <th>PREÇO MÍNIMO DISTRIBUIÇÃO</th>\n",
              "      <th>PREÇO MÁXIMO DISTRIBUIÇÃO</th>\n",
              "      <th>COEF DE VARIAÇÃO DISTRIBUIÇÃO</th>\n",
              "    </tr>\n",
              "  </thead>\n",
              "  <tbody>\n",
              "    <tr>\n",
              "      <th>0</th>\n",
              "      <td>2004-05-09</td>\n",
              "      <td>9</td>\n",
              "      <td>5</td>\n",
              "      <td>2004</td>\n",
              "      <td>19</td>\n",
              "      <td>2004-05-15</td>\n",
              "      <td>15</td>\n",
              "      <td>5</td>\n",
              "      <td>2004</td>\n",
              "      <td>20</td>\n",
              "      <td>...</td>\n",
              "      <td>0.016</td>\n",
              "      <td>1.19</td>\n",
              "      <td>1.350</td>\n",
              "      <td>0.463</td>\n",
              "      <td>0.012</td>\n",
              "      <td>0.825</td>\n",
              "      <td>0.110</td>\n",
              "      <td>0.4201</td>\n",
              "      <td>0.96660</td>\n",
              "      <td>0.133</td>\n",
              "    </tr>\n",
              "    <tr>\n",
              "      <th>1</th>\n",
              "      <td>2004-05-09</td>\n",
              "      <td>9</td>\n",
              "      <td>5</td>\n",
              "      <td>2004</td>\n",
              "      <td>19</td>\n",
              "      <td>2004-05-15</td>\n",
              "      <td>15</td>\n",
              "      <td>5</td>\n",
              "      <td>2004</td>\n",
              "      <td>20</td>\n",
              "      <td>...</td>\n",
              "      <td>0.114</td>\n",
              "      <td>0.89</td>\n",
              "      <td>1.449</td>\n",
              "      <td>0.399</td>\n",
              "      <td>0.098</td>\n",
              "      <td>0.763</td>\n",
              "      <td>0.088</td>\n",
              "      <td>0.5013</td>\n",
              "      <td>1.05000</td>\n",
              "      <td>0.115</td>\n",
              "    </tr>\n",
              "    <tr>\n",
              "      <th>2</th>\n",
              "      <td>2004-05-09</td>\n",
              "      <td>9</td>\n",
              "      <td>5</td>\n",
              "      <td>2004</td>\n",
              "      <td>19</td>\n",
              "      <td>2004-05-15</td>\n",
              "      <td>15</td>\n",
              "      <td>5</td>\n",
              "      <td>2004</td>\n",
              "      <td>20</td>\n",
              "      <td>...</td>\n",
              "      <td>0.097</td>\n",
              "      <td>1.18</td>\n",
              "      <td>1.760</td>\n",
              "      <td>0.419</td>\n",
              "      <td>0.070</td>\n",
              "      <td>0.970</td>\n",
              "      <td>0.095</td>\n",
              "      <td>0.5614</td>\n",
              "      <td>1.16100</td>\n",
              "      <td>0.098</td>\n",
              "    </tr>\n",
              "    <tr>\n",
              "      <th>3</th>\n",
              "      <td>2004-05-09</td>\n",
              "      <td>9</td>\n",
              "      <td>5</td>\n",
              "      <td>2004</td>\n",
              "      <td>19</td>\n",
              "      <td>2004-05-15</td>\n",
              "      <td>15</td>\n",
              "      <td>5</td>\n",
              "      <td>2004</td>\n",
              "      <td>20</td>\n",
              "      <td>...</td>\n",
              "      <td>0.070</td>\n",
              "      <td>1.09</td>\n",
              "      <td>1.509</td>\n",
              "      <td>0.432</td>\n",
              "      <td>0.055</td>\n",
              "      <td>0.830</td>\n",
              "      <td>0.119</td>\n",
              "      <td>0.5991</td>\n",
              "      <td>1.22242</td>\n",
              "      <td>0.143</td>\n",
              "    </tr>\n",
              "    <tr>\n",
              "      <th>4</th>\n",
              "      <td>2004-05-09</td>\n",
              "      <td>9</td>\n",
              "      <td>5</td>\n",
              "      <td>2004</td>\n",
              "      <td>19</td>\n",
              "      <td>2004-05-15</td>\n",
              "      <td>15</td>\n",
              "      <td>5</td>\n",
              "      <td>2004</td>\n",
              "      <td>20</td>\n",
              "      <td>...</td>\n",
              "      <td>0.078</td>\n",
              "      <td>1.05</td>\n",
              "      <td>1.400</td>\n",
              "      <td>0.240</td>\n",
              "      <td>0.066</td>\n",
              "      <td>0.941</td>\n",
              "      <td>0.077</td>\n",
              "      <td>0.7441</td>\n",
              "      <td>1.03170</td>\n",
              "      <td>0.082</td>\n",
              "    </tr>\n",
              "  </tbody>\n",
              "</table>\n",
              "<p>5 rows × 26 columns</p>\n",
              "</div>\n",
              "      <button class=\"colab-df-convert\" onclick=\"convertToInteractive('df-4e9fe36f-09d6-4e3e-bf78-577202b122dd')\"\n",
              "              title=\"Convert this dataframe to an interactive table.\"\n",
              "              style=\"display:none;\">\n",
              "        \n",
              "  <svg xmlns=\"http://www.w3.org/2000/svg\" height=\"24px\"viewBox=\"0 0 24 24\"\n",
              "       width=\"24px\">\n",
              "    <path d=\"M0 0h24v24H0V0z\" fill=\"none\"/>\n",
              "    <path d=\"M18.56 5.44l.94 2.06.94-2.06 2.06-.94-2.06-.94-.94-2.06-.94 2.06-2.06.94zm-11 1L8.5 8.5l.94-2.06 2.06-.94-2.06-.94L8.5 2.5l-.94 2.06-2.06.94zm10 10l.94 2.06.94-2.06 2.06-.94-2.06-.94-.94-2.06-.94 2.06-2.06.94z\"/><path d=\"M17.41 7.96l-1.37-1.37c-.4-.4-.92-.59-1.43-.59-.52 0-1.04.2-1.43.59L10.3 9.45l-7.72 7.72c-.78.78-.78 2.05 0 2.83L4 21.41c.39.39.9.59 1.41.59.51 0 1.02-.2 1.41-.59l7.78-7.78 2.81-2.81c.8-.78.8-2.07 0-2.86zM5.41 20L4 18.59l7.72-7.72 1.47 1.35L5.41 20z\"/>\n",
              "  </svg>\n",
              "      </button>\n",
              "      \n",
              "  <style>\n",
              "    .colab-df-container {\n",
              "      display:flex;\n",
              "      flex-wrap:wrap;\n",
              "      gap: 12px;\n",
              "    }\n",
              "\n",
              "    .colab-df-convert {\n",
              "      background-color: #E8F0FE;\n",
              "      border: none;\n",
              "      border-radius: 50%;\n",
              "      cursor: pointer;\n",
              "      display: none;\n",
              "      fill: #1967D2;\n",
              "      height: 32px;\n",
              "      padding: 0 0 0 0;\n",
              "      width: 32px;\n",
              "    }\n",
              "\n",
              "    .colab-df-convert:hover {\n",
              "      background-color: #E2EBFA;\n",
              "      box-shadow: 0px 1px 2px rgba(60, 64, 67, 0.3), 0px 1px 3px 1px rgba(60, 64, 67, 0.15);\n",
              "      fill: #174EA6;\n",
              "    }\n",
              "\n",
              "    [theme=dark] .colab-df-convert {\n",
              "      background-color: #3B4455;\n",
              "      fill: #D2E3FC;\n",
              "    }\n",
              "\n",
              "    [theme=dark] .colab-df-convert:hover {\n",
              "      background-color: #434B5C;\n",
              "      box-shadow: 0px 1px 3px 1px rgba(0, 0, 0, 0.15);\n",
              "      filter: drop-shadow(0px 1px 2px rgba(0, 0, 0, 0.3));\n",
              "      fill: #FFFFFF;\n",
              "    }\n",
              "  </style>\n",
              "\n",
              "      <script>\n",
              "        const buttonEl =\n",
              "          document.querySelector('#df-4e9fe36f-09d6-4e3e-bf78-577202b122dd button.colab-df-convert');\n",
              "        buttonEl.style.display =\n",
              "          google.colab.kernel.accessAllowed ? 'block' : 'none';\n",
              "\n",
              "        async function convertToInteractive(key) {\n",
              "          const element = document.querySelector('#df-4e9fe36f-09d6-4e3e-bf78-577202b122dd');\n",
              "          const dataTable =\n",
              "            await google.colab.kernel.invokeFunction('convertToInteractive',\n",
              "                                                     [key], {});\n",
              "          if (!dataTable) return;\n",
              "\n",
              "          const docLinkHtml = 'Like what you see? Visit the ' +\n",
              "            '<a target=\"_blank\" href=https://colab.research.google.com/notebooks/data_table.ipynb>data table notebook</a>'\n",
              "            + ' to learn more about interactive tables.';\n",
              "          element.innerHTML = '';\n",
              "          dataTable['output_type'] = 'display_data';\n",
              "          await google.colab.output.renderOutput(dataTable, element);\n",
              "          const docLink = document.createElement('div');\n",
              "          docLink.innerHTML = docLinkHtml;\n",
              "          element.appendChild(docLink);\n",
              "        }\n",
              "      </script>\n",
              "    </div>\n",
              "  </div>\n",
              "  "
            ]
          },
          "metadata": {},
          "execution_count": 30
        }
      ]
    },
    {
      "cell_type": "markdown",
      "source": [
        "## 4.ANÁLISE EXPLORATÓRIA"
      ],
      "metadata": {
        "id": "tP6MBb7Xurrk"
      }
    },
    {
      "cell_type": "markdown",
      "source": [
        "A análise exploratória do *dataset* seguirá a ordem dos objetivos específicos a fim de satisfazer o objetivo geral proposto. Como mostrado anteriormente, o formato do *dataframe* final é o seguinte:"
      ],
      "metadata": {
        "id": "gIbVblBR4sP0"
      }
    },
    {
      "cell_type": "code",
      "source": [
        "dataset_gas_limpo.head()"
      ],
      "metadata": {
        "colab": {
          "base_uri": "https://localhost:8080/",
          "height": 421
        },
        "id": "4uDA8nUV78tF",
        "outputId": "f1ae8427-3bbe-4922-bd5a-756955100fa7"
      },
      "execution_count": 31,
      "outputs": [
        {
          "output_type": "execute_result",
          "data": {
            "text/plain": [
              "  DATA INICIAL  DIA INICIAL  MES INICIAL  ANO INICIAL  SEMANA INICIAL  \\\n",
              "0   2004-05-09            9            5         2004              19   \n",
              "1   2004-05-09            9            5         2004              19   \n",
              "2   2004-05-09            9            5         2004              19   \n",
              "3   2004-05-09            9            5         2004              19   \n",
              "4   2004-05-09            9            5         2004              19   \n",
              "\n",
              "   DATA FINAL  DIA FINAL  MES FINAL  ANO FINAL  SEMANA FINAL  ...  \\\n",
              "0  2004-05-15         15          5       2004            20  ...   \n",
              "1  2004-05-15         15          5       2004            20  ...   \n",
              "2  2004-05-15         15          5       2004            20  ...   \n",
              "3  2004-05-15         15          5       2004            20  ...   \n",
              "4  2004-05-15         15          5       2004            20  ...   \n",
              "\n",
              "  DESVIO PADRÃO REVENDA PREÇO MÍNIMO REVENDA PREÇO MÁXIMO REVENDA  \\\n",
              "0                 0.016                 1.19                1.350   \n",
              "1                 0.114                 0.89                1.449   \n",
              "2                 0.097                 1.18                1.760   \n",
              "3                 0.070                 1.09                1.509   \n",
              "4                 0.078                 1.05                1.400   \n",
              "\n",
              "   MARGEM MÉDIA REVENDA COEF DE VARIAÇÃO REVENDA  PREÇO MÉDIO DISTRIBUIÇÃO  \\\n",
              "0                 0.463                    0.012                     0.825   \n",
              "1                 0.399                    0.098                     0.763   \n",
              "2                 0.419                    0.070                     0.970   \n",
              "3                 0.432                    0.055                     0.830   \n",
              "4                 0.240                    0.066                     0.941   \n",
              "\n",
              "   DESVIO PADRÃO DISTRIBUIÇÃO  PREÇO MÍNIMO DISTRIBUIÇÃO  \\\n",
              "0                       0.110                     0.4201   \n",
              "1                       0.088                     0.5013   \n",
              "2                       0.095                     0.5614   \n",
              "3                       0.119                     0.5991   \n",
              "4                       0.077                     0.7441   \n",
              "\n",
              "   PREÇO MÁXIMO DISTRIBUIÇÃO  COEF DE VARIAÇÃO DISTRIBUIÇÃO  \n",
              "0                    0.96660                          0.133  \n",
              "1                    1.05000                          0.115  \n",
              "2                    1.16100                          0.098  \n",
              "3                    1.22242                          0.143  \n",
              "4                    1.03170                          0.082  \n",
              "\n",
              "[5 rows x 26 columns]"
            ],
            "text/html": [
              "\n",
              "  <div id=\"df-16e56306-dc52-44a9-8be0-86e5d9718fbb\">\n",
              "    <div class=\"colab-df-container\">\n",
              "      <div>\n",
              "<style scoped>\n",
              "    .dataframe tbody tr th:only-of-type {\n",
              "        vertical-align: middle;\n",
              "    }\n",
              "\n",
              "    .dataframe tbody tr th {\n",
              "        vertical-align: top;\n",
              "    }\n",
              "\n",
              "    .dataframe thead th {\n",
              "        text-align: right;\n",
              "    }\n",
              "</style>\n",
              "<table border=\"1\" class=\"dataframe\">\n",
              "  <thead>\n",
              "    <tr style=\"text-align: right;\">\n",
              "      <th></th>\n",
              "      <th>DATA INICIAL</th>\n",
              "      <th>DIA INICIAL</th>\n",
              "      <th>MES INICIAL</th>\n",
              "      <th>ANO INICIAL</th>\n",
              "      <th>SEMANA INICIAL</th>\n",
              "      <th>DATA FINAL</th>\n",
              "      <th>DIA FINAL</th>\n",
              "      <th>MES FINAL</th>\n",
              "      <th>ANO FINAL</th>\n",
              "      <th>SEMANA FINAL</th>\n",
              "      <th>...</th>\n",
              "      <th>DESVIO PADRÃO REVENDA</th>\n",
              "      <th>PREÇO MÍNIMO REVENDA</th>\n",
              "      <th>PREÇO MÁXIMO REVENDA</th>\n",
              "      <th>MARGEM MÉDIA REVENDA</th>\n",
              "      <th>COEF DE VARIAÇÃO REVENDA</th>\n",
              "      <th>PREÇO MÉDIO DISTRIBUIÇÃO</th>\n",
              "      <th>DESVIO PADRÃO DISTRIBUIÇÃO</th>\n",
              "      <th>PREÇO MÍNIMO DISTRIBUIÇÃO</th>\n",
              "      <th>PREÇO MÁXIMO DISTRIBUIÇÃO</th>\n",
              "      <th>COEF DE VARIAÇÃO DISTRIBUIÇÃO</th>\n",
              "    </tr>\n",
              "  </thead>\n",
              "  <tbody>\n",
              "    <tr>\n",
              "      <th>0</th>\n",
              "      <td>2004-05-09</td>\n",
              "      <td>9</td>\n",
              "      <td>5</td>\n",
              "      <td>2004</td>\n",
              "      <td>19</td>\n",
              "      <td>2004-05-15</td>\n",
              "      <td>15</td>\n",
              "      <td>5</td>\n",
              "      <td>2004</td>\n",
              "      <td>20</td>\n",
              "      <td>...</td>\n",
              "      <td>0.016</td>\n",
              "      <td>1.19</td>\n",
              "      <td>1.350</td>\n",
              "      <td>0.463</td>\n",
              "      <td>0.012</td>\n",
              "      <td>0.825</td>\n",
              "      <td>0.110</td>\n",
              "      <td>0.4201</td>\n",
              "      <td>0.96660</td>\n",
              "      <td>0.133</td>\n",
              "    </tr>\n",
              "    <tr>\n",
              "      <th>1</th>\n",
              "      <td>2004-05-09</td>\n",
              "      <td>9</td>\n",
              "      <td>5</td>\n",
              "      <td>2004</td>\n",
              "      <td>19</td>\n",
              "      <td>2004-05-15</td>\n",
              "      <td>15</td>\n",
              "      <td>5</td>\n",
              "      <td>2004</td>\n",
              "      <td>20</td>\n",
              "      <td>...</td>\n",
              "      <td>0.114</td>\n",
              "      <td>0.89</td>\n",
              "      <td>1.449</td>\n",
              "      <td>0.399</td>\n",
              "      <td>0.098</td>\n",
              "      <td>0.763</td>\n",
              "      <td>0.088</td>\n",
              "      <td>0.5013</td>\n",
              "      <td>1.05000</td>\n",
              "      <td>0.115</td>\n",
              "    </tr>\n",
              "    <tr>\n",
              "      <th>2</th>\n",
              "      <td>2004-05-09</td>\n",
              "      <td>9</td>\n",
              "      <td>5</td>\n",
              "      <td>2004</td>\n",
              "      <td>19</td>\n",
              "      <td>2004-05-15</td>\n",
              "      <td>15</td>\n",
              "      <td>5</td>\n",
              "      <td>2004</td>\n",
              "      <td>20</td>\n",
              "      <td>...</td>\n",
              "      <td>0.097</td>\n",
              "      <td>1.18</td>\n",
              "      <td>1.760</td>\n",
              "      <td>0.419</td>\n",
              "      <td>0.070</td>\n",
              "      <td>0.970</td>\n",
              "      <td>0.095</td>\n",
              "      <td>0.5614</td>\n",
              "      <td>1.16100</td>\n",
              "      <td>0.098</td>\n",
              "    </tr>\n",
              "    <tr>\n",
              "      <th>3</th>\n",
              "      <td>2004-05-09</td>\n",
              "      <td>9</td>\n",
              "      <td>5</td>\n",
              "      <td>2004</td>\n",
              "      <td>19</td>\n",
              "      <td>2004-05-15</td>\n",
              "      <td>15</td>\n",
              "      <td>5</td>\n",
              "      <td>2004</td>\n",
              "      <td>20</td>\n",
              "      <td>...</td>\n",
              "      <td>0.070</td>\n",
              "      <td>1.09</td>\n",
              "      <td>1.509</td>\n",
              "      <td>0.432</td>\n",
              "      <td>0.055</td>\n",
              "      <td>0.830</td>\n",
              "      <td>0.119</td>\n",
              "      <td>0.5991</td>\n",
              "      <td>1.22242</td>\n",
              "      <td>0.143</td>\n",
              "    </tr>\n",
              "    <tr>\n",
              "      <th>4</th>\n",
              "      <td>2004-05-09</td>\n",
              "      <td>9</td>\n",
              "      <td>5</td>\n",
              "      <td>2004</td>\n",
              "      <td>19</td>\n",
              "      <td>2004-05-15</td>\n",
              "      <td>15</td>\n",
              "      <td>5</td>\n",
              "      <td>2004</td>\n",
              "      <td>20</td>\n",
              "      <td>...</td>\n",
              "      <td>0.078</td>\n",
              "      <td>1.05</td>\n",
              "      <td>1.400</td>\n",
              "      <td>0.240</td>\n",
              "      <td>0.066</td>\n",
              "      <td>0.941</td>\n",
              "      <td>0.077</td>\n",
              "      <td>0.7441</td>\n",
              "      <td>1.03170</td>\n",
              "      <td>0.082</td>\n",
              "    </tr>\n",
              "  </tbody>\n",
              "</table>\n",
              "<p>5 rows × 26 columns</p>\n",
              "</div>\n",
              "      <button class=\"colab-df-convert\" onclick=\"convertToInteractive('df-16e56306-dc52-44a9-8be0-86e5d9718fbb')\"\n",
              "              title=\"Convert this dataframe to an interactive table.\"\n",
              "              style=\"display:none;\">\n",
              "        \n",
              "  <svg xmlns=\"http://www.w3.org/2000/svg\" height=\"24px\"viewBox=\"0 0 24 24\"\n",
              "       width=\"24px\">\n",
              "    <path d=\"M0 0h24v24H0V0z\" fill=\"none\"/>\n",
              "    <path d=\"M18.56 5.44l.94 2.06.94-2.06 2.06-.94-2.06-.94-.94-2.06-.94 2.06-2.06.94zm-11 1L8.5 8.5l.94-2.06 2.06-.94-2.06-.94L8.5 2.5l-.94 2.06-2.06.94zm10 10l.94 2.06.94-2.06 2.06-.94-2.06-.94-.94-2.06-.94 2.06-2.06.94z\"/><path d=\"M17.41 7.96l-1.37-1.37c-.4-.4-.92-.59-1.43-.59-.52 0-1.04.2-1.43.59L10.3 9.45l-7.72 7.72c-.78.78-.78 2.05 0 2.83L4 21.41c.39.39.9.59 1.41.59.51 0 1.02-.2 1.41-.59l7.78-7.78 2.81-2.81c.8-.78.8-2.07 0-2.86zM5.41 20L4 18.59l7.72-7.72 1.47 1.35L5.41 20z\"/>\n",
              "  </svg>\n",
              "      </button>\n",
              "      \n",
              "  <style>\n",
              "    .colab-df-container {\n",
              "      display:flex;\n",
              "      flex-wrap:wrap;\n",
              "      gap: 12px;\n",
              "    }\n",
              "\n",
              "    .colab-df-convert {\n",
              "      background-color: #E8F0FE;\n",
              "      border: none;\n",
              "      border-radius: 50%;\n",
              "      cursor: pointer;\n",
              "      display: none;\n",
              "      fill: #1967D2;\n",
              "      height: 32px;\n",
              "      padding: 0 0 0 0;\n",
              "      width: 32px;\n",
              "    }\n",
              "\n",
              "    .colab-df-convert:hover {\n",
              "      background-color: #E2EBFA;\n",
              "      box-shadow: 0px 1px 2px rgba(60, 64, 67, 0.3), 0px 1px 3px 1px rgba(60, 64, 67, 0.15);\n",
              "      fill: #174EA6;\n",
              "    }\n",
              "\n",
              "    [theme=dark] .colab-df-convert {\n",
              "      background-color: #3B4455;\n",
              "      fill: #D2E3FC;\n",
              "    }\n",
              "\n",
              "    [theme=dark] .colab-df-convert:hover {\n",
              "      background-color: #434B5C;\n",
              "      box-shadow: 0px 1px 3px 1px rgba(0, 0, 0, 0.15);\n",
              "      filter: drop-shadow(0px 1px 2px rgba(0, 0, 0, 0.3));\n",
              "      fill: #FFFFFF;\n",
              "    }\n",
              "  </style>\n",
              "\n",
              "      <script>\n",
              "        const buttonEl =\n",
              "          document.querySelector('#df-16e56306-dc52-44a9-8be0-86e5d9718fbb button.colab-df-convert');\n",
              "        buttonEl.style.display =\n",
              "          google.colab.kernel.accessAllowed ? 'block' : 'none';\n",
              "\n",
              "        async function convertToInteractive(key) {\n",
              "          const element = document.querySelector('#df-16e56306-dc52-44a9-8be0-86e5d9718fbb');\n",
              "          const dataTable =\n",
              "            await google.colab.kernel.invokeFunction('convertToInteractive',\n",
              "                                                     [key], {});\n",
              "          if (!dataTable) return;\n",
              "\n",
              "          const docLinkHtml = 'Like what you see? Visit the ' +\n",
              "            '<a target=\"_blank\" href=https://colab.research.google.com/notebooks/data_table.ipynb>data table notebook</a>'\n",
              "            + ' to learn more about interactive tables.';\n",
              "          element.innerHTML = '';\n",
              "          dataTable['output_type'] = 'display_data';\n",
              "          await google.colab.output.renderOutput(dataTable, element);\n",
              "          const docLink = document.createElement('div');\n",
              "          docLink.innerHTML = docLinkHtml;\n",
              "          element.appendChild(docLink);\n",
              "        }\n",
              "      </script>\n",
              "    </div>\n",
              "  </div>\n",
              "  "
            ]
          },
          "metadata": {},
          "execution_count": 31
        }
      ]
    },
    {
      "cell_type": "markdown",
      "source": [
        "Aplicamos novamente o método **.describe()** com a finalidade de apresentar um resumo das principais métricas, contendo as todas as colunas, mostrando um panorama completo."
      ],
      "metadata": {
        "id": "15lZ3Hu15YxV"
      }
    },
    {
      "cell_type": "code",
      "source": [
        "dataset_gas_limpo.describe()"
      ],
      "metadata": {
        "colab": {
          "base_uri": "https://localhost:8080/",
          "height": 399
        },
        "id": "0NPnCsWP7_po",
        "outputId": "91918eed-341e-4ec2-b591-616e9c8ed39a"
      },
      "execution_count": 32,
      "outputs": [
        {
          "output_type": "execute_result",
          "data": {
            "text/plain": [
              "         DIA INICIAL    MES INICIAL    ANO INICIAL  SEMANA INICIAL  \\\n",
              "count  111875.000000  111875.000000  111875.000000   111875.000000   \n",
              "mean       15.664447       6.501238    2012.328080       26.491593   \n",
              "std         8.813983       3.430368       4.717475       14.987477   \n",
              "min         1.000000       1.000000    2004.000000        1.000000   \n",
              "25%         8.000000       4.000000    2008.000000       14.000000   \n",
              "50%        16.000000       6.000000    2013.000000       26.000000   \n",
              "75%        23.000000       9.000000    2016.000000       39.000000   \n",
              "max        31.000000      12.000000    2020.000000       53.000000   \n",
              "\n",
              "           DIA FINAL      MES FINAL      ANO FINAL   SEMANA FINAL  \\\n",
              "count  111875.000000  111875.000000  111875.000000  111875.000000   \n",
              "mean       15.697430       6.512277    2012.343491      26.505609   \n",
              "std         8.788003       3.432300       4.718118      14.981394   \n",
              "min         1.000000       1.000000    2004.000000       1.000000   \n",
              "25%         8.000000       4.000000    2008.000000      14.000000   \n",
              "50%        16.000000       7.000000    2013.000000      26.000000   \n",
              "75%        23.000000       9.000000    2016.000000      39.000000   \n",
              "max        31.000000      12.000000    2020.000000      53.000000   \n",
              "\n",
              "       NÚMERO DE POSTOS PESQUISADOS  PREÇO MÉDIO REVENDA  \\\n",
              "count                 111875.000000        111875.000000   \n",
              "mean                     234.757631            11.243118   \n",
              "std                      399.038353            18.656152   \n",
              "min                        1.000000             0.766000   \n",
              "25%                       45.000000             2.120000   \n",
              "50%                      105.000000             2.835000   \n",
              "75%                      243.000000             3.879000   \n",
              "max                     4167.000000            99.357000   \n",
              "\n",
              "       DESVIO PADRÃO REVENDA  PREÇO MÍNIMO REVENDA  PREÇO MÁXIMO REVENDA  \\\n",
              "count          111875.000000         111875.000000         111875.000000   \n",
              "mean                0.680548              9.744256             13.022466   \n",
              "std                 1.400431             15.907129             22.005101   \n",
              "min                 0.000000              0.590000              0.999000   \n",
              "25%                 0.076000              1.950000              2.399000   \n",
              "50%                 0.120000              2.619000              3.150000   \n",
              "75%                 0.201000              3.630000              4.399000   \n",
              "max                10.748000             90.000000            120.000000   \n",
              "\n",
              "       MARGEM MÉDIA REVENDA  COEF DE VARIAÇÃO REVENDA  \\\n",
              "count         111875.000000             111875.000000   \n",
              "mean               2.324677                  0.046055   \n",
              "std                4.591806                  0.024355   \n",
              "min                0.001000                  0.000000   \n",
              "25%                0.289000                  0.030000   \n",
              "50%                0.391000                  0.042000   \n",
              "75%                0.577000                  0.059000   \n",
              "max               36.847000                  0.262000   \n",
              "\n",
              "       PREÇO MÉDIO DISTRIBUIÇÃO  DESVIO PADRÃO DISTRIBUIÇÃO  \\\n",
              "count             111875.000000               111875.000000   \n",
              "mean                   8.918441                    0.580741   \n",
              "std                   14.359036                    1.304314   \n",
              "min                    0.506000                    0.000000   \n",
              "25%                    1.843000                    0.048000   \n",
              "50%                    2.434000                    0.080000   \n",
              "75%                    3.439000                    0.156000   \n",
              "max                   83.137000                   18.385000   \n",
              "\n",
              "       PREÇO MÍNIMO DISTRIBUIÇÃO  PREÇO MÁXIMO DISTRIBUIÇÃO  \\\n",
              "count              111875.000000              111875.000000   \n",
              "mean                    7.745588                  10.201414   \n",
              "std                    12.379148                  16.758547   \n",
              "min                     0.325700                   0.599200   \n",
              "25%                     1.711600                   1.987400   \n",
              "50%                     2.292200                   2.607000   \n",
              "75%                     3.278950                   3.648800   \n",
              "max                    83.000000                  94.500000   \n",
              "\n",
              "       COEF DE VARIAÇÃO DISTRIBUIÇÃO  \n",
              "count                  111875.000000  \n",
              "mean                        0.046307  \n",
              "std                         0.041555  \n",
              "min                         0.000000  \n",
              "25%                         0.021000  \n",
              "50%                         0.031000  \n",
              "75%                         0.060000  \n",
              "max                         0.780000  "
            ],
            "text/html": [
              "\n",
              "  <div id=\"df-bbf744f1-ba59-4228-9261-838b0df6a707\">\n",
              "    <div class=\"colab-df-container\">\n",
              "      <div>\n",
              "<style scoped>\n",
              "    .dataframe tbody tr th:only-of-type {\n",
              "        vertical-align: middle;\n",
              "    }\n",
              "\n",
              "    .dataframe tbody tr th {\n",
              "        vertical-align: top;\n",
              "    }\n",
              "\n",
              "    .dataframe thead th {\n",
              "        text-align: right;\n",
              "    }\n",
              "</style>\n",
              "<table border=\"1\" class=\"dataframe\">\n",
              "  <thead>\n",
              "    <tr style=\"text-align: right;\">\n",
              "      <th></th>\n",
              "      <th>DIA INICIAL</th>\n",
              "      <th>MES INICIAL</th>\n",
              "      <th>ANO INICIAL</th>\n",
              "      <th>SEMANA INICIAL</th>\n",
              "      <th>DIA FINAL</th>\n",
              "      <th>MES FINAL</th>\n",
              "      <th>ANO FINAL</th>\n",
              "      <th>SEMANA FINAL</th>\n",
              "      <th>NÚMERO DE POSTOS PESQUISADOS</th>\n",
              "      <th>PREÇO MÉDIO REVENDA</th>\n",
              "      <th>DESVIO PADRÃO REVENDA</th>\n",
              "      <th>PREÇO MÍNIMO REVENDA</th>\n",
              "      <th>PREÇO MÁXIMO REVENDA</th>\n",
              "      <th>MARGEM MÉDIA REVENDA</th>\n",
              "      <th>COEF DE VARIAÇÃO REVENDA</th>\n",
              "      <th>PREÇO MÉDIO DISTRIBUIÇÃO</th>\n",
              "      <th>DESVIO PADRÃO DISTRIBUIÇÃO</th>\n",
              "      <th>PREÇO MÍNIMO DISTRIBUIÇÃO</th>\n",
              "      <th>PREÇO MÁXIMO DISTRIBUIÇÃO</th>\n",
              "      <th>COEF DE VARIAÇÃO DISTRIBUIÇÃO</th>\n",
              "    </tr>\n",
              "  </thead>\n",
              "  <tbody>\n",
              "    <tr>\n",
              "      <th>count</th>\n",
              "      <td>111875.000000</td>\n",
              "      <td>111875.000000</td>\n",
              "      <td>111875.000000</td>\n",
              "      <td>111875.000000</td>\n",
              "      <td>111875.000000</td>\n",
              "      <td>111875.000000</td>\n",
              "      <td>111875.000000</td>\n",
              "      <td>111875.000000</td>\n",
              "      <td>111875.000000</td>\n",
              "      <td>111875.000000</td>\n",
              "      <td>111875.000000</td>\n",
              "      <td>111875.000000</td>\n",
              "      <td>111875.000000</td>\n",
              "      <td>111875.000000</td>\n",
              "      <td>111875.000000</td>\n",
              "      <td>111875.000000</td>\n",
              "      <td>111875.000000</td>\n",
              "      <td>111875.000000</td>\n",
              "      <td>111875.000000</td>\n",
              "      <td>111875.000000</td>\n",
              "    </tr>\n",
              "    <tr>\n",
              "      <th>mean</th>\n",
              "      <td>15.664447</td>\n",
              "      <td>6.501238</td>\n",
              "      <td>2012.328080</td>\n",
              "      <td>26.491593</td>\n",
              "      <td>15.697430</td>\n",
              "      <td>6.512277</td>\n",
              "      <td>2012.343491</td>\n",
              "      <td>26.505609</td>\n",
              "      <td>234.757631</td>\n",
              "      <td>11.243118</td>\n",
              "      <td>0.680548</td>\n",
              "      <td>9.744256</td>\n",
              "      <td>13.022466</td>\n",
              "      <td>2.324677</td>\n",
              "      <td>0.046055</td>\n",
              "      <td>8.918441</td>\n",
              "      <td>0.580741</td>\n",
              "      <td>7.745588</td>\n",
              "      <td>10.201414</td>\n",
              "      <td>0.046307</td>\n",
              "    </tr>\n",
              "    <tr>\n",
              "      <th>std</th>\n",
              "      <td>8.813983</td>\n",
              "      <td>3.430368</td>\n",
              "      <td>4.717475</td>\n",
              "      <td>14.987477</td>\n",
              "      <td>8.788003</td>\n",
              "      <td>3.432300</td>\n",
              "      <td>4.718118</td>\n",
              "      <td>14.981394</td>\n",
              "      <td>399.038353</td>\n",
              "      <td>18.656152</td>\n",
              "      <td>1.400431</td>\n",
              "      <td>15.907129</td>\n",
              "      <td>22.005101</td>\n",
              "      <td>4.591806</td>\n",
              "      <td>0.024355</td>\n",
              "      <td>14.359036</td>\n",
              "      <td>1.304314</td>\n",
              "      <td>12.379148</td>\n",
              "      <td>16.758547</td>\n",
              "      <td>0.041555</td>\n",
              "    </tr>\n",
              "    <tr>\n",
              "      <th>min</th>\n",
              "      <td>1.000000</td>\n",
              "      <td>1.000000</td>\n",
              "      <td>2004.000000</td>\n",
              "      <td>1.000000</td>\n",
              "      <td>1.000000</td>\n",
              "      <td>1.000000</td>\n",
              "      <td>2004.000000</td>\n",
              "      <td>1.000000</td>\n",
              "      <td>1.000000</td>\n",
              "      <td>0.766000</td>\n",
              "      <td>0.000000</td>\n",
              "      <td>0.590000</td>\n",
              "      <td>0.999000</td>\n",
              "      <td>0.001000</td>\n",
              "      <td>0.000000</td>\n",
              "      <td>0.506000</td>\n",
              "      <td>0.000000</td>\n",
              "      <td>0.325700</td>\n",
              "      <td>0.599200</td>\n",
              "      <td>0.000000</td>\n",
              "    </tr>\n",
              "    <tr>\n",
              "      <th>25%</th>\n",
              "      <td>8.000000</td>\n",
              "      <td>4.000000</td>\n",
              "      <td>2008.000000</td>\n",
              "      <td>14.000000</td>\n",
              "      <td>8.000000</td>\n",
              "      <td>4.000000</td>\n",
              "      <td>2008.000000</td>\n",
              "      <td>14.000000</td>\n",
              "      <td>45.000000</td>\n",
              "      <td>2.120000</td>\n",
              "      <td>0.076000</td>\n",
              "      <td>1.950000</td>\n",
              "      <td>2.399000</td>\n",
              "      <td>0.289000</td>\n",
              "      <td>0.030000</td>\n",
              "      <td>1.843000</td>\n",
              "      <td>0.048000</td>\n",
              "      <td>1.711600</td>\n",
              "      <td>1.987400</td>\n",
              "      <td>0.021000</td>\n",
              "    </tr>\n",
              "    <tr>\n",
              "      <th>50%</th>\n",
              "      <td>16.000000</td>\n",
              "      <td>6.000000</td>\n",
              "      <td>2013.000000</td>\n",
              "      <td>26.000000</td>\n",
              "      <td>16.000000</td>\n",
              "      <td>7.000000</td>\n",
              "      <td>2013.000000</td>\n",
              "      <td>26.000000</td>\n",
              "      <td>105.000000</td>\n",
              "      <td>2.835000</td>\n",
              "      <td>0.120000</td>\n",
              "      <td>2.619000</td>\n",
              "      <td>3.150000</td>\n",
              "      <td>0.391000</td>\n",
              "      <td>0.042000</td>\n",
              "      <td>2.434000</td>\n",
              "      <td>0.080000</td>\n",
              "      <td>2.292200</td>\n",
              "      <td>2.607000</td>\n",
              "      <td>0.031000</td>\n",
              "    </tr>\n",
              "    <tr>\n",
              "      <th>75%</th>\n",
              "      <td>23.000000</td>\n",
              "      <td>9.000000</td>\n",
              "      <td>2016.000000</td>\n",
              "      <td>39.000000</td>\n",
              "      <td>23.000000</td>\n",
              "      <td>9.000000</td>\n",
              "      <td>2016.000000</td>\n",
              "      <td>39.000000</td>\n",
              "      <td>243.000000</td>\n",
              "      <td>3.879000</td>\n",
              "      <td>0.201000</td>\n",
              "      <td>3.630000</td>\n",
              "      <td>4.399000</td>\n",
              "      <td>0.577000</td>\n",
              "      <td>0.059000</td>\n",
              "      <td>3.439000</td>\n",
              "      <td>0.156000</td>\n",
              "      <td>3.278950</td>\n",
              "      <td>3.648800</td>\n",
              "      <td>0.060000</td>\n",
              "    </tr>\n",
              "    <tr>\n",
              "      <th>max</th>\n",
              "      <td>31.000000</td>\n",
              "      <td>12.000000</td>\n",
              "      <td>2020.000000</td>\n",
              "      <td>53.000000</td>\n",
              "      <td>31.000000</td>\n",
              "      <td>12.000000</td>\n",
              "      <td>2020.000000</td>\n",
              "      <td>53.000000</td>\n",
              "      <td>4167.000000</td>\n",
              "      <td>99.357000</td>\n",
              "      <td>10.748000</td>\n",
              "      <td>90.000000</td>\n",
              "      <td>120.000000</td>\n",
              "      <td>36.847000</td>\n",
              "      <td>0.262000</td>\n",
              "      <td>83.137000</td>\n",
              "      <td>18.385000</td>\n",
              "      <td>83.000000</td>\n",
              "      <td>94.500000</td>\n",
              "      <td>0.780000</td>\n",
              "    </tr>\n",
              "  </tbody>\n",
              "</table>\n",
              "</div>\n",
              "      <button class=\"colab-df-convert\" onclick=\"convertToInteractive('df-bbf744f1-ba59-4228-9261-838b0df6a707')\"\n",
              "              title=\"Convert this dataframe to an interactive table.\"\n",
              "              style=\"display:none;\">\n",
              "        \n",
              "  <svg xmlns=\"http://www.w3.org/2000/svg\" height=\"24px\"viewBox=\"0 0 24 24\"\n",
              "       width=\"24px\">\n",
              "    <path d=\"M0 0h24v24H0V0z\" fill=\"none\"/>\n",
              "    <path d=\"M18.56 5.44l.94 2.06.94-2.06 2.06-.94-2.06-.94-.94-2.06-.94 2.06-2.06.94zm-11 1L8.5 8.5l.94-2.06 2.06-.94-2.06-.94L8.5 2.5l-.94 2.06-2.06.94zm10 10l.94 2.06.94-2.06 2.06-.94-2.06-.94-.94-2.06-.94 2.06-2.06.94z\"/><path d=\"M17.41 7.96l-1.37-1.37c-.4-.4-.92-.59-1.43-.59-.52 0-1.04.2-1.43.59L10.3 9.45l-7.72 7.72c-.78.78-.78 2.05 0 2.83L4 21.41c.39.39.9.59 1.41.59.51 0 1.02-.2 1.41-.59l7.78-7.78 2.81-2.81c.8-.78.8-2.07 0-2.86zM5.41 20L4 18.59l7.72-7.72 1.47 1.35L5.41 20z\"/>\n",
              "  </svg>\n",
              "      </button>\n",
              "      \n",
              "  <style>\n",
              "    .colab-df-container {\n",
              "      display:flex;\n",
              "      flex-wrap:wrap;\n",
              "      gap: 12px;\n",
              "    }\n",
              "\n",
              "    .colab-df-convert {\n",
              "      background-color: #E8F0FE;\n",
              "      border: none;\n",
              "      border-radius: 50%;\n",
              "      cursor: pointer;\n",
              "      display: none;\n",
              "      fill: #1967D2;\n",
              "      height: 32px;\n",
              "      padding: 0 0 0 0;\n",
              "      width: 32px;\n",
              "    }\n",
              "\n",
              "    .colab-df-convert:hover {\n",
              "      background-color: #E2EBFA;\n",
              "      box-shadow: 0px 1px 2px rgba(60, 64, 67, 0.3), 0px 1px 3px 1px rgba(60, 64, 67, 0.15);\n",
              "      fill: #174EA6;\n",
              "    }\n",
              "\n",
              "    [theme=dark] .colab-df-convert {\n",
              "      background-color: #3B4455;\n",
              "      fill: #D2E3FC;\n",
              "    }\n",
              "\n",
              "    [theme=dark] .colab-df-convert:hover {\n",
              "      background-color: #434B5C;\n",
              "      box-shadow: 0px 1px 3px 1px rgba(0, 0, 0, 0.15);\n",
              "      filter: drop-shadow(0px 1px 2px rgba(0, 0, 0, 0.3));\n",
              "      fill: #FFFFFF;\n",
              "    }\n",
              "  </style>\n",
              "\n",
              "      <script>\n",
              "        const buttonEl =\n",
              "          document.querySelector('#df-bbf744f1-ba59-4228-9261-838b0df6a707 button.colab-df-convert');\n",
              "        buttonEl.style.display =\n",
              "          google.colab.kernel.accessAllowed ? 'block' : 'none';\n",
              "\n",
              "        async function convertToInteractive(key) {\n",
              "          const element = document.querySelector('#df-bbf744f1-ba59-4228-9261-838b0df6a707');\n",
              "          const dataTable =\n",
              "            await google.colab.kernel.invokeFunction('convertToInteractive',\n",
              "                                                     [key], {});\n",
              "          if (!dataTable) return;\n",
              "\n",
              "          const docLinkHtml = 'Like what you see? Visit the ' +\n",
              "            '<a target=\"_blank\" href=https://colab.research.google.com/notebooks/data_table.ipynb>data table notebook</a>'\n",
              "            + ' to learn more about interactive tables.';\n",
              "          element.innerHTML = '';\n",
              "          dataTable['output_type'] = 'display_data';\n",
              "          await google.colab.output.renderOutput(dataTable, element);\n",
              "          const docLink = document.createElement('div');\n",
              "          docLink.innerHTML = docLinkHtml;\n",
              "          element.appendChild(docLink);\n",
              "        }\n",
              "      </script>\n",
              "    </div>\n",
              "  </div>\n",
              "  "
            ]
          },
          "metadata": {},
          "execution_count": 32
        }
      ]
    },
    {
      "cell_type": "markdown",
      "source": [
        "É interessante ressaltar que algumas discrepâncias foram observadas, como a presença de valores consideravelmente maiores frente ao valor médio daquela coluna. Este é o caso do \"Preço Máximo Revenda\", no qual a **média** é 13.022466 e o valor **MAX** é 120. Este comportamento se estende para outras colunas, o que nos fez pensar na possível existência de *outliers*. No entanto, dada a extensão do trabalho e o curto tempo para a realização, optamos por seguir a análise com estes valores presentes, porém a identificação e tratamento de *outliers* está como perspectivas futuras."
      ],
      "metadata": {
        "id": "34YEke4h6Sjz"
      }
    },
    {
      "cell_type": "markdown",
      "source": [
        "### 4.1. Como se deu a evolução de preços desses produtos em escala nacional no período de 2004 a 2020?"
      ],
      "metadata": {
        "id": "aSk92ee_7a1v"
      }
    },
    {
      "cell_type": "markdown",
      "source": [
        "A fim de responder nosso objetivo geral: \"é esperado um aumento considerável nos preços médios da gasolina e óleo diesel s10 nos últimos anos?\", começamos a análise observando como foi a evolução desses preços ao longo da série histórica, presente no *dataset*, de forma nacional, englobando todos os pontos de coleta do país.\n",
        "\n",
        "---\n",
        "Como é feito o cálculo do preço médio de revenda de combustível:\n",
        "\n",
        "<sub> *Os preços dos combustíveis ao consumidor final variam como consequência dos preços nas refinarias, dos tributos estaduais e federais incidentes ao longo da cadeia de comercialização (PIS/Pasep e Cofins, Cide e ICMS), dos custos e despesas operacionais de cada empresa, dos biocombustíveis adicionados ao diesel e à gasolina e das margens de distribuição e de revenda. FONTE: ANP.\n",
        "\n",
        "---\n",
        "\n",
        "\n",
        "Para isto, foi realizado um agrupamento de dados para extrair os preços de revenda de cada produto discriminado. A *query* foi realizada da seguinte forma:"
      ],
      "metadata": {
        "id": "z831AM9u7thx"
      }
    },
    {
      "cell_type": "code",
      "source": [
        "dataset_precos_analise=dataset_gas_limpo[['ANO INICIAL', 'PRODUTO','PREÇO MÉDIO REVENDA']].groupby(['ANO INICIAL','PRODUTO'],as_index=False).mean()"
      ],
      "metadata": {
        "id": "DMdZT_BPqof4"
      },
      "execution_count": 33,
      "outputs": []
    },
    {
      "cell_type": "code",
      "source": [
        "dataset_precos_analise.head(6)"
      ],
      "metadata": {
        "colab": {
          "base_uri": "https://localhost:8080/",
          "height": 237
        },
        "id": "5VDQM-X8jdtm",
        "outputId": "db5b065e-41f2-4b08-8134-0d16dab4b02f"
      },
      "execution_count": 34,
      "outputs": [
        {
          "output_type": "execute_result",
          "data": {
            "text/plain": [
              "   ANO INICIAL           PRODUTO  PREÇO MÉDIO REVENDA\n",
              "0         2004  ETANOL HIDRATADO             1.528289\n",
              "1         2004    GASOLINA COMUM             2.238857\n",
              "2         2004               GLP            32.262695\n",
              "3         2004               GNV             1.136614\n",
              "4         2004       OLEO DIESEL             1.562836\n",
              "5         2005  ETANOL HIDRATADO             1.699716"
            ],
            "text/html": [
              "\n",
              "  <div id=\"df-9af5eaad-ecc6-4f12-a192-83dc38a4602f\">\n",
              "    <div class=\"colab-df-container\">\n",
              "      <div>\n",
              "<style scoped>\n",
              "    .dataframe tbody tr th:only-of-type {\n",
              "        vertical-align: middle;\n",
              "    }\n",
              "\n",
              "    .dataframe tbody tr th {\n",
              "        vertical-align: top;\n",
              "    }\n",
              "\n",
              "    .dataframe thead th {\n",
              "        text-align: right;\n",
              "    }\n",
              "</style>\n",
              "<table border=\"1\" class=\"dataframe\">\n",
              "  <thead>\n",
              "    <tr style=\"text-align: right;\">\n",
              "      <th></th>\n",
              "      <th>ANO INICIAL</th>\n",
              "      <th>PRODUTO</th>\n",
              "      <th>PREÇO MÉDIO REVENDA</th>\n",
              "    </tr>\n",
              "  </thead>\n",
              "  <tbody>\n",
              "    <tr>\n",
              "      <th>0</th>\n",
              "      <td>2004</td>\n",
              "      <td>ETANOL HIDRATADO</td>\n",
              "      <td>1.528289</td>\n",
              "    </tr>\n",
              "    <tr>\n",
              "      <th>1</th>\n",
              "      <td>2004</td>\n",
              "      <td>GASOLINA COMUM</td>\n",
              "      <td>2.238857</td>\n",
              "    </tr>\n",
              "    <tr>\n",
              "      <th>2</th>\n",
              "      <td>2004</td>\n",
              "      <td>GLP</td>\n",
              "      <td>32.262695</td>\n",
              "    </tr>\n",
              "    <tr>\n",
              "      <th>3</th>\n",
              "      <td>2004</td>\n",
              "      <td>GNV</td>\n",
              "      <td>1.136614</td>\n",
              "    </tr>\n",
              "    <tr>\n",
              "      <th>4</th>\n",
              "      <td>2004</td>\n",
              "      <td>OLEO DIESEL</td>\n",
              "      <td>1.562836</td>\n",
              "    </tr>\n",
              "    <tr>\n",
              "      <th>5</th>\n",
              "      <td>2005</td>\n",
              "      <td>ETANOL HIDRATADO</td>\n",
              "      <td>1.699716</td>\n",
              "    </tr>\n",
              "  </tbody>\n",
              "</table>\n",
              "</div>\n",
              "      <button class=\"colab-df-convert\" onclick=\"convertToInteractive('df-9af5eaad-ecc6-4f12-a192-83dc38a4602f')\"\n",
              "              title=\"Convert this dataframe to an interactive table.\"\n",
              "              style=\"display:none;\">\n",
              "        \n",
              "  <svg xmlns=\"http://www.w3.org/2000/svg\" height=\"24px\"viewBox=\"0 0 24 24\"\n",
              "       width=\"24px\">\n",
              "    <path d=\"M0 0h24v24H0V0z\" fill=\"none\"/>\n",
              "    <path d=\"M18.56 5.44l.94 2.06.94-2.06 2.06-.94-2.06-.94-.94-2.06-.94 2.06-2.06.94zm-11 1L8.5 8.5l.94-2.06 2.06-.94-2.06-.94L8.5 2.5l-.94 2.06-2.06.94zm10 10l.94 2.06.94-2.06 2.06-.94-2.06-.94-.94-2.06-.94 2.06-2.06.94z\"/><path d=\"M17.41 7.96l-1.37-1.37c-.4-.4-.92-.59-1.43-.59-.52 0-1.04.2-1.43.59L10.3 9.45l-7.72 7.72c-.78.78-.78 2.05 0 2.83L4 21.41c.39.39.9.59 1.41.59.51 0 1.02-.2 1.41-.59l7.78-7.78 2.81-2.81c.8-.78.8-2.07 0-2.86zM5.41 20L4 18.59l7.72-7.72 1.47 1.35L5.41 20z\"/>\n",
              "  </svg>\n",
              "      </button>\n",
              "      \n",
              "  <style>\n",
              "    .colab-df-container {\n",
              "      display:flex;\n",
              "      flex-wrap:wrap;\n",
              "      gap: 12px;\n",
              "    }\n",
              "\n",
              "    .colab-df-convert {\n",
              "      background-color: #E8F0FE;\n",
              "      border: none;\n",
              "      border-radius: 50%;\n",
              "      cursor: pointer;\n",
              "      display: none;\n",
              "      fill: #1967D2;\n",
              "      height: 32px;\n",
              "      padding: 0 0 0 0;\n",
              "      width: 32px;\n",
              "    }\n",
              "\n",
              "    .colab-df-convert:hover {\n",
              "      background-color: #E2EBFA;\n",
              "      box-shadow: 0px 1px 2px rgba(60, 64, 67, 0.3), 0px 1px 3px 1px rgba(60, 64, 67, 0.15);\n",
              "      fill: #174EA6;\n",
              "    }\n",
              "\n",
              "    [theme=dark] .colab-df-convert {\n",
              "      background-color: #3B4455;\n",
              "      fill: #D2E3FC;\n",
              "    }\n",
              "\n",
              "    [theme=dark] .colab-df-convert:hover {\n",
              "      background-color: #434B5C;\n",
              "      box-shadow: 0px 1px 3px 1px rgba(0, 0, 0, 0.15);\n",
              "      filter: drop-shadow(0px 1px 2px rgba(0, 0, 0, 0.3));\n",
              "      fill: #FFFFFF;\n",
              "    }\n",
              "  </style>\n",
              "\n",
              "      <script>\n",
              "        const buttonEl =\n",
              "          document.querySelector('#df-9af5eaad-ecc6-4f12-a192-83dc38a4602f button.colab-df-convert');\n",
              "        buttonEl.style.display =\n",
              "          google.colab.kernel.accessAllowed ? 'block' : 'none';\n",
              "\n",
              "        async function convertToInteractive(key) {\n",
              "          const element = document.querySelector('#df-9af5eaad-ecc6-4f12-a192-83dc38a4602f');\n",
              "          const dataTable =\n",
              "            await google.colab.kernel.invokeFunction('convertToInteractive',\n",
              "                                                     [key], {});\n",
              "          if (!dataTable) return;\n",
              "\n",
              "          const docLinkHtml = 'Like what you see? Visit the ' +\n",
              "            '<a target=\"_blank\" href=https://colab.research.google.com/notebooks/data_table.ipynb>data table notebook</a>'\n",
              "            + ' to learn more about interactive tables.';\n",
              "          element.innerHTML = '';\n",
              "          dataTable['output_type'] = 'display_data';\n",
              "          await google.colab.output.renderOutput(dataTable, element);\n",
              "          const docLink = document.createElement('div');\n",
              "          docLink.innerHTML = docLinkHtml;\n",
              "          element.appendChild(docLink);\n",
              "        }\n",
              "      </script>\n",
              "    </div>\n",
              "  </div>\n",
              "  "
            ]
          },
          "metadata": {},
          "execution_count": 34
        }
      ]
    },
    {
      "cell_type": "markdown",
      "source": [
        "Usamos o *dataframe* resultante para plotar seus valores e analisar o comportamento da curva gerada, usando a biblioteca **matplotlib.pyplot**. A biblioteca foi importada e os valores para os eixos x e y foram atribuídos. O gráfico gerado pode ser observado logo abaixo."
      ],
      "metadata": {
        "id": "bpXX5_BP9lf3"
      }
    },
    {
      "cell_type": "code",
      "source": [
        "import matplotlib.pyplot as plt\n",
        "\n",
        "x1=dataset_precos_analise.query(\"PRODUTO == 'ETANOL HIDRATADO'\")['ANO INICIAL']\n",
        "x2=dataset_precos_analise.query(\"PRODUTO == 'GASOLINA COMUM'\")['ANO INICIAL']\n",
        "x3=dataset_precos_analise.query(\"PRODUTO == 'GLP'\")['ANO INICIAL']\n",
        "x4=dataset_precos_analise.query(\"PRODUTO == 'GNV'\")['ANO INICIAL']\n",
        "x5=dataset_precos_analise.query(\"PRODUTO == 'OLEO DIESEL'\")['ANO INICIAL']\n",
        "x6=dataset_precos_analise.query(\"PRODUTO == 'OLEO DIESEL S10'\")['ANO INICIAL']\n",
        "\n",
        "y1=dataset_precos_analise.query(\"PRODUTO == 'ETANOL HIDRATADO'\")['PREÇO MÉDIO REVENDA']\n",
        "y2=dataset_precos_analise.query(\"PRODUTO == 'GASOLINA COMUM'\")['PREÇO MÉDIO REVENDA']\n",
        "y3=dataset_precos_analise.query(\"PRODUTO == 'GLP'\")['PREÇO MÉDIO REVENDA']\n",
        "y4=dataset_precos_analise.query(\"PRODUTO == 'GNV'\")['PREÇO MÉDIO REVENDA']\n",
        "y5=dataset_precos_analise.query(\"PRODUTO == 'OLEO DIESEL'\")['PREÇO MÉDIO REVENDA']\n",
        "y6=dataset_precos_analise.query(\"PRODUTO == 'OLEO DIESEL S10'\")['PREÇO MÉDIO REVENDA']\n",
        "\n",
        "plt.plot(x1,y1)\n",
        "plt.plot(x2,y2)\n",
        "plt.plot(x3,y3)\n",
        "plt.plot(x4,y4)\n",
        "plt.plot(x5,y5)\n",
        "plt.plot(x6,y6)\n",
        "plt.legend(['ETANOL HIDRATADO', 'GASOLINA COMUM', 'GLP', 'GNV', 'OLEO DIESEL', 'OLEO DIESEL S10']);\n",
        "plt.xlabel('Ano')\n",
        "plt.ylabel('Preço Médio Revenda')\n",
        "\n",
        "plt.title('Variação do Preço Médio Revenda vs. Ano')\n",
        "plt.show()"
      ],
      "metadata": {
        "id": "Dm0dB5CVqoc5",
        "colab": {
          "base_uri": "https://localhost:8080/",
          "height": 295
        },
        "outputId": "e751be84-f6a1-44a9-bca4-5aa7c8fd88b5"
      },
      "execution_count": 35,
      "outputs": [
        {
          "output_type": "display_data",
          "data": {
            "text/plain": [
              "<Figure size 432x288 with 1 Axes>"
            ],
            "image/png": "[encoded data removed]"
          },
          "metadata": {
            "needs_background": "light"
          }
        }
      ]
    },
    {
      "cell_type": "markdown",
      "source": [
        "O gráfico \"Variação do Preço Médio Revenda vs. Ano\" apresenta o comportamento da variação do Preço Médio de Revenda de seis combustíveis, avaliados ao longo do período de 2004 a 2020. Nele, é possível observar que a curva referente ao GLP apresenta discrepância das demais. Isto se deve, principalmente ao fato de alguns desses combustíveis possuirem unidades de grandeza diferentes dos demais. Desta forma, optamos por separar essas curvas."
      ],
      "metadata": {
        "id": "NnZ5j3ZB-D8T"
      }
    },
    {
      "cell_type": "code",
      "source": [
        "import matplotlib.pyplot as plt\n",
        "\n",
        "x1=dataset_precos_analise.query(\"PRODUTO == 'ETANOL HIDRATADO'\")['ANO INICIAL']\n",
        "x2=dataset_precos_analise.query(\"PRODUTO == 'GASOLINA COMUM'\")['ANO INICIAL']\n",
        "x4=dataset_precos_analise.query(\"PRODUTO == 'GNV'\")['ANO INICIAL']\n",
        "x5=dataset_precos_analise.query(\"PRODUTO == 'OLEO DIESEL'\")['ANO INICIAL']\n",
        "x6=dataset_precos_analise.query(\"PRODUTO == 'OLEO DIESEL S10'\")['ANO INICIAL']\n",
        "\n",
        "y1=dataset_precos_analise.query(\"PRODUTO == 'ETANOL HIDRATADO'\")['PREÇO MÉDIO REVENDA']\n",
        "y2=dataset_precos_analise.query(\"PRODUTO == 'GASOLINA COMUM'\")['PREÇO MÉDIO REVENDA']\n",
        "y4=dataset_precos_analise.query(\"PRODUTO == 'GNV'\")['PREÇO MÉDIO REVENDA']\n",
        "y5=dataset_precos_analise.query(\"PRODUTO == 'OLEO DIESEL'\")['PREÇO MÉDIO REVENDA']\n",
        "y6=dataset_precos_analise.query(\"PRODUTO == 'OLEO DIESEL S10'\")['PREÇO MÉDIO REVENDA']\n",
        "\n",
        "plt.figure(figsize=(10, 6))\n",
        "plt.plot(x1,y1)\n",
        "plt.plot(x2,y2)\n",
        "plt.plot(x4,y4)\n",
        "plt.plot(x5,y5)\n",
        "plt.plot(x6,y6)\n",
        "\n",
        "plt.legend(['ETANOL HIDRATADO', 'GASOLINA COMUM', 'GNV', 'OLEO DIESEL', 'OLEO DIESEL S10']);\n",
        "plt.xlabel('Ano')\n",
        "plt.ylabel('Preço Médio Revenda')\n",
        "plt.title('Variação do Preço Médio Revenda vs. Ano')\n",
        "\n",
        "plt.show()\n",
        "\n",
        "x3=dataset_precos_analise.query(\"PRODUTO == 'GLP'\")['ANO INICIAL']\n",
        "y3=dataset_precos_analise.query(\"PRODUTO == 'GLP'\")['PREÇO MÉDIO REVENDA']\n",
        "\n",
        "plt.figure(figsize=(10, 6))\n",
        "plt.plot(x3,y3)\n",
        "plt.xlabel('Ano')\n",
        "plt.ylabel('Preço Médio Revenda')\n",
        "plt.title('Variação do Preço Médio Revenda de GLP vs. Ano')\n",
        "plt.show()\n"
      ],
      "metadata": {
        "colab": {
          "base_uri": "https://localhost:8080/",
          "height": 791
        },
        "id": "qUz5jUa3xhDA",
        "outputId": "d44e4741-b84c-4b9b-f3f8-209c9282c0d4"
      },
      "execution_count": 36,
      "outputs": [
        {
          "output_type": "display_data",
          "data": {
            "text/plain": [
              "<Figure size 720x432 with 1 Axes>"
            ],
            "image/png": "[encoded data removed]"
          },
          "metadata": {
            "needs_background": "light"
          }
        },
        {
          "output_type": "display_data",
          "data": {
            "text/plain": [
              "<Figure size 720x432 with 1 Axes>"
            ],
            "image/png": "[encoded data removed]"
          },
          "metadata": {
            "needs_background": "light"
          }
        }
      ]
    },
    {
      "cell_type": "markdown",
      "source": [
        "Ao dividirmos as informações em dois gráficos distintos, é possível observar um comportamento não-linear para os demais produtos, porém como a variação do preço médio deles é menor frente a do GLP, as informações foram suprimidas e o comportamento da curva assemelhou-se ao de uma reta no gráfico anterior.\n",
        "\n",
        "Observando o primeiro gráfico, é possível notar, de forma geral, um aumento no preço médio de revenda em ordem nacional e que o comportamento de crescimento das curvas são semelhantes entre os diferentes produtos. As sugestões levantadas que podem explicar este comportamento são:\n",
        " - inflação;\n",
        " - crescimento econômico do país e maior acesso a esses produtos, logo maior demanda;\n",
        " - acontecimentos políticos e econômicos de ordem nacional e regional, que podem ser levantados e melhor descritos em análises mais específicas.\n",
        "\n",
        "Já no outro gráfico, que mostra a curva de evolução do preço médio de revenda de GLP, é observado um aumento acentuado dos preços a partir de 2012. As possíveis causas sugeridas para este acontecimento podem ser questões de ordem política e econômica, assim como os reflexos da crise financeira mundial de 2008/2009 que começaram a ser sentidos no Brasil a partir dessa época."
      ],
      "metadata": {
        "id": "uzg1_NxDDhPy"
      }
    },
    {
      "cell_type": "markdown",
      "source": [
        "A partir deste ponto, focamos a análise nos dois produtos alvo do objetivo geral:\n",
        " - Gasolina: uma vez que é o principal combustível utilizado, em transportes, pela população em geral e\n",
        " - Óleo Diesel S10: um dos principais combustíveis de transporte de cargas.\n",
        "\n",
        "Para isto, alocamos os dados pertinentes para análise em um novo *dataframe* chamado **dataset_precos_analise**."
      ],
      "metadata": {
        "id": "j0d2xBKXF7Qb"
      }
    },
    {
      "cell_type": "code",
      "source": [
        "dataset_precos_analise = dataset_gas_limpo.query(\"PRODUTO == 'GASOLINA COMUM' | PRODUTO == 'OLEO DIESEL S10'\")[['ANO INICIAL', 'PRODUTO', 'PREÇO MÉDIO REVENDA']].groupby(['ANO INICIAL','PRODUTO'],as_index=False).mean()\n",
        "dataset_precos_analise.tail()"
      ],
      "metadata": {
        "colab": {
          "base_uri": "https://localhost:8080/",
          "height": 206
        },
        "id": "lCbXaqKVGka6",
        "outputId": "bb3a0527-e57e-4085-d72e-f3af3fca681c"
      },
      "execution_count": 37,
      "outputs": [
        {
          "output_type": "execute_result",
          "data": {
            "text/plain": [
              "    ANO INICIAL          PRODUTO  PREÇO MÉDIO REVENDA\n",
              "21         2018  OLEO DIESEL S10             3.687866\n",
              "22         2019   GASOLINA COMUM             4.412135\n",
              "23         2019  OLEO DIESEL S10             3.791501\n",
              "24         2020   GASOLINA COMUM             4.244198\n",
              "25         2020  OLEO DIESEL S10             3.543781"
            ],
            "text/html": [
              "\n",
              "  <div id=\"df-bdc5866e-b3d5-4114-934d-b8c50762fcf2\">\n",
              "    <div class=\"colab-df-container\">\n",
              "      <div>\n",
              "<style scoped>\n",
              "    .dataframe tbody tr th:only-of-type {\n",
              "        vertical-align: middle;\n",
              "    }\n",
              "\n",
              "    .dataframe tbody tr th {\n",
              "        vertical-align: top;\n",
              "    }\n",
              "\n",
              "    .dataframe thead th {\n",
              "        text-align: right;\n",
              "    }\n",
              "</style>\n",
              "<table border=\"1\" class=\"dataframe\">\n",
              "  <thead>\n",
              "    <tr style=\"text-align: right;\">\n",
              "      <th></th>\n",
              "      <th>ANO INICIAL</th>\n",
              "      <th>PRODUTO</th>\n",
              "      <th>PREÇO MÉDIO REVENDA</th>\n",
              "    </tr>\n",
              "  </thead>\n",
              "  <tbody>\n",
              "    <tr>\n",
              "      <th>21</th>\n",
              "      <td>2018</td>\n",
              "      <td>OLEO DIESEL S10</td>\n",
              "      <td>3.687866</td>\n",
              "    </tr>\n",
              "    <tr>\n",
              "      <th>22</th>\n",
              "      <td>2019</td>\n",
              "      <td>GASOLINA COMUM</td>\n",
              "      <td>4.412135</td>\n",
              "    </tr>\n",
              "    <tr>\n",
              "      <th>23</th>\n",
              "      <td>2019</td>\n",
              "      <td>OLEO DIESEL S10</td>\n",
              "      <td>3.791501</td>\n",
              "    </tr>\n",
              "    <tr>\n",
              "      <th>24</th>\n",
              "      <td>2020</td>\n",
              "      <td>GASOLINA COMUM</td>\n",
              "      <td>4.244198</td>\n",
              "    </tr>\n",
              "    <tr>\n",
              "      <th>25</th>\n",
              "      <td>2020</td>\n",
              "      <td>OLEO DIESEL S10</td>\n",
              "      <td>3.543781</td>\n",
              "    </tr>\n",
              "  </tbody>\n",
              "</table>\n",
              "</div>\n",
              "      <button class=\"colab-df-convert\" onclick=\"convertToInteractive('df-bdc5866e-b3d5-4114-934d-b8c50762fcf2')\"\n",
              "              title=\"Convert this dataframe to an interactive table.\"\n",
              "              style=\"display:none;\">\n",
              "        \n",
              "  <svg xmlns=\"http://www.w3.org/2000/svg\" height=\"24px\"viewBox=\"0 0 24 24\"\n",
              "       width=\"24px\">\n",
              "    <path d=\"M0 0h24v24H0V0z\" fill=\"none\"/>\n",
              "    <path d=\"M18.56 5.44l.94 2.06.94-2.06 2.06-.94-2.06-.94-.94-2.06-.94 2.06-2.06.94zm-11 1L8.5 8.5l.94-2.06 2.06-.94-2.06-.94L8.5 2.5l-.94 2.06-2.06.94zm10 10l.94 2.06.94-2.06 2.06-.94-2.06-.94-.94-2.06-.94 2.06-2.06.94z\"/><path d=\"M17.41 7.96l-1.37-1.37c-.4-.4-.92-.59-1.43-.59-.52 0-1.04.2-1.43.59L10.3 9.45l-7.72 7.72c-.78.78-.78 2.05 0 2.83L4 21.41c.39.39.9.59 1.41.59.51 0 1.02-.2 1.41-.59l7.78-7.78 2.81-2.81c.8-.78.8-2.07 0-2.86zM5.41 20L4 18.59l7.72-7.72 1.47 1.35L5.41 20z\"/>\n",
              "  </svg>\n",
              "      </button>\n",
              "      \n",
              "  <style>\n",
              "    .colab-df-container {\n",
              "      display:flex;\n",
              "      flex-wrap:wrap;\n",
              "      gap: 12px;\n",
              "    }\n",
              "\n",
              "    .colab-df-convert {\n",
              "      background-color: #E8F0FE;\n",
              "      border: none;\n",
              "      border-radius: 50%;\n",
              "      cursor: pointer;\n",
              "      display: none;\n",
              "      fill: #1967D2;\n",
              "      height: 32px;\n",
              "      padding: 0 0 0 0;\n",
              "      width: 32px;\n",
              "    }\n",
              "\n",
              "    .colab-df-convert:hover {\n",
              "      background-color: #E2EBFA;\n",
              "      box-shadow: 0px 1px 2px rgba(60, 64, 67, 0.3), 0px 1px 3px 1px rgba(60, 64, 67, 0.15);\n",
              "      fill: #174EA6;\n",
              "    }\n",
              "\n",
              "    [theme=dark] .colab-df-convert {\n",
              "      background-color: #3B4455;\n",
              "      fill: #D2E3FC;\n",
              "    }\n",
              "\n",
              "    [theme=dark] .colab-df-convert:hover {\n",
              "      background-color: #434B5C;\n",
              "      box-shadow: 0px 1px 3px 1px rgba(0, 0, 0, 0.15);\n",
              "      filter: drop-shadow(0px 1px 2px rgba(0, 0, 0, 0.3));\n",
              "      fill: #FFFFFF;\n",
              "    }\n",
              "  </style>\n",
              "\n",
              "      <script>\n",
              "        const buttonEl =\n",
              "          document.querySelector('#df-bdc5866e-b3d5-4114-934d-b8c50762fcf2 button.colab-df-convert');\n",
              "        buttonEl.style.display =\n",
              "          google.colab.kernel.accessAllowed ? 'block' : 'none';\n",
              "\n",
              "        async function convertToInteractive(key) {\n",
              "          const element = document.querySelector('#df-bdc5866e-b3d5-4114-934d-b8c50762fcf2');\n",
              "          const dataTable =\n",
              "            await google.colab.kernel.invokeFunction('convertToInteractive',\n",
              "                                                     [key], {});\n",
              "          if (!dataTable) return;\n",
              "\n",
              "          const docLinkHtml = 'Like what you see? Visit the ' +\n",
              "            '<a target=\"_blank\" href=https://colab.research.google.com/notebooks/data_table.ipynb>data table notebook</a>'\n",
              "            + ' to learn more about interactive tables.';\n",
              "          element.innerHTML = '';\n",
              "          dataTable['output_type'] = 'display_data';\n",
              "          await google.colab.output.renderOutput(dataTable, element);\n",
              "          const docLink = document.createElement('div');\n",
              "          docLink.innerHTML = docLinkHtml;\n",
              "          element.appendChild(docLink);\n",
              "        }\n",
              "      </script>\n",
              "    </div>\n",
              "  </div>\n",
              "  "
            ]
          },
          "metadata": {},
          "execution_count": 37
        }
      ]
    },
    {
      "cell_type": "code",
      "source": [
        "x1=dataset_precos_analise.query(\"PRODUTO == 'GASOLINA COMUM'\")['ANO INICIAL']\n",
        "x2=dataset_precos_analise.query(\"PRODUTO == 'OLEO DIESEL S10'\")['ANO INICIAL']\n",
        "\n",
        "y1=dataset_precos_analise.query(\"PRODUTO == 'GASOLINA COMUM'\")['PREÇO MÉDIO REVENDA']\n",
        "y2=dataset_precos_analise.query(\"PRODUTO == 'OLEO DIESEL S10'\")['PREÇO MÉDIO REVENDA']\n",
        "\n",
        "plt.figure(figsize=(10, 6))\n",
        "plt.plot(x1,y1)\n",
        "plt.plot(x2,y2)\n",
        "\n",
        "plt.legend(['GASOLINA COMUM', 'OLEO DIESEL S10']);\n",
        "plt.xlabel('Ano')\n",
        "plt.ylabel('Preço Médio Revenda')\n",
        "plt.title('Variação do Preço Médio Revenda de Gasolina e Óleo Diesel S10 vs. Ano')\n",
        "\n",
        "plt.show()"
      ],
      "metadata": {
        "colab": {
          "base_uri": "https://localhost:8080/",
          "height": 406
        },
        "id": "a3koAG16H7zc",
        "outputId": "21805749-20db-44a7-aa1d-f0cbc89095a1"
      },
      "execution_count": 38,
      "outputs": [
        {
          "output_type": "display_data",
          "data": {
            "text/plain": [
              "<Figure size 720x432 with 1 Axes>"
            ],
            "image/png": "[encoded data removed]"
          },
          "metadata": {
            "needs_background": "light"
          }
        }
      ]
    },
    {
      "cell_type": "markdown",
      "source": [
        "Um gráfico comparativo entre os preços médios de revenda dos dois combustíveis alvo por ano foi gerado. As observações relacionadas ao aumento do preço dos combustíveis foram:\n",
        " - os preços do óleo diesel só começaram a ser medidos a partir de 2012;\n",
        " - reflexos da consequencias da greve dos caminhoneiros em 2018 o que provocou aumento de preços em geral, e este evento acabou tendo repercursão até seu pico em 2019;\n",
        " - reflexos dos acordos feitos após a greve dos caminhoneiros, levando à redução dos preços em geral."
      ],
      "metadata": {
        "id": "Xuz_Vdc4ItLS"
      }
    },
    {
      "cell_type": "markdown",
      "source": [
        "### 4.2. Como se deu a evolução de preços desses produtos em escala regional no período de 2004 a 2020?"
      ],
      "metadata": {
        "id": "nydEDyqpFcFQ"
      }
    },
    {
      "cell_type": "markdown",
      "source": [
        "Com o propósito de investigar mais detalhadamente a evolução dos preços desses combustíveis selecionados, foi proposta uma análise por regiões e, no fim, escolhemos uma região em específico para uma exploração mais profunda.\n",
        "\n",
        "Para isto, alocamos os dados pertinentes em dois *dataframes* de acordo com o combustível analisado: **dataset_precos_analise_[combustível]**. Neles estão contidas as colunas referentes ao ano, região e o preço médio de revenda de cada combustível e agrupadas pelo ano e região."
      ],
      "metadata": {
        "id": "d_pE83HrNL5I"
      }
    },
    {
      "cell_type": "code",
      "source": [
        "dataset_precos_analise_gasolina = dataset_gas_limpo.query(\"PRODUTO == 'GASOLINA COMUM'\")[['ANO INICIAL', 'REGIÃO', 'PREÇO MÉDIO REVENDA']].groupby(['ANO INICIAL','REGIÃO'],as_index=False).mean()\n",
        "dataset_precos_analise_diesel = dataset_gas_limpo.query(\"PRODUTO == 'OLEO DIESEL S10'\")[['ANO INICIAL', 'REGIÃO', 'PREÇO MÉDIO REVENDA']].groupby(['ANO INICIAL','REGIÃO'],as_index=False).mean()\n",
        "dataset_precos_analise_gasolina.tail()"
      ],
      "metadata": {
        "colab": {
          "base_uri": "https://localhost:8080/",
          "height": 206
        },
        "id": "zEaSR566NQC8",
        "outputId": "b82112a2-cfde-44fa-fc21-192e5ab0f6a6"
      },
      "execution_count": 39,
      "outputs": [
        {
          "output_type": "execute_result",
          "data": {
            "text/plain": [
              "    ANO INICIAL        REGIÃO  PREÇO MÉDIO REVENDA\n",
              "80         2020  CENTRO OESTE             4.221015\n",
              "81         2020      NORDESTE             4.265799\n",
              "82         2020         NORTE             4.231162\n",
              "83         2020       SUDESTE             4.337841\n",
              "84         2020           SUL             4.117343"
            ],
            "text/html": [
              "\n",
              "  <div id=\"df-38ac72c2-c546-4b7b-8f2d-12bd1e34c728\">\n",
              "    <div class=\"colab-df-container\">\n",
              "      <div>\n",
              "<style scoped>\n",
              "    .dataframe tbody tr th:only-of-type {\n",
              "        vertical-align: middle;\n",
              "    }\n",
              "\n",
              "    .dataframe tbody tr th {\n",
              "        vertical-align: top;\n",
              "    }\n",
              "\n",
              "    .dataframe thead th {\n",
              "        text-align: right;\n",
              "    }\n",
              "</style>\n",
              "<table border=\"1\" class=\"dataframe\">\n",
              "  <thead>\n",
              "    <tr style=\"text-align: right;\">\n",
              "      <th></th>\n",
              "      <th>ANO INICIAL</th>\n",
              "      <th>REGIÃO</th>\n",
              "      <th>PREÇO MÉDIO REVENDA</th>\n",
              "    </tr>\n",
              "  </thead>\n",
              "  <tbody>\n",
              "    <tr>\n",
              "      <th>80</th>\n",
              "      <td>2020</td>\n",
              "      <td>CENTRO OESTE</td>\n",
              "      <td>4.221015</td>\n",
              "    </tr>\n",
              "    <tr>\n",
              "      <th>81</th>\n",
              "      <td>2020</td>\n",
              "      <td>NORDESTE</td>\n",
              "      <td>4.265799</td>\n",
              "    </tr>\n",
              "    <tr>\n",
              "      <th>82</th>\n",
              "      <td>2020</td>\n",
              "      <td>NORTE</td>\n",
              "      <td>4.231162</td>\n",
              "    </tr>\n",
              "    <tr>\n",
              "      <th>83</th>\n",
              "      <td>2020</td>\n",
              "      <td>SUDESTE</td>\n",
              "      <td>4.337841</td>\n",
              "    </tr>\n",
              "    <tr>\n",
              "      <th>84</th>\n",
              "      <td>2020</td>\n",
              "      <td>SUL</td>\n",
              "      <td>4.117343</td>\n",
              "    </tr>\n",
              "  </tbody>\n",
              "</table>\n",
              "</div>\n",
              "      <button class=\"colab-df-convert\" onclick=\"convertToInteractive('df-38ac72c2-c546-4b7b-8f2d-12bd1e34c728')\"\n",
              "              title=\"Convert this dataframe to an interactive table.\"\n",
              "              style=\"display:none;\">\n",
              "        \n",
              "  <svg xmlns=\"http://www.w3.org/2000/svg\" height=\"24px\"viewBox=\"0 0 24 24\"\n",
              "       width=\"24px\">\n",
              "    <path d=\"M0 0h24v24H0V0z\" fill=\"none\"/>\n",
              "    <path d=\"M18.56 5.44l.94 2.06.94-2.06 2.06-.94-2.06-.94-.94-2.06-.94 2.06-2.06.94zm-11 1L8.5 8.5l.94-2.06 2.06-.94-2.06-.94L8.5 2.5l-.94 2.06-2.06.94zm10 10l.94 2.06.94-2.06 2.06-.94-2.06-.94-.94-2.06-.94 2.06-2.06.94z\"/><path d=\"M17.41 7.96l-1.37-1.37c-.4-.4-.92-.59-1.43-.59-.52 0-1.04.2-1.43.59L10.3 9.45l-7.72 7.72c-.78.78-.78 2.05 0 2.83L4 21.41c.39.39.9.59 1.41.59.51 0 1.02-.2 1.41-.59l7.78-7.78 2.81-2.81c.8-.78.8-2.07 0-2.86zM5.41 20L4 18.59l7.72-7.72 1.47 1.35L5.41 20z\"/>\n",
              "  </svg>\n",
              "      </button>\n",
              "      \n",
              "  <style>\n",
              "    .colab-df-container {\n",
              "      display:flex;\n",
              "      flex-wrap:wrap;\n",
              "      gap: 12px;\n",
              "    }\n",
              "\n",
              "    .colab-df-convert {\n",
              "      background-color: #E8F0FE;\n",
              "      border: none;\n",
              "      border-radius: 50%;\n",
              "      cursor: pointer;\n",
              "      display: none;\n",
              "      fill: #1967D2;\n",
              "      height: 32px;\n",
              "      padding: 0 0 0 0;\n",
              "      width: 32px;\n",
              "    }\n",
              "\n",
              "    .colab-df-convert:hover {\n",
              "      background-color: #E2EBFA;\n",
              "      box-shadow: 0px 1px 2px rgba(60, 64, 67, 0.3), 0px 1px 3px 1px rgba(60, 64, 67, 0.15);\n",
              "      fill: #174EA6;\n",
              "    }\n",
              "\n",
              "    [theme=dark] .colab-df-convert {\n",
              "      background-color: #3B4455;\n",
              "      fill: #D2E3FC;\n",
              "    }\n",
              "\n",
              "    [theme=dark] .colab-df-convert:hover {\n",
              "      background-color: #434B5C;\n",
              "      box-shadow: 0px 1px 3px 1px rgba(0, 0, 0, 0.15);\n",
              "      filter: drop-shadow(0px 1px 2px rgba(0, 0, 0, 0.3));\n",
              "      fill: #FFFFFF;\n",
              "    }\n",
              "  </style>\n",
              "\n",
              "      <script>\n",
              "        const buttonEl =\n",
              "          document.querySelector('#df-38ac72c2-c546-4b7b-8f2d-12bd1e34c728 button.colab-df-convert');\n",
              "        buttonEl.style.display =\n",
              "          google.colab.kernel.accessAllowed ? 'block' : 'none';\n",
              "\n",
              "        async function convertToInteractive(key) {\n",
              "          const element = document.querySelector('#df-38ac72c2-c546-4b7b-8f2d-12bd1e34c728');\n",
              "          const dataTable =\n",
              "            await google.colab.kernel.invokeFunction('convertToInteractive',\n",
              "                                                     [key], {});\n",
              "          if (!dataTable) return;\n",
              "\n",
              "          const docLinkHtml = 'Like what you see? Visit the ' +\n",
              "            '<a target=\"_blank\" href=https://colab.research.google.com/notebooks/data_table.ipynb>data table notebook</a>'\n",
              "            + ' to learn more about interactive tables.';\n",
              "          element.innerHTML = '';\n",
              "          dataTable['output_type'] = 'display_data';\n",
              "          await google.colab.output.renderOutput(dataTable, element);\n",
              "          const docLink = document.createElement('div');\n",
              "          docLink.innerHTML = docLinkHtml;\n",
              "          element.appendChild(docLink);\n",
              "        }\n",
              "      </script>\n",
              "    </div>\n",
              "  </div>\n",
              "  "
            ]
          },
          "metadata": {},
          "execution_count": 39
        }
      ]
    },
    {
      "cell_type": "markdown",
      "source": [
        "Como forma de facilitar a visualização destes dados, dois gráficos foram gerados:"
      ],
      "metadata": {
        "id": "2WtRsay_PYCk"
      }
    },
    {
      "cell_type": "code",
      "source": [
        "x1=dataset_precos_analise_gasolina.query(\"REGIÃO == 'NORTE'\")['ANO INICIAL']\n",
        "x2=dataset_precos_analise_gasolina.query(\"REGIÃO == 'NORDESTE'\")['ANO INICIAL']\n",
        "x3=dataset_precos_analise_gasolina.query(\"REGIÃO == 'CENTRO OESTE'\")['ANO INICIAL']\n",
        "x4=dataset_precos_analise_gasolina.query(\"REGIÃO == 'SUDESTE'\")['ANO INICIAL']\n",
        "x5=dataset_precos_analise_gasolina.query(\"REGIÃO == 'SUL'\")['ANO INICIAL']\n",
        "\n",
        "y1=dataset_precos_analise_gasolina.query(\"REGIÃO == 'NORTE'\")['PREÇO MÉDIO REVENDA']\n",
        "y2=dataset_precos_analise_gasolina.query(\"REGIÃO == 'NORDESTE'\")['PREÇO MÉDIO REVENDA']\n",
        "y3=dataset_precos_analise_gasolina.query(\"REGIÃO == 'CENTRO OESTE'\")['PREÇO MÉDIO REVENDA']\n",
        "y4=dataset_precos_analise_gasolina.query(\"REGIÃO == 'SUDESTE'\")['PREÇO MÉDIO REVENDA']\n",
        "y5=dataset_precos_analise_gasolina.query(\"REGIÃO == 'SUL'\")['PREÇO MÉDIO REVENDA']\n",
        "\n",
        "plt.figure(figsize=(10, 6))\n",
        "plt.plot(x1,y1)\n",
        "plt.plot(x2,y2)\n",
        "plt.plot(x3,y3)\n",
        "plt.plot(x4,y4)\n",
        "plt.plot(x5,y5)\n",
        "\n",
        "plt.legend(['NORTE', 'NORDESTE', 'CENTRO OESTE', 'SUDESTE', 'SUL']);\n",
        "plt.xlabel('Ano')\n",
        "plt.ylabel('Preço Médio Revenda')\n",
        "plt.title('Variação da Média Preço Revenda da Gasolina Comum, por Região, por Ano')\n",
        "\n",
        "plt.show()\n",
        "\n",
        "x1=dataset_precos_analise_diesel.query(\"REGIÃO == 'NORTE'\")['ANO INICIAL']\n",
        "x2=dataset_precos_analise_diesel.query(\"REGIÃO == 'NORDESTE'\")['ANO INICIAL']\n",
        "x3=dataset_precos_analise_diesel.query(\"REGIÃO == 'CENTRO OESTE'\")['ANO INICIAL']\n",
        "x4=dataset_precos_analise_diesel.query(\"REGIÃO == 'SUDESTE'\")['ANO INICIAL']\n",
        "x5=dataset_precos_analise_diesel.query(\"REGIÃO == 'SUL'\")['ANO INICIAL']\n",
        "\n",
        "y1=dataset_precos_analise_diesel.query(\"REGIÃO == 'NORTE'\")['PREÇO MÉDIO REVENDA']\n",
        "y2=dataset_precos_analise_diesel.query(\"REGIÃO == 'NORDESTE'\")['PREÇO MÉDIO REVENDA']\n",
        "y3=dataset_precos_analise_diesel.query(\"REGIÃO == 'CENTRO OESTE'\")['PREÇO MÉDIO REVENDA']\n",
        "y4=dataset_precos_analise_diesel.query(\"REGIÃO == 'SUDESTE'\")['PREÇO MÉDIO REVENDA']\n",
        "y5=dataset_precos_analise_diesel.query(\"REGIÃO == 'SUL'\")['PREÇO MÉDIO REVENDA']\n",
        "\n",
        "plt.figure(figsize=(10, 6))\n",
        "plt.plot(x1,y1)\n",
        "plt.plot(x2,y2)\n",
        "plt.plot(x3,y3)\n",
        "plt.plot(x4,y4)\n",
        "plt.plot(x5,y5)\n",
        "\n",
        "plt.legend(['NORTE', 'NORDESTE', 'CENTRO OESTE', 'SUDESTE', 'SUL']);\n",
        "plt.xlabel('Ano')\n",
        "plt.ylabel('Preço Médio Revenda')\n",
        "plt.title('Variação da Média Preço Revenda do Óleo Diesel S10, por Região, por Ano')\n",
        "\n",
        "plt.show()"
      ],
      "metadata": {
        "colab": {
          "base_uri": "https://localhost:8080/",
          "height": 793
        },
        "id": "hz6qr-CcN9g8",
        "outputId": "1fb8626d-3c15-4304-d744-b9a6cd7e6032"
      },
      "execution_count": 40,
      "outputs": [
        {
          "output_type": "display_data",
          "data": {
            "text/plain": [
              "<Figure size 720x432 with 1 Axes>"
            ],
            "image/png": "[encoded data removed]"
          },
          "metadata": {
            "needs_background": "light"
          }
        },
        {
          "output_type": "display_data",
          "data": {
            "text/plain": [
              "<Figure size 720x432 with 1 Axes>"
            ],
            "image/png": "[encoded data removed]"
          },
          "metadata": {
            "needs_background": "light"
          }
        }
      ]
    },
    {
      "cell_type": "markdown",
      "source": [
        "No primeiro gráfico, \"Variação da Média Preço Revenda da Gasolina Comum, por Região, por Ano\", é observado apenas a variação da média do preço de revenda da gasolina comum nas cinco regiões nacionais no período de 2004 a 2020.\n",
        "De forma semelhante foi gerado, o segundo gráfico, \"Variação da Média Preço Revenda do Óleo Diesel S10, por Região, por Ano\", para o Óleo Diesel S10 no período de 2012 a 2020.\n",
        "\n",
        "As observações foram:\n",
        " - a tendência de crescimento de todas as regiões é a mesma;\n",
        " - a região Norte apresenta maior série histórica de aumento do preço médio de revenda de ambos combustíveis;\n",
        " - a região Sul apresenta menor aumento do preço médio de revenda, na maior parte da série histórica;\n",
        " - no segundo gráfico os dados de preço médio de revenda da região Centro-Oeste começam a serem coletados somente após 2013;\n",
        " - os valores de ambos combustíveis começam a diminuir de forma mais acentuada em 2019.\n",
        "\n",
        "As possíveis hipóteses que explicam esses comportamentos foram levantadas: \n",
        " - a região Norte possui alta demanda de diesel, devido ao polo industrial - Zona Franca de Manaus, onde há maior volume de maquinário; além disso possui muitos pontos de dificil acesso que podem elevar o preço de distribuição e refletir no preço de revenda;\n",
        " - quanto à Gasolina Comum, fatores como transporte e distribuição parecem ter maior influência, assim como demanda (regiões mais afastadas: Norte e mais populosas: Sudeste);\n",
        " - uma hipótese a ser investigada em perspectivas futuras é a relação da popularização dos aplicativos de delivery (tanto o principal quanto seus concorrentes) e o aumento dos preços de combustíveis devido a uma alta na demanda;\n",
        " - fatores políticos e economicos discutidos no cenário nacional também se estendem em níveis regionais, podendo explicar algumas variações observadas."
      ],
      "metadata": {
        "id": "x1XG12gKQWpl"
      }
    },
    {
      "cell_type": "markdown",
      "source": [
        "### 4.3. Como se deu a evolução de preços desses produtos em escala estadual no período de 2004 a 2020?\n"
      ],
      "metadata": {
        "id": "CrZSLVYxSV9Z"
      }
    },
    {
      "cell_type": "markdown",
      "source": [
        "Para uma análise específica por estado, primeiro foi analisada uma região específica. A região escolhida foi a Sudeste."
      ],
      "metadata": {
        "id": "N-peMGC7L0bO"
      }
    },
    {
      "cell_type": "code",
      "source": [
        "dataset_precos_analise = dataset_gas_limpo.query(\"(PRODUTO == 'GASOLINA COMUM' | PRODUTO == 'OLEO DIESEL S10') & REGIÃO == 'SUDESTE'\")[['ANO INICIAL', 'PRODUTO', 'PREÇO MÉDIO REVENDA']].groupby(['ANO INICIAL','PRODUTO'],as_index=False).mean()\n",
        "dataset_precos_analise.tail()"
      ],
      "metadata": {
        "colab": {
          "base_uri": "https://localhost:8080/",
          "height": 206
        },
        "id": "wsnr9ns8KdvF",
        "outputId": "a6738103-7ba3-4e36-b0ee-6d5d77bd8d7c"
      },
      "execution_count": 41,
      "outputs": [
        {
          "output_type": "execute_result",
          "data": {
            "text/plain": [
              "    ANO INICIAL          PRODUTO  PREÇO MÉDIO REVENDA\n",
              "21         2018  OLEO DIESEL S10             3.597356\n",
              "22         2019   GASOLINA COMUM             4.531543\n",
              "23         2019  OLEO DIESEL S10             3.687471\n",
              "24         2020   GASOLINA COMUM             4.337841\n",
              "25         2020  OLEO DIESEL S10             3.478402"
            ],
            "text/html": [
              "\n",
              "  <div id=\"df-0b8a1cc0-2c86-4ca7-8656-dd3424e4215f\">\n",
              "    <div class=\"colab-df-container\">\n",
              "      <div>\n",
              "<style scoped>\n",
              "    .dataframe tbody tr th:only-of-type {\n",
              "        vertical-align: middle;\n",
              "    }\n",
              "\n",
              "    .dataframe tbody tr th {\n",
              "        vertical-align: top;\n",
              "    }\n",
              "\n",
              "    .dataframe thead th {\n",
              "        text-align: right;\n",
              "    }\n",
              "</style>\n",
              "<table border=\"1\" class=\"dataframe\">\n",
              "  <thead>\n",
              "    <tr style=\"text-align: right;\">\n",
              "      <th></th>\n",
              "      <th>ANO INICIAL</th>\n",
              "      <th>PRODUTO</th>\n",
              "      <th>PREÇO MÉDIO REVENDA</th>\n",
              "    </tr>\n",
              "  </thead>\n",
              "  <tbody>\n",
              "    <tr>\n",
              "      <th>21</th>\n",
              "      <td>2018</td>\n",
              "      <td>OLEO DIESEL S10</td>\n",
              "      <td>3.597356</td>\n",
              "    </tr>\n",
              "    <tr>\n",
              "      <th>22</th>\n",
              "      <td>2019</td>\n",
              "      <td>GASOLINA COMUM</td>\n",
              "      <td>4.531543</td>\n",
              "    </tr>\n",
              "    <tr>\n",
              "      <th>23</th>\n",
              "      <td>2019</td>\n",
              "      <td>OLEO DIESEL S10</td>\n",
              "      <td>3.687471</td>\n",
              "    </tr>\n",
              "    <tr>\n",
              "      <th>24</th>\n",
              "      <td>2020</td>\n",
              "      <td>GASOLINA COMUM</td>\n",
              "      <td>4.337841</td>\n",
              "    </tr>\n",
              "    <tr>\n",
              "      <th>25</th>\n",
              "      <td>2020</td>\n",
              "      <td>OLEO DIESEL S10</td>\n",
              "      <td>3.478402</td>\n",
              "    </tr>\n",
              "  </tbody>\n",
              "</table>\n",
              "</div>\n",
              "      <button class=\"colab-df-convert\" onclick=\"convertToInteractive('df-0b8a1cc0-2c86-4ca7-8656-dd3424e4215f')\"\n",
              "              title=\"Convert this dataframe to an interactive table.\"\n",
              "              style=\"display:none;\">\n",
              "        \n",
              "  <svg xmlns=\"http://www.w3.org/2000/svg\" height=\"24px\"viewBox=\"0 0 24 24\"\n",
              "       width=\"24px\">\n",
              "    <path d=\"M0 0h24v24H0V0z\" fill=\"none\"/>\n",
              "    <path d=\"M18.56 5.44l.94 2.06.94-2.06 2.06-.94-2.06-.94-.94-2.06-.94 2.06-2.06.94zm-11 1L8.5 8.5l.94-2.06 2.06-.94-2.06-.94L8.5 2.5l-.94 2.06-2.06.94zm10 10l.94 2.06.94-2.06 2.06-.94-2.06-.94-.94-2.06-.94 2.06-2.06.94z\"/><path d=\"M17.41 7.96l-1.37-1.37c-.4-.4-.92-.59-1.43-.59-.52 0-1.04.2-1.43.59L10.3 9.45l-7.72 7.72c-.78.78-.78 2.05 0 2.83L4 21.41c.39.39.9.59 1.41.59.51 0 1.02-.2 1.41-.59l7.78-7.78 2.81-2.81c.8-.78.8-2.07 0-2.86zM5.41 20L4 18.59l7.72-7.72 1.47 1.35L5.41 20z\"/>\n",
              "  </svg>\n",
              "      </button>\n",
              "      \n",
              "  <style>\n",
              "    .colab-df-container {\n",
              "      display:flex;\n",
              "      flex-wrap:wrap;\n",
              "      gap: 12px;\n",
              "    }\n",
              "\n",
              "    .colab-df-convert {\n",
              "      background-color: #E8F0FE;\n",
              "      border: none;\n",
              "      border-radius: 50%;\n",
              "      cursor: pointer;\n",
              "      display: none;\n",
              "      fill: #1967D2;\n",
              "      height: 32px;\n",
              "      padding: 0 0 0 0;\n",
              "      width: 32px;\n",
              "    }\n",
              "\n",
              "    .colab-df-convert:hover {\n",
              "      background-color: #E2EBFA;\n",
              "      box-shadow: 0px 1px 2px rgba(60, 64, 67, 0.3), 0px 1px 3px 1px rgba(60, 64, 67, 0.15);\n",
              "      fill: #174EA6;\n",
              "    }\n",
              "\n",
              "    [theme=dark] .colab-df-convert {\n",
              "      background-color: #3B4455;\n",
              "      fill: #D2E3FC;\n",
              "    }\n",
              "\n",
              "    [theme=dark] .colab-df-convert:hover {\n",
              "      background-color: #434B5C;\n",
              "      box-shadow: 0px 1px 3px 1px rgba(0, 0, 0, 0.15);\n",
              "      filter: drop-shadow(0px 1px 2px rgba(0, 0, 0, 0.3));\n",
              "      fill: #FFFFFF;\n",
              "    }\n",
              "  </style>\n",
              "\n",
              "      <script>\n",
              "        const buttonEl =\n",
              "          document.querySelector('#df-0b8a1cc0-2c86-4ca7-8656-dd3424e4215f button.colab-df-convert');\n",
              "        buttonEl.style.display =\n",
              "          google.colab.kernel.accessAllowed ? 'block' : 'none';\n",
              "\n",
              "        async function convertToInteractive(key) {\n",
              "          const element = document.querySelector('#df-0b8a1cc0-2c86-4ca7-8656-dd3424e4215f');\n",
              "          const dataTable =\n",
              "            await google.colab.kernel.invokeFunction('convertToInteractive',\n",
              "                                                     [key], {});\n",
              "          if (!dataTable) return;\n",
              "\n",
              "          const docLinkHtml = 'Like what you see? Visit the ' +\n",
              "            '<a target=\"_blank\" href=https://colab.research.google.com/notebooks/data_table.ipynb>data table notebook</a>'\n",
              "            + ' to learn more about interactive tables.';\n",
              "          element.innerHTML = '';\n",
              "          dataTable['output_type'] = 'display_data';\n",
              "          await google.colab.output.renderOutput(dataTable, element);\n",
              "          const docLink = document.createElement('div');\n",
              "          docLink.innerHTML = docLinkHtml;\n",
              "          element.appendChild(docLink);\n",
              "        }\n",
              "      </script>\n",
              "    </div>\n",
              "  </div>\n",
              "  "
            ]
          },
          "metadata": {},
          "execution_count": 41
        }
      ]
    },
    {
      "cell_type": "code",
      "source": [
        "x1=dataset_precos_analise.query(\"PRODUTO == 'GASOLINA COMUM'\")['ANO INICIAL']\n",
        "x2=dataset_precos_analise.query(\"PRODUTO == 'OLEO DIESEL S10'\")['ANO INICIAL']\n",
        "\n",
        "y1=dataset_precos_analise.query(\"PRODUTO == 'GASOLINA COMUM'\")['PREÇO MÉDIO REVENDA']\n",
        "y2=dataset_precos_analise.query(\"PRODUTO == 'OLEO DIESEL S10'\")['PREÇO MÉDIO REVENDA']\n",
        "\n",
        "plt.figure(figsize=(10, 6))\n",
        "plt.plot(x1,y1)\n",
        "plt.plot(x2,y2)\n",
        "\n",
        "plt.legend(['GASOLINA COMUM', 'OLEO DIESEL S10']);\n",
        "plt.xlabel('Ano')\n",
        "plt.ylabel('Preço Médio Revenda')\n",
        "plt.title('Variação de Preço Médio Revenda no Sudeste por Ano')\n",
        "\n",
        "plt.show()"
      ],
      "metadata": {
        "colab": {
          "base_uri": "https://localhost:8080/",
          "height": 404
        },
        "id": "1hzEzZ0hLvoY",
        "outputId": "66f29253-81d1-4ef7-f574-6e652942bb09"
      },
      "execution_count": 42,
      "outputs": [
        {
          "output_type": "display_data",
          "data": {
            "text/plain": [
              "<Figure size 720x432 with 1 Axes>"
            ],
            "image/png": "[encoded data removed]"
          },
          "metadata": {
            "needs_background": "light"
          }
        }
      ]
    },
    {
      "cell_type": "markdown",
      "source": [
        "Como observado anteriormente, as curvas seguem a série histórica já apresentada anteriormente e as hipóteses levantadas para o aumentos dos preços médios de revenda também se mostram presentes aqui.\n",
        "\n",
        "Conhecendo o panorama da região Sudeste, é possível investigar mais detalhadamente cada estado que compõe essa região. Logo, uma análise da evolução do preço médio de revenda de ambos combustíveis ao longo do período de 2004 a 2020 foi realizada para os estados da região sudeste: Minas Gerais, Espírito Santo, Rio de Janeiro e São Paulo."
      ],
      "metadata": {
        "id": "Rg1LBTgtM8-n"
      }
    },
    {
      "cell_type": "code",
      "source": [
        "dataset_precos_analise_gasolina = dataset_gas_limpo.query(\"PRODUTO == 'GASOLINA COMUM' & REGIÃO == 'SUDESTE'\")[['ANO INICIAL', 'PRODUTO', 'ESTADO', 'PREÇO MÉDIO REVENDA']].groupby(['ANO INICIAL','ESTADO'],as_index=False).mean()\n",
        "dataset_precos_analise_diesel = dataset_gas_limpo.query(\"PRODUTO == 'OLEO DIESEL S10' & REGIÃO == 'SUDESTE'\")[['ANO INICIAL', 'PRODUTO', 'ESTADO', 'PREÇO MÉDIO REVENDA']].groupby(['ANO INICIAL','ESTADO'],as_index=False).mean()"
      ],
      "metadata": {
        "id": "ZR1CZg_YSmQP"
      },
      "execution_count": 43,
      "outputs": []
    },
    {
      "cell_type": "code",
      "source": [
        "x1=dataset_precos_analise_gasolina.query(\"ESTADO == 'ES'\")['ANO INICIAL']\n",
        "x2=dataset_precos_analise_gasolina.query(\"ESTADO == 'MG'\")['ANO INICIAL']\n",
        "x3=dataset_precos_analise_gasolina.query(\"ESTADO == 'RJ'\")['ANO INICIAL']\n",
        "x4=dataset_precos_analise_gasolina.query(\"ESTADO == 'SP'\")['ANO INICIAL']\n",
        "\n",
        "y1=dataset_precos_analise_gasolina.query(\"ESTADO == 'ES'\")['PREÇO MÉDIO REVENDA']\n",
        "y2=dataset_precos_analise_gasolina.query(\"ESTADO == 'MG'\")['PREÇO MÉDIO REVENDA']\n",
        "y3=dataset_precos_analise_gasolina.query(\"ESTADO == 'RJ'\")['PREÇO MÉDIO REVENDA']\n",
        "y4=dataset_precos_analise_gasolina.query(\"ESTADO == 'SP'\")['PREÇO MÉDIO REVENDA']\n",
        "\n",
        "plt.figure(figsize=(10, 6))\n",
        "plt.plot(x1,y1)\n",
        "plt.plot(x2,y2)\n",
        "plt.plot(x3,y3)\n",
        "plt.plot(x4,y4)\n",
        "\n",
        "plt.legend(['ES', 'MG', 'RJ', 'SP']);\n",
        "plt.xlabel('Ano')\n",
        "plt.ylabel('Preço Médio Revenda')\n",
        "plt.title('Variação de Preço Médio Revenda Estdual de Gasolina Comum por Ano')\n",
        "\n",
        "plt.show()\n",
        "\n",
        "x1=dataset_precos_analise_diesel.query(\"ESTADO == 'ES'\")['ANO INICIAL']\n",
        "x2=dataset_precos_analise_diesel.query(\"ESTADO == 'MG'\")['ANO INICIAL']\n",
        "x3=dataset_precos_analise_diesel.query(\"ESTADO == 'RJ'\")['ANO INICIAL']\n",
        "x4=dataset_precos_analise_diesel.query(\"ESTADO == 'SP'\")['ANO INICIAL']\n",
        "\n",
        "y1=dataset_precos_analise_diesel.query(\"ESTADO == 'ES'\")['PREÇO MÉDIO REVENDA']\n",
        "y2=dataset_precos_analise_diesel.query(\"ESTADO == 'MG'\")['PREÇO MÉDIO REVENDA']\n",
        "y3=dataset_precos_analise_diesel.query(\"ESTADO == 'RJ'\")['PREÇO MÉDIO REVENDA']\n",
        "y4=dataset_precos_analise_diesel.query(\"ESTADO == 'SP'\")['PREÇO MÉDIO REVENDA']\n",
        "\n",
        "plt.figure(figsize=(10, 6))\n",
        "plt.plot(x1,y1)\n",
        "plt.plot(x2,y2)\n",
        "plt.plot(x3,y3)\n",
        "plt.plot(x4,y4)\n",
        "\n",
        "plt.legend(['ES', 'MG', 'RJ', 'SP']);\n",
        "plt.xlabel('Ano')\n",
        "plt.ylabel('Preço Médio Revenda')\n",
        "plt.title('Variação de Preço Médio Revenda Estadual de Óleo Diesel S10 por Ano')\n",
        "\n",
        "plt.show()"
      ],
      "metadata": {
        "colab": {
          "base_uri": "https://localhost:8080/",
          "height": 793
        },
        "id": "5iTOdWCLTiLx",
        "outputId": "cdc75bdf-cd9d-4ccd-d22b-a5a1f0e664d7"
      },
      "execution_count": 44,
      "outputs": [
        {
          "output_type": "display_data",
          "data": {
            "text/plain": [
              "<Figure size 720x432 with 1 Axes>"
            ],
            "image/png": "[encoded data removed]"
          },
          "metadata": {
            "needs_background": "light"
          }
        },
        {
          "output_type": "display_data",
          "data": {
            "text/plain": [
              "<Figure size 720x432 with 1 Axes>"
            ],
            "image/png": "[encoded data removed]"
          },
          "metadata": {
            "needs_background": "light"
          }
        }
      ]
    },
    {
      "cell_type": "markdown",
      "source": [
        "No primeiro gráfico, \"Variação da Média Preço Revenda Estadual da Gasolina Comum por Ano\", é observado apenas a variação da média do preço de revenda da gasolina comum nos quatro estados da região Sudeste no período de 2004 a 2020.\n",
        "De forma semelhante foi gerado, o segundo gráfico, \"Variação da Média Preço Revenda Estadual do Óleo Diesel S10 por Ano\", para o Óleo Diesel S10 no período de 2012 a 2020.\n",
        "\n",
        "As observações foram:\n",
        " - as tendências de crescimento do valor médio de revenda de ambos combustíveis são similares às regionais e a nacional;\n",
        " - valor do combustível no RJ é o maior perante os demais; \n",
        " - o valor de Diesel de RJ se compara com MG;\n",
        " - os dados de valor médio de revenda de Óleo Diesel S10 para os estados de ES e RJ começaram a ser coletados em 2013.\n",
        "\n",
        "As hipóteses levantadas:\n",
        " - reflexos de acontecimentos nacionais e regionais são observados em nível estadual;\n",
        " - os eventos estaduais parecem não influenciar tão significativamente no valor médio de revenda como ocorre em nível nacional;\n",
        " - o RJ é o estado que mais possui refinarias, no entanto tem o maior preço: importação de petróleo (porto de Santos e por isso SP o valor é menor) e privatização de refinarias que possuem maiores preços de distribuição;\n",
        " - MG é um estado que possui metalúrgicas e mineradoras, logo há alta demanda, assim como dificuldade de transporte e extensão territorial, que pode levar ao aumento dos preços."
      ],
      "metadata": {
        "id": "I-g-Otw1VDt3"
      }
    },
    {
      "cell_type": "markdown",
      "source": [
        "### 4.4. Qual região tem maior variação de preços médios? (Preço médio min e max)"
      ],
      "metadata": {
        "id": "MkQqKXyaWbjB"
      }
    },
    {
      "cell_type": "markdown",
      "source": [
        "O interesse neste ponto é avaliar como foi a variação de preços médios de revenda por região. A variação é feita através da diferença entre o valor máximo e mínimo da região em determinado ano.\n",
        "\n",
        "Para este estudo analisamos apenas a Gasolina Comum.\n",
        "\n",
        "Os dados de preços máximos e mímios de revenda para cada região e foram selecionados e centralizados em um único *dataframe*: "
      ],
      "metadata": {
        "id": "rkwn3ckagS2b"
      }
    },
    {
      "cell_type": "code",
      "source": [
        "dataset_gasolina_max = dataset_gas_limpo.query(\"PRODUTO == 'GASOLINA COMUM'\")[['ANO INICIAL', 'REGIÃO', 'PREÇO MÉDIO REVENDA']].groupby(['ANO INICIAL','REGIÃO'],as_index=False).max()\n",
        "dataset_gasolina_min = dataset_gas_limpo.query(\"PRODUTO == 'GASOLINA COMUM'\")[['ANO INICIAL', 'REGIÃO', 'PREÇO MÉDIO REVENDA']].groupby(['ANO INICIAL','REGIÃO'],as_index=False).min()\n",
        "dataset_gasolina = dataset_gasolina_max\n",
        "dataset_gasolina = dataset_gasolina.rename(columns={'PREÇO MÉDIO REVENDA': 'PREÇO MÁXIMO DE REVENDA'})\n",
        "dataset_gasolina.head()"
      ],
      "metadata": {
        "colab": {
          "base_uri": "https://localhost:8080/",
          "height": 206
        },
        "id": "i5SVBWolY83F",
        "outputId": "03d58462-266d-47d9-e93f-c8e4cb10556a"
      },
      "execution_count": 45,
      "outputs": [
        {
          "output_type": "execute_result",
          "data": {
            "text/plain": [
              "   ANO INICIAL        REGIÃO  PREÇO MÁXIMO DE REVENDA\n",
              "0         2004  CENTRO OESTE                    2.707\n",
              "1         2004      NORDESTE                    2.457\n",
              "2         2004         NORTE                    2.639\n",
              "3         2004       SUDESTE                    2.316\n",
              "4         2004           SUL                    2.486"
            ],
            "text/html": [
              "\n",
              "  <div id=\"df-7feec15a-7273-4105-899a-008f1753cb5b\">\n",
              "    <div class=\"colab-df-container\">\n",
              "      <div>\n",
              "<style scoped>\n",
              "    .dataframe tbody tr th:only-of-type {\n",
              "        vertical-align: middle;\n",
              "    }\n",
              "\n",
              "    .dataframe tbody tr th {\n",
              "        vertical-align: top;\n",
              "    }\n",
              "\n",
              "    .dataframe thead th {\n",
              "        text-align: right;\n",
              "    }\n",
              "</style>\n",
              "<table border=\"1\" class=\"dataframe\">\n",
              "  <thead>\n",
              "    <tr style=\"text-align: right;\">\n",
              "      <th></th>\n",
              "      <th>ANO INICIAL</th>\n",
              "      <th>REGIÃO</th>\n",
              "      <th>PREÇO MÁXIMO DE REVENDA</th>\n",
              "    </tr>\n",
              "  </thead>\n",
              "  <tbody>\n",
              "    <tr>\n",
              "      <th>0</th>\n",
              "      <td>2004</td>\n",
              "      <td>CENTRO OESTE</td>\n",
              "      <td>2.707</td>\n",
              "    </tr>\n",
              "    <tr>\n",
              "      <th>1</th>\n",
              "      <td>2004</td>\n",
              "      <td>NORDESTE</td>\n",
              "      <td>2.457</td>\n",
              "    </tr>\n",
              "    <tr>\n",
              "      <th>2</th>\n",
              "      <td>2004</td>\n",
              "      <td>NORTE</td>\n",
              "      <td>2.639</td>\n",
              "    </tr>\n",
              "    <tr>\n",
              "      <th>3</th>\n",
              "      <td>2004</td>\n",
              "      <td>SUDESTE</td>\n",
              "      <td>2.316</td>\n",
              "    </tr>\n",
              "    <tr>\n",
              "      <th>4</th>\n",
              "      <td>2004</td>\n",
              "      <td>SUL</td>\n",
              "      <td>2.486</td>\n",
              "    </tr>\n",
              "  </tbody>\n",
              "</table>\n",
              "</div>\n",
              "      <button class=\"colab-df-convert\" onclick=\"convertToInteractive('df-7feec15a-7273-4105-899a-008f1753cb5b')\"\n",
              "              title=\"Convert this dataframe to an interactive table.\"\n",
              "              style=\"display:none;\">\n",
              "        \n",
              "  <svg xmlns=\"http://www.w3.org/2000/svg\" height=\"24px\"viewBox=\"0 0 24 24\"\n",
              "       width=\"24px\">\n",
              "    <path d=\"M0 0h24v24H0V0z\" fill=\"none\"/>\n",
              "    <path d=\"M18.56 5.44l.94 2.06.94-2.06 2.06-.94-2.06-.94-.94-2.06-.94 2.06-2.06.94zm-11 1L8.5 8.5l.94-2.06 2.06-.94-2.06-.94L8.5 2.5l-.94 2.06-2.06.94zm10 10l.94 2.06.94-2.06 2.06-.94-2.06-.94-.94-2.06-.94 2.06-2.06.94z\"/><path d=\"M17.41 7.96l-1.37-1.37c-.4-.4-.92-.59-1.43-.59-.52 0-1.04.2-1.43.59L10.3 9.45l-7.72 7.72c-.78.78-.78 2.05 0 2.83L4 21.41c.39.39.9.59 1.41.59.51 0 1.02-.2 1.41-.59l7.78-7.78 2.81-2.81c.8-.78.8-2.07 0-2.86zM5.41 20L4 18.59l7.72-7.72 1.47 1.35L5.41 20z\"/>\n",
              "  </svg>\n",
              "      </button>\n",
              "      \n",
              "  <style>\n",
              "    .colab-df-container {\n",
              "      display:flex;\n",
              "      flex-wrap:wrap;\n",
              "      gap: 12px;\n",
              "    }\n",
              "\n",
              "    .colab-df-convert {\n",
              "      background-color: #E8F0FE;\n",
              "      border: none;\n",
              "      border-radius: 50%;\n",
              "      cursor: pointer;\n",
              "      display: none;\n",
              "      fill: #1967D2;\n",
              "      height: 32px;\n",
              "      padding: 0 0 0 0;\n",
              "      width: 32px;\n",
              "    }\n",
              "\n",
              "    .colab-df-convert:hover {\n",
              "      background-color: #E2EBFA;\n",
              "      box-shadow: 0px 1px 2px rgba(60, 64, 67, 0.3), 0px 1px 3px 1px rgba(60, 64, 67, 0.15);\n",
              "      fill: #174EA6;\n",
              "    }\n",
              "\n",
              "    [theme=dark] .colab-df-convert {\n",
              "      background-color: #3B4455;\n",
              "      fill: #D2E3FC;\n",
              "    }\n",
              "\n",
              "    [theme=dark] .colab-df-convert:hover {\n",
              "      background-color: #434B5C;\n",
              "      box-shadow: 0px 1px 3px 1px rgba(0, 0, 0, 0.15);\n",
              "      filter: drop-shadow(0px 1px 2px rgba(0, 0, 0, 0.3));\n",
              "      fill: #FFFFFF;\n",
              "    }\n",
              "  </style>\n",
              "\n",
              "      <script>\n",
              "        const buttonEl =\n",
              "          document.querySelector('#df-7feec15a-7273-4105-899a-008f1753cb5b button.colab-df-convert');\n",
              "        buttonEl.style.display =\n",
              "          google.colab.kernel.accessAllowed ? 'block' : 'none';\n",
              "\n",
              "        async function convertToInteractive(key) {\n",
              "          const element = document.querySelector('#df-7feec15a-7273-4105-899a-008f1753cb5b');\n",
              "          const dataTable =\n",
              "            await google.colab.kernel.invokeFunction('convertToInteractive',\n",
              "                                                     [key], {});\n",
              "          if (!dataTable) return;\n",
              "\n",
              "          const docLinkHtml = 'Like what you see? Visit the ' +\n",
              "            '<a target=\"_blank\" href=https://colab.research.google.com/notebooks/data_table.ipynb>data table notebook</a>'\n",
              "            + ' to learn more about interactive tables.';\n",
              "          element.innerHTML = '';\n",
              "          dataTable['output_type'] = 'display_data';\n",
              "          await google.colab.output.renderOutput(dataTable, element);\n",
              "          const docLink = document.createElement('div');\n",
              "          docLink.innerHTML = docLinkHtml;\n",
              "          element.appendChild(docLink);\n",
              "        }\n",
              "      </script>\n",
              "    </div>\n",
              "  </div>\n",
              "  "
            ]
          },
          "metadata": {},
          "execution_count": 45
        }
      ]
    },
    {
      "cell_type": "code",
      "source": [
        "dataset_gasolina['PREÇO MÍNIMO DE REVENDA'] = dataset_gasolina_min['PREÇO MÉDIO REVENDA']\n",
        "dataset_gasolina.head()"
      ],
      "metadata": {
        "colab": {
          "base_uri": "https://localhost:8080/",
          "height": 206
        },
        "id": "3iDt0UDiY80q",
        "outputId": "cd6079c7-5325-4d64-fd3a-abb3886e4888"
      },
      "execution_count": 46,
      "outputs": [
        {
          "output_type": "execute_result",
          "data": {
            "text/plain": [
              "   ANO INICIAL        REGIÃO  PREÇO MÁXIMO DE REVENDA  PREÇO MÍNIMO DE REVENDA\n",
              "0         2004  CENTRO OESTE                    2.707                    1.936\n",
              "1         2004      NORDESTE                    2.457                    1.949\n",
              "2         2004         NORTE                    2.639                    1.995\n",
              "3         2004       SUDESTE                    2.316                    1.888\n",
              "4         2004           SUL                    2.486                    1.961"
            ],
            "text/html": [
              "\n",
              "  <div id=\"df-de1e3d6a-1f4c-4a4d-aed7-a21b15ac0a4b\">\n",
              "    <div class=\"colab-df-container\">\n",
              "      <div>\n",
              "<style scoped>\n",
              "    .dataframe tbody tr th:only-of-type {\n",
              "        vertical-align: middle;\n",
              "    }\n",
              "\n",
              "    .dataframe tbody tr th {\n",
              "        vertical-align: top;\n",
              "    }\n",
              "\n",
              "    .dataframe thead th {\n",
              "        text-align: right;\n",
              "    }\n",
              "</style>\n",
              "<table border=\"1\" class=\"dataframe\">\n",
              "  <thead>\n",
              "    <tr style=\"text-align: right;\">\n",
              "      <th></th>\n",
              "      <th>ANO INICIAL</th>\n",
              "      <th>REGIÃO</th>\n",
              "      <th>PREÇO MÁXIMO DE REVENDA</th>\n",
              "      <th>PREÇO MÍNIMO DE REVENDA</th>\n",
              "    </tr>\n",
              "  </thead>\n",
              "  <tbody>\n",
              "    <tr>\n",
              "      <th>0</th>\n",
              "      <td>2004</td>\n",
              "      <td>CENTRO OESTE</td>\n",
              "      <td>2.707</td>\n",
              "      <td>1.936</td>\n",
              "    </tr>\n",
              "    <tr>\n",
              "      <th>1</th>\n",
              "      <td>2004</td>\n",
              "      <td>NORDESTE</td>\n",
              "      <td>2.457</td>\n",
              "      <td>1.949</td>\n",
              "    </tr>\n",
              "    <tr>\n",
              "      <th>2</th>\n",
              "      <td>2004</td>\n",
              "      <td>NORTE</td>\n",
              "      <td>2.639</td>\n",
              "      <td>1.995</td>\n",
              "    </tr>\n",
              "    <tr>\n",
              "      <th>3</th>\n",
              "      <td>2004</td>\n",
              "      <td>SUDESTE</td>\n",
              "      <td>2.316</td>\n",
              "      <td>1.888</td>\n",
              "    </tr>\n",
              "    <tr>\n",
              "      <th>4</th>\n",
              "      <td>2004</td>\n",
              "      <td>SUL</td>\n",
              "      <td>2.486</td>\n",
              "      <td>1.961</td>\n",
              "    </tr>\n",
              "  </tbody>\n",
              "</table>\n",
              "</div>\n",
              "      <button class=\"colab-df-convert\" onclick=\"convertToInteractive('df-de1e3d6a-1f4c-4a4d-aed7-a21b15ac0a4b')\"\n",
              "              title=\"Convert this dataframe to an interactive table.\"\n",
              "              style=\"display:none;\">\n",
              "        \n",
              "  <svg xmlns=\"http://www.w3.org/2000/svg\" height=\"24px\"viewBox=\"0 0 24 24\"\n",
              "       width=\"24px\">\n",
              "    <path d=\"M0 0h24v24H0V0z\" fill=\"none\"/>\n",
              "    <path d=\"M18.56 5.44l.94 2.06.94-2.06 2.06-.94-2.06-.94-.94-2.06-.94 2.06-2.06.94zm-11 1L8.5 8.5l.94-2.06 2.06-.94-2.06-.94L8.5 2.5l-.94 2.06-2.06.94zm10 10l.94 2.06.94-2.06 2.06-.94-2.06-.94-.94-2.06-.94 2.06-2.06.94z\"/><path d=\"M17.41 7.96l-1.37-1.37c-.4-.4-.92-.59-1.43-.59-.52 0-1.04.2-1.43.59L10.3 9.45l-7.72 7.72c-.78.78-.78 2.05 0 2.83L4 21.41c.39.39.9.59 1.41.59.51 0 1.02-.2 1.41-.59l7.78-7.78 2.81-2.81c.8-.78.8-2.07 0-2.86zM5.41 20L4 18.59l7.72-7.72 1.47 1.35L5.41 20z\"/>\n",
              "  </svg>\n",
              "      </button>\n",
              "      \n",
              "  <style>\n",
              "    .colab-df-container {\n",
              "      display:flex;\n",
              "      flex-wrap:wrap;\n",
              "      gap: 12px;\n",
              "    }\n",
              "\n",
              "    .colab-df-convert {\n",
              "      background-color: #E8F0FE;\n",
              "      border: none;\n",
              "      border-radius: 50%;\n",
              "      cursor: pointer;\n",
              "      display: none;\n",
              "      fill: #1967D2;\n",
              "      height: 32px;\n",
              "      padding: 0 0 0 0;\n",
              "      width: 32px;\n",
              "    }\n",
              "\n",
              "    .colab-df-convert:hover {\n",
              "      background-color: #E2EBFA;\n",
              "      box-shadow: 0px 1px 2px rgba(60, 64, 67, 0.3), 0px 1px 3px 1px rgba(60, 64, 67, 0.15);\n",
              "      fill: #174EA6;\n",
              "    }\n",
              "\n",
              "    [theme=dark] .colab-df-convert {\n",
              "      background-color: #3B4455;\n",
              "      fill: #D2E3FC;\n",
              "    }\n",
              "\n",
              "    [theme=dark] .colab-df-convert:hover {\n",
              "      background-color: #434B5C;\n",
              "      box-shadow: 0px 1px 3px 1px rgba(0, 0, 0, 0.15);\n",
              "      filter: drop-shadow(0px 1px 2px rgba(0, 0, 0, 0.3));\n",
              "      fill: #FFFFFF;\n",
              "    }\n",
              "  </style>\n",
              "\n",
              "      <script>\n",
              "        const buttonEl =\n",
              "          document.querySelector('#df-de1e3d6a-1f4c-4a4d-aed7-a21b15ac0a4b button.colab-df-convert');\n",
              "        buttonEl.style.display =\n",
              "          google.colab.kernel.accessAllowed ? 'block' : 'none';\n",
              "\n",
              "        async function convertToInteractive(key) {\n",
              "          const element = document.querySelector('#df-de1e3d6a-1f4c-4a4d-aed7-a21b15ac0a4b');\n",
              "          const dataTable =\n",
              "            await google.colab.kernel.invokeFunction('convertToInteractive',\n",
              "                                                     [key], {});\n",
              "          if (!dataTable) return;\n",
              "\n",
              "          const docLinkHtml = 'Like what you see? Visit the ' +\n",
              "            '<a target=\"_blank\" href=https://colab.research.google.com/notebooks/data_table.ipynb>data table notebook</a>'\n",
              "            + ' to learn more about interactive tables.';\n",
              "          element.innerHTML = '';\n",
              "          dataTable['output_type'] = 'display_data';\n",
              "          await google.colab.output.renderOutput(dataTable, element);\n",
              "          const docLink = document.createElement('div');\n",
              "          docLink.innerHTML = docLinkHtml;\n",
              "          element.appendChild(docLink);\n",
              "        }\n",
              "      </script>\n",
              "    </div>\n",
              "  </div>\n",
              "  "
            ]
          },
          "metadata": {},
          "execution_count": 46
        }
      ]
    },
    {
      "cell_type": "markdown",
      "source": [
        "A coluna contendo a diferença de preços foi adicionada."
      ],
      "metadata": {
        "id": "kluJAftggxYb"
      }
    },
    {
      "cell_type": "code",
      "source": [
        "dataset_gasolina['DIFERENÇA PREÇOS'] = dataset_gasolina['PREÇO MÁXIMO DE REVENDA'] - dataset_gasolina['PREÇO MÍNIMO DE REVENDA']\n",
        "dataset_gasolina.head()"
      ],
      "metadata": {
        "colab": {
          "base_uri": "https://localhost:8080/",
          "height": 206
        },
        "id": "z7iuFbAjdR7V",
        "outputId": "cad7e959-55a8-42f4-999c-8f0f8cdeec6d"
      },
      "execution_count": 47,
      "outputs": [
        {
          "output_type": "execute_result",
          "data": {
            "text/plain": [
              "   ANO INICIAL        REGIÃO  PREÇO MÁXIMO DE REVENDA  \\\n",
              "0         2004  CENTRO OESTE                    2.707   \n",
              "1         2004      NORDESTE                    2.457   \n",
              "2         2004         NORTE                    2.639   \n",
              "3         2004       SUDESTE                    2.316   \n",
              "4         2004           SUL                    2.486   \n",
              "\n",
              "   PREÇO MÍNIMO DE REVENDA  DIFERENÇA PREÇOS  \n",
              "0                    1.936             0.771  \n",
              "1                    1.949             0.508  \n",
              "2                    1.995             0.644  \n",
              "3                    1.888             0.428  \n",
              "4                    1.961             0.525  "
            ],
            "text/html": [
              "\n",
              "  <div id=\"df-322565a6-fb4e-48b1-8c44-eee22323d5f1\">\n",
              "    <div class=\"colab-df-container\">\n",
              "      <div>\n",
              "<style scoped>\n",
              "    .dataframe tbody tr th:only-of-type {\n",
              "        vertical-align: middle;\n",
              "    }\n",
              "\n",
              "    .dataframe tbody tr th {\n",
              "        vertical-align: top;\n",
              "    }\n",
              "\n",
              "    .dataframe thead th {\n",
              "        text-align: right;\n",
              "    }\n",
              "</style>\n",
              "<table border=\"1\" class=\"dataframe\">\n",
              "  <thead>\n",
              "    <tr style=\"text-align: right;\">\n",
              "      <th></th>\n",
              "      <th>ANO INICIAL</th>\n",
              "      <th>REGIÃO</th>\n",
              "      <th>PREÇO MÁXIMO DE REVENDA</th>\n",
              "      <th>PREÇO MÍNIMO DE REVENDA</th>\n",
              "      <th>DIFERENÇA PREÇOS</th>\n",
              "    </tr>\n",
              "  </thead>\n",
              "  <tbody>\n",
              "    <tr>\n",
              "      <th>0</th>\n",
              "      <td>2004</td>\n",
              "      <td>CENTRO OESTE</td>\n",
              "      <td>2.707</td>\n",
              "      <td>1.936</td>\n",
              "      <td>0.771</td>\n",
              "    </tr>\n",
              "    <tr>\n",
              "      <th>1</th>\n",
              "      <td>2004</td>\n",
              "      <td>NORDESTE</td>\n",
              "      <td>2.457</td>\n",
              "      <td>1.949</td>\n",
              "      <td>0.508</td>\n",
              "    </tr>\n",
              "    <tr>\n",
              "      <th>2</th>\n",
              "      <td>2004</td>\n",
              "      <td>NORTE</td>\n",
              "      <td>2.639</td>\n",
              "      <td>1.995</td>\n",
              "      <td>0.644</td>\n",
              "    </tr>\n",
              "    <tr>\n",
              "      <th>3</th>\n",
              "      <td>2004</td>\n",
              "      <td>SUDESTE</td>\n",
              "      <td>2.316</td>\n",
              "      <td>1.888</td>\n",
              "      <td>0.428</td>\n",
              "    </tr>\n",
              "    <tr>\n",
              "      <th>4</th>\n",
              "      <td>2004</td>\n",
              "      <td>SUL</td>\n",
              "      <td>2.486</td>\n",
              "      <td>1.961</td>\n",
              "      <td>0.525</td>\n",
              "    </tr>\n",
              "  </tbody>\n",
              "</table>\n",
              "</div>\n",
              "      <button class=\"colab-df-convert\" onclick=\"convertToInteractive('df-322565a6-fb4e-48b1-8c44-eee22323d5f1')\"\n",
              "              title=\"Convert this dataframe to an interactive table.\"\n",
              "              style=\"display:none;\">\n",
              "        \n",
              "  <svg xmlns=\"http://www.w3.org/2000/svg\" height=\"24px\"viewBox=\"0 0 24 24\"\n",
              "       width=\"24px\">\n",
              "    <path d=\"M0 0h24v24H0V0z\" fill=\"none\"/>\n",
              "    <path d=\"M18.56 5.44l.94 2.06.94-2.06 2.06-.94-2.06-.94-.94-2.06-.94 2.06-2.06.94zm-11 1L8.5 8.5l.94-2.06 2.06-.94-2.06-.94L8.5 2.5l-.94 2.06-2.06.94zm10 10l.94 2.06.94-2.06 2.06-.94-2.06-.94-.94-2.06-.94 2.06-2.06.94z\"/><path d=\"M17.41 7.96l-1.37-1.37c-.4-.4-.92-.59-1.43-.59-.52 0-1.04.2-1.43.59L10.3 9.45l-7.72 7.72c-.78.78-.78 2.05 0 2.83L4 21.41c.39.39.9.59 1.41.59.51 0 1.02-.2 1.41-.59l7.78-7.78 2.81-2.81c.8-.78.8-2.07 0-2.86zM5.41 20L4 18.59l7.72-7.72 1.47 1.35L5.41 20z\"/>\n",
              "  </svg>\n",
              "      </button>\n",
              "      \n",
              "  <style>\n",
              "    .colab-df-container {\n",
              "      display:flex;\n",
              "      flex-wrap:wrap;\n",
              "      gap: 12px;\n",
              "    }\n",
              "\n",
              "    .colab-df-convert {\n",
              "      background-color: #E8F0FE;\n",
              "      border: none;\n",
              "      border-radius: 50%;\n",
              "      cursor: pointer;\n",
              "      display: none;\n",
              "      fill: #1967D2;\n",
              "      height: 32px;\n",
              "      padding: 0 0 0 0;\n",
              "      width: 32px;\n",
              "    }\n",
              "\n",
              "    .colab-df-convert:hover {\n",
              "      background-color: #E2EBFA;\n",
              "      box-shadow: 0px 1px 2px rgba(60, 64, 67, 0.3), 0px 1px 3px 1px rgba(60, 64, 67, 0.15);\n",
              "      fill: #174EA6;\n",
              "    }\n",
              "\n",
              "    [theme=dark] .colab-df-convert {\n",
              "      background-color: #3B4455;\n",
              "      fill: #D2E3FC;\n",
              "    }\n",
              "\n",
              "    [theme=dark] .colab-df-convert:hover {\n",
              "      background-color: #434B5C;\n",
              "      box-shadow: 0px 1px 3px 1px rgba(0, 0, 0, 0.15);\n",
              "      filter: drop-shadow(0px 1px 2px rgba(0, 0, 0, 0.3));\n",
              "      fill: #FFFFFF;\n",
              "    }\n",
              "  </style>\n",
              "\n",
              "      <script>\n",
              "        const buttonEl =\n",
              "          document.querySelector('#df-322565a6-fb4e-48b1-8c44-eee22323d5f1 button.colab-df-convert');\n",
              "        buttonEl.style.display =\n",
              "          google.colab.kernel.accessAllowed ? 'block' : 'none';\n",
              "\n",
              "        async function convertToInteractive(key) {\n",
              "          const element = document.querySelector('#df-322565a6-fb4e-48b1-8c44-eee22323d5f1');\n",
              "          const dataTable =\n",
              "            await google.colab.kernel.invokeFunction('convertToInteractive',\n",
              "                                                     [key], {});\n",
              "          if (!dataTable) return;\n",
              "\n",
              "          const docLinkHtml = 'Like what you see? Visit the ' +\n",
              "            '<a target=\"_blank\" href=https://colab.research.google.com/notebooks/data_table.ipynb>data table notebook</a>'\n",
              "            + ' to learn more about interactive tables.';\n",
              "          element.innerHTML = '';\n",
              "          dataTable['output_type'] = 'display_data';\n",
              "          await google.colab.output.renderOutput(dataTable, element);\n",
              "          const docLink = document.createElement('div');\n",
              "          docLink.innerHTML = docLinkHtml;\n",
              "          element.appendChild(docLink);\n",
              "        }\n",
              "      </script>\n",
              "    </div>\n",
              "  </div>\n",
              "  "
            ]
          },
          "metadata": {},
          "execution_count": 47
        }
      ]
    },
    {
      "cell_type": "markdown",
      "source": [
        "A fim de facilitar a interpretação e visualização desses dados, foi gerado o gráfico da diferença de preço médio de revenda pelo ano."
      ],
      "metadata": {
        "id": "8v5vF7FyfEFC"
      }
    },
    {
      "cell_type": "code",
      "source": [
        "x1=dataset_gasolina.query(\"REGIÃO == 'NORTE'\")['ANO INICIAL']\n",
        "x2=dataset_gasolina.query(\"REGIÃO == 'NORDESTE'\")['ANO INICIAL']\n",
        "x3=dataset_gasolina.query(\"REGIÃO == 'CENTRO OESTE'\")['ANO INICIAL']\n",
        "x4=dataset_gasolina.query(\"REGIÃO == 'SUDESTE'\")['ANO INICIAL']\n",
        "x5=dataset_gasolina.query(\"REGIÃO == 'SUL'\")['ANO INICIAL']\n",
        "\n",
        "y1=dataset_gasolina.query(\"REGIÃO == 'NORTE'\")['DIFERENÇA PREÇOS']\n",
        "y2=dataset_gasolina.query(\"REGIÃO == 'NORDESTE'\")['DIFERENÇA PREÇOS']\n",
        "y3=dataset_gasolina.query(\"REGIÃO == 'CENTRO OESTE'\")['DIFERENÇA PREÇOS']\n",
        "y4=dataset_gasolina.query(\"REGIÃO == 'SUDESTE'\")['DIFERENÇA PREÇOS']\n",
        "y5=dataset_gasolina.query(\"REGIÃO == 'SUL'\")['DIFERENÇA PREÇOS']\n",
        "\n",
        "plt.figure(figsize=(10, 6))\n",
        "plt.plot(x1,y1)\n",
        "plt.plot(x2,y2)\n",
        "plt.plot(x3,y3)\n",
        "plt.plot(x4,y4)\n",
        "plt.plot(x5,y5)\n",
        "\n",
        "plt.legend(['NORTE', 'NORDESTE', 'CENTRO OESTE', 'SUDESTE', 'SUL']);\n",
        "plt.xlabel('Ano')\n",
        "plt.ylabel('Diferença de Preço Médio de Revenda')\n",
        "plt.title('Variação da Diferença do Preço Médio Revenda Regional da Gasolina Comum por Ano')\n",
        "\n",
        "plt.show()"
      ],
      "metadata": {
        "colab": {
          "base_uri": "https://localhost:8080/",
          "height": 404
        },
        "id": "GeXhok0Oe-yY",
        "outputId": "c63425eb-af63-4ee7-b352-4f3a53695a70"
      },
      "execution_count": 48,
      "outputs": [
        {
          "output_type": "display_data",
          "data": {
            "text/plain": [
              "<Figure size 720x432 with 1 Axes>"
            ],
            "image/png": "[encoded data removed]"
          },
          "metadata": {
            "needs_background": "light"
          }
        }
      ]
    },
    {
      "cell_type": "markdown",
      "source": [
        "Foi observado que:\n",
        " - ao avaliar pela diferença entre preços de revenda max e min, há uma mudança do perfil da curva, embora ainda seja nítido o aumento dos preços de forma geral ao longo dos anos;\n",
        " - o comportamento da diferença de preços segue uma tendência em aumentar em um ano, e diminuir no seguinte, ou seja em um ano há valores muito altos e muito baixos e no outro esses valores se encontram mais próximos;\n",
        " - a disparidade entre preços max e min aumentou consideravelmente a partir de 2016;\n",
        " - a região Norte é a que possui as maiores variações;\n",
        " - há maior influência de fenômenos estaduais e regionais quando se trata da precificação máxima e mínima.\n",
        "\n",
        "Disso, sugere-se que:\n",
        " - fatores e eventos políticos e econômicos a nível nacional já discutidos influenciam nesses valores;\n",
        " - possível forte influência da mudança da política de Paridade de Importação da Petrobrás, com foco dólar a partir de 2016."
      ],
      "metadata": {
        "id": "YQIAEZ_sg6md"
      }
    },
    {
      "cell_type": "markdown",
      "source": [
        "## 5.CONCLUSÕES"
      ],
      "metadata": {
        "id": "CUNhTv8GkU20"
      }
    },
    {
      "cell_type": "markdown",
      "source": [
        "Após uma cuidadosa análise dos dados, chegamos à conclusão de que o objetivo geral de nossa análise foi alcançado: há sim um aumento considerável nos preços médios da Gasolina Comum e Óleo Diesel D10, principalmente a partir de 2014.\n",
        "\n",
        "As questões levantadas nos permitiu ter uma visão mais clara da situação em questão, o que nos encaminhou a informações mais precisas e confiáveis. Além disso, os dados analisados apresentaram uma tendência de aumento consistente com o que esperávamos encontrar.\n",
        "\n",
        "As análises foram realizadas de forma nacional e afuniladas por região e por fim de forma estadual em estados selecionados. Os resultados nos mostram um padrão a respeito do aumento do preço médio de revenda de combustíveis ao longo do período de 2004 a 2020, com acentuação a partir de 2014. Desde então a tendência é de crescimento constante e atenua-se em 2016 até 2019 onde é observado diminuição constante dos valores praticados. A essas variações foram levantadas hipóteses que podem ter influenciado nos valores, como a crise financeira mundial de 2008/2009 que teve reflexos no Brasil a partir de 2012; mudança da política de preços da Petrobrás em 2016; mudanças de governos e políticas econômicas; greve dos caminhoneiros em 2018 e de forma macro a mudança do padrão de consumo e poder de compra ao longo da série histórica.\n",
        "\n",
        "O foco das análises foram em dois produtos: a Gasolina Comum e o Óleo Diesel S10, por motivos de atenderem a nichos preferenciais diferentes. No entanto foi possível observar que a política de preços afeta ambos de forma semelhante, visto o comportamento das curvas de ambos. Além disso, o panorama nacional parece influenciar mais na evolução dos preços do que a nível regional ou estadual, uma vez que as curvas apresentadas nesses níveis se assemelham à nacional.\n",
        "\n",
        "Ao longo das análises foram encontradas divergências e dados que podem ser *outliers* que serão analisados futuramente em uma revisão desta análise exploratória. Assim como futuras análises abordando outros aspectos deste *dataset* e perguntas que surgiram ao longo da exploração e limpeza dos dados.\n",
        "\n",
        "Por fim, conclui-se que houve um aumento significativo no preço médio de revenda dos combustíveis e esse aumento não fez distinção quanto ao nicho de consumo: população geral, indústria, entre outros, sendo o panorama geral de aumento em todos os produtos de forma semelhante.\n",
        "\n",
        "O presente trabalho fez a extração dos dados a partir de um arquivo **.tsv**. Os *dataframes* criados foram previamente filtrados de modo que apenas as informações relevantes estivessem presentes, os dados não presentes(- ou -99999.0) foram substituídos por 'NaN' (Not-a-number) e depois as linhas contendo valores foram retiradas.\n",
        "\n",
        "Para plotagem de gráficos, a biblioteca *Matplotlib* foi utilizada de modo a facilitar de forma clara e objetiva a compreensão e vizualização dos dados para o leitor."
      ],
      "metadata": {
        "id": "fApvd_Rgkn_4"
      }
    },
    {
      "cell_type": "markdown",
      "source": [
        "## 6.REFERÊNCIAS\n",
        "\n",
        " - [Kaggle](https://www.kaggle.com/datasets/matheusfreitag/gas-prices-in-brazil)\n",
        " - [ANP.gov](https://www.gov.br/anp/pt-br/assuntos/precos-e-defesa-da-concorrencia/precos/precos-revenda-e-de-distribuicao-combustiveis)"
      ],
      "metadata": {
        "id": "uj9jAjtik25A"
      }
    },
    {
      "cell_type": "markdown",
      "source": [
        "# SAIBA MAIS"
      ],
      "metadata": {
        "id": "tiMI4z39yirk"
      }
    },
    {
      "cell_type": "markdown",
      "source": [
        "---"
      ],
      "metadata": {
        "id": "J1MGMAFr8NLl"
      }
    },
    {
      "cell_type": "code",
      "source": [
        "# OBSERVAÇÃO\n",
        "# Antes de removermos as linhas NaN, nós tentamos inicialmente substituir seus valores por None. \n",
        "# Curiosamente quando realizamos um replace para None, estes valores acabam recebendo o valor da linha superior. \n",
        "# Vamos fazer um exemplo pequeno e prático abaixo\n",
        "\n",
        "# '-999999.0'\n",
        "# dataset_gas.iloc[120764]\n",
        "\n",
        "# '-'\n",
        "# dataset_gas.iloc[1903]\n",
        "\n",
        "# '-999999.0'\n",
        "# dataset_gas.iloc[120768, 15]"
      ],
      "metadata": {
        "id": "dM14C192L93C"
      },
      "execution_count": 49,
      "outputs": []
    },
    {
      "cell_type": "code",
      "source": [
        "data = [['-', 2, 3], [4, '-', 6], [7, 8, '-']]\n",
        "\n",
        "df = pd.DataFrame(data, columns=[\"A\", \"B\", \"C\"])\n",
        "df"
      ],
      "metadata": {
        "colab": {
          "base_uri": "https://localhost:8080/",
          "height": 143
        },
        "id": "BwwHLYST8jKw",
        "outputId": "c63a590a-2fde-4d3c-de63-dfba811fcef5"
      },
      "execution_count": 50,
      "outputs": [
        {
          "output_type": "execute_result",
          "data": {
            "text/plain": [
              "   A  B  C\n",
              "0  -  2  3\n",
              "1  4  -  6\n",
              "2  7  8  -"
            ],
            "text/html": [
              "\n",
              "  <div id=\"df-f19100a8-cf05-4637-954b-6f78a0bcc8ae\">\n",
              "    <div class=\"colab-df-container\">\n",
              "      <div>\n",
              "<style scoped>\n",
              "    .dataframe tbody tr th:only-of-type {\n",
              "        vertical-align: middle;\n",
              "    }\n",
              "\n",
              "    .dataframe tbody tr th {\n",
              "        vertical-align: top;\n",
              "    }\n",
              "\n",
              "    .dataframe thead th {\n",
              "        text-align: right;\n",
              "    }\n",
              "</style>\n",
              "<table border=\"1\" class=\"dataframe\">\n",
              "  <thead>\n",
              "    <tr style=\"text-align: right;\">\n",
              "      <th></th>\n",
              "      <th>A</th>\n",
              "      <th>B</th>\n",
              "      <th>C</th>\n",
              "    </tr>\n",
              "  </thead>\n",
              "  <tbody>\n",
              "    <tr>\n",
              "      <th>0</th>\n",
              "      <td>-</td>\n",
              "      <td>2</td>\n",
              "      <td>3</td>\n",
              "    </tr>\n",
              "    <tr>\n",
              "      <th>1</th>\n",
              "      <td>4</td>\n",
              "      <td>-</td>\n",
              "      <td>6</td>\n",
              "    </tr>\n",
              "    <tr>\n",
              "      <th>2</th>\n",
              "      <td>7</td>\n",
              "      <td>8</td>\n",
              "      <td>-</td>\n",
              "    </tr>\n",
              "  </tbody>\n",
              "</table>\n",
              "</div>\n",
              "      <button class=\"colab-df-convert\" onclick=\"convertToInteractive('df-f19100a8-cf05-4637-954b-6f78a0bcc8ae')\"\n",
              "              title=\"Convert this dataframe to an interactive table.\"\n",
              "              style=\"display:none;\">\n",
              "        \n",
              "  <svg xmlns=\"http://www.w3.org/2000/svg\" height=\"24px\"viewBox=\"0 0 24 24\"\n",
              "       width=\"24px\">\n",
              "    <path d=\"M0 0h24v24H0V0z\" fill=\"none\"/>\n",
              "    <path d=\"M18.56 5.44l.94 2.06.94-2.06 2.06-.94-2.06-.94-.94-2.06-.94 2.06-2.06.94zm-11 1L8.5 8.5l.94-2.06 2.06-.94-2.06-.94L8.5 2.5l-.94 2.06-2.06.94zm10 10l.94 2.06.94-2.06 2.06-.94-2.06-.94-.94-2.06-.94 2.06-2.06.94z\"/><path d=\"M17.41 7.96l-1.37-1.37c-.4-.4-.92-.59-1.43-.59-.52 0-1.04.2-1.43.59L10.3 9.45l-7.72 7.72c-.78.78-.78 2.05 0 2.83L4 21.41c.39.39.9.59 1.41.59.51 0 1.02-.2 1.41-.59l7.78-7.78 2.81-2.81c.8-.78.8-2.07 0-2.86zM5.41 20L4 18.59l7.72-7.72 1.47 1.35L5.41 20z\"/>\n",
              "  </svg>\n",
              "      </button>\n",
              "      \n",
              "  <style>\n",
              "    .colab-df-container {\n",
              "      display:flex;\n",
              "      flex-wrap:wrap;\n",
              "      gap: 12px;\n",
              "    }\n",
              "\n",
              "    .colab-df-convert {\n",
              "      background-color: #E8F0FE;\n",
              "      border: none;\n",
              "      border-radius: 50%;\n",
              "      cursor: pointer;\n",
              "      display: none;\n",
              "      fill: #1967D2;\n",
              "      height: 32px;\n",
              "      padding: 0 0 0 0;\n",
              "      width: 32px;\n",
              "    }\n",
              "\n",
              "    .colab-df-convert:hover {\n",
              "      background-color: #E2EBFA;\n",
              "      box-shadow: 0px 1px 2px rgba(60, 64, 67, 0.3), 0px 1px 3px 1px rgba(60, 64, 67, 0.15);\n",
              "      fill: #174EA6;\n",
              "    }\n",
              "\n",
              "    [theme=dark] .colab-df-convert {\n",
              "      background-color: #3B4455;\n",
              "      fill: #D2E3FC;\n",
              "    }\n",
              "\n",
              "    [theme=dark] .colab-df-convert:hover {\n",
              "      background-color: #434B5C;\n",
              "      box-shadow: 0px 1px 3px 1px rgba(0, 0, 0, 0.15);\n",
              "      filter: drop-shadow(0px 1px 2px rgba(0, 0, 0, 0.3));\n",
              "      fill: #FFFFFF;\n",
              "    }\n",
              "  </style>\n",
              "\n",
              "      <script>\n",
              "        const buttonEl =\n",
              "          document.querySelector('#df-f19100a8-cf05-4637-954b-6f78a0bcc8ae button.colab-df-convert');\n",
              "        buttonEl.style.display =\n",
              "          google.colab.kernel.accessAllowed ? 'block' : 'none';\n",
              "\n",
              "        async function convertToInteractive(key) {\n",
              "          const element = document.querySelector('#df-f19100a8-cf05-4637-954b-6f78a0bcc8ae');\n",
              "          const dataTable =\n",
              "            await google.colab.kernel.invokeFunction('convertToInteractive',\n",
              "                                                     [key], {});\n",
              "          if (!dataTable) return;\n",
              "\n",
              "          const docLinkHtml = 'Like what you see? Visit the ' +\n",
              "            '<a target=\"_blank\" href=https://colab.research.google.com/notebooks/data_table.ipynb>data table notebook</a>'\n",
              "            + ' to learn more about interactive tables.';\n",
              "          element.innerHTML = '';\n",
              "          dataTable['output_type'] = 'display_data';\n",
              "          await google.colab.output.renderOutput(dataTable, element);\n",
              "          const docLink = document.createElement('div');\n",
              "          docLink.innerHTML = docLinkHtml;\n",
              "          element.appendChild(docLink);\n",
              "        }\n",
              "      </script>\n",
              "    </div>\n",
              "  </div>\n",
              "  "
            ]
          },
          "metadata": {},
          "execution_count": 50
        }
      ]
    },
    {
      "cell_type": "code",
      "source": [
        "df = df.replace('-', None)\n",
        "df"
      ],
      "metadata": {
        "colab": {
          "base_uri": "https://localhost:8080/",
          "height": 143
        },
        "id": "nnpSf4T981Ho",
        "outputId": "8b0cf4c8-7856-499b-98ef-8bd510a8c8ca"
      },
      "execution_count": 51,
      "outputs": [
        {
          "output_type": "execute_result",
          "data": {
            "text/plain": [
              "   A  B  C\n",
              "0  -  2  3\n",
              "1  4  2  6\n",
              "2  7  8  6"
            ],
            "text/html": [
              "\n",
              "  <div id=\"df-8a30940c-c9cb-4891-991a-d074e5497064\">\n",
              "    <div class=\"colab-df-container\">\n",
              "      <div>\n",
              "<style scoped>\n",
              "    .dataframe tbody tr th:only-of-type {\n",
              "        vertical-align: middle;\n",
              "    }\n",
              "\n",
              "    .dataframe tbody tr th {\n",
              "        vertical-align: top;\n",
              "    }\n",
              "\n",
              "    .dataframe thead th {\n",
              "        text-align: right;\n",
              "    }\n",
              "</style>\n",
              "<table border=\"1\" class=\"dataframe\">\n",
              "  <thead>\n",
              "    <tr style=\"text-align: right;\">\n",
              "      <th></th>\n",
              "      <th>A</th>\n",
              "      <th>B</th>\n",
              "      <th>C</th>\n",
              "    </tr>\n",
              "  </thead>\n",
              "  <tbody>\n",
              "    <tr>\n",
              "      <th>0</th>\n",
              "      <td>-</td>\n",
              "      <td>2</td>\n",
              "      <td>3</td>\n",
              "    </tr>\n",
              "    <tr>\n",
              "      <th>1</th>\n",
              "      <td>4</td>\n",
              "      <td>2</td>\n",
              "      <td>6</td>\n",
              "    </tr>\n",
              "    <tr>\n",
              "      <th>2</th>\n",
              "      <td>7</td>\n",
              "      <td>8</td>\n",
              "      <td>6</td>\n",
              "    </tr>\n",
              "  </tbody>\n",
              "</table>\n",
              "</div>\n",
              "      <button class=\"colab-df-convert\" onclick=\"convertToInteractive('df-8a30940c-c9cb-4891-991a-d074e5497064')\"\n",
              "              title=\"Convert this dataframe to an interactive table.\"\n",
              "              style=\"display:none;\">\n",
              "        \n",
              "  <svg xmlns=\"http://www.w3.org/2000/svg\" height=\"24px\"viewBox=\"0 0 24 24\"\n",
              "       width=\"24px\">\n",
              "    <path d=\"M0 0h24v24H0V0z\" fill=\"none\"/>\n",
              "    <path d=\"M18.56 5.44l.94 2.06.94-2.06 2.06-.94-2.06-.94-.94-2.06-.94 2.06-2.06.94zm-11 1L8.5 8.5l.94-2.06 2.06-.94-2.06-.94L8.5 2.5l-.94 2.06-2.06.94zm10 10l.94 2.06.94-2.06 2.06-.94-2.06-.94-.94-2.06-.94 2.06-2.06.94z\"/><path d=\"M17.41 7.96l-1.37-1.37c-.4-.4-.92-.59-1.43-.59-.52 0-1.04.2-1.43.59L10.3 9.45l-7.72 7.72c-.78.78-.78 2.05 0 2.83L4 21.41c.39.39.9.59 1.41.59.51 0 1.02-.2 1.41-.59l7.78-7.78 2.81-2.81c.8-.78.8-2.07 0-2.86zM5.41 20L4 18.59l7.72-7.72 1.47 1.35L5.41 20z\"/>\n",
              "  </svg>\n",
              "      </button>\n",
              "      \n",
              "  <style>\n",
              "    .colab-df-container {\n",
              "      display:flex;\n",
              "      flex-wrap:wrap;\n",
              "      gap: 12px;\n",
              "    }\n",
              "\n",
              "    .colab-df-convert {\n",
              "      background-color: #E8F0FE;\n",
              "      border: none;\n",
              "      border-radius: 50%;\n",
              "      cursor: pointer;\n",
              "      display: none;\n",
              "      fill: #1967D2;\n",
              "      height: 32px;\n",
              "      padding: 0 0 0 0;\n",
              "      width: 32px;\n",
              "    }\n",
              "\n",
              "    .colab-df-convert:hover {\n",
              "      background-color: #E2EBFA;\n",
              "      box-shadow: 0px 1px 2px rgba(60, 64, 67, 0.3), 0px 1px 3px 1px rgba(60, 64, 67, 0.15);\n",
              "      fill: #174EA6;\n",
              "    }\n",
              "\n",
              "    [theme=dark] .colab-df-convert {\n",
              "      background-color: #3B4455;\n",
              "      fill: #D2E3FC;\n",
              "    }\n",
              "\n",
              "    [theme=dark] .colab-df-convert:hover {\n",
              "      background-color: #434B5C;\n",
              "      box-shadow: 0px 1px 3px 1px rgba(0, 0, 0, 0.15);\n",
              "      filter: drop-shadow(0px 1px 2px rgba(0, 0, 0, 0.3));\n",
              "      fill: #FFFFFF;\n",
              "    }\n",
              "  </style>\n",
              "\n",
              "      <script>\n",
              "        const buttonEl =\n",
              "          document.querySelector('#df-8a30940c-c9cb-4891-991a-d074e5497064 button.colab-df-convert');\n",
              "        buttonEl.style.display =\n",
              "          google.colab.kernel.accessAllowed ? 'block' : 'none';\n",
              "\n",
              "        async function convertToInteractive(key) {\n",
              "          const element = document.querySelector('#df-8a30940c-c9cb-4891-991a-d074e5497064');\n",
              "          const dataTable =\n",
              "            await google.colab.kernel.invokeFunction('convertToInteractive',\n",
              "                                                     [key], {});\n",
              "          if (!dataTable) return;\n",
              "\n",
              "          const docLinkHtml = 'Like what you see? Visit the ' +\n",
              "            '<a target=\"_blank\" href=https://colab.research.google.com/notebooks/data_table.ipynb>data table notebook</a>'\n",
              "            + ' to learn more about interactive tables.';\n",
              "          element.innerHTML = '';\n",
              "          dataTable['output_type'] = 'display_data';\n",
              "          await google.colab.output.renderOutput(dataTable, element);\n",
              "          const docLink = document.createElement('div');\n",
              "          docLink.innerHTML = docLinkHtml;\n",
              "          element.appendChild(docLink);\n",
              "        }\n",
              "      </script>\n",
              "    </div>\n",
              "  </div>\n",
              "  "
            ]
          },
          "metadata": {},
          "execution_count": 51
        }
      ]
    },
    {
      "cell_type": "markdown",
      "source": [
        "---"
      ],
      "metadata": {
        "id": "7wOUnFEJ8OkD"
      }
    },
    {
      "cell_type": "markdown",
      "source": [
        "_______"
      ],
      "metadata": {
        "id": "n8MgUVbiDuAb"
      }
    },
    {
      "cell_type": "markdown",
      "source": [
        "Definindo as funções necessárias:\n",
        "\n",
        "*Split_data*: pega o valor da coluna de datas e separa em uma lista [ano, mes dia]\n",
        "\n",
        "*extrair_lista*: cria listas com ano, mes e dia separadamente para uso futuro "
      ],
      "metadata": {
        "id": "ZKTzFjHzHujd"
      }
    },
    {
      "cell_type": "code",
      "source": [
        "def split_data(coluna,caracter_separador):\n",
        "  lista_split=coluna.str.split(caracter_separador)\n",
        "  return(lista_split)\n",
        "\n",
        "def extrair_lista(lista,indice):\n",
        "  lista_construida=[]\n",
        "  for i in range(0,len(lista)):\n",
        "    lista_construida.append(int(lista[i][indice]))\n",
        "  return lista_construida"
      ],
      "metadata": {
        "id": "tF8vX4fNFvn9"
      },
      "execution_count": 52,
      "outputs": []
    },
    {
      "cell_type": "markdown",
      "source": [
        "Aplicando as funções acima e em variáveis de armazenamento"
      ],
      "metadata": {
        "id": "Cjg8TvpHJf3F"
      }
    },
    {
      "cell_type": "code",
      "source": [
        "separados_dias_anos_inicial=split_data(dataset_gas_limpo['DATA INICIAL'],'-')\n",
        "\n",
        "separados_dias_anos_final=split_data(dataset_gas_limpo['DATA FINAL'],'-')\n",
        "\n",
        "separados_dias_anos_final"
      ],
      "metadata": {
        "colab": {
          "base_uri": "https://localhost:8080/"
        },
        "id": "RXjJ0mHAJimd",
        "outputId": "f8e91ee3-47b1-4930-8b70-a416ffebdc11"
      },
      "execution_count": 53,
      "outputs": [
        {
          "output_type": "execute_result",
          "data": {
            "text/plain": [
              "0         [2004, 05, 15]\n",
              "1         [2004, 05, 15]\n",
              "2         [2004, 05, 15]\n",
              "3         [2004, 05, 15]\n",
              "4         [2004, 05, 15]\n",
              "               ...      \n",
              "115879    [2020, 08, 22]\n",
              "115880    [2020, 08, 22]\n",
              "115881    [2020, 08, 22]\n",
              "115882    [2020, 08, 22]\n",
              "115883    [2020, 08, 22]\n",
              "Name: DATA FINAL, Length: 111875, dtype: object"
            ]
          },
          "metadata": {},
          "execution_count": 53
        }
      ]
    },
    {
      "cell_type": "code",
      "source": [
        "# anos_inicial=extrair_lista(separados_dias_anos_inicial,0)\n",
        "# meses_inicial=extrair_lista(separados_dias_anos_inicial,1)\n",
        "# dias_inicial=extrair_lista(separados_dias_anos_inicial,2)\n",
        "# anos_final=extrair_lista(separados_dias_anos_final,0)\n",
        "# meses_final=extrair_lista(separados_dias_anos_final,1)\n",
        "# dias_final=extrair_lista(separados_dias_anos_final,2)\n"
      ],
      "metadata": {
        "id": "BpW3f5uHLhtV"
      },
      "execution_count": 54,
      "outputs": []
    },
    {
      "cell_type": "markdown",
      "source": [
        "Colocar as listas no dataframe\n",
        "\n",
        "\n"
      ],
      "metadata": {
        "id": "DByHRXhfKkG4"
      }
    },
    {
      "cell_type": "code",
      "source": [
        "# dataset_gas_limpo['DIA INICIAL']=dias_inicial\n",
        "# dataset_gas_limpo['MES INICIAL']=meses_inicial\n",
        "# dataset_gas_limpo['ANO INICIAL']=anos_inicial\n",
        "# dataset_gas_limpo['DIA FINAL']=dias_final\n",
        "# dataset_gas_limpo['MES FINAL']=meses_final\n",
        "# dataset_gas_limpo['ANO FINAL']=anos_final"
      ],
      "metadata": {
        "id": "Im7p5ttPMjWv"
      },
      "execution_count": 55,
      "outputs": []
    },
    {
      "cell_type": "markdown",
      "source": [
        "_________"
      ],
      "metadata": {
        "id": "HKFIH65HDyxN"
      }
    }
  ]
}