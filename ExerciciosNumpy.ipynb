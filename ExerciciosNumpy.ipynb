{
  "cells": [
    {
      "cell_type": "markdown",
      "metadata": {
        "colab_type": "text",
        "id": "view-in-github"
      },
      "source": [
        "<a href=\"https://colab.research.google.com/github/VitorFRodrigues/tecprog1_Vitor_Rodrigues/blob/main/ExerciciosNumpy.ipynb\" target=\"_parent\"><img src=\"https://colab.research.google.com/assets/colab-badge.svg\" alt=\"Open In Colab\"/></a>"
      ]
    },
    {
      "cell_type": "markdown",
      "metadata": {
        "id": "dDhJSUbSE6hI"
      },
      "source": [
        "# Lista de Exercícios de Numpy\n",
        "\n",
        "Deverá ser entrege até **11/02/2023** por meio do github que foi informado por vocês no [formulário](https://forms.office.com/r/YV12vEXGYF) respondido na aula de 01/02.\n",
        "\n",
        "A entrega pela github é parte da avaliação."
      ]
    },
    {
      "cell_type": "code",
      "execution_count": 1,
      "metadata": {
        "id": "rBiW_u_ZcAeC"
      },
      "outputs": [],
      "source": [
        "import numpy as np"
      ]
    },
    {
      "cell_type": "markdown",
      "metadata": {
        "id": "eX5x6-bjE6hN"
      },
      "source": [
        "## Questão 1\n",
        "\n",
        "Crie um array 100 com valores aleatórios e ache os valores máximo e mínimo"
      ]
    },
    {
      "cell_type": "code",
      "execution_count": 2,
      "metadata": {
        "colab": {
          "base_uri": "https://localhost:8080/"
        },
        "id": "kYKS_ae1E6hP",
        "outputId": "631d01a3-56f7-48c9-943e-7c82db0fc960"
      },
      "outputs": [
        {
          "name": "stdout",
          "output_type": "stream",
          "text": [
            "Array: [ 76  24   6  46  16   7  59   8  88  83  16  81  35  14  73  85  81  94\n",
            "  68  80  59   1  50   2  77   4  20  49  99  85  26  77  26  89  56  40\n",
            " 100  90  88  71  43  92  87  45  57  52  37  16  14  57  82  94  84  83\n",
            "  12  82  97  87  76  39  99  83  28  16  27  91  23  45  72  97  90  80\n",
            "  53  88  53  54  20  15  97  36  20  99  11  17  78  32  79  62  53  97\n",
            "   2  92  54  95  10  57  30  13  57  52]\n",
            "Valor máximo: 100\n",
            "Valor minimo: 1\n"
          ]
        }
      ],
      "source": [
        "arr = np.random.randint(1,101,100)\n",
        "arr_max = arr.max()\n",
        "arr_min = arr.min()\n",
        "print(f'Array: {arr}\\nValor máximo: {arr_max}\\nValor minimo: {arr_min}')"
      ]
    },
    {
      "cell_type": "code",
      "execution_count": 3,
      "metadata": {
        "id": "6Od5aiW2csI5"
      },
      "outputs": [],
      "source": [
        "# np.random.rand() dará valores aleatórios entre 0 e 1. Para modificar o intervalo deve ser feito:\n",
        "# Intervalo [Inicio,Fim]\n",
        "# arr = np.random.rand(100)*(Fim-Inicio) + Inicio"
      ]
    },
    {
      "cell_type": "markdown",
      "metadata": {
        "id": "qT9pSHp4E6hQ"
      },
      "source": [
        "## Questão 2\n",
        "Em Geometria Analítica, um **vetor** é uma quantidade que pode ser definida por um énuplo (uma sequência ordenada de *n* elementos) em que cada elemento representa a intensidade do vetor na direção especificada pela i-ésima componente desta sequência. \n",
        "\n",
        "Quando pensamos em duas dimensões, por exemplo, o vetor $R = (b,a)$ define, geometricamente, a entidade representada na figura abaixo, com componentes nos eixos x e y usuais.\n",
        "\n",
        "<img src = \"https://static.todamateria.com.br/upload/im/ag/image-721.jpg?auto_optimize=low\" />\n",
        "\n",
        "O **módulo** deste vetor, também chamado de intensidade, está geometricamente relacionado ao seu comprimento, e pode ser calculado diretamente pelas suas componentes, por meio de uma operação conhecida como **produto escalar** do vetor com ele mesmo. O módulo quadrático é expresso, desta forma, por:\n",
        "\n",
        "$|A|^2 = \\vec{A} \\cdot \\vec{A}$\n",
        "\n",
        "Por outro lado, o produto escalar entre dois vetores $A = (a_{x}, a_{y})$ e $B = (b_{x}, b_{y})$ é dado por:\n",
        "\n",
        "$\\vec{A} \\cdot \\vec{B} = a_{x} \\times b_{x} + a_{y} \\times b_{y}$ (e esta definição vale para qualquer que seja a dimensão do vetor).\n",
        "\n",
        "O módulo quadrático de um vetor é, portanto:\n",
        "\n",
        "$|A|² = a_{x}^2 + b_{x}^2$."
      ]
    },
    {
      "cell_type": "markdown",
      "metadata": {
        "id": "-ZU6W86sE6hT"
      },
      "source": [
        "Dado o exposto acima, escreva uma função que retorne o módulo de um vetor n-dimensional qualquer."
      ]
    },
    {
      "cell_type": "code",
      "execution_count": 4,
      "metadata": {
        "id": "PdKKKvShE6hT"
      },
      "outputs": [],
      "source": [
        "def modulo_vetor(arr):\n",
        "  mod = np.sqrt((arr**2).sum())\n",
        "  return mod"
      ]
    },
    {
      "cell_type": "code",
      "execution_count": 5,
      "metadata": {
        "colab": {
          "base_uri": "https://localhost:8080/"
        },
        "id": "rC8wcfl1e6Ai",
        "outputId": "241dc6ee-30ff-416c-9bec-693b96b1b412"
      },
      "outputs": [
        {
          "name": "stdout",
          "output_type": "stream",
          "text": [
            "Vetor: [3 4]\n",
            "Modulo: 5.0\n"
          ]
        }
      ],
      "source": [
        "vetor = np.array([3, 4])\n",
        "modulo = modulo_vetor(vetor)\n",
        "print(f'Vetor: {vetor}\\nModulo: {modulo}')"
      ]
    },
    {
      "cell_type": "markdown",
      "metadata": {
        "id": "CRZdfzLgE6hU"
      },
      "source": [
        "## Questão 3\n",
        "\n",
        "Em uma **análise de regressão**, usualmente estamos interessados em descrever relações entre variáveis de um dado conjunto de dados por meio de uma **função** que descreva, o tanto quanto possível, estas relações.\n",
        "\n",
        "Por exemplo, no gráfico abaixo, os pontos vermelhos relacionam as medidas das duas variáveis sendo avaliadas (nos eixos x e y); e a linha azul aproxima a relação entre elas por uma função linear."
      ]
    },
    {
      "cell_type": "markdown",
      "metadata": {
        "id": "180Vp7AZE6hV"
      },
      "source": [
        "![Normdist_regression.png](https://miro.medium.com/v2/resize:fit:786/format:webp/1*LEmBCYAttxS6uI6rEyPLMQ.png)"
      ]
    },
    {
      "cell_type": "markdown",
      "metadata": {
        "id": "oQ1RFXOAE6hV"
      },
      "source": [
        "É possível ver que nem todos os pontos obedecem exatamente à relação ditada pela reta (isto é, há pontos que não estão exatamente \"sobre a reta\"; mas, sim, ligeraimente acima, ou abaixo, dela). Isto, contudo, é esperado em um modelo de regressão, por inúmeras fontes de incerteza associadas às medições."
      ]
    },
    {
      "cell_type": "markdown",
      "metadata": {
        "id": "XGWoc_O2E6hW"
      },
      "source": [
        "Uma das métricas que utilizamos para avaliar a qualidade de uma regressão é o **erro quadrático médio (EQM)**, que mensura a diferença total entre cada predição da regressão ($y_{prediction}$; que no nosso caso seriam os valores de y para a reta azul) com o valor real de cada i-ésima medida ($y_{i}$; que no nosso caso seriam as coordenadas y para cada ponto vermelho do gráfico). O EQM pode ser definido como:"
      ]
    },
    {
      "cell_type": "markdown",
      "metadata": {
        "id": "CjgOdTD6E6hX"
      },
      "source": [
        "$EQM = \\frac{1}{n}\\sum_{i=1}^{n}(y_{prediction} - y_{i})^2$."
      ]
    },
    {
      "cell_type": "markdown",
      "metadata": {
        "id": "qeXCrbmbE6hY"
      },
      "source": [
        "Isto posto, escreva uma função que calcule o EQM recebendo, como entrada, os vetores $y_{prediction}$ e $y_{i}$. Por exemplo, digamos que sua função se chame *calculate_eqm*, ela deve operar da seguinte forma:"
      ]
    },
    {
      "cell_type": "code",
      "execution_count": 7,
      "metadata": {
        "colab": {
          "base_uri": "https://localhost:8080/"
        },
        "id": "mW1BDfUcE6hZ",
        "outputId": "00dc8e08-a3ec-4488-f480-61bf4ae2532b"
      },
      "outputs": [
        {
          "data": {
            "text/plain": [
              "1.6666666666666667"
            ]
          },
          "execution_count": 7,
          "metadata": {},
          "output_type": "execute_result"
        }
      ],
      "source": [
        "# dados dois arrays quaisquer de mesmo tamanho, a função deve retornar o EQM\n",
        "y_prediction = np.array([1,2,3])\n",
        "y_i = np.array([0,0,3])\n",
        "calculate_eqm(y_prediction,y_i)"
      ]
    },
    {
      "cell_type": "code",
      "execution_count": 6,
      "metadata": {
        "id": "bwiTGuuoE6hb"
      },
      "outputs": [],
      "source": [
        "# Solução\n",
        "def calculate_eqm(y_pred, y_i):\n",
        "  dif_quad = (y_pred - y_i)**2\n",
        "  EQM = dif_quad.sum()/y_pred.size\n",
        "  return EQM"
      ]
    },
    {
      "cell_type": "markdown",
      "metadata": {
        "id": "Wh0_a8PjE6hc"
      },
      "source": [
        "## Questão 4\n",
        "\n",
        "Crie um array 2D (bidimensional) com 1 na borda e 0 dentro"
      ]
    },
    {
      "cell_type": "code",
      "execution_count": 8,
      "metadata": {
        "id": "hV3jcE8QoXtQ"
      },
      "outputs": [],
      "source": [
        "def matriz_bordada(line, column):\n",
        "  dim = (line, column)\n",
        "  m_bord = np.zeros(dim)\n",
        "  m_bord[:, 0] = 1\n",
        "  m_bord[0, :] = 1\n",
        "  m_bord[-1, :] = 1\n",
        "  m_bord[:, -1] = 1\n",
        "  return m_bord"
      ]
    },
    {
      "cell_type": "code",
      "execution_count": 9,
      "metadata": {
        "colab": {
          "base_uri": "https://localhost:8080/"
        },
        "id": "yLEWRN9inrD7",
        "outputId": "7825871b-945d-43e1-a7fe-6ce05b5f9883"
      },
      "outputs": [
        {
          "data": {
            "text/plain": [
              "array([[1., 1., 1., 1., 1., 1., 1., 1., 1., 1.],\n",
              "       [1., 0., 0., 0., 0., 0., 0., 0., 0., 1.],\n",
              "       [1., 0., 0., 0., 0., 0., 0., 0., 0., 1.],\n",
              "       [1., 0., 0., 0., 0., 0., 0., 0., 0., 1.],\n",
              "       [1., 1., 1., 1., 1., 1., 1., 1., 1., 1.]])"
            ]
          },
          "execution_count": 9,
          "metadata": {},
          "output_type": "execute_result"
        }
      ],
      "source": [
        "matriz_bordada(5,10)"
      ]
    },
    {
      "cell_type": "markdown",
      "metadata": {
        "id": "U1CntgkZE6hc"
      },
      "source": [
        "## Questão 5\n",
        "\n",
        "Como adicionar uma borda de 0's ao redor de um array 2D (bidimensional) existente"
      ]
    },
    {
      "cell_type": "code",
      "execution_count": 10,
      "metadata": {
        "id": "0-gMnSH-v7UW"
      },
      "outputs": [],
      "source": [
        "def zero_borda(data):\n",
        "  # Armazenando qtde de linhas e colunas em variável\n",
        "  lin = data.shape[0]\n",
        "  col = data.shape[1]\n",
        "  # Executando matriz linhas e colunas com zeros\n",
        "  m_lin = np.zeros((1,col))\n",
        "  m_col = np.zeros((lin+2,1))\n",
        "  # Concatenando as matrizes zero na matriz recebida\n",
        "  zero_borda = np.concatenate((data, m_lin), axis=0)\n",
        "  zero_borda = np.concatenate((m_lin, zero_borda), axis=0)\n",
        "  zero_borda = np.concatenate((m_col, zero_borda), axis=1)\n",
        "  zero_borda = np.concatenate((zero_borda, m_col), axis=1)\n",
        "  return zero_borda"
      ]
    },
    {
      "cell_type": "code",
      "execution_count": 11,
      "metadata": {
        "colab": {
          "base_uri": "https://localhost:8080/"
        },
        "id": "8YrjJpydxoJW",
        "outputId": "ed113b98-ff6e-4875-ad8f-87d8c178aad4"
      },
      "outputs": [
        {
          "data": {
            "text/plain": [
              "array([[0., 0., 0., 0.],\n",
              "       [0., 1., 2., 0.],\n",
              "       [0., 5., 3., 0.],\n",
              "       [0., 4., 6., 0.],\n",
              "       [0., 0., 0., 0.]])"
            ]
          },
          "execution_count": 11,
          "metadata": {},
          "output_type": "execute_result"
        }
      ],
      "source": [
        "a = np.array([[1,2],[5,3],[4,6]])\n",
        "zero_borda(a)"
      ]
    },
    {
      "cell_type": "markdown",
      "metadata": {
        "id": "qHh149eAE6hd"
      },
      "source": [
        "## Questão 6\n",
        "\n",
        " A eletroencefalografia (EEG) é uma técnica que mensura potenciais elétricos cerebrais em diversas regiões do escalpo do paciente. Suponha que você recebeu um conjunto de dados na forma de uma matriz de 64 x 512 elementos, em que cada linha contém o sinal gravado em um dos **eletrodos** espalhados pelo escalpo em um exame de EEG, e cada coluna contém um valor de potencial elétrico, em microvolts. "
      ]
    },
    {
      "cell_type": "markdown",
      "metadata": {
        "id": "BRDY8u09E6hd"
      },
      "source": [
        "Como o sinal de EEG é muito suscetível a ruídos externos (interferências na qualidade do sinal), uma operação comum para atenuar a interferência no sinal consiste em tirar a média do potencial elétrico de todos os eletrodos, e subtrair este valor de cada um deles. Isto atenua fontes de ruído ao sinal comuns a todos os eletrodos. Em termos matemáticos, o sinal processado por esta operação, $X_{e,i}$ para cada eletrodo (e) e amostra (i), é dado por:"
      ]
    },
    {
      "cell_type": "markdown",
      "metadata": {
        "id": "NHLeT5deE6he"
      },
      "source": [
        "$X_{e,i} = \\hat{X_{e,i}} - \\frac{1}{N}\\sum_{e=1}^{N}\\hat{X_{e,i}}$,\n",
        "\n",
        "em que $\\hat{X_{e,i}}$ representa o sinal original (ou seja, é a matriz de entrada de 64 x 512 elementos), e $N$ indica o total de eletrodos."
      ]
    },
    {
      "cell_type": "markdown",
      "metadata": {
        "id": "ToiE-omdE6he"
      },
      "source": [
        "Com o exposto acima, escreva uma função que retorne uma matriz com os sinais de EEG processados conforme a operação mencionada. Sua função deve operar conforme o exemplo abaixo."
      ]
    },
    {
      "cell_type": "code",
      "execution_count": 14,
      "metadata": {
        "colab": {
          "base_uri": "https://localhost:8080/"
        },
        "id": "EgsEH6T-E6hf",
        "outputId": "dcbf1c67-a798-4bb1-89bc-d60446f59cb7"
      },
      "outputs": [
        {
          "data": {
            "text/plain": [
              "(64, 512)"
            ]
          },
          "execution_count": 14,
          "metadata": {},
          "output_type": "execute_result"
        }
      ],
      "source": [
        "# vamos supor uma matriz de entrada gerada por dados aleatórios\n",
        "X = np.random.randn(64,512)\n",
        "X.shape # apenas para verificar as dimensões"
      ]
    },
    {
      "cell_type": "code",
      "execution_count": 15,
      "metadata": {
        "colab": {
          "base_uri": "https://localhost:8080/"
        },
        "id": "gXsgtYEJE6hg",
        "outputId": "278d96fc-2470-44e4-c008-5ae30bf3d1a4"
      },
      "outputs": [
        {
          "name": "stdout",
          "output_type": "stream",
          "text": [
            "Media: 0.0074066829534309864\n"
          ]
        },
        {
          "data": {
            "text/plain": [
              "(64, 512)"
            ]
          },
          "execution_count": 15,
          "metadata": {},
          "output_type": "execute_result"
        }
      ],
      "source": [
        "# a função deve executar a operação equacionada anteriormente, retornando uma nova matriz\n",
        "X_processado = process_EEG_signal(X)\n",
        "X_processado.shape"
      ]
    },
    {
      "cell_type": "code",
      "execution_count": 16,
      "metadata": {
        "colab": {
          "base_uri": "https://localhost:8080/"
        },
        "id": "mR_U9LEbE6hh",
        "outputId": "e625f79c-ee23-4aed-ef91-aa746e075c0c"
      },
      "outputs": [
        {
          "data": {
            "text/plain": [
              "-242.70218701802614"
            ]
          },
          "execution_count": 16,
          "metadata": {},
          "output_type": "execute_result"
        }
      ],
      "source": [
        "# Somando as diferenças entre cada elemento das duas matrizes, apenas para ilustrar que elas não são iguais\n",
        "(X_processado - X).sum()"
      ]
    },
    {
      "cell_type": "code",
      "execution_count": 17,
      "metadata": {
        "colab": {
          "base_uri": "https://localhost:8080/"
        },
        "id": "HkoRtLugE6hh",
        "outputId": "8298ac15-fc37-4119-a56a-a47d02575baf"
      },
      "outputs": [
        {
          "data": {
            "text/plain": [
              "array([[ 0.59902781,  0.1484676 ,  1.75180008, ...,  0.21638197,\n",
              "         0.00774071, -0.09293061],\n",
              "       [-0.22863584, -0.52471579, -1.25647739, ...,  1.06137533,\n",
              "        -0.00636608, -0.53243449],\n",
              "       [ 0.39345576, -2.98635232,  1.85521472, ...,  0.53883779,\n",
              "        -0.03903432,  1.69824897],\n",
              "       ...,\n",
              "       [ 0.69275264,  1.26740061, -0.54422276, ...,  0.04243515,\n",
              "        -1.24335328,  1.00566562],\n",
              "       [ 0.53789079, -0.62257919, -0.32719915, ...,  1.2518571 ,\n",
              "        -1.0533378 , -0.43130688],\n",
              "       [-0.70855669,  1.7022612 ,  0.61379738, ..., -1.63171413,\n",
              "        -0.65806365, -0.50954891]])"
            ]
          },
          "execution_count": 17,
          "metadata": {},
          "output_type": "execute_result"
        }
      ],
      "source": [
        "# Visualizando as matrizes, para verificar uma vez mais que, de fato, os elementos são diferentes\n",
        "X"
      ]
    },
    {
      "cell_type": "code",
      "execution_count": 18,
      "metadata": {
        "colab": {
          "base_uri": "https://localhost:8080/"
        },
        "id": "kGdBX0J-E6hi",
        "outputId": "cd6cb70b-cc1a-44b8-c5e8-2a6deeda607f"
      },
      "outputs": [
        {
          "data": {
            "text/plain": [
              "array([[ 5.91621123e-01,  1.41060913e-01,  1.74439340e+00, ...,\n",
              "         2.08975290e-01,  3.34023872e-04, -1.00337293e-01],\n",
              "       [-2.36042524e-01, -5.32122473e-01, -1.26388408e+00, ...,\n",
              "         1.05396865e+00, -1.37727580e-02, -5.39841172e-01],\n",
              "       [ 3.86049075e-01, -2.99375900e+00,  1.84780803e+00, ...,\n",
              "         5.31431110e-01, -4.64410011e-02,  1.69084229e+00],\n",
              "       ...,\n",
              "       [ 6.85345960e-01,  1.25999393e+00, -5.51629440e-01, ...,\n",
              "         3.50284663e-02, -1.25075997e+00,  9.98258937e-01],\n",
              "       [ 5.30484104e-01, -6.29985871e-01, -3.34605833e-01, ...,\n",
              "         1.24445042e+00, -1.06074448e+00, -4.38713560e-01],\n",
              "       [-7.15963370e-01,  1.69485452e+00,  6.06390699e-01, ...,\n",
              "        -1.63912081e+00, -6.65470335e-01, -5.16955592e-01]])"
            ]
          },
          "execution_count": 18,
          "metadata": {},
          "output_type": "execute_result"
        }
      ],
      "source": [
        "# Matriz após o processamento descrito no enunciado\n",
        "X_processado"
      ]
    },
    {
      "cell_type": "code",
      "execution_count": 13,
      "metadata": {
        "id": "OlxjvCnQE6hj"
      },
      "outputs": [],
      "source": [
        "# Solução\n",
        "def process_EEG_signal(X):\n",
        "  media = X.sum()/X.size\n",
        "  print(f'Media: {media}')\n",
        "  X_process = X - media\n",
        "  return X_process"
      ]
    },
    {
      "cell_type": "markdown",
      "metadata": {
        "id": "7Gy6nTwQE6hj"
      },
      "source": [
        "## Questão 7\n",
        "\n",
        "Em estatística, um **outlier** é um valor que destoa consideravelmente da distribuição à qual está associado. Um dos critérios para idenficar outliers consiste em encontrar a **distância interquantil** (IQR), ou seja, a diferença entre o terceiro (Q3) e o primeiro quartis (Q1) da distribuição, e tomar como outliers todos os pontos abaixo de 1.5*IQR - Q1, ou acima de 1.5*IQR + Q3."
      ]
    },
    {
      "cell_type": "markdown",
      "metadata": {
        "id": "CP-NkMHTE6hk"
      },
      "source": [
        "<img src = \"https://blog.curso-r.com/images/posts/banner/outlier.webp\" />"
      ]
    },
    {
      "cell_type": "markdown",
      "metadata": {
        "id": "BLDJN5JPE6hk"
      },
      "source": [
        "Escreva uma função que, dada uma matriz de dados de entrada de dimensões $N_{observações} \\times N_{features}$ retorne três requisitos: \n",
        "- uma matriz booleana indicando a existência de outliers nos dados de entrada;\n",
        "- a quantidade de outliers\n",
        "- quem são os outliers (os valores)."
      ]
    },
    {
      "cell_type": "markdown",
      "metadata": {
        "id": "wwVcP2uZE6hl"
      },
      "source": [
        "**Algumas definições:**\n",
        "- um *quantil* divide a distribuição, após ordenados os pontos, segundo algum ponto de corte;\n",
        "- o **primeiro quartil** é o ponto para o qual 25 % dos valores da distribuição estão abaixo dele;\n",
        "- o **terceiro quartil** é o ponto para o qual 75 % dos valores da distribuição estão abaixo dele.\n",
        "\n",
        "Pode ser útil consultar a função **numpy.quantile**."
      ]
    },
    {
      "cell_type": "markdown",
      "metadata": {
        "id": "C9nCKXhjE6hm"
      },
      "source": [
        "Exemplo de operação da função:"
      ]
    },
    {
      "cell_type": "code",
      "execution_count": 20,
      "metadata": {
        "colab": {
          "base_uri": "https://localhost:8080/"
        },
        "id": "wHdcs77RE6hm",
        "outputId": "1badeb58-a35a-46d9-ac88-e08f792f6914"
      },
      "outputs": [
        {
          "data": {
            "text/plain": [
              "array([[-0.78583776,  0.17800818,  0.48485605, ..., -1.1813277 ,\n",
              "        -0.48528758, -0.10836213],\n",
              "       [ 0.10223314, -1.36120755, -0.05642711, ...,  0.48813133,\n",
              "         0.49393159, -0.78526894],\n",
              "       [-0.20449161, -0.42343826,  0.81833813, ..., -0.24057684,\n",
              "        -0.93269023, -0.22255495],\n",
              "       ...,\n",
              "       [ 0.09465284, -0.00337108, -0.59412884, ..., -0.28804317,\n",
              "        -0.619623  , -0.07222715],\n",
              "       [ 1.39721335, -0.72030368,  0.30118502, ...,  0.55107773,\n",
              "         0.31064211,  1.86034137],\n",
              "       [-0.18439953, -0.42133861, -0.57967809, ...,  0.37680213,\n",
              "         0.38363906,  1.83917673]])"
            ]
          },
          "execution_count": 20,
          "metadata": {},
          "output_type": "execute_result"
        }
      ],
      "source": [
        "# Geremos um conjunto de dados qualquer\n",
        "X = np.random.randn(300,15)\n",
        "X"
      ]
    },
    {
      "cell_type": "code",
      "execution_count": 21,
      "metadata": {
        "colab": {
          "base_uri": "https://localhost:8080/"
        },
        "id": "KVe7LEW0E6hn",
        "outputId": "cc8031b9-ca23-4363-c1ae-28a51d1652ad"
      },
      "outputs": [
        {
          "name": "stdout",
          "output_type": "stream",
          "text": [
            "Primeiro quartil (25%): -0.6836839575039974\n",
            "Terceiro quartil (75%): 0.6663847838425603\n"
          ]
        }
      ],
      "source": [
        "# identificamos os requisitos com nossa com nossa função \"locate_outliers\"\n",
        "is_outlier, outliers_count, outliers = locate_outliers(X)"
      ]
    },
    {
      "cell_type": "code",
      "execution_count": 22,
      "metadata": {
        "colab": {
          "base_uri": "https://localhost:8080/"
        },
        "id": "vuZ3n3K_E6hn",
        "outputId": "3f275d2b-d7a0-4824-ee4f-07701d4a7130"
      },
      "outputs": [
        {
          "data": {
            "text/plain": [
              "array([[False,  True,  True, ..., False,  True,  True],\n",
              "       [ True, False,  True, ...,  True,  True, False],\n",
              "       [ True,  True, False, ...,  True, False,  True],\n",
              "       ...,\n",
              "       [ True,  True,  True, ...,  True,  True,  True],\n",
              "       [False, False,  True, ...,  True,  True, False],\n",
              "       [ True,  True,  True, ...,  True,  True, False]])"
            ]
          },
          "execution_count": 22,
          "metadata": {},
          "output_type": "execute_result"
        }
      ],
      "source": [
        "is_outlier"
      ]
    },
    {
      "cell_type": "code",
      "execution_count": 23,
      "metadata": {
        "colab": {
          "base_uri": "https://localhost:8080/"
        },
        "id": "IzjWsBrZE6ho",
        "outputId": "db2d2cf4-7b47-4223-8d10-dfa44d978f20"
      },
      "outputs": [
        {
          "data": {
            "text/plain": [
              "2250"
            ]
          },
          "execution_count": 23,
          "metadata": {},
          "output_type": "execute_result"
        }
      ],
      "source": [
        "outliers_count"
      ]
    },
    {
      "cell_type": "code",
      "execution_count": 24,
      "metadata": {
        "colab": {
          "base_uri": "https://localhost:8080/"
        },
        "id": "PbO7R7P2E6hp",
        "outputId": "c973b561-2dcc-44f1-8754-16aff1b683ec"
      },
      "outputs": [
        {
          "data": {
            "text/plain": [
              "array([ 0.17800818,  0.48485605, -0.34853209, ..., -0.21474433,\n",
              "        0.37680213,  0.38363906])"
            ]
          },
          "execution_count": 24,
          "metadata": {},
          "output_type": "execute_result"
        }
      ],
      "source": [
        "outliers"
      ]
    },
    {
      "cell_type": "code",
      "execution_count": 25,
      "metadata": {
        "id": "AdTkst5UE6hq"
      },
      "outputs": [],
      "source": [
        "# Solução\n",
        "def locate_outliers(X):\n",
        "  quartil_25 = np.quantile(X, 0.25)\n",
        "  print(f'Primeiro quartil (25%): {quartil_25}')\n",
        "  quartil_75 = np.quantile(X, 0.75)\n",
        "  print(f'Terceiro quartil (75%): {quartil_75}')\n",
        "  is_outlier = np.where(((X > quartil_25) & (X < quartil_75)), True, False)\n",
        "  outliers_count = np.count_nonzero(X*is_outlier)\n",
        "  outliers = X[((X > quartil_25) & (X < quartil_75))]\n",
        "  return is_outlier, outliers_count, outliers"
      ]
    },
    {
      "cell_type": "markdown",
      "metadata": {
        "id": "FfmRksv2-HIQ"
      },
      "source": [
        "Execução de exemplo prático para checar se a função *locate_outliers* está funcionando corretamente:"
      ]
    },
    {
      "cell_type": "code",
      "execution_count": 26,
      "metadata": {
        "colab": {
          "base_uri": "https://localhost:8080/"
        },
        "id": "2xRm8Lwn9P8X",
        "outputId": "6e82c848-b200-4040-96dd-17bc9424cb33"
      },
      "outputs": [
        {
          "name": "stdout",
          "output_type": "stream",
          "text": [
            "[[1 2 3]\n",
            " [4 5 6]]\n",
            "Primeiro quartil (25%): 2.25\n",
            "Terceiro quartil (75%): 4.75\n"
          ]
        }
      ],
      "source": [
        "a = np.array([[1, 2, 3], [4, 5, 6]])\n",
        "print(a)\n",
        "is_outlier, outliers_count, outliers = locate_outliers(a)"
      ]
    },
    {
      "cell_type": "code",
      "execution_count": 27,
      "metadata": {
        "colab": {
          "base_uri": "https://localhost:8080/"
        },
        "id": "nbUfjgDs9Ps8",
        "outputId": "8934e3cd-3fab-4877-e78e-310a0ea1014e"
      },
      "outputs": [
        {
          "data": {
            "text/plain": [
              "array([[False, False,  True],\n",
              "       [ True, False, False]])"
            ]
          },
          "execution_count": 27,
          "metadata": {},
          "output_type": "execute_result"
        }
      ],
      "source": [
        "is_outlier"
      ]
    },
    {
      "cell_type": "code",
      "execution_count": 28,
      "metadata": {
        "colab": {
          "base_uri": "https://localhost:8080/"
        },
        "id": "K6LBqaW09tjq",
        "outputId": "5d6f3ced-ad40-4c8f-a59f-fed00be4a00c"
      },
      "outputs": [
        {
          "data": {
            "text/plain": [
              "2"
            ]
          },
          "execution_count": 28,
          "metadata": {},
          "output_type": "execute_result"
        }
      ],
      "source": [
        "outliers_count"
      ]
    },
    {
      "cell_type": "code",
      "execution_count": 29,
      "metadata": {
        "colab": {
          "base_uri": "https://localhost:8080/"
        },
        "id": "qwcXEYyi9tdB",
        "outputId": "5043b1b3-9dec-4f12-9f85-9d3cd8ff637a"
      },
      "outputs": [
        {
          "data": {
            "text/plain": [
              "array([3, 4])"
            ]
          },
          "execution_count": 29,
          "metadata": {},
          "output_type": "execute_result"
        }
      ],
      "source": [
        "outliers"
      ]
    },
    {
      "cell_type": "markdown",
      "metadata": {
        "id": "upNDn96PE6hq"
      },
      "source": [
        "## Questão 8\n",
        "\n",
        "Crie um vetor com valores que vão de 1 até 21 de dois em dois, a partir da função arange"
      ]
    },
    {
      "cell_type": "code",
      "execution_count": 30,
      "metadata": {
        "colab": {
          "base_uri": "https://localhost:8080/"
        },
        "id": "w4d14JRZE6hr",
        "outputId": "97e40281-9ccc-44c8-f7d9-e07503620530"
      },
      "outputs": [
        {
          "data": {
            "text/plain": [
              "array([ 1,  3,  5,  7,  9, 11, 13, 15, 17, 19, 21])"
            ]
          },
          "execution_count": 30,
          "metadata": {},
          "output_type": "execute_result"
        }
      ],
      "source": [
        "np.arange(1, 21+1, 2)"
      ]
    },
    {
      "cell_type": "markdown",
      "metadata": {
        "id": "SchEY1O7E6hr"
      },
      "source": [
        "## Questão 9\n",
        "\n",
        "Crie um array de 10 com valores aleatórios"
      ]
    },
    {
      "cell_type": "code",
      "execution_count": 31,
      "metadata": {
        "colab": {
          "base_uri": "https://localhost:8080/"
        },
        "id": "MYpySePjE6hs",
        "outputId": "c1337680-c9cf-4e40-bd98-78bb8b8553d0"
      },
      "outputs": [
        {
          "data": {
            "text/plain": [
              "array([0.90930952, 0.58754597, 0.66795604, 0.63460499, 0.52071605,\n",
              "       0.9290639 , 0.01585812, 0.62834944, 0.85569396, 0.05858562])"
            ]
          },
          "execution_count": 31,
          "metadata": {},
          "output_type": "execute_result"
        }
      ],
      "source": [
        "np.random.rand(10)"
      ]
    },
    {
      "cell_type": "markdown",
      "metadata": {
        "id": "EFfvM6LIAlfJ"
      },
      "source": [
        "## Questão 10\n",
        "\n",
        "Em estatística, a normalização de uma distribuição de dados pode ser feita subtraindo o valor médio da distribuição de cada valor do conjunto de dados, dividindo o resultado pelo desvio-padrão da distribuição. Escreva uma função que normalize os dados recebidos por um array numpy qualquer, conforme descrito anteriormente."
      ]
    },
    {
      "cell_type": "code",
      "execution_count": 32,
      "metadata": {
        "id": "VdVDG0rmDria"
      },
      "outputs": [],
      "source": [
        "def normalizacao(X):\n",
        "  media = X.mean()\n",
        "  desv_p = X.std()\n",
        "  norm = (X - media)/desv_p\n",
        "  return norm"
      ]
    },
    {
      "cell_type": "code",
      "execution_count": 33,
      "metadata": {
        "colab": {
          "base_uri": "https://localhost:8080/"
        },
        "id": "yfho2bziAlfJ",
        "outputId": "2c5bb2b4-38c4-47c7-fc80-8a8f160ae5bb"
      },
      "outputs": [
        {
          "data": {
            "text/plain": [
              "array([ 1.50240004,  1.1324273 ,  1.43360765,  1.41126907,  1.04146717,\n",
              "       -0.75395214, -0.84770162,  0.20025984, -1.53498299,  1.11597146,\n",
              "        0.70781914,  0.07906098, -0.00247433,  0.72026381,  0.70180233,\n",
              "       -0.75172371, -1.04213997,  1.00759795, -0.88420201, -1.10503342,\n",
              "        0.07527121,  1.30353793, -1.24744231,  1.26344215,  1.17963642,\n",
              "       -0.37730654, -1.65245653, -0.54171455,  0.81378454, -1.10597145,\n",
              "       -0.91675027,  1.50295941, -0.14819699, -0.42214817,  0.95502932,\n",
              "        1.49601516, -0.43288887, -1.09452603,  0.18059567, -0.78323089,\n",
              "       -1.20039506,  0.50236164, -0.58236929, -1.71480326, -0.88660395,\n",
              "       -0.42089682,  0.28551154, -0.73298952, -0.90165074, -1.33511236,\n",
              "       -0.85550593, -0.04294193, -1.87250986,  1.47101217, -1.49416676,\n",
              "       -0.48781078, -1.32513687,  1.40677658,  1.18262661, -0.35407011,\n",
              "       -0.11263915, -0.05877161, -0.61894277,  0.79757299,  0.04978556,\n",
              "       -0.11915276, -0.8599354 , -1.51683783,  1.51672016,  0.72253237,\n",
              "        0.68627529, -1.12243038,  0.63194036,  0.42109289,  1.37975449,\n",
              "        1.31036057, -1.40799001, -0.46933956,  0.12263027,  0.76831194,\n",
              "        0.04844274,  1.2613547 ,  0.29350678,  1.33754236, -0.08437496,\n",
              "        1.32212263, -0.68024366,  1.22561817, -1.11401207,  1.60622173,\n",
              "       -1.6005616 ,  0.24797551,  0.07657243,  1.47420094, -1.57734014,\n",
              "        0.97331683,  0.56741827, -0.69968845, -1.05980244, -0.55990825])"
            ]
          },
          "execution_count": 33,
          "metadata": {},
          "output_type": "execute_result"
        }
      ],
      "source": [
        "Inicio = 54\n",
        "Fim = 15\n",
        "arr = np.random.rand(100)*(Fim-Inicio) + Inicio\n",
        "norma = normalizacao(arr)\n",
        "norma"
      ]
    },
    {
      "cell_type": "markdown",
      "metadata": {
        "id": "p60_N7ZwAlfK"
      },
      "source": [
        "## Questão 11\n",
        "\n",
        "Escreva uma função em numpy que receba um array contendo notas de uma turma de 100 estudantes. Considere que a nota de aprovação da turma é 5.0. A função deve retornar, em um array numpy, nesta ordem:\n",
        "- a média e o desvio-padrão das notas da turma;\n",
        "- o número de notas maiores que 7.0;\n",
        "- o número de reprovações da turma;\n",
        "- a menor nota da turma;\n",
        "- a maior nota da turma."
      ]
    },
    {
      "cell_type": "code",
      "execution_count": 34,
      "metadata": {
        "id": "4Z98j6v0FykE"
      },
      "outputs": [],
      "source": [
        "def analise_notas(notas, nota_corte=5):\n",
        "  media = notas.mean()\n",
        "  desv_p = notas.std()\n",
        "  maior_7 = notas[(notas>7)].size\n",
        "  reprovacoes = notas[(notas<nota_corte)].size\n",
        "  menor_nota = notas.min()\n",
        "  maior_nota = notas.max()\n",
        "\n",
        "  analise = np.array([media, desv_p, maior_7, reprovacoes, menor_nota, maior_nota])\n",
        "  return analise"
      ]
    },
    {
      "cell_type": "code",
      "execution_count": 35,
      "metadata": {
        "colab": {
          "base_uri": "https://localhost:8080/"
        },
        "id": "Q3wkBCFtAlfK",
        "outputId": "481087fa-7c6f-461a-a644-2a1d498da2d7"
      },
      "outputs": [
        {
          "name": "stdout",
          "output_type": "stream",
          "text": [
            "Notas: [6.49 1.65 5.26 0.27 7.33 1.68 9.54 1.54 2.   8.94 2.45 0.3  2.12 0.29\n",
            " 9.81 7.81 8.34 8.95 9.79 9.81 3.86 0.27 1.4  9.93 3.66 3.73 7.33 2.93\n",
            " 0.92 0.94 0.04 7.09 0.01 3.97 3.79 4.36 8.9  0.75 8.62 7.26 6.22 9.3\n",
            " 0.39 1.96 7.64 9.44 4.72 4.37 4.38 6.39 6.94 8.25 1.99 7.9  2.34 9.52\n",
            " 0.95 5.19 0.37 1.53 1.68 4.13 5.46 8.08 9.58 9.85 2.62 2.13 3.2  3.95\n",
            " 0.05 4.28 5.94 7.24 5.64 1.64 6.89 6.34 9.04 1.51 3.44 2.93 8.9  5.7\n",
            " 6.11 6.91 5.76 7.54 0.48 0.01 9.46 0.05 5.98 8.52 4.   1.86 1.12 6.06\n",
            " 2.14 8.99]\n",
            "Análise: [4.79130000e+00 3.19675262e+00 3.10000000e+01 5.20000000e+01\n",
            " 1.00000000e-02 9.93000000e+00]\n"
          ]
        }
      ],
      "source": [
        "notas = np.round(np.random.rand(100)*10, 2)\n",
        "\n",
        "analise = analise_notas(notas)\n",
        "\n",
        "print(f'Notas: {notas}\\nAnálise: {analise}')"
      ]
    },
    {
      "cell_type": "code",
      "execution_count": null,
      "metadata": {},
      "outputs": [],
      "source": []
    }
  ],
  "metadata": {
    "colab": {
      "include_colab_link": true,
      "provenance": []
    },
    "gpuClass": "standard",
    "kernelspec": {
      "display_name": "Python 3",
      "language": "python",
      "name": "python3"
    },
    "language_info": {
      "codemirror_mode": {
        "name": "ipython",
        "version": 3
      },
      "file_extension": ".py",
      "mimetype": "text/x-python",
      "name": "python",
      "nbconvert_exporter": "python",
      "pygments_lexer": "ipython3",
      "version": "3.10.10"
    },
    "orig_nbformat": 4,
    "vscode": {
      "interpreter": {
        "hash": "080009074bdae49ff0f7ea0c8fb41d6aab5e0758d06d4cfe6e0f59dbecf6b06a"
      }
    }
  },
  "nbformat": 4,
  "nbformat_minor": 0
}
