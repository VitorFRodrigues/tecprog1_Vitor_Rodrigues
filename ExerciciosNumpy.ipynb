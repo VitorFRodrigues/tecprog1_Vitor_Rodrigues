{
  "cells": [
    {
      "cell_type": "markdown",
      "metadata": {
        "id": "view-in-github",
        "colab_type": "text"
      },
      "source": [
        "<a href=\"https://colab.research.google.com/github/VitorFRodrigues/tecprog1_Vitor_Rodrigues/blob/main/ExerciciosNumpy.ipynb\" target=\"_parent\"><img src=\"https://colab.research.google.com/assets/colab-badge.svg\" alt=\"Open In Colab\"/></a>"
      ]
    },
    {
      "cell_type": "markdown",
      "metadata": {
        "id": "dDhJSUbSE6hI"
      },
      "source": [
        "# Lista de Exercícios de Numpy\n",
        "\n",
        "Deverá ser entrege até **11/02/2023** por meio do github que foi informado por vocês no [formulário](https://forms.office.com/r/YV12vEXGYF) respondido na aula de 01/02.\n",
        "\n",
        "A entrega pela github é parte da avaliação."
      ]
    },
    {
      "cell_type": "code",
      "source": [
        "import numpy as np"
      ],
      "metadata": {
        "id": "rBiW_u_ZcAeC"
      },
      "execution_count": 3,
      "outputs": []
    },
    {
      "cell_type": "markdown",
      "metadata": {
        "id": "eX5x6-bjE6hN"
      },
      "source": [
        "## Questão 1\n",
        "\n",
        "Crie um array 100 com valores aleatórios e ache os valores máximo e mínimo"
      ]
    },
    {
      "cell_type": "code",
      "execution_count": 4,
      "metadata": {
        "id": "kYKS_ae1E6hP",
        "colab": {
          "base_uri": "https://localhost:8080/"
        },
        "outputId": "066754ab-dc2c-4e4e-ef73-6201ee2f46ac"
      },
      "outputs": [
        {
          "output_type": "stream",
          "name": "stdout",
          "text": [
            "Array: [100  88  81  77  87  36  97  67  14  31  83   6  18  26  15  99  32  52\n",
            "  52  62  61  97  34  84  11  28  84  40  27  73  24  48   8  77  79  88\n",
            "  36  67  11  77  93   8  46  63  53  20  24  88  71  86  42  74   2  87\n",
            "  13  78  18  95  90  64   9  40  87  32  41  45  81  52  30  35  58  17\n",
            "  45  68  36  79   5  85  83  64  29  13  52  99  19  56   4  32  61  88\n",
            "  33  75  38  21  74  79  72  68  49  76]\n",
            "Valor máximo: 100\n",
            "Valor minimo: 2\n"
          ]
        }
      ],
      "source": [
        "arr = np.random.randint(1,101,100)\n",
        "arr_max = arr.max()\n",
        "arr_min = arr.min()\n",
        "print(f'Array: {arr}\\nValor máximo: {arr_max}\\nValor minimo: {arr_min}')"
      ]
    },
    {
      "cell_type": "code",
      "source": [
        "# np.random.rand() dará valores aleatórios entre 0 e 1. Para modificar o intervalo deve ser feito:\n",
        "# Intervalo [Inicio,Fim]\n",
        "# arr = np.random.rand(100)*(Fim-Inicio) + Inicio"
      ],
      "metadata": {
        "id": "6Od5aiW2csI5"
      },
      "execution_count": 5,
      "outputs": []
    },
    {
      "cell_type": "markdown",
      "metadata": {
        "id": "qT9pSHp4E6hQ"
      },
      "source": [
        "## Questão 2\n",
        "Em Geometria Analítica, um **vetor** é uma quantidade que pode ser definida por um énuplo (uma sequência ordenada de *n* elementos) em que cada elemento representa a intensidade do vetor na direção especificada pela i-ésima componente desta sequência. \n",
        "\n",
        "Quando pensamos em duas dimensões, por exemplo, o vetor $R = (b,a)$ define, geometricamente, a entidade representada na figura abaixo, com componentes nos eixos x e y usuais.\n",
        "\n",
        "<img src = \"https://static.todamateria.com.br/upload/im/ag/image-721.jpg?auto_optimize=low\" />\n",
        "\n",
        "O **módulo** deste vetor, também chamado de intensidade, está geometricamente relacionado ao seu comprimento, e pode ser calculado diretamente pelas suas componentes, por meio de uma operação conhecida como **produto escalar** do vetor com ele mesmo. O módulo quadrático é expresso, desta forma, por:\n",
        "\n",
        "$|A|^2 = \\vec{A} \\cdot \\vec{A}$\n",
        "\n",
        "Por outro lado, o produto escalar entre dois vetores $A = (a_{x}, a_{y})$ e $B = (b_{x}, b_{y})$ é dado por:\n",
        "\n",
        "$\\vec{A} \\cdot \\vec{B} = a_{x} \\times b_{x} + a_{y} \\times b_{y}$ (e esta definição vale para qualquer que seja a dimensão do vetor).\n",
        "\n",
        "O módulo quadrático de um vetor é, portanto:\n",
        "\n",
        "$|A|² = a_{x}^2 + b_{x}^2$."
      ]
    },
    {
      "cell_type": "markdown",
      "metadata": {
        "id": "-ZU6W86sE6hT"
      },
      "source": [
        "Dado o exposto acima, escreva uma função que retorne o módulo de um vetor n-dimensional qualquer."
      ]
    },
    {
      "cell_type": "code",
      "execution_count": 6,
      "metadata": {
        "id": "PdKKKvShE6hT"
      },
      "outputs": [],
      "source": [
        "def modulo_vetor(arr):\n",
        "  mod = np.sqrt((arr**2).sum())\n",
        "  return mod"
      ]
    },
    {
      "cell_type": "code",
      "source": [
        "vetor = np.array([3, 4])\n",
        "modulo = modulo_vetor(vetor)\n",
        "print(f'Vetor: {vetor}\\nModulo: {modulo}')"
      ],
      "metadata": {
        "colab": {
          "base_uri": "https://localhost:8080/"
        },
        "id": "rC8wcfl1e6Ai",
        "outputId": "d2227ed8-de6d-4578-f224-4e0ed7846426"
      },
      "execution_count": 7,
      "outputs": [
        {
          "output_type": "stream",
          "name": "stdout",
          "text": [
            "Vetor: [3 4]\n",
            "Modulo: 5.0\n"
          ]
        }
      ]
    },
    {
      "cell_type": "markdown",
      "metadata": {
        "id": "CRZdfzLgE6hU"
      },
      "source": [
        "## Questão 3\n",
        "\n",
        "Em uma **análise de regressão**, usualmente estamos interessados em descrever relações entre variáveis de um dado conjunto de dados por meio de uma **função** que descreva, o tanto quanto possível, estas relações.\n",
        "\n",
        "Por exemplo, no gráfico abaixo, os pontos vermelhos relacionam as medidas das duas variáveis sendo avaliadas (nos eixos x e y); e a linha azul aproxima a relação entre elas por uma função linear."
      ]
    },
    {
      "cell_type": "markdown",
      "metadata": {
        "id": "180Vp7AZE6hV"
      },
      "source": [
        "![Normdist_regression.png](https://miro.medium.com/v2/resize:fit:786/format:webp/1*LEmBCYAttxS6uI6rEyPLMQ.png)"
      ]
    },
    {
      "cell_type": "markdown",
      "metadata": {
        "id": "oQ1RFXOAE6hV"
      },
      "source": [
        "É possível ver que nem todos os pontos obedecem exatamente à relação ditada pela reta (isto é, há pontos que não estão exatamente \"sobre a reta\"; mas, sim, ligeraimente acima, ou abaixo, dela). Isto, contudo, é esperado em um modelo de regressão, por inúmeras fontes de incerteza associadas às medições."
      ]
    },
    {
      "cell_type": "markdown",
      "metadata": {
        "id": "XGWoc_O2E6hW"
      },
      "source": [
        "Uma das métricas que utilizamos para avaliar a qualidade de uma regressão é o **erro quadrático médio (EQM)**, que mensura a diferença total entre cada predição da regressão ($y_{prediction}$; que no nosso caso seriam os valores de y para a reta azul) com o valor real de cada i-ésima medida ($y_{i}$; que no nosso caso seriam as coordenadas y para cada ponto vermelho do gráfico). O EQM pode ser definido como:"
      ]
    },
    {
      "cell_type": "markdown",
      "metadata": {
        "id": "CjgOdTD6E6hX"
      },
      "source": [
        "$EQM = \\frac{1}{n}\\sum_{i=1}^{n}(y_{prediction} - y_{i})^2$."
      ]
    },
    {
      "cell_type": "markdown",
      "metadata": {
        "id": "qeXCrbmbE6hY"
      },
      "source": [
        "Isto posto, escreva uma função que calcule o EQM recebendo, como entrada, os vetores $y_{prediction}$ e $y_{i}$. Por exemplo, digamos que sua função se chame *calculate_eqm*, ela deve operar da seguinte forma:"
      ]
    },
    {
      "cell_type": "code",
      "execution_count": 10,
      "metadata": {
        "id": "mW1BDfUcE6hZ",
        "outputId": "56004f01-bf07-495b-a97b-3025e457718f",
        "colab": {
          "base_uri": "https://localhost:8080/"
        }
      },
      "outputs": [
        {
          "output_type": "execute_result",
          "data": {
            "text/plain": [
              "1.6666666666666667"
            ]
          },
          "metadata": {},
          "execution_count": 10
        }
      ],
      "source": [
        "# dados dois arrays quaisquer de mesmo tamanho, a função deve retornar o EQM\n",
        "y_prediction = np.array([1,2,3])\n",
        "y_i = np.array([0,0,3])\n",
        "calculate_eqm(y_prediction,y_i)"
      ]
    },
    {
      "cell_type": "code",
      "execution_count": 9,
      "metadata": {
        "id": "bwiTGuuoE6hb"
      },
      "outputs": [],
      "source": [
        "# Solução\n",
        "def calculate_eqm(y_pred, y_i):\n",
        "  dif_quad = (y_pred - y_i)**2\n",
        "  EQM = dif_quad.sum()/y_pred.size\n",
        "  return EQM"
      ]
    },
    {
      "cell_type": "markdown",
      "metadata": {
        "id": "Wh0_a8PjE6hc"
      },
      "source": [
        "## Questão 4\n",
        "\n",
        "Crie um array 2D (bidimensional) com 1 na borda e 0 dentro"
      ]
    },
    {
      "cell_type": "code",
      "source": [
        "def matriz_bordada(line, column):\n",
        "  dim = (line, column)\n",
        "  m_bord = np.zeros(dim)\n",
        "  m_bord[:, 0] = 1\n",
        "  m_bord[0, :] = 1\n",
        "  m_bord[-1, :] = 1\n",
        "  m_bord[:, -1] = 1\n",
        "  return m_bord"
      ],
      "metadata": {
        "id": "hV3jcE8QoXtQ"
      },
      "execution_count": 11,
      "outputs": []
    },
    {
      "cell_type": "code",
      "source": [
        "matriz_bordada(5,10)"
      ],
      "metadata": {
        "colab": {
          "base_uri": "https://localhost:8080/"
        },
        "id": "yLEWRN9inrD7",
        "outputId": "cf4f990b-5f2e-4aa3-bb5d-7d7ce7a4da36"
      },
      "execution_count": 12,
      "outputs": [
        {
          "output_type": "execute_result",
          "data": {
            "text/plain": [
              "array([[1., 1., 1., 1., 1., 1., 1., 1., 1., 1.],\n",
              "       [1., 0., 0., 0., 0., 0., 0., 0., 0., 1.],\n",
              "       [1., 0., 0., 0., 0., 0., 0., 0., 0., 1.],\n",
              "       [1., 0., 0., 0., 0., 0., 0., 0., 0., 1.],\n",
              "       [1., 1., 1., 1., 1., 1., 1., 1., 1., 1.]])"
            ]
          },
          "metadata": {},
          "execution_count": 12
        }
      ]
    },
    {
      "cell_type": "markdown",
      "metadata": {
        "id": "U1CntgkZE6hc"
      },
      "source": [
        "## Questão 5\n",
        "\n",
        "Como adicionar uma borda de 0's ao redor de um array 2D (bidimensional) existente"
      ]
    },
    {
      "cell_type": "code",
      "source": [
        "def zero_borda(data):\n",
        "  # Armazenando qtde de linhas e colunas em variável\n",
        "  lin = data.shape[0]\n",
        "  col = data.shape[1]\n",
        "  # Executando matriz linhas e colunas com zeros\n",
        "  m_lin = np.zeros((1,col))\n",
        "  m_col = np.zeros((lin+2,1))\n",
        "  # Concatenando as matrizes zero na matriz recebida\n",
        "  zero_borda = np.concatenate((data, m_lin), axis=0)\n",
        "  zero_borda = np.concatenate((m_lin, zero_borda), axis=0)\n",
        "  zero_borda = np.concatenate((m_col, zero_borda), axis=1)\n",
        "  zero_borda = np.concatenate((zero_borda, m_col), axis=1)\n",
        "  return zero_borda"
      ],
      "metadata": {
        "id": "0-gMnSH-v7UW"
      },
      "execution_count": 13,
      "outputs": []
    },
    {
      "cell_type": "code",
      "source": [
        "a = np.array([[1,2],[5,3],[4,6]])\n",
        "zero_borda(a)"
      ],
      "metadata": {
        "colab": {
          "base_uri": "https://localhost:8080/"
        },
        "id": "8YrjJpydxoJW",
        "outputId": "3b9d1cf3-c4a3-4a84-b65a-4ae486e5a645"
      },
      "execution_count": 14,
      "outputs": [
        {
          "output_type": "execute_result",
          "data": {
            "text/plain": [
              "array([[0., 0., 0., 0.],\n",
              "       [0., 1., 2., 0.],\n",
              "       [0., 5., 3., 0.],\n",
              "       [0., 4., 6., 0.],\n",
              "       [0., 0., 0., 0.]])"
            ]
          },
          "metadata": {},
          "execution_count": 14
        }
      ]
    },
    {
      "cell_type": "markdown",
      "metadata": {
        "id": "qHh149eAE6hd"
      },
      "source": [
        "## Questão 6\n",
        "\n",
        " A eletroencefalografia (EEG) é uma técnica que mensura potenciais elétricos cerebrais em diversas regiões do escalpo do paciente. Suponha que você recebeu um conjunto de dados na forma de uma matriz de 64 x 512 elementos, em que cada linha contém o sinal gravado em um dos **eletrodos** espalhados pelo escalpo em um exame de EEG, e cada coluna contém um valor de potencial elétrico, em microvolts. "
      ]
    },
    {
      "cell_type": "markdown",
      "metadata": {
        "id": "BRDY8u09E6hd"
      },
      "source": [
        "Como o sinal de EEG é muito suscetível a ruídos externos (interferências na qualidade do sinal), uma operação comum para atenuar a interferência no sinal consiste em tirar a média do potencial elétrico de todos os eletrodos, e subtrair este valor de cada um deles. Isto atenua fontes de ruído ao sinal comuns a todos os eletrodos. Em termos matemáticos, o sinal processado por esta operação, $X_{e,i}$ para cada eletrodo (e) e amostra (i), é dado por:"
      ]
    },
    {
      "cell_type": "markdown",
      "metadata": {
        "id": "NHLeT5deE6he"
      },
      "source": [
        "$X_{e,i} = \\hat{X_{e,i}} - \\frac{1}{N}\\sum_{e=1}^{N}\\hat{X_{e,i}}$,\n",
        "\n",
        "em que $\\hat{X_{e,i}}$ representa o sinal original (ou seja, é a matriz de entrada de 64 x 512 elementos), e $N$ indica o total de eletrodos."
      ]
    },
    {
      "cell_type": "markdown",
      "metadata": {
        "id": "ToiE-omdE6he"
      },
      "source": [
        "Com o exposto acima, escreva uma função que retorne uma matriz com os sinais de EEG processados conforme a operação mencionada. Sua função deve operar conforme o exemplo abaixo."
      ]
    },
    {
      "cell_type": "code",
      "execution_count": 15,
      "metadata": {
        "id": "EgsEH6T-E6hf",
        "outputId": "0e95c230-f81c-46f5-b669-0f9c1a4f1ac9",
        "colab": {
          "base_uri": "https://localhost:8080/"
        }
      },
      "outputs": [
        {
          "output_type": "execute_result",
          "data": {
            "text/plain": [
              "(64, 512)"
            ]
          },
          "metadata": {},
          "execution_count": 15
        }
      ],
      "source": [
        "# vamos supor uma matriz de entrada gerada por dados aleatórios\n",
        "X = np.random.randn(64,512)\n",
        "X.shape # apenas para verificar as dimensões"
      ]
    },
    {
      "cell_type": "code",
      "execution_count": 18,
      "metadata": {
        "id": "gXsgtYEJE6hg",
        "outputId": "4a682e1e-2969-4671-e11e-df06d5612daa",
        "colab": {
          "base_uri": "https://localhost:8080/"
        }
      },
      "outputs": [
        {
          "output_type": "stream",
          "name": "stdout",
          "text": [
            "Media: 0.0005060889970005542\n"
          ]
        },
        {
          "output_type": "execute_result",
          "data": {
            "text/plain": [
              "(64, 512)"
            ]
          },
          "metadata": {},
          "execution_count": 18
        }
      ],
      "source": [
        "# a função deve executar a operação equacionada anteriormente, retornando uma nova matriz\n",
        "X_processado = process_EEG_signal(X)\n",
        "X_processado.shape"
      ]
    },
    {
      "cell_type": "code",
      "execution_count": 19,
      "metadata": {
        "id": "mR_U9LEbE6hh",
        "outputId": "55724930-ae5c-4784-cfd6-ca926ac71585",
        "colab": {
          "base_uri": "https://localhost:8080/"
        }
      },
      "outputs": [
        {
          "output_type": "execute_result",
          "data": {
            "text/plain": [
              "-16.58352425371413"
            ]
          },
          "metadata": {},
          "execution_count": 19
        }
      ],
      "source": [
        "# Somando as diferenças entre cada elemento das duas matrizes, apenas para ilustrar que elas não são iguais\n",
        "(X_processado - X).sum()"
      ]
    },
    {
      "cell_type": "code",
      "execution_count": 20,
      "metadata": {
        "id": "HkoRtLugE6hh",
        "outputId": "39125a6c-ce03-419f-baf7-4fa27e77355f",
        "colab": {
          "base_uri": "https://localhost:8080/"
        }
      },
      "outputs": [
        {
          "output_type": "execute_result",
          "data": {
            "text/plain": [
              "array([[-1.16043808,  0.76037416,  1.13115328, ..., -0.39755045,\n",
              "         0.40698928, -0.37120093],\n",
              "       [ 0.12122592, -0.35729734,  0.32972325, ...,  1.2261046 ,\n",
              "        -0.51990086,  1.08458838],\n",
              "       [-0.26113601,  1.45477744, -0.14717855, ..., -0.58462057,\n",
              "        -0.26005291,  0.25365762],\n",
              "       ...,\n",
              "       [-0.94204269, -0.06341648,  0.03349791, ..., -2.35585728,\n",
              "        -0.07542788,  0.5805745 ],\n",
              "       [-0.24343542, -0.02088467, -0.48057388, ...,  1.07488963,\n",
              "         1.06501571, -0.28330664],\n",
              "       [-0.10021738, -0.85566276, -0.19099336, ..., -0.18086057,\n",
              "        -1.28565471,  0.2356705 ]])"
            ]
          },
          "metadata": {},
          "execution_count": 20
        }
      ],
      "source": [
        "# Visualizando as matrizes, para verificar uma vez mais que, de fato, os elementos são diferentes\n",
        "X"
      ]
    },
    {
      "cell_type": "code",
      "execution_count": 21,
      "metadata": {
        "id": "kGdBX0J-E6hi",
        "outputId": "ce4db0b7-9e43-449f-e1ef-64f8f2bc31c6",
        "colab": {
          "base_uri": "https://localhost:8080/"
        }
      },
      "outputs": [
        {
          "output_type": "execute_result",
          "data": {
            "text/plain": [
              "array([[-1.16094417,  0.75986807,  1.13064719, ..., -0.39805654,\n",
              "         0.40648319, -0.37170702],\n",
              "       [ 0.12071983, -0.35780342,  0.32921716, ...,  1.22559851,\n",
              "        -0.52040695,  1.08408229],\n",
              "       [-0.2616421 ,  1.45427135, -0.14768464, ..., -0.58512666,\n",
              "        -0.260559  ,  0.25315153],\n",
              "       ...,\n",
              "       [-0.94254878, -0.06392257,  0.03299182, ..., -2.35636337,\n",
              "        -0.07593396,  0.58006841],\n",
              "       [-0.24394151, -0.02139076, -0.48107997, ...,  1.07438354,\n",
              "         1.06450962, -0.28381273],\n",
              "       [-0.10072347, -0.85616885, -0.19149945, ..., -0.18136666,\n",
              "        -1.2861608 ,  0.23516441]])"
            ]
          },
          "metadata": {},
          "execution_count": 21
        }
      ],
      "source": [
        "# Matriz após o processamento descrito no enunciado\n",
        "X_processado"
      ]
    },
    {
      "cell_type": "code",
      "execution_count": 17,
      "metadata": {
        "id": "OlxjvCnQE6hj"
      },
      "outputs": [],
      "source": [
        "# Solução\n",
        "def process_EEG_signal(X):\n",
        "  media = X.sum()/X.size\n",
        "  print(f'Media: {media}')\n",
        "  X_process = X - media\n",
        "  return X_process"
      ]
    },
    {
      "cell_type": "markdown",
      "metadata": {
        "id": "7Gy6nTwQE6hj"
      },
      "source": [
        "## Questão 7\n",
        "\n",
        "Em estatística, um **outlier** é um valor que destoa consideravelmente da distribuição à qual está associado. Um dos critérios para idenficar outliers consiste em encontrar a **distância interquantil** (IQR), ou seja, a diferença entre o terceiro (Q3) e o primeiro quartis (Q1) da distribuição, e tomar como outliers todos os pontos abaixo de 1.5*IQR - Q1, ou acima de 1.5*IQR + Q3."
      ]
    },
    {
      "cell_type": "markdown",
      "metadata": {
        "id": "CP-NkMHTE6hk"
      },
      "source": [
        "<img src = \"https://blog.curso-r.com/images/posts/banner/outlier.webp\" />"
      ]
    },
    {
      "cell_type": "markdown",
      "metadata": {
        "id": "BLDJN5JPE6hk"
      },
      "source": [
        "Escreva uma função que, dada uma matriz de dados de entrada de dimensões $N_{observações} \\times N_{features}$ retorne três requisitos: \n",
        "- uma matriz booleana indicando a existência de outliers nos dados de entrada;\n",
        "- a quantidade de outliers\n",
        "- quem são os outliers (os valores)."
      ]
    },
    {
      "cell_type": "markdown",
      "metadata": {
        "id": "wwVcP2uZE6hl"
      },
      "source": [
        "**Algumas definições:**\n",
        "- um *quantil* divide a distribuição, após ordenados os pontos, segundo algum ponto de corte;\n",
        "- o **primeiro quartil** é o ponto para o qual 25 % dos valores da distribuição estão abaixo dele;\n",
        "- o **terceiro quartil** é o ponto para o qual 75 % dos valores da distribuição estão abaixo dele.\n",
        "\n",
        "Pode ser útil consultar a função **numpy.quantile**."
      ]
    },
    {
      "cell_type": "markdown",
      "metadata": {
        "id": "C9nCKXhjE6hm"
      },
      "source": [
        "Exemplo de operação da função:"
      ]
    },
    {
      "cell_type": "code",
      "execution_count": 23,
      "metadata": {
        "id": "wHdcs77RE6hm",
        "outputId": "08143b4f-4f1c-48e1-e085-ac0fc3b58812",
        "colab": {
          "base_uri": "https://localhost:8080/"
        }
      },
      "outputs": [
        {
          "output_type": "execute_result",
          "data": {
            "text/plain": [
              "array([[ 1.60314202, -1.00912457, -0.92163928, ...,  0.73167717,\n",
              "         0.7998945 ,  0.38699034],\n",
              "       [ 0.66660851, -1.22105126, -0.34671847, ...,  0.21156339,\n",
              "         1.42788463, -1.28309068],\n",
              "       [-1.04559338,  1.04190753,  0.26495025, ..., -0.56336535,\n",
              "        -1.04702104,  0.61414901],\n",
              "       ...,\n",
              "       [-0.78941302,  0.45583694,  0.66474851, ...,  0.07835782,\n",
              "        -0.75768462,  0.95677454],\n",
              "       [ 0.22373212,  0.65794883,  0.42011096, ...,  1.08649351,\n",
              "        -0.13027335, -1.37283291],\n",
              "       [-0.82043725, -1.39241041, -1.02206278, ..., -0.6459253 ,\n",
              "         0.29861233, -0.0555574 ]])"
            ]
          },
          "metadata": {},
          "execution_count": 23
        }
      ],
      "source": [
        "# Geremos um conjunto de dados qualquer\n",
        "X = np.random.randn(300,15)\n",
        "X"
      ]
    },
    {
      "cell_type": "code",
      "execution_count": 24,
      "metadata": {
        "id": "KVe7LEW0E6hn",
        "colab": {
          "base_uri": "https://localhost:8080/"
        },
        "outputId": "6779d4fe-c553-40c0-c3be-0d0305b63a1d"
      },
      "outputs": [
        {
          "output_type": "stream",
          "name": "stdout",
          "text": [
            "Primeiro quartil (25%): -0.6387547400828347\n",
            "Terceiro quartil (75%): 0.6842192500069757\n"
          ]
        }
      ],
      "source": [
        "# identificamos os requisitos com nossa com nossa função \"locate_outliers\"\n",
        "is_outlier, outliers_count, outliers = locate_outliers(X)"
      ]
    },
    {
      "cell_type": "code",
      "execution_count": 25,
      "metadata": {
        "id": "vuZ3n3K_E6hn",
        "outputId": "9f377bf2-8261-461b-b7f2-771272b036b9",
        "colab": {
          "base_uri": "https://localhost:8080/"
        }
      },
      "outputs": [
        {
          "output_type": "execute_result",
          "data": {
            "text/plain": [
              "array([[False, False, False, ..., False, False,  True],\n",
              "       [ True, False,  True, ...,  True, False, False],\n",
              "       [False, False,  True, ...,  True, False,  True],\n",
              "       ...,\n",
              "       [False,  True,  True, ...,  True, False, False],\n",
              "       [ True,  True,  True, ..., False,  True, False],\n",
              "       [False, False, False, ..., False,  True,  True]])"
            ]
          },
          "metadata": {},
          "execution_count": 25
        }
      ],
      "source": [
        "is_outlier"
      ]
    },
    {
      "cell_type": "code",
      "execution_count": 26,
      "metadata": {
        "id": "IzjWsBrZE6ho",
        "outputId": "4dbc22bf-1c05-4d07-c46d-a1f6977579b0",
        "colab": {
          "base_uri": "https://localhost:8080/"
        }
      },
      "outputs": [
        {
          "output_type": "execute_result",
          "data": {
            "text/plain": [
              "2250"
            ]
          },
          "metadata": {},
          "execution_count": 26
        }
      ],
      "source": [
        "outliers_count"
      ]
    },
    {
      "cell_type": "code",
      "execution_count": 27,
      "metadata": {
        "id": "PbO7R7P2E6hp",
        "outputId": "4456d8a7-8ffd-429b-d81b-df6bed96420d",
        "colab": {
          "base_uri": "https://localhost:8080/"
        }
      },
      "outputs": [
        {
          "output_type": "execute_result",
          "data": {
            "text/plain": [
              "array([ 0.37088797, -0.29988984, -0.11546375, ..., -0.32029597,\n",
              "        0.29861233, -0.0555574 ])"
            ]
          },
          "metadata": {},
          "execution_count": 27
        }
      ],
      "source": [
        "outliers"
      ]
    },
    {
      "cell_type": "code",
      "execution_count": 22,
      "metadata": {
        "id": "AdTkst5UE6hq"
      },
      "outputs": [],
      "source": [
        "# Solução\n",
        "def locate_outliers(X):\n",
        "  quartil_25 = np.quantile(X, 0.25)\n",
        "  print(f'Primeiro quartil (25%): {quartil_25}')\n",
        "  quartil_75 = np.quantile(X, 0.75)\n",
        "  print(f'Terceiro quartil (75%): {quartil_75}')\n",
        "  is_outlier = np.where(((X > quartil_25) & (X < quartil_75)), True, False)\n",
        "  outliers_count = np.count_nonzero(X*is_outlier)\n",
        "  outliers = X[((X > quartil_25) & (X < quartil_75))]\n",
        "  return is_outlier, outliers_count, outliers"
      ]
    },
    {
      "cell_type": "markdown",
      "source": [
        "Execução de exemplo prático para checar se a função *locate_outliers* está funcionando corretamente:"
      ],
      "metadata": {
        "id": "FfmRksv2-HIQ"
      }
    },
    {
      "cell_type": "code",
      "source": [
        "a = np.array([[1, 2, 3], [4, 5, 6]])\n",
        "print(a)\n",
        "is_outlier, outliers_count, outliers = locate_outliers(a)"
      ],
      "metadata": {
        "id": "2xRm8Lwn9P8X"
      },
      "execution_count": null,
      "outputs": []
    },
    {
      "cell_type": "code",
      "source": [
        "is_outlier"
      ],
      "metadata": {
        "id": "nbUfjgDs9Ps8"
      },
      "execution_count": null,
      "outputs": []
    },
    {
      "cell_type": "code",
      "source": [
        "outliers_count"
      ],
      "metadata": {
        "id": "K6LBqaW09tjq"
      },
      "execution_count": null,
      "outputs": []
    },
    {
      "cell_type": "code",
      "source": [
        "outliers"
      ],
      "metadata": {
        "id": "qwcXEYyi9tdB"
      },
      "execution_count": null,
      "outputs": []
    },
    {
      "cell_type": "markdown",
      "metadata": {
        "id": "upNDn96PE6hq"
      },
      "source": [
        "## Questão 8\n",
        "\n",
        "Crie um vetor com valores que vão de 1 até 21 de dois em dois, a partir da função arange"
      ]
    },
    {
      "cell_type": "code",
      "execution_count": null,
      "metadata": {
        "id": "w4d14JRZE6hr"
      },
      "outputs": [],
      "source": [
        "np.arange(1, 21+1, 2)"
      ]
    },
    {
      "cell_type": "markdown",
      "metadata": {
        "id": "SchEY1O7E6hr"
      },
      "source": [
        "## Questão 9\n",
        "\n",
        "Crie um array de 10 com valores aleatórios"
      ]
    },
    {
      "cell_type": "code",
      "execution_count": null,
      "metadata": {
        "id": "MYpySePjE6hs"
      },
      "outputs": [],
      "source": [
        "np.random.rand(10)"
      ]
    },
    {
      "cell_type": "markdown",
      "metadata": {
        "id": "EFfvM6LIAlfJ"
      },
      "source": [
        "## Questão 10\n",
        "\n",
        "Em estatística, a normalização de uma distribuição de dados pode ser feita subtraindo o valor médio da distribuição de cada valor do conjunto de dados, dividindo o resultado pelo desvio-padrão da distribuição. Escreva uma função que normalize os dados recebidos por um array numpy qualquer, conforme descrito anteriormente."
      ]
    },
    {
      "cell_type": "code",
      "source": [
        "def normalizacao(X):\n",
        "  media = X.mean()\n",
        "  desv_p = X.std()\n",
        "  norm = (X - media)/desv_p\n",
        "  return norm"
      ],
      "metadata": {
        "id": "VdVDG0rmDria"
      },
      "execution_count": null,
      "outputs": []
    },
    {
      "cell_type": "code",
      "execution_count": null,
      "metadata": {
        "id": "yfho2bziAlfJ"
      },
      "outputs": [],
      "source": [
        "Inicio = 54\n",
        "Fim = 15\n",
        "arr = np.random.rand(100)*(Fim-Inicio) + Inicio\n",
        "norma = normalizacao(arr)\n",
        "norma"
      ]
    },
    {
      "cell_type": "markdown",
      "metadata": {
        "id": "p60_N7ZwAlfK"
      },
      "source": [
        "## Questão 11\n",
        "\n",
        "Escreva uma função em numpy que receba um array contendo notas de uma turma de 100 estudantes. Considere que a nota de aprovação da turma é 5.0. A função deve retornar, em um array numpy, nesta ordem:\n",
        "- a média e o desvio-padrão das notas da turma;\n",
        "- o número de notas maiores que 7.0;\n",
        "- o número de reprovações da turma;\n",
        "- a menor nota da turma;\n",
        "- a maior nota da turma."
      ]
    },
    {
      "cell_type": "code",
      "source": [
        "def analise_notas(notas, nota_corte=5):\n",
        "  media = notas.mean()\n",
        "  desv_p = notas.std()\n",
        "  maior_7 = notas[(notas>7)].size\n",
        "  reprovacoes = notas[(notas<nota_corte)].size\n",
        "  menor_nota = notas.min()\n",
        "  maior_nota = notas.max()\n",
        "\n",
        "  analise = np.array([media, desv_p, maior_7, reprovacoes, menor_nota, maior_nota])\n",
        "  return analise"
      ],
      "metadata": {
        "id": "4Z98j6v0FykE"
      },
      "execution_count": null,
      "outputs": []
    },
    {
      "cell_type": "code",
      "execution_count": null,
      "metadata": {
        "id": "Q3wkBCFtAlfK"
      },
      "outputs": [],
      "source": [
        "notas = np.round(np.random.rand(100)*10, 2)\n",
        "\n",
        "analise = analise_notas(notas)\n",
        "\n",
        "print(f'Notas: {notas}\\nAnálise: {analise}')"
      ]
    }
  ],
  "metadata": {
    "language_info": {
      "name": "python"
    },
    "orig_nbformat": 4,
    "colab": {
      "provenance": [],
      "include_colab_link": true
    },
    "kernelspec": {
      "name": "python3",
      "display_name": "Python 3"
    },
    "gpuClass": "standard"
  },
  "nbformat": 4,
  "nbformat_minor": 0
}