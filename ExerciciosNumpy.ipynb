{
  "cells": [
    {
      "cell_type": "markdown",
      "metadata": {
        "id": "view-in-github",
        "colab_type": "text"
      },
      "source": [
        "<a href=\"https://colab.research.google.com/github/VitorFRodrigues/tecprog1_Vitor_Rodrigues/blob/main/ExerciciosNumpy.ipynb\" target=\"_parent\"><img src=\"https://colab.research.google.com/assets/colab-badge.svg\" alt=\"Open In Colab\"/></a>"
      ]
    },
    {
      "cell_type": "markdown",
      "metadata": {
        "id": "dDhJSUbSE6hI"
      },
      "source": [
        "# Lista de Exercícios de Numpy\n",
        "\n",
        "Deverá ser entrege até **11/02/2023** por meio do github que foi informado por vocês no [formulário](https://forms.office.com/r/YV12vEXGYF) respondido na aula de 01/02.\n",
        "\n",
        "A entrega pela github é parte da avaliação."
      ]
    },
    {
      "cell_type": "code",
      "source": [
        "import numpy as np"
      ],
      "metadata": {
        "id": "rBiW_u_ZcAeC"
      },
      "execution_count": 1,
      "outputs": []
    },
    {
      "cell_type": "markdown",
      "metadata": {
        "id": "eX5x6-bjE6hN"
      },
      "source": [
        "## Questão 1\n",
        "\n",
        "Crie um array 100 com valores aleatórios e ache os valores máximo e mínimo"
      ]
    },
    {
      "cell_type": "code",
      "execution_count": 3,
      "metadata": {
        "id": "kYKS_ae1E6hP",
        "colab": {
          "base_uri": "https://localhost:8080/"
        },
        "outputId": "aca72486-852d-4695-cdd7-b3429130889e"
      },
      "outputs": [
        {
          "output_type": "stream",
          "name": "stdout",
          "text": [
            "Array: [0.01951249 0.61286878 0.42924039 0.06194329 0.93769042 0.68238065\n",
            " 0.42350843 0.40526923 0.65402592 0.77210156 0.57633912 0.92903475\n",
            " 0.51058978 0.02397186 0.50483871 0.39873053 0.17088812 0.15117173\n",
            " 0.9650356  0.92053474 0.41100635 0.20848905 0.96186548 0.97331042\n",
            " 0.99921658 0.35508347 0.93065993 0.23783254 0.33320059 0.52629871\n",
            " 0.21863852 0.89135713 0.15318619 0.41214648 0.83252467 0.60984084\n",
            " 0.0435186  0.93314171 0.52067698 0.47137488 0.10214859 0.84708192\n",
            " 0.77613488 0.68121595 0.0113093  0.8954786  0.60649361 0.92358322\n",
            " 0.19906613 0.5314463  0.72771503 0.45135855 0.91374318 0.3018744\n",
            " 0.48956962 0.43128379 0.90984029 0.15730085 0.2023453  0.18807008\n",
            " 0.17042207 0.04694319 0.87605381 0.70774454 0.45024897 0.92232634\n",
            " 0.20920113 0.35932614 0.121504   0.24701171 0.39264923 0.03714188\n",
            " 0.76087245 0.04334506 0.28557627 0.32091182 0.45783217 0.97533242\n",
            " 0.95927248 0.41247723 0.01784022 0.32448218 0.13436707 0.28534395\n",
            " 0.52969251 0.69371571 0.41940174 0.58119441 0.36931268 0.10072096\n",
            " 0.81552257 0.05097247 0.36594784 0.71363186 0.17614789 0.40863555\n",
            " 0.19249154 0.71014347 0.40879069 0.61896955]\n",
            "Valor máximo: 0.999216582743779\n",
            "Valor minimo: 0.01130930156812504\n"
          ]
        }
      ],
      "source": [
        "arr = np.random.rand(100)\n",
        "arr_max = arr.max()\n",
        "arr_min = arr.min()\n",
        "print(f'Array: {arr}\\nValor máximo: {arr_max}\\nValor minimo: {arr_min}')"
      ]
    },
    {
      "cell_type": "code",
      "source": [
        "# np.random.rand() dará valores aleatórios entre 0 e 1. Para modificar o intervalo deve ser feito:\n",
        "# Intervalo [Inicio,Fim]\n",
        "# arr = np.random.rand(100)*(Fim-Inicio) + Inicio"
      ],
      "metadata": {
        "id": "6Od5aiW2csI5"
      },
      "execution_count": 4,
      "outputs": []
    },
    {
      "cell_type": "markdown",
      "metadata": {
        "id": "qT9pSHp4E6hQ"
      },
      "source": [
        "## Questão 2\n",
        "Em Geometria Analítica, um **vetor** é uma quantidade que pode ser definida por um énuplo (uma sequência ordenada de *n* elementos) em que cada elemento representa a intensidade do vetor na direção especificada pela i-ésima componente desta sequência. \n",
        "\n",
        "Quando pensamos em duas dimensões, por exemplo, o vetor $R = (b,a)$ define, geometricamente, a entidade representada na figura abaixo, com componentes nos eixos x e y usuais.\n",
        "\n",
        "<img src = \"https://static.todamateria.com.br/upload/im/ag/image-721.jpg?auto_optimize=low\" />\n",
        "\n",
        "O **módulo** deste vetor, também chamado de intensidade, está geometricamente relacionado ao seu comprimento, e pode ser calculado diretamente pelas suas componentes, por meio de uma operação conhecida como **produto escalar** do vetor com ele mesmo. O módulo quadrático é expresso, desta forma, por:\n",
        "\n",
        "$|A|^2 = \\vec{A} \\cdot \\vec{A}$\n",
        "\n",
        "Por outro lado, o produto escalar entre dois vetores $A = (a_{x}, a_{y})$ e $B = (b_{x}, b_{y})$ é dado por:\n",
        "\n",
        "$\\vec{A} \\cdot \\vec{B} = a_{x} \\times b_{x} + a_{y} \\times b_{y}$ (e esta definição vale para qualquer que seja a dimensão do vetor).\n",
        "\n",
        "O módulo quadrático de um vetor é, portanto:\n",
        "\n",
        "$|A|² = a_{x}^2 + b_{x}^2$."
      ]
    },
    {
      "cell_type": "markdown",
      "metadata": {
        "id": "-ZU6W86sE6hT"
      },
      "source": [
        "Dado o exposto acima, escreva uma função que retorne o módulo de um vetor n-dimensional qualquer."
      ]
    },
    {
      "cell_type": "code",
      "execution_count": 15,
      "metadata": {
        "id": "PdKKKvShE6hT"
      },
      "outputs": [],
      "source": [
        "def modulo_vetor(arr):\n",
        "  mod = np.sqrt((arr**2).sum())\n",
        "  return mod"
      ]
    },
    {
      "cell_type": "code",
      "source": [
        "vetor = np.array([3, 4])\n",
        "modulo = modulo_vetor(vetor)\n",
        "print(f'Vetor: {vetor}\\nModulo: {modulo}')"
      ],
      "metadata": {
        "colab": {
          "base_uri": "https://localhost:8080/"
        },
        "id": "rC8wcfl1e6Ai",
        "outputId": "241dc6ee-30ff-416c-9bec-693b96b1b412"
      },
      "execution_count": 16,
      "outputs": [
        {
          "output_type": "stream",
          "name": "stdout",
          "text": [
            "Vetor: [3 4]\n",
            "Modulo: 5.0\n"
          ]
        }
      ]
    },
    {
      "cell_type": "markdown",
      "metadata": {
        "id": "CRZdfzLgE6hU"
      },
      "source": [
        "## Questão 3\n",
        "\n",
        "Em uma **análise de regressão**, usualmente estamos interessados em descrever relações entre variáveis de um dado conjunto de dados por meio de uma **função** que descreva, o tanto quanto possível, estas relações.\n",
        "\n",
        "Por exemplo, no gráfico abaixo, os pontos vermelhos relacionam as medidas das duas variáveis sendo avaliadas (nos eixos x e y); e a linha azul aproxima a relação entre elas por uma função linear."
      ]
    },
    {
      "cell_type": "markdown",
      "metadata": {
        "id": "180Vp7AZE6hV"
      },
      "source": [
        "![Normdist_regression.png](https://miro.medium.com/v2/resize:fit:786/format:webp/1*LEmBCYAttxS6uI6rEyPLMQ.png)"
      ]
    },
    {
      "cell_type": "markdown",
      "metadata": {
        "id": "oQ1RFXOAE6hV"
      },
      "source": [
        "É possível ver que nem todos os pontos obedecem exatamente à relação ditada pela reta (isto é, há pontos que não estão exatamente \"sobre a reta\"; mas, sim, ligeraimente acima, ou abaixo, dela). Isto, contudo, é esperado em um modelo de regressão, por inúmeras fontes de incerteza associadas às medições."
      ]
    },
    {
      "cell_type": "markdown",
      "metadata": {
        "id": "XGWoc_O2E6hW"
      },
      "source": [
        "Uma das métricas que utilizamos para avaliar a qualidade de uma regressão é o **erro quadrático médio (EQM)**, que mensura a diferença total entre cada predição da regressão ($y_{prediction}$; que no nosso caso seriam os valores de y para a reta azul) com o valor real de cada i-ésima medida ($y_{i}$; que no nosso caso seriam as coordenadas y para cada ponto vermelho do gráfico). O EQM pode ser definido como:"
      ]
    },
    {
      "cell_type": "markdown",
      "metadata": {
        "id": "CjgOdTD6E6hX"
      },
      "source": [
        "$EQM = \\frac{1}{n}\\sum_{i=1}^{n}(y_{prediction} - y_{i})^2$."
      ]
    },
    {
      "cell_type": "markdown",
      "metadata": {
        "id": "qeXCrbmbE6hY"
      },
      "source": [
        "Isto posto, escreva uma função que calcule o EQM recebendo, como entrada, os vetores $y_{prediction}$ e $y_{i}$. Por exemplo, digamos que sua função se chame *calculate_eqm*, ela deve operar da seguinte forma:"
      ]
    },
    {
      "cell_type": "code",
      "execution_count": 22,
      "metadata": {
        "id": "mW1BDfUcE6hZ",
        "outputId": "00dc8e08-a3ec-4488-f480-61bf4ae2532b",
        "colab": {
          "base_uri": "https://localhost:8080/"
        }
      },
      "outputs": [
        {
          "output_type": "execute_result",
          "data": {
            "text/plain": [
              "1.6666666666666667"
            ]
          },
          "metadata": {},
          "execution_count": 22
        }
      ],
      "source": [
        "# dados dois arrays quaisquer de mesmo tamanho, a função deve retornar o EQM\n",
        "y_prediction = np.array([1,2,3])\n",
        "y_i = np.array([0,0,3])\n",
        "calculate_eqm(y_prediction,y_i)"
      ]
    },
    {
      "cell_type": "code",
      "execution_count": 21,
      "metadata": {
        "id": "bwiTGuuoE6hb"
      },
      "outputs": [],
      "source": [
        "# Solução\n",
        "def calculate_eqm(y_pred, y_i):\n",
        "  dif_quad = (y_pred - y_i)**2\n",
        "  EQM = dif_quad.sum()/y_pred.size\n",
        "  return EQM"
      ]
    },
    {
      "cell_type": "markdown",
      "metadata": {
        "id": "Wh0_a8PjE6hc"
      },
      "source": [
        "## Questão 4\n",
        "\n",
        "Crie um array 2D (bidimensional) com 1 na borda e 0 dentro"
      ]
    },
    {
      "cell_type": "code",
      "source": [
        "def matriz_bordada(line, column):\n",
        "  dim = (line, column)\n",
        "  m_bord = np.zeros(dim)\n",
        "  m_bord[:, 0] = 1\n",
        "  m_bord[0, :] = 1\n",
        "  m_bord[-1, :] = 1\n",
        "  m_bord[:, -1] = 1\n",
        "  return m_bord"
      ],
      "metadata": {
        "id": "hV3jcE8QoXtQ"
      },
      "execution_count": 45,
      "outputs": []
    },
    {
      "cell_type": "code",
      "source": [
        "matriz_bordada(5,10)"
      ],
      "metadata": {
        "colab": {
          "base_uri": "https://localhost:8080/"
        },
        "id": "yLEWRN9inrD7",
        "outputId": "7825871b-945d-43e1-a7fe-6ce05b5f9883"
      },
      "execution_count": 49,
      "outputs": [
        {
          "output_type": "execute_result",
          "data": {
            "text/plain": [
              "array([[1., 1., 1., 1., 1., 1., 1., 1., 1., 1.],\n",
              "       [1., 0., 0., 0., 0., 0., 0., 0., 0., 1.],\n",
              "       [1., 0., 0., 0., 0., 0., 0., 0., 0., 1.],\n",
              "       [1., 0., 0., 0., 0., 0., 0., 0., 0., 1.],\n",
              "       [1., 1., 1., 1., 1., 1., 1., 1., 1., 1.]])"
            ]
          },
          "metadata": {},
          "execution_count": 49
        }
      ]
    },
    {
      "cell_type": "markdown",
      "metadata": {
        "id": "U1CntgkZE6hc"
      },
      "source": [
        "## Questão 5\n",
        "\n",
        "Como adicionar uma borda de 0's ao redor de um array 2D (bidimensional) existente"
      ]
    },
    {
      "cell_type": "code",
      "source": [
        "def zero_borda(data):\n",
        "  # Armazenando qtde de linhas e colunas em variável\n",
        "  lin = data.shape[0]\n",
        "  col = data.shape[1]\n",
        "  # Executando matriz linhas e colunas com zeros\n",
        "  m_lin = np.zeros((1,col))\n",
        "  m_col = np.zeros((lin+2,1))\n",
        "  # Concatenando as matrizes zero na matriz recebida\n",
        "  zero_borda = np.concatenate((data, m_lin), axis=0)\n",
        "  zero_borda = np.concatenate((m_lin, zero_borda), axis=0)\n",
        "  zero_borda = np.concatenate((m_col, zero_borda), axis=1)\n",
        "  zero_borda = np.concatenate((zero_borda, m_col), axis=1)\n",
        "  return zero_borda"
      ],
      "metadata": {
        "id": "0-gMnSH-v7UW"
      },
      "execution_count": 86,
      "outputs": []
    },
    {
      "cell_type": "code",
      "source": [
        "a = np.array([[1,2],[5,3],[4,6]])\n",
        "zero_borda(a)"
      ],
      "metadata": {
        "colab": {
          "base_uri": "https://localhost:8080/"
        },
        "id": "8YrjJpydxoJW",
        "outputId": "ed113b98-ff6e-4875-ad8f-87d8c178aad4"
      },
      "execution_count": 87,
      "outputs": [
        {
          "output_type": "execute_result",
          "data": {
            "text/plain": [
              "array([[0., 0., 0., 0.],\n",
              "       [0., 1., 2., 0.],\n",
              "       [0., 5., 3., 0.],\n",
              "       [0., 4., 6., 0.],\n",
              "       [0., 0., 0., 0.]])"
            ]
          },
          "metadata": {},
          "execution_count": 87
        }
      ]
    },
    {
      "cell_type": "markdown",
      "metadata": {
        "id": "qHh149eAE6hd"
      },
      "source": [
        "## Questão 6\n",
        "\n",
        " A eletroencefalografia (EEG) é uma técnica que mensura potenciais elétricos cerebrais em diversas regiões do escalpo do paciente. Suponha que você recebeu um conjunto de dados na forma de uma matriz de 64 x 512 elementos, em que cada linha contém o sinal gravado em um dos **eletrodos** espalhados pelo escalpo em um exame de EEG, e cada coluna contém um valor de potencial elétrico, em microvolts. "
      ]
    },
    {
      "cell_type": "markdown",
      "metadata": {
        "id": "BRDY8u09E6hd"
      },
      "source": [
        "Como o sinal de EEG é muito suscetível a ruídos externos (interferências na qualidade do sinal), uma operação comum para atenuar a interferência no sinal consiste em tirar a média do potencial elétrico de todos os eletrodos, e subtrair este valor de cada um deles. Isto atenua fontes de ruído ao sinal comuns a todos os eletrodos. Em termos matemáticos, o sinal processado por esta operação, $X_{e,i}$ para cada eletrodo (e) e amostra (i), é dado por:"
      ]
    },
    {
      "cell_type": "markdown",
      "metadata": {
        "id": "NHLeT5deE6he"
      },
      "source": [
        "$X_{e,i} = \\hat{X_{e,i}} - \\frac{1}{N}\\sum_{e=1}^{N}\\hat{X_{e,i}}$,\n",
        "\n",
        "em que $\\hat{X_{e,i}}$ representa o sinal original (ou seja, é a matriz de entrada de 64 x 512 elementos), e $N$ indica o total de eletrodos."
      ]
    },
    {
      "cell_type": "markdown",
      "metadata": {
        "id": "ToiE-omdE6he"
      },
      "source": [
        "Com o exposto acima, escreva uma função que retorne uma matriz com os sinais de EEG processados conforme a operação mencionada. Sua função deve operar conforme o exemplo abaixo."
      ]
    },
    {
      "cell_type": "code",
      "execution_count": 123,
      "metadata": {
        "id": "EgsEH6T-E6hf",
        "outputId": "dcbf1c67-a798-4bb1-89bc-d60446f59cb7",
        "colab": {
          "base_uri": "https://localhost:8080/"
        }
      },
      "outputs": [
        {
          "output_type": "execute_result",
          "data": {
            "text/plain": [
              "(64, 512)"
            ]
          },
          "metadata": {},
          "execution_count": 123
        }
      ],
      "source": [
        "# vamos supor uma matriz de entrada gerada por dados aleatórios\n",
        "X = np.random.randn(64,512)\n",
        "X.shape # apenas para verificar as dimensões"
      ]
    },
    {
      "cell_type": "code",
      "execution_count": 124,
      "metadata": {
        "id": "gXsgtYEJE6hg",
        "outputId": "278d96fc-2470-44e4-c008-5ae30bf3d1a4",
        "colab": {
          "base_uri": "https://localhost:8080/"
        }
      },
      "outputs": [
        {
          "output_type": "stream",
          "name": "stdout",
          "text": [
            "Media: 0.010328000243980133\n"
          ]
        },
        {
          "output_type": "execute_result",
          "data": {
            "text/plain": [
              "(64, 512)"
            ]
          },
          "metadata": {},
          "execution_count": 124
        }
      ],
      "source": [
        "# a função deve executar a operação equacionada anteriormente, retornando uma nova matriz\n",
        "X_processado = process_EEG_signal(X)\n",
        "X_processado.shape"
      ]
    },
    {
      "cell_type": "code",
      "execution_count": 125,
      "metadata": {
        "id": "mR_U9LEbE6hh",
        "outputId": "e625f79c-ee23-4aed-ef91-aa746e075c0c",
        "colab": {
          "base_uri": "https://localhost:8080/"
        }
      },
      "outputs": [
        {
          "output_type": "execute_result",
          "data": {
            "text/plain": [
              "-338.42791199474095"
            ]
          },
          "metadata": {},
          "execution_count": 125
        }
      ],
      "source": [
        "# Somando as diferenças entre cada elemento das duas matrizes, apenas para ilustrar que elas não são iguais\n",
        "(X_processado - X).sum()"
      ]
    },
    {
      "cell_type": "code",
      "execution_count": 126,
      "metadata": {
        "id": "HkoRtLugE6hh",
        "outputId": "8298ac15-fc37-4119-a56a-a47d02575baf",
        "colab": {
          "base_uri": "https://localhost:8080/"
        }
      },
      "outputs": [
        {
          "output_type": "execute_result",
          "data": {
            "text/plain": [
              "array([[ 1.55229805, -0.20914547,  1.29241989, ...,  2.51643309,\n",
              "         0.43219758, -0.53168319],\n",
              "       [ 0.9265932 , -0.9413623 ,  1.14480129, ...,  0.05371631,\n",
              "         1.44866726, -2.84700319],\n",
              "       [ 1.64019262, -2.18057331, -0.99326766, ..., -1.1255483 ,\n",
              "        -0.52567166,  0.11268322],\n",
              "       ...,\n",
              "       [ 0.86586549, -1.04561747, -0.76433181, ..., -0.54695337,\n",
              "        -0.81462151, -1.62142071],\n",
              "       [-0.53239293, -1.92194117,  0.00908536, ..., -0.04799896,\n",
              "        -0.13644343, -1.04903051],\n",
              "       [-1.33555215, -0.46437894, -0.47699952, ..., -0.55992617,\n",
              "        -0.77881734,  1.45075166]])"
            ]
          },
          "metadata": {},
          "execution_count": 126
        }
      ],
      "source": [
        "# Visualizando as matrizes, para verificar uma vez mais que, de fato, os elementos são diferentes\n",
        "X"
      ]
    },
    {
      "cell_type": "code",
      "execution_count": 127,
      "metadata": {
        "id": "kGdBX0J-E6hi",
        "outputId": "cd6cb70b-cc1a-44b8-c5e8-2a6deeda607f",
        "colab": {
          "base_uri": "https://localhost:8080/"
        }
      },
      "outputs": [
        {
          "output_type": "execute_result",
          "data": {
            "text/plain": [
              "array([[ 1.54197005e+00, -2.19473470e-01,  1.28209189e+00, ...,\n",
              "         2.50610509e+00,  4.21869581e-01, -5.42011193e-01],\n",
              "       [ 9.16265199e-01, -9.51690304e-01,  1.13447329e+00, ...,\n",
              "         4.33883092e-02,  1.43833926e+00, -2.85733119e+00],\n",
              "       [ 1.62986462e+00, -2.19090131e+00, -1.00359566e+00, ...,\n",
              "        -1.13587630e+00, -5.35999658e-01,  1.02355220e-01],\n",
              "       ...,\n",
              "       [ 8.55537493e-01, -1.05594547e+00, -7.74659809e-01, ...,\n",
              "        -5.57281366e-01, -8.24949511e-01, -1.63174871e+00],\n",
              "       [-5.42720929e-01, -1.93226917e+00, -1.24263933e-03, ...,\n",
              "        -5.83269629e-02, -1.46771426e-01, -1.05935851e+00],\n",
              "       [-1.34588015e+00, -4.74706940e-01, -4.87327520e-01, ...,\n",
              "        -5.70254174e-01, -7.89145339e-01,  1.44042366e+00]])"
            ]
          },
          "metadata": {},
          "execution_count": 127
        }
      ],
      "source": [
        "# Matriz após o processamento descrito no enunciado\n",
        "X_processado"
      ]
    },
    {
      "cell_type": "code",
      "execution_count": 109,
      "metadata": {
        "id": "OlxjvCnQE6hj"
      },
      "outputs": [],
      "source": [
        "# Solução\n",
        "def process_EEG_signal(X):\n",
        "  media = X.sum()/X.size\n",
        "  print(f'Media: {media}')\n",
        "  X_process = X - media\n",
        "  return X_process"
      ]
    },
    {
      "cell_type": "markdown",
      "metadata": {
        "id": "7Gy6nTwQE6hj"
      },
      "source": [
        "## Questão 7\n",
        "\n",
        "Em estatística, um **outlier** é um valor que destoa consideravelmente da distribuição à qual está associado. Um dos critérios para idenficar outliers consiste em encontrar a **distância interquantil** (IQR), ou seja, a diferença entre o terceiro (Q3) e o primeiro quartis (Q1) da distribuição, e tomar como outliers todos os pontos abaixo de 1.5*IQR - Q1, ou acima de 1.5*IQR + Q3."
      ]
    },
    {
      "cell_type": "markdown",
      "metadata": {
        "id": "CP-NkMHTE6hk"
      },
      "source": [
        "<img src = \"https://blog.curso-r.com/images/posts/banner/outlier.webp\" />"
      ]
    },
    {
      "cell_type": "markdown",
      "metadata": {
        "id": "BLDJN5JPE6hk"
      },
      "source": [
        "Escreva uma função que, dada uma matriz de dados de entrada de dimensões $N_{observações} \\times N_{features}$ retorne três requisitos: \n",
        "- uma matriz booleana indicando a existência de outliers nos dados de entrada;\n",
        "- a quantidade de outliers\n",
        "- quem são os outliers (os valores)."
      ]
    },
    {
      "cell_type": "markdown",
      "metadata": {
        "id": "wwVcP2uZE6hl"
      },
      "source": [
        "**Algumas definições:**\n",
        "- um *quantil* divide a distribuição, após ordenados os pontos, segundo algum ponto de corte;\n",
        "- o **primeiro quartil** é o ponto para o qual 25 % dos valores da distribuição estão abaixo dele;\n",
        "- o **terceiro quartil** é o ponto para o qual 75 % dos valores da distribuição estão abaixo dele.\n",
        "\n",
        "Pode ser útil consultar a função **numpy.quantile**."
      ]
    },
    {
      "cell_type": "markdown",
      "metadata": {
        "id": "C9nCKXhjE6hm"
      },
      "source": [
        "Exemplo de operação da função:"
      ]
    },
    {
      "cell_type": "code",
      "execution_count": 135,
      "metadata": {
        "id": "wHdcs77RE6hm",
        "outputId": "1badeb58-a35a-46d9-ac88-e08f792f6914",
        "colab": {
          "base_uri": "https://localhost:8080/"
        }
      },
      "outputs": [
        {
          "output_type": "execute_result",
          "data": {
            "text/plain": [
              "array([[ 1.75280457, -0.76915889,  0.02775456, ...,  1.24942712,\n",
              "        -1.81345118,  0.30889802],\n",
              "       [-1.00775209, -0.57943692, -0.70117234, ..., -1.22876208,\n",
              "         1.86483978, -0.42869096],\n",
              "       [-1.62612183, -1.30702813, -0.44021219, ...,  0.03750182,\n",
              "         0.21173823, -0.6938142 ],\n",
              "       ...,\n",
              "       [-2.32848689, -0.9236214 ,  0.06562631, ...,  0.22653145,\n",
              "         0.90832422,  0.5073267 ],\n",
              "       [-0.61366541, -0.65657644, -1.04171294, ..., -1.00039246,\n",
              "         2.09251238, -1.01924256],\n",
              "       [ 1.82200999,  0.48973575, -1.04609226, ..., -0.71496225,\n",
              "         0.61904661, -1.55652154]])"
            ]
          },
          "metadata": {},
          "execution_count": 135
        }
      ],
      "source": [
        "# Geremos um conjunto de dados qualquer\n",
        "X = np.random.randn(300,15)\n",
        "X"
      ]
    },
    {
      "cell_type": "code",
      "execution_count": 136,
      "metadata": {
        "id": "KVe7LEW0E6hn",
        "colab": {
          "base_uri": "https://localhost:8080/"
        },
        "outputId": "cc8031b9-ca23-4363-c1ae-28a51d1652ad"
      },
      "outputs": [
        {
          "output_type": "stream",
          "name": "stdout",
          "text": [
            "Primeiro quartil (25%): 2.25\n",
            "Terceiro quartil (75%): 4.75\n"
          ]
        }
      ],
      "source": [
        "# identificamos os requisitos com nossa com nossa função \"locate_outliers\"\n",
        "is_outlier, outliers_count, outliers = locate_outliers(X)"
      ]
    },
    {
      "cell_type": "code",
      "execution_count": 137,
      "metadata": {
        "id": "vuZ3n3K_E6hn",
        "outputId": "3f275d2b-d7a0-4824-ee4f-07701d4a7130",
        "colab": {
          "base_uri": "https://localhost:8080/"
        }
      },
      "outputs": [
        {
          "output_type": "execute_result",
          "data": {
            "text/plain": [
              "array([[False, False, False, ..., False, False, False],\n",
              "       [False, False, False, ..., False, False, False],\n",
              "       [False, False, False, ..., False, False, False],\n",
              "       ...,\n",
              "       [False, False, False, ..., False, False, False],\n",
              "       [False, False, False, ..., False, False, False],\n",
              "       [False, False, False, ..., False, False, False]])"
            ]
          },
          "metadata": {},
          "execution_count": 137
        }
      ],
      "source": [
        "is_outlier"
      ]
    },
    {
      "cell_type": "code",
      "execution_count": 138,
      "metadata": {
        "id": "IzjWsBrZE6ho",
        "outputId": "db2d2cf4-7b47-4223-8d10-dfa44d978f20",
        "colab": {
          "base_uri": "https://localhost:8080/"
        }
      },
      "outputs": [
        {
          "output_type": "execute_result",
          "data": {
            "text/plain": [
              "49"
            ]
          },
          "metadata": {},
          "execution_count": 138
        }
      ],
      "source": [
        "outliers_count"
      ]
    },
    {
      "cell_type": "code",
      "execution_count": 139,
      "metadata": {
        "id": "PbO7R7P2E6hp",
        "outputId": "c973b561-2dcc-44f1-8754-16aff1b683ec",
        "colab": {
          "base_uri": "https://localhost:8080/"
        }
      },
      "outputs": [
        {
          "output_type": "execute_result",
          "data": {
            "text/plain": [
              "array([2.33044605, 2.89164093, 2.3326025 , 2.47585057, 2.28515353,\n",
              "       2.79819119, 2.8783963 , 2.67676836, 2.33134342, 2.7763863 ,\n",
              "       2.78479516, 2.95603781, 2.69518302, 2.7605073 , 2.31898767,\n",
              "       2.72351053, 2.70116987, 2.41470103, 2.2695089 , 2.75300125,\n",
              "       2.47983864, 2.55275325, 2.76569082, 2.29088323, 2.26880609,\n",
              "       2.4337773 , 2.34600214, 3.20191361, 3.38390409, 2.59010986,\n",
              "       2.7429809 , 2.92241131, 2.56746704, 2.25036133, 2.4580696 ,\n",
              "       2.7600742 , 3.42393503, 2.30441822, 2.58969399, 2.46861378,\n",
              "       4.51805094, 2.47220195, 2.34941079, 2.53035304, 2.85610642,\n",
              "       2.55758726, 2.49565174, 2.78330133, 3.32986808])"
            ]
          },
          "metadata": {},
          "execution_count": 139
        }
      ],
      "source": [
        "outliers"
      ]
    },
    {
      "cell_type": "code",
      "execution_count": 130,
      "metadata": {
        "id": "AdTkst5UE6hq"
      },
      "outputs": [],
      "source": [
        "# Solução\n",
        "def locate_outliers(X):\n",
        "  quartil_25 = np.quantile(a, 0.25)\n",
        "  print(f'Primeiro quartil (25%): {quartil_25}')\n",
        "  quartil_75 = np.quantile(a, 0.75)\n",
        "  print(f'Terceiro quartil (75%): {quartil_75}')\n",
        "  is_outlier = np.where(((X > quartil_25) & (X < quartil_75)), True, False)\n",
        "  outliers_count = np.count_nonzero(X*is_outlier)\n",
        "  outliers = X[((X > quartil_25) & (X < quartil_75))]\n",
        "  return is_outlier, outliers_count, outliers"
      ]
    },
    {
      "cell_type": "markdown",
      "source": [
        "Execução de exemplo prático para checar se a função *locate_outliers* está funcionando corretamente:"
      ],
      "metadata": {
        "id": "FfmRksv2-HIQ"
      }
    },
    {
      "cell_type": "code",
      "source": [
        "a = np.array([[1, 2, 3], [4, 5, 6]])\n",
        "print(a)\n",
        "is_outlier, outliers_count, outliers = locate_outliers(a)"
      ],
      "metadata": {
        "id": "2xRm8Lwn9P8X",
        "outputId": "6e82c848-b200-4040-96dd-17bc9424cb33",
        "colab": {
          "base_uri": "https://localhost:8080/"
        }
      },
      "execution_count": 131,
      "outputs": [
        {
          "output_type": "stream",
          "name": "stdout",
          "text": [
            "[[1 2 3]\n",
            " [4 5 6]]\n",
            "Primeiro quartil (25%): 2.25\n",
            "Terceiro quartil (75%): 4.75\n"
          ]
        }
      ]
    },
    {
      "cell_type": "code",
      "source": [
        "is_outlier"
      ],
      "metadata": {
        "id": "nbUfjgDs9Ps8",
        "outputId": "8934e3cd-3fab-4877-e78e-310a0ea1014e",
        "colab": {
          "base_uri": "https://localhost:8080/"
        }
      },
      "execution_count": 132,
      "outputs": [
        {
          "output_type": "execute_result",
          "data": {
            "text/plain": [
              "array([[False, False,  True],\n",
              "       [ True, False, False]])"
            ]
          },
          "metadata": {},
          "execution_count": 132
        }
      ]
    },
    {
      "cell_type": "code",
      "source": [
        "outliers_count"
      ],
      "metadata": {
        "id": "K6LBqaW09tjq",
        "outputId": "5d6f3ced-ad40-4c8f-a59f-fed00be4a00c",
        "colab": {
          "base_uri": "https://localhost:8080/"
        }
      },
      "execution_count": 133,
      "outputs": [
        {
          "output_type": "execute_result",
          "data": {
            "text/plain": [
              "2"
            ]
          },
          "metadata": {},
          "execution_count": 133
        }
      ]
    },
    {
      "cell_type": "code",
      "source": [
        "outliers"
      ],
      "metadata": {
        "id": "qwcXEYyi9tdB",
        "outputId": "5043b1b3-9dec-4f12-9f85-9d3cd8ff637a",
        "colab": {
          "base_uri": "https://localhost:8080/"
        }
      },
      "execution_count": 134,
      "outputs": [
        {
          "output_type": "execute_result",
          "data": {
            "text/plain": [
              "array([3, 4])"
            ]
          },
          "metadata": {},
          "execution_count": 134
        }
      ]
    },
    {
      "cell_type": "markdown",
      "metadata": {
        "id": "upNDn96PE6hq"
      },
      "source": [
        "## Questão 8\n",
        "\n",
        "Crie um vetor com valores que vão de 1 até 21 de dois em dois, a partir da função arange"
      ]
    },
    {
      "cell_type": "code",
      "execution_count": null,
      "metadata": {
        "id": "w4d14JRZE6hr"
      },
      "outputs": [],
      "source": []
    },
    {
      "cell_type": "markdown",
      "metadata": {
        "id": "SchEY1O7E6hr"
      },
      "source": [
        "## Questão 9\n",
        "\n",
        "Crie um array de 10 com valores aleatórios"
      ]
    },
    {
      "cell_type": "code",
      "execution_count": null,
      "metadata": {
        "id": "MYpySePjE6hs"
      },
      "outputs": [],
      "source": []
    },
    {
      "cell_type": "markdown",
      "metadata": {
        "id": "EFfvM6LIAlfJ"
      },
      "source": [
        "## Questão 10\n",
        "\n",
        "Em estatística, a normalização de uma distribuição de dados pode ser feita subtraindo o valor médio da distribuição de cada valor do conjunto de dados, dividindo o resultado pelo desvio-padrão da distribuição. Escreva uma função que normalize os dados recebidos por um array numpy qualquer, conforme descrito anteriormente."
      ]
    },
    {
      "cell_type": "code",
      "execution_count": null,
      "metadata": {
        "id": "yfho2bziAlfJ"
      },
      "outputs": [],
      "source": []
    },
    {
      "cell_type": "markdown",
      "metadata": {
        "id": "p60_N7ZwAlfK"
      },
      "source": [
        "## Questão 11\n",
        "\n",
        "Escreva uma função em numpy que receba um array contendo notas de uma turma de 100 estudantes. Considere que a nota de aprovação da turma é 5.0. A função deve retornar, em um array numpy, nesta ordem:\n",
        "- a média e o desvio-padrão das notas da turma;\n",
        "- o número de notas maiores que 7.0;\n",
        "- o número de reprovações da turma;\n",
        "- a menor nota da turma;\n",
        "- a maior nota da turma."
      ]
    },
    {
      "cell_type": "code",
      "execution_count": null,
      "metadata": {
        "id": "Q3wkBCFtAlfK"
      },
      "outputs": [],
      "source": []
    }
  ],
  "metadata": {
    "language_info": {
      "name": "python"
    },
    "orig_nbformat": 4,
    "colab": {
      "provenance": [],
      "include_colab_link": true
    },
    "kernelspec": {
      "name": "python3",
      "display_name": "Python 3"
    },
    "gpuClass": "standard"
  },
  "nbformat": 4,
  "nbformat_minor": 0
}