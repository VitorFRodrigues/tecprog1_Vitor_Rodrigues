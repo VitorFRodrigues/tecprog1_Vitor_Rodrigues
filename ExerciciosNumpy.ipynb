{
  "cells": [
    {
      "cell_type": "markdown",
      "metadata": {
        "colab_type": "text",
        "id": "view-in-github"
      },
      "source": [
        "<a href=\"https://colab.research.google.com/github/VitorFRodrigues/tecprog1_Vitor_Rodrigues/blob/main/ExerciciosNumpy.ipynb\" target=\"_parent\"><img src=\"https://colab.research.google.com/assets/colab-badge.svg\" alt=\"Open In Colab\"/></a>"
      ]
    },
    {
      "cell_type": "markdown",
      "metadata": {
        "id": "dDhJSUbSE6hI"
      },
      "source": [
        "# Lista de Exercícios de Numpy\n",
        "\n",
        "Deverá ser entrege até **11/02/2023** por meio do github que foi informado por vocês no [formulário](https://forms.office.com/r/YV12vEXGYF) respondido na aula de 01/02.\n",
        "\n",
        "A entrega pela github é parte da avaliação."
      ]
    },
    {
      "cell_type": "code",
      "execution_count": 1,
      "metadata": {
        "id": "rBiW_u_ZcAeC"
      },
      "outputs": [],
      "source": [
        "import numpy as np"
      ]
    },
    {
      "cell_type": "markdown",
      "metadata": {
        "id": "eX5x6-bjE6hN"
      },
      "source": [
        "## Questão 1\n",
        "\n",
        "Crie um array 100 com valores aleatórios e ache os valores máximo e mínimo"
      ]
    },
    {
      "cell_type": "code",
      "execution_count": 153,
      "metadata": {
        "colab": {
          "base_uri": "https://localhost:8080/"
        },
        "id": "kYKS_ae1E6hP",
        "outputId": "631d01a3-56f7-48c9-943e-7c82db0fc960"
      },
      "outputs": [
        {
          "name": "stdout",
          "output_type": "stream",
          "text": [
            "Array: [40 67 82 13 87 70 80  7 49 65 59 18 43 56 22 34 45  9 42 86 92 92 27 57\n",
            " 51 14 18 84 69 18 54 72 16 10  7 24 10 76  4 65 35 47 10 47 39 57 92 67\n",
            "  1 27 41 36 37 96 90 47  1 26 20  7 86 12 25 56 87 63 52 30 67  4 79 25\n",
            " 20 96 71 92 64 46 97 32 62 56 25 72 81 44 51 18 43 28 61 85 32 55  1 45\n",
            " 74 96 86 42]\n",
            "Valor máximo: 97\n",
            "Valor minimo: 1\n"
          ]
        }
      ],
      "source": [
        "arr = np.random.randint(1,101,100)\n",
        "arr_max = arr.max()\n",
        "arr_min = arr.min()\n",
        "print(f'Array: {arr}\\nValor máximo: {arr_max}\\nValor minimo: {arr_min}')"
      ]
    },
    {
      "cell_type": "code",
      "execution_count": 4,
      "metadata": {
        "id": "6Od5aiW2csI5"
      },
      "outputs": [],
      "source": [
        "# np.random.rand() dará valores aleatórios entre 0 e 1. Para modificar o intervalo deve ser feito:\n",
        "# Intervalo [Inicio,Fim]\n",
        "# arr = np.random.rand(100)*(Fim-Inicio) + Inicio"
      ]
    },
    {
      "cell_type": "markdown",
      "metadata": {
        "id": "qT9pSHp4E6hQ"
      },
      "source": [
        "## Questão 2\n",
        "Em Geometria Analítica, um **vetor** é uma quantidade que pode ser definida por um énuplo (uma sequência ordenada de *n* elementos) em que cada elemento representa a intensidade do vetor na direção especificada pela i-ésima componente desta sequência. \n",
        "\n",
        "Quando pensamos em duas dimensões, por exemplo, o vetor $R = (b,a)$ define, geometricamente, a entidade representada na figura abaixo, com componentes nos eixos x e y usuais.\n",
        "\n",
        "<img src = \"https://static.todamateria.com.br/upload/im/ag/image-721.jpg?auto_optimize=low\" />\n",
        "\n",
        "O **módulo** deste vetor, também chamado de intensidade, está geometricamente relacionado ao seu comprimento, e pode ser calculado diretamente pelas suas componentes, por meio de uma operação conhecida como **produto escalar** do vetor com ele mesmo. O módulo quadrático é expresso, desta forma, por:\n",
        "\n",
        "$|A|^2 = \\vec{A} \\cdot \\vec{A}$\n",
        "\n",
        "Por outro lado, o produto escalar entre dois vetores $A = (a_{x}, a_{y})$ e $B = (b_{x}, b_{y})$ é dado por:\n",
        "\n",
        "$\\vec{A} \\cdot \\vec{B} = a_{x} \\times b_{x} + a_{y} \\times b_{y}$ (e esta definição vale para qualquer que seja a dimensão do vetor).\n",
        "\n",
        "O módulo quadrático de um vetor é, portanto:\n",
        "\n",
        "$|A|² = a_{x}^2 + b_{x}^2$."
      ]
    },
    {
      "cell_type": "markdown",
      "metadata": {
        "id": "-ZU6W86sE6hT"
      },
      "source": [
        "Dado o exposto acima, escreva uma função que retorne o módulo de um vetor n-dimensional qualquer."
      ]
    },
    {
      "cell_type": "code",
      "execution_count": 15,
      "metadata": {
        "id": "PdKKKvShE6hT"
      },
      "outputs": [],
      "source": [
        "def modulo_vetor(arr):\n",
        "  mod = np.sqrt((arr**2).sum())\n",
        "  return mod"
      ]
    },
    {
      "cell_type": "code",
      "execution_count": 16,
      "metadata": {
        "colab": {
          "base_uri": "https://localhost:8080/"
        },
        "id": "rC8wcfl1e6Ai",
        "outputId": "241dc6ee-30ff-416c-9bec-693b96b1b412"
      },
      "outputs": [
        {
          "name": "stdout",
          "output_type": "stream",
          "text": [
            "Vetor: [3 4]\n",
            "Modulo: 5.0\n"
          ]
        }
      ],
      "source": [
        "vetor = np.array([3, 4])\n",
        "modulo = modulo_vetor(vetor)\n",
        "print(f'Vetor: {vetor}\\nModulo: {modulo}')"
      ]
    },
    {
      "cell_type": "markdown",
      "metadata": {
        "id": "CRZdfzLgE6hU"
      },
      "source": [
        "## Questão 3\n",
        "\n",
        "Em uma **análise de regressão**, usualmente estamos interessados em descrever relações entre variáveis de um dado conjunto de dados por meio de uma **função** que descreva, o tanto quanto possível, estas relações.\n",
        "\n",
        "Por exemplo, no gráfico abaixo, os pontos vermelhos relacionam as medidas das duas variáveis sendo avaliadas (nos eixos x e y); e a linha azul aproxima a relação entre elas por uma função linear."
      ]
    },
    {
      "cell_type": "markdown",
      "metadata": {
        "id": "180Vp7AZE6hV"
      },
      "source": [
        "![Normdist_regression.png](https://miro.medium.com/v2/resize:fit:786/format:webp/1*LEmBCYAttxS6uI6rEyPLMQ.png)"
      ]
    },
    {
      "cell_type": "markdown",
      "metadata": {
        "id": "oQ1RFXOAE6hV"
      },
      "source": [
        "É possível ver que nem todos os pontos obedecem exatamente à relação ditada pela reta (isto é, há pontos que não estão exatamente \"sobre a reta\"; mas, sim, ligeraimente acima, ou abaixo, dela). Isto, contudo, é esperado em um modelo de regressão, por inúmeras fontes de incerteza associadas às medições."
      ]
    },
    {
      "cell_type": "markdown",
      "metadata": {
        "id": "XGWoc_O2E6hW"
      },
      "source": [
        "Uma das métricas que utilizamos para avaliar a qualidade de uma regressão é o **erro quadrático médio (EQM)**, que mensura a diferença total entre cada predição da regressão ($y_{prediction}$; que no nosso caso seriam os valores de y para a reta azul) com o valor real de cada i-ésima medida ($y_{i}$; que no nosso caso seriam as coordenadas y para cada ponto vermelho do gráfico). O EQM pode ser definido como:"
      ]
    },
    {
      "cell_type": "markdown",
      "metadata": {
        "id": "CjgOdTD6E6hX"
      },
      "source": [
        "$EQM = \\frac{1}{n}\\sum_{i=1}^{n}(y_{prediction} - y_{i})^2$."
      ]
    },
    {
      "cell_type": "markdown",
      "metadata": {
        "id": "qeXCrbmbE6hY"
      },
      "source": [
        "Isto posto, escreva uma função que calcule o EQM recebendo, como entrada, os vetores $y_{prediction}$ e $y_{i}$. Por exemplo, digamos que sua função se chame *calculate_eqm*, ela deve operar da seguinte forma:"
      ]
    },
    {
      "cell_type": "code",
      "execution_count": 22,
      "metadata": {
        "colab": {
          "base_uri": "https://localhost:8080/"
        },
        "id": "mW1BDfUcE6hZ",
        "outputId": "00dc8e08-a3ec-4488-f480-61bf4ae2532b"
      },
      "outputs": [
        {
          "data": {
            "text/plain": [
              "1.6666666666666667"
            ]
          },
          "execution_count": 22,
          "metadata": {},
          "output_type": "execute_result"
        }
      ],
      "source": [
        "# dados dois arrays quaisquer de mesmo tamanho, a função deve retornar o EQM\n",
        "y_prediction = np.array([1,2,3])\n",
        "y_i = np.array([0,0,3])\n",
        "calculate_eqm(y_prediction,y_i)"
      ]
    },
    {
      "cell_type": "code",
      "execution_count": 21,
      "metadata": {
        "id": "bwiTGuuoE6hb"
      },
      "outputs": [],
      "source": [
        "# Solução\n",
        "def calculate_eqm(y_pred, y_i):\n",
        "  dif_quad = (y_pred - y_i)**2\n",
        "  EQM = dif_quad.sum()/y_pred.size\n",
        "  return EQM"
      ]
    },
    {
      "cell_type": "markdown",
      "metadata": {
        "id": "Wh0_a8PjE6hc"
      },
      "source": [
        "## Questão 4\n",
        "\n",
        "Crie um array 2D (bidimensional) com 1 na borda e 0 dentro"
      ]
    },
    {
      "cell_type": "code",
      "execution_count": 45,
      "metadata": {
        "id": "hV3jcE8QoXtQ"
      },
      "outputs": [],
      "source": [
        "def matriz_bordada(line, column):\n",
        "  dim = (line, column)\n",
        "  m_bord = np.zeros(dim)\n",
        "  m_bord[:, 0] = 1\n",
        "  m_bord[0, :] = 1\n",
        "  m_bord[-1, :] = 1\n",
        "  m_bord[:, -1] = 1\n",
        "  return m_bord"
      ]
    },
    {
      "cell_type": "code",
      "execution_count": 49,
      "metadata": {
        "colab": {
          "base_uri": "https://localhost:8080/"
        },
        "id": "yLEWRN9inrD7",
        "outputId": "7825871b-945d-43e1-a7fe-6ce05b5f9883"
      },
      "outputs": [
        {
          "data": {
            "text/plain": [
              "array([[1., 1., 1., 1., 1., 1., 1., 1., 1., 1.],\n",
              "       [1., 0., 0., 0., 0., 0., 0., 0., 0., 1.],\n",
              "       [1., 0., 0., 0., 0., 0., 0., 0., 0., 1.],\n",
              "       [1., 0., 0., 0., 0., 0., 0., 0., 0., 1.],\n",
              "       [1., 1., 1., 1., 1., 1., 1., 1., 1., 1.]])"
            ]
          },
          "execution_count": 49,
          "metadata": {},
          "output_type": "execute_result"
        }
      ],
      "source": [
        "matriz_bordada(5,10)"
      ]
    },
    {
      "cell_type": "markdown",
      "metadata": {
        "id": "U1CntgkZE6hc"
      },
      "source": [
        "## Questão 5\n",
        "\n",
        "Como adicionar uma borda de 0's ao redor de um array 2D (bidimensional) existente"
      ]
    },
    {
      "cell_type": "code",
      "execution_count": 86,
      "metadata": {
        "id": "0-gMnSH-v7UW"
      },
      "outputs": [],
      "source": [
        "def zero_borda(data):\n",
        "  # Armazenando qtde de linhas e colunas em variável\n",
        "  lin = data.shape[0]\n",
        "  col = data.shape[1]\n",
        "  # Executando matriz linhas e colunas com zeros\n",
        "  m_lin = np.zeros((1,col))\n",
        "  m_col = np.zeros((lin+2,1))\n",
        "  # Concatenando as matrizes zero na matriz recebida\n",
        "  zero_borda = np.concatenate((data, m_lin), axis=0)\n",
        "  zero_borda = np.concatenate((m_lin, zero_borda), axis=0)\n",
        "  zero_borda = np.concatenate((m_col, zero_borda), axis=1)\n",
        "  zero_borda = np.concatenate((zero_borda, m_col), axis=1)\n",
        "  return zero_borda"
      ]
    },
    {
      "cell_type": "code",
      "execution_count": 87,
      "metadata": {
        "colab": {
          "base_uri": "https://localhost:8080/"
        },
        "id": "8YrjJpydxoJW",
        "outputId": "ed113b98-ff6e-4875-ad8f-87d8c178aad4"
      },
      "outputs": [
        {
          "data": {
            "text/plain": [
              "array([[0., 0., 0., 0.],\n",
              "       [0., 1., 2., 0.],\n",
              "       [0., 5., 3., 0.],\n",
              "       [0., 4., 6., 0.],\n",
              "       [0., 0., 0., 0.]])"
            ]
          },
          "execution_count": 87,
          "metadata": {},
          "output_type": "execute_result"
        }
      ],
      "source": [
        "a = np.array([[1,2],[5,3],[4,6]])\n",
        "zero_borda(a)"
      ]
    },
    {
      "cell_type": "markdown",
      "metadata": {
        "id": "qHh149eAE6hd"
      },
      "source": [
        "## Questão 6\n",
        "\n",
        " A eletroencefalografia (EEG) é uma técnica que mensura potenciais elétricos cerebrais em diversas regiões do escalpo do paciente. Suponha que você recebeu um conjunto de dados na forma de uma matriz de 64 x 512 elementos, em que cada linha contém o sinal gravado em um dos **eletrodos** espalhados pelo escalpo em um exame de EEG, e cada coluna contém um valor de potencial elétrico, em microvolts. "
      ]
    },
    {
      "cell_type": "markdown",
      "metadata": {
        "id": "BRDY8u09E6hd"
      },
      "source": [
        "Como o sinal de EEG é muito suscetível a ruídos externos (interferências na qualidade do sinal), uma operação comum para atenuar a interferência no sinal consiste em tirar a média do potencial elétrico de todos os eletrodos, e subtrair este valor de cada um deles. Isto atenua fontes de ruído ao sinal comuns a todos os eletrodos. Em termos matemáticos, o sinal processado por esta operação, $X_{e,i}$ para cada eletrodo (e) e amostra (i), é dado por:"
      ]
    },
    {
      "cell_type": "markdown",
      "metadata": {
        "id": "NHLeT5deE6he"
      },
      "source": [
        "$X_{e,i} = \\hat{X_{e,i}} - \\frac{1}{N}\\sum_{e=1}^{N}\\hat{X_{e,i}}$,\n",
        "\n",
        "em que $\\hat{X_{e,i}}$ representa o sinal original (ou seja, é a matriz de entrada de 64 x 512 elementos), e $N$ indica o total de eletrodos."
      ]
    },
    {
      "cell_type": "markdown",
      "metadata": {
        "id": "ToiE-omdE6he"
      },
      "source": [
        "Com o exposto acima, escreva uma função que retorne uma matriz com os sinais de EEG processados conforme a operação mencionada. Sua função deve operar conforme o exemplo abaixo."
      ]
    },
    {
      "cell_type": "code",
      "execution_count": 123,
      "metadata": {
        "colab": {
          "base_uri": "https://localhost:8080/"
        },
        "id": "EgsEH6T-E6hf",
        "outputId": "dcbf1c67-a798-4bb1-89bc-d60446f59cb7"
      },
      "outputs": [
        {
          "data": {
            "text/plain": [
              "(64, 512)"
            ]
          },
          "execution_count": 123,
          "metadata": {},
          "output_type": "execute_result"
        }
      ],
      "source": [
        "# vamos supor uma matriz de entrada gerada por dados aleatórios\n",
        "X = np.random.randn(64,512)\n",
        "X.shape # apenas para verificar as dimensões"
      ]
    },
    {
      "cell_type": "code",
      "execution_count": 124,
      "metadata": {
        "colab": {
          "base_uri": "https://localhost:8080/"
        },
        "id": "gXsgtYEJE6hg",
        "outputId": "278d96fc-2470-44e4-c008-5ae30bf3d1a4"
      },
      "outputs": [
        {
          "name": "stdout",
          "output_type": "stream",
          "text": [
            "Media: 0.010328000243980133\n"
          ]
        },
        {
          "data": {
            "text/plain": [
              "(64, 512)"
            ]
          },
          "execution_count": 124,
          "metadata": {},
          "output_type": "execute_result"
        }
      ],
      "source": [
        "# a função deve executar a operação equacionada anteriormente, retornando uma nova matriz\n",
        "X_processado = process_EEG_signal(X)\n",
        "X_processado.shape"
      ]
    },
    {
      "cell_type": "code",
      "execution_count": 125,
      "metadata": {
        "colab": {
          "base_uri": "https://localhost:8080/"
        },
        "id": "mR_U9LEbE6hh",
        "outputId": "e625f79c-ee23-4aed-ef91-aa746e075c0c"
      },
      "outputs": [
        {
          "data": {
            "text/plain": [
              "-338.42791199474095"
            ]
          },
          "execution_count": 125,
          "metadata": {},
          "output_type": "execute_result"
        }
      ],
      "source": [
        "# Somando as diferenças entre cada elemento das duas matrizes, apenas para ilustrar que elas não são iguais\n",
        "(X_processado - X).sum()"
      ]
    },
    {
      "cell_type": "code",
      "execution_count": 126,
      "metadata": {
        "colab": {
          "base_uri": "https://localhost:8080/"
        },
        "id": "HkoRtLugE6hh",
        "outputId": "8298ac15-fc37-4119-a56a-a47d02575baf"
      },
      "outputs": [
        {
          "data": {
            "text/plain": [
              "array([[ 1.55229805, -0.20914547,  1.29241989, ...,  2.51643309,\n",
              "         0.43219758, -0.53168319],\n",
              "       [ 0.9265932 , -0.9413623 ,  1.14480129, ...,  0.05371631,\n",
              "         1.44866726, -2.84700319],\n",
              "       [ 1.64019262, -2.18057331, -0.99326766, ..., -1.1255483 ,\n",
              "        -0.52567166,  0.11268322],\n",
              "       ...,\n",
              "       [ 0.86586549, -1.04561747, -0.76433181, ..., -0.54695337,\n",
              "        -0.81462151, -1.62142071],\n",
              "       [-0.53239293, -1.92194117,  0.00908536, ..., -0.04799896,\n",
              "        -0.13644343, -1.04903051],\n",
              "       [-1.33555215, -0.46437894, -0.47699952, ..., -0.55992617,\n",
              "        -0.77881734,  1.45075166]])"
            ]
          },
          "execution_count": 126,
          "metadata": {},
          "output_type": "execute_result"
        }
      ],
      "source": [
        "# Visualizando as matrizes, para verificar uma vez mais que, de fato, os elementos são diferentes\n",
        "X"
      ]
    },
    {
      "cell_type": "code",
      "execution_count": 127,
      "metadata": {
        "colab": {
          "base_uri": "https://localhost:8080/"
        },
        "id": "kGdBX0J-E6hi",
        "outputId": "cd6cb70b-cc1a-44b8-c5e8-2a6deeda607f"
      },
      "outputs": [
        {
          "data": {
            "text/plain": [
              "array([[ 1.54197005e+00, -2.19473470e-01,  1.28209189e+00, ...,\n",
              "         2.50610509e+00,  4.21869581e-01, -5.42011193e-01],\n",
              "       [ 9.16265199e-01, -9.51690304e-01,  1.13447329e+00, ...,\n",
              "         4.33883092e-02,  1.43833926e+00, -2.85733119e+00],\n",
              "       [ 1.62986462e+00, -2.19090131e+00, -1.00359566e+00, ...,\n",
              "        -1.13587630e+00, -5.35999658e-01,  1.02355220e-01],\n",
              "       ...,\n",
              "       [ 8.55537493e-01, -1.05594547e+00, -7.74659809e-01, ...,\n",
              "        -5.57281366e-01, -8.24949511e-01, -1.63174871e+00],\n",
              "       [-5.42720929e-01, -1.93226917e+00, -1.24263933e-03, ...,\n",
              "        -5.83269629e-02, -1.46771426e-01, -1.05935851e+00],\n",
              "       [-1.34588015e+00, -4.74706940e-01, -4.87327520e-01, ...,\n",
              "        -5.70254174e-01, -7.89145339e-01,  1.44042366e+00]])"
            ]
          },
          "execution_count": 127,
          "metadata": {},
          "output_type": "execute_result"
        }
      ],
      "source": [
        "# Matriz após o processamento descrito no enunciado\n",
        "X_processado"
      ]
    },
    {
      "cell_type": "code",
      "execution_count": 109,
      "metadata": {
        "id": "OlxjvCnQE6hj"
      },
      "outputs": [],
      "source": [
        "# Solução\n",
        "def process_EEG_signal(X):\n",
        "  media = X.sum()/X.size\n",
        "  print(f'Media: {media}')\n",
        "  X_process = X - media\n",
        "  return X_process"
      ]
    },
    {
      "cell_type": "markdown",
      "metadata": {
        "id": "7Gy6nTwQE6hj"
      },
      "source": [
        "## Questão 7\n",
        "\n",
        "Em estatística, um **outlier** é um valor que destoa consideravelmente da distribuição à qual está associado. Um dos critérios para idenficar outliers consiste em encontrar a **distância interquantil** (IQR), ou seja, a diferença entre o terceiro (Q3) e o primeiro quartis (Q1) da distribuição, e tomar como outliers todos os pontos abaixo de 1.5*IQR - Q1, ou acima de 1.5*IQR + Q3."
      ]
    },
    {
      "cell_type": "markdown",
      "metadata": {
        "id": "CP-NkMHTE6hk"
      },
      "source": [
        "<img src = \"https://blog.curso-r.com/images/posts/banner/outlier.webp\" />"
      ]
    },
    {
      "cell_type": "markdown",
      "metadata": {
        "id": "BLDJN5JPE6hk"
      },
      "source": [
        "Escreva uma função que, dada uma matriz de dados de entrada de dimensões $N_{observações} \\times N_{features}$ retorne três requisitos: \n",
        "- uma matriz booleana indicando a existência de outliers nos dados de entrada;\n",
        "- a quantidade de outliers\n",
        "- quem são os outliers (os valores)."
      ]
    },
    {
      "cell_type": "markdown",
      "metadata": {
        "id": "wwVcP2uZE6hl"
      },
      "source": [
        "**Algumas definições:**\n",
        "- um *quantil* divide a distribuição, após ordenados os pontos, segundo algum ponto de corte;\n",
        "- o **primeiro quartil** é o ponto para o qual 25 % dos valores da distribuição estão abaixo dele;\n",
        "- o **terceiro quartil** é o ponto para o qual 75 % dos valores da distribuição estão abaixo dele.\n",
        "\n",
        "Pode ser útil consultar a função **numpy.quantile**."
      ]
    },
    {
      "cell_type": "markdown",
      "metadata": {
        "id": "C9nCKXhjE6hm"
      },
      "source": [
        "Exemplo de operação da função:"
      ]
    },
    {
      "cell_type": "code",
      "execution_count": 135,
      "metadata": {
        "colab": {
          "base_uri": "https://localhost:8080/"
        },
        "id": "wHdcs77RE6hm",
        "outputId": "1badeb58-a35a-46d9-ac88-e08f792f6914"
      },
      "outputs": [
        {
          "data": {
            "text/plain": [
              "array([[ 1.75280457, -0.76915889,  0.02775456, ...,  1.24942712,\n",
              "        -1.81345118,  0.30889802],\n",
              "       [-1.00775209, -0.57943692, -0.70117234, ..., -1.22876208,\n",
              "         1.86483978, -0.42869096],\n",
              "       [-1.62612183, -1.30702813, -0.44021219, ...,  0.03750182,\n",
              "         0.21173823, -0.6938142 ],\n",
              "       ...,\n",
              "       [-2.32848689, -0.9236214 ,  0.06562631, ...,  0.22653145,\n",
              "         0.90832422,  0.5073267 ],\n",
              "       [-0.61366541, -0.65657644, -1.04171294, ..., -1.00039246,\n",
              "         2.09251238, -1.01924256],\n",
              "       [ 1.82200999,  0.48973575, -1.04609226, ..., -0.71496225,\n",
              "         0.61904661, -1.55652154]])"
            ]
          },
          "execution_count": 135,
          "metadata": {},
          "output_type": "execute_result"
        }
      ],
      "source": [
        "# Geremos um conjunto de dados qualquer\n",
        "X = np.random.randn(300,15)\n",
        "X"
      ]
    },
    {
      "cell_type": "code",
      "execution_count": 136,
      "metadata": {
        "colab": {
          "base_uri": "https://localhost:8080/"
        },
        "id": "KVe7LEW0E6hn",
        "outputId": "cc8031b9-ca23-4363-c1ae-28a51d1652ad"
      },
      "outputs": [
        {
          "name": "stdout",
          "output_type": "stream",
          "text": [
            "Primeiro quartil (25%): 2.25\n",
            "Terceiro quartil (75%): 4.75\n"
          ]
        }
      ],
      "source": [
        "# identificamos os requisitos com nossa com nossa função \"locate_outliers\"\n",
        "is_outlier, outliers_count, outliers = locate_outliers(X)"
      ]
    },
    {
      "cell_type": "code",
      "execution_count": 137,
      "metadata": {
        "colab": {
          "base_uri": "https://localhost:8080/"
        },
        "id": "vuZ3n3K_E6hn",
        "outputId": "3f275d2b-d7a0-4824-ee4f-07701d4a7130"
      },
      "outputs": [
        {
          "data": {
            "text/plain": [
              "array([[False, False, False, ..., False, False, False],\n",
              "       [False, False, False, ..., False, False, False],\n",
              "       [False, False, False, ..., False, False, False],\n",
              "       ...,\n",
              "       [False, False, False, ..., False, False, False],\n",
              "       [False, False, False, ..., False, False, False],\n",
              "       [False, False, False, ..., False, False, False]])"
            ]
          },
          "execution_count": 137,
          "metadata": {},
          "output_type": "execute_result"
        }
      ],
      "source": [
        "is_outlier"
      ]
    },
    {
      "cell_type": "code",
      "execution_count": 138,
      "metadata": {
        "colab": {
          "base_uri": "https://localhost:8080/"
        },
        "id": "IzjWsBrZE6ho",
        "outputId": "db2d2cf4-7b47-4223-8d10-dfa44d978f20"
      },
      "outputs": [
        {
          "data": {
            "text/plain": [
              "49"
            ]
          },
          "execution_count": 138,
          "metadata": {},
          "output_type": "execute_result"
        }
      ],
      "source": [
        "outliers_count"
      ]
    },
    {
      "cell_type": "code",
      "execution_count": 139,
      "metadata": {
        "colab": {
          "base_uri": "https://localhost:8080/"
        },
        "id": "PbO7R7P2E6hp",
        "outputId": "c973b561-2dcc-44f1-8754-16aff1b683ec"
      },
      "outputs": [
        {
          "data": {
            "text/plain": [
              "array([2.33044605, 2.89164093, 2.3326025 , 2.47585057, 2.28515353,\n",
              "       2.79819119, 2.8783963 , 2.67676836, 2.33134342, 2.7763863 ,\n",
              "       2.78479516, 2.95603781, 2.69518302, 2.7605073 , 2.31898767,\n",
              "       2.72351053, 2.70116987, 2.41470103, 2.2695089 , 2.75300125,\n",
              "       2.47983864, 2.55275325, 2.76569082, 2.29088323, 2.26880609,\n",
              "       2.4337773 , 2.34600214, 3.20191361, 3.38390409, 2.59010986,\n",
              "       2.7429809 , 2.92241131, 2.56746704, 2.25036133, 2.4580696 ,\n",
              "       2.7600742 , 3.42393503, 2.30441822, 2.58969399, 2.46861378,\n",
              "       4.51805094, 2.47220195, 2.34941079, 2.53035304, 2.85610642,\n",
              "       2.55758726, 2.49565174, 2.78330133, 3.32986808])"
            ]
          },
          "execution_count": 139,
          "metadata": {},
          "output_type": "execute_result"
        }
      ],
      "source": [
        "outliers"
      ]
    },
    {
      "cell_type": "code",
      "execution_count": 130,
      "metadata": {
        "id": "AdTkst5UE6hq"
      },
      "outputs": [],
      "source": [
        "# Solução\n",
        "def locate_outliers(X):\n",
        "  quartil_25 = np.quantile(a, 0.25)\n",
        "  print(f'Primeiro quartil (25%): {quartil_25}')\n",
        "  quartil_75 = np.quantile(a, 0.75)\n",
        "  print(f'Terceiro quartil (75%): {quartil_75}')\n",
        "  is_outlier = np.where(((X > quartil_25) & (X < quartil_75)), True, False)\n",
        "  outliers_count = np.count_nonzero(X*is_outlier)\n",
        "  outliers = X[((X > quartil_25) & (X < quartil_75))]\n",
        "  return is_outlier, outliers_count, outliers"
      ]
    },
    {
      "cell_type": "markdown",
      "metadata": {
        "id": "FfmRksv2-HIQ"
      },
      "source": [
        "Execução de exemplo prático para checar se a função *locate_outliers* está funcionando corretamente:"
      ]
    },
    {
      "cell_type": "code",
      "execution_count": 131,
      "metadata": {
        "colab": {
          "base_uri": "https://localhost:8080/"
        },
        "id": "2xRm8Lwn9P8X",
        "outputId": "6e82c848-b200-4040-96dd-17bc9424cb33"
      },
      "outputs": [
        {
          "name": "stdout",
          "output_type": "stream",
          "text": [
            "[[1 2 3]\n",
            " [4 5 6]]\n",
            "Primeiro quartil (25%): 2.25\n",
            "Terceiro quartil (75%): 4.75\n"
          ]
        }
      ],
      "source": [
        "a = np.array([[1, 2, 3], [4, 5, 6]])\n",
        "print(a)\n",
        "is_outlier, outliers_count, outliers = locate_outliers(a)"
      ]
    },
    {
      "cell_type": "code",
      "execution_count": 132,
      "metadata": {
        "colab": {
          "base_uri": "https://localhost:8080/"
        },
        "id": "nbUfjgDs9Ps8",
        "outputId": "8934e3cd-3fab-4877-e78e-310a0ea1014e"
      },
      "outputs": [
        {
          "data": {
            "text/plain": [
              "array([[False, False,  True],\n",
              "       [ True, False, False]])"
            ]
          },
          "execution_count": 132,
          "metadata": {},
          "output_type": "execute_result"
        }
      ],
      "source": [
        "is_outlier"
      ]
    },
    {
      "cell_type": "code",
      "execution_count": 133,
      "metadata": {
        "colab": {
          "base_uri": "https://localhost:8080/"
        },
        "id": "K6LBqaW09tjq",
        "outputId": "5d6f3ced-ad40-4c8f-a59f-fed00be4a00c"
      },
      "outputs": [
        {
          "data": {
            "text/plain": [
              "2"
            ]
          },
          "execution_count": 133,
          "metadata": {},
          "output_type": "execute_result"
        }
      ],
      "source": [
        "outliers_count"
      ]
    },
    {
      "cell_type": "code",
      "execution_count": 134,
      "metadata": {
        "colab": {
          "base_uri": "https://localhost:8080/"
        },
        "id": "qwcXEYyi9tdB",
        "outputId": "5043b1b3-9dec-4f12-9f85-9d3cd8ff637a"
      },
      "outputs": [
        {
          "data": {
            "text/plain": [
              "array([3, 4])"
            ]
          },
          "execution_count": 134,
          "metadata": {},
          "output_type": "execute_result"
        }
      ],
      "source": [
        "outliers"
      ]
    },
    {
      "cell_type": "markdown",
      "metadata": {
        "id": "upNDn96PE6hq"
      },
      "source": [
        "## Questão 8\n",
        "\n",
        "Crie um vetor com valores que vão de 1 até 21 de dois em dois, a partir da função arange"
      ]
    },
    {
      "cell_type": "code",
      "execution_count": 141,
      "metadata": {
        "colab": {
          "base_uri": "https://localhost:8080/"
        },
        "id": "w4d14JRZE6hr",
        "outputId": "97e40281-9ccc-44c8-f7d9-e07503620530"
      },
      "outputs": [
        {
          "data": {
            "text/plain": [
              "array([ 1,  3,  5,  7,  9, 11, 13, 15, 17, 19, 21])"
            ]
          },
          "execution_count": 141,
          "metadata": {},
          "output_type": "execute_result"
        }
      ],
      "source": [
        "np.arange(1, 21+1, 2)"
      ]
    },
    {
      "cell_type": "markdown",
      "metadata": {
        "id": "SchEY1O7E6hr"
      },
      "source": [
        "## Questão 9\n",
        "\n",
        "Crie um array de 10 com valores aleatórios"
      ]
    },
    {
      "cell_type": "code",
      "execution_count": 142,
      "metadata": {
        "colab": {
          "base_uri": "https://localhost:8080/"
        },
        "id": "MYpySePjE6hs",
        "outputId": "c1337680-c9cf-4e40-bd98-78bb8b8553d0"
      },
      "outputs": [
        {
          "data": {
            "text/plain": [
              "array([0.69204091, 0.24816785, 0.88264425, 0.38035782, 0.02138146,\n",
              "       0.28955957, 0.51514411, 0.60320248, 0.22596557, 0.02639367])"
            ]
          },
          "execution_count": 142,
          "metadata": {},
          "output_type": "execute_result"
        }
      ],
      "source": [
        "np.random.rand(10)"
      ]
    },
    {
      "cell_type": "markdown",
      "metadata": {
        "id": "EFfvM6LIAlfJ"
      },
      "source": [
        "## Questão 10\n",
        "\n",
        "Em estatística, a normalização de uma distribuição de dados pode ser feita subtraindo o valor médio da distribuição de cada valor do conjunto de dados, dividindo o resultado pelo desvio-padrão da distribuição. Escreva uma função que normalize os dados recebidos por um array numpy qualquer, conforme descrito anteriormente."
      ]
    },
    {
      "cell_type": "code",
      "execution_count": 148,
      "metadata": {
        "id": "VdVDG0rmDria"
      },
      "outputs": [],
      "source": [
        "def normalizacao(X):\n",
        "  media = X.mean()\n",
        "  desv_p = X.std()\n",
        "  norm = (X - media)/desv_p\n",
        "  return norm"
      ]
    },
    {
      "cell_type": "code",
      "execution_count": 150,
      "metadata": {
        "colab": {
          "base_uri": "https://localhost:8080/"
        },
        "id": "yfho2bziAlfJ",
        "outputId": "2c5bb2b4-38c4-47c7-fc80-8a8f160ae5bb"
      },
      "outputs": [
        {
          "data": {
            "text/plain": [
              "array([ 1.42940656,  0.3071065 ,  1.583358  , -1.41541803, -0.7356548 ,\n",
              "       -1.71833245,  0.69448281, -0.78948243,  1.09927004,  0.06844974,\n",
              "        0.51853653,  0.55681846, -1.49987585, -0.35449218,  0.92846319,\n",
              "        0.31854293,  0.10202338,  0.2130155 ,  1.23806558, -0.49999526,\n",
              "       -0.57731486, -1.52434251,  1.31289656, -0.15453184, -0.84918953,\n",
              "       -0.24103677,  1.41820818,  1.31641453,  0.61940831, -0.20503766,\n",
              "       -1.57079161, -0.35734793, -0.9513553 ,  0.10609361, -1.3050128 ,\n",
              "       -1.17158788, -0.08536229, -1.33729861, -0.34245303,  1.43475385,\n",
              "       -1.656593  ,  0.53764818,  0.77186919, -0.67564847, -0.640471  ,\n",
              "        0.44825901, -1.09287037, -1.32709978, -1.57658416,  1.5254424 ,\n",
              "       -0.77933305,  1.51430412,  0.56053615, -0.01648852,  0.07740736,\n",
              "       -1.77643247,  1.35391731, -0.65798212, -1.5015108 ,  1.43268731,\n",
              "       -0.76883956, -0.78647954, -0.22079474,  1.49307391,  0.32661529,\n",
              "        1.20210659,  0.86501443, -1.49762185, -0.6771195 , -1.42889811,\n",
              "       -0.87976436,  1.55119451,  0.27777311, -0.59228598,  0.21628684,\n",
              "        1.44973489,  0.67046536,  0.22682501,  1.63166615,  0.14985686,\n",
              "       -0.64997875, -1.52783707, -0.81828388,  0.97083369,  0.70477232,\n",
              "        1.08064588,  0.19272795, -0.72175928, -0.38667917,  1.32254416,\n",
              "       -0.64922167,  1.44846909, -0.45067068,  1.49944815,  1.15713089,\n",
              "        0.09147478, -0.97451122, -0.73930373,  0.687752  ,  0.45317929])"
            ]
          },
          "execution_count": 150,
          "metadata": {},
          "output_type": "execute_result"
        }
      ],
      "source": [
        "Inicio = 54\n",
        "Fim = 15\n",
        "arr = np.random.rand(100)*(Fim-Inicio) + Inicio\n",
        "norma = normalizacao(arr)\n",
        "norma"
      ]
    },
    {
      "cell_type": "markdown",
      "metadata": {
        "id": "p60_N7ZwAlfK"
      },
      "source": [
        "## Questão 11\n",
        "\n",
        "Escreva uma função em numpy que receba um array contendo notas de uma turma de 100 estudantes. Considere que a nota de aprovação da turma é 5.0. A função deve retornar, em um array numpy, nesta ordem:\n",
        "- a média e o desvio-padrão das notas da turma;\n",
        "- o número de notas maiores que 7.0;\n",
        "- o número de reprovações da turma;\n",
        "- a menor nota da turma;\n",
        "- a maior nota da turma."
      ]
    },
    {
      "cell_type": "code",
      "execution_count": 169,
      "metadata": {
        "id": "4Z98j6v0FykE"
      },
      "outputs": [],
      "source": [
        "def analise_notas(notas, nota_corte=5):\n",
        "  media = notas.mean()\n",
        "  desv_p = notas.std()\n",
        "  maior_7 = notas[(notas>7)].size\n",
        "  reprovacoes = notas[(notas<nota_corte)].size\n",
        "  menor_nota = notas.min()\n",
        "  maior_nota = notas.max()\n",
        "\n",
        "  analise = np.array([media, desv_p, maior_7, reprovacoes, menor_nota, maior_nota])\n",
        "  return analise"
      ]
    },
    {
      "cell_type": "code",
      "execution_count": 172,
      "metadata": {
        "colab": {
          "base_uri": "https://localhost:8080/"
        },
        "id": "Q3wkBCFtAlfK",
        "outputId": "481087fa-7c6f-461a-a644-2a1d498da2d7"
      },
      "outputs": [
        {
          "name": "stdout",
          "output_type": "stream",
          "text": [
            "Notas: [ 0.55  4.65  6.33  9.77  3.44  6.53  6.41  2.83  3.07  9.81  2.57  3.93\n",
            "  2.31  9.99  1.9   2.64  2.97  2.25  7.71  6.41  0.55  9.4   9.73  1.52\n",
            "  8.14  7.36  7.55  7.2   3.17  8.96  8.68  0.85  7.17  2.78  7.6  10.\n",
            "  1.31  2.94  2.6   3.78  1.17  6.74  4.94  8.56  4.09  7.7   2.16  4.27\n",
            "  9.5   7.25  7.32  2.73  1.95  6.73  7.14  0.44  2.37  2.54  8.71  0.75\n",
            "  0.12  8.4   1.8   2.21  7.88  6.96  2.6   4.14  7.12  4.39  9.2   5.12\n",
            "  0.86  3.98  5.61  7.38  0.11  0.09  7.15  8.68  9.58  1.64  2.42  7.78\n",
            "  6.61  9.31  4.66  7.11  4.64  9.05  0.8   8.71  7.53  0.83  8.74  7.77\n",
            "  1.79  8.45  3.13  9.36]\n",
            "Análise: [ 5.1813      3.05358237 40.         50.          0.09       10.        ]\n"
          ]
        }
      ],
      "source": [
        "notas = np.round(np.random.rand(100)*10, 2)\n",
        "\n",
        "analise = analise_notas(notas)\n",
        "\n",
        "print(f'Notas: {notas}\\nAnálise: {analise}')"
      ]
    }
  ],
  "metadata": {
    "colab": {
      "include_colab_link": true,
      "provenance": []
    },
    "gpuClass": "standard",
    "kernelspec": {
      "display_name": "Python 3",
      "language": "python",
      "name": "python3"
    },
    "language_info": {
      "name": "python",
      "version": "3.10.10"
    },
    "orig_nbformat": 4,
    "vscode": {
      "interpreter": {
        "hash": "080009074bdae49ff0f7ea0c8fb41d6aab5e0758d06d4cfe6e0f59dbecf6b06a"
      }
    }
  },
  "nbformat": 4,
  "nbformat_minor": 0
}
