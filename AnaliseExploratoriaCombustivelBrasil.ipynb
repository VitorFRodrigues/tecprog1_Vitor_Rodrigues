{
  "nbformat": 4,
  "nbformat_minor": 0,
  "metadata": {
    "colab": {
      "provenance": [],
      "include_colab_link": true
    },
    "kernelspec": {
      "name": "python3",
      "display_name": "Python 3"
    },
    "language_info": {
      "name": "python"
    }
  },
  "cells": [
    {
      "cell_type": "markdown",
      "metadata": {
        "id": "view-in-github",
        "colab_type": "text"
      },
      "source": [
        "<a href=\"https://colab.research.google.com/github/VitorFRodrigues/tecprog1_Vitor_Rodrigues/blob/main/AnaliseExploratoriaCombustivelBrasil.ipynb\" target=\"_parent\"><img src=\"https://colab.research.google.com/assets/colab-badge.svg\" alt=\"Open In Colab\"/></a>"
      ]
    },
    {
      "cell_type": "markdown",
      "source": [
        "#Titulo - Analise exploratória de Combustível no Brasil"
      ],
      "metadata": {
        "id": "vTsNoU6MiwQn"
      }
    },
    {
      "cell_type": "markdown",
      "source": [
        "## 1. Introdução\n",
        "\n",
        "AAAAA"
      ],
      "metadata": {
        "id": "wDMKIFvijdcZ"
      }
    },
    {
      "cell_type": "markdown",
      "source": [
        "## 2. Objetivos\n",
        "\n",
        "AAA"
      ],
      "metadata": {
        "id": "0TSCFlbvjlcZ"
      }
    },
    {
      "cell_type": "markdown",
      "source": [
        "## 3. Limpeza de dados"
      ],
      "metadata": {
        "id": "ukUxsF69jrcR"
      }
    },
    {
      "cell_type": "markdown",
      "source": [
        "Importar os pacotes necessários\n",
        "Dataset salvo no github... dar abrir o raw file e usar o link abaixo para conseguir acesso sem precisar ter o arquivo na máquina"
      ],
      "metadata": {
        "id": "tb7JOCcgoLkd"
      }
    },
    {
      "cell_type": "code",
      "source": [
        "url_gas_tsv = 'https://raw.githubusercontent.com/MoroniMenesses/tec_prog1_Moroni_Bora/main/2004-2021.tsv'"
      ],
      "metadata": {
        "id": "VMOCqshliRxu"
      },
      "execution_count": 1,
      "outputs": []
    },
    {
      "cell_type": "markdown",
      "source": [
        "Importação das bibliotecas necessárias para o trabalho\n"
      ],
      "metadata": {
        "id": "yrF7axzVecQ-"
      }
    },
    {
      "cell_type": "code",
      "execution_count": 2,
      "metadata": {
        "id": "3RUCeK0Wn4vR"
      },
      "outputs": [],
      "source": [
        "import pandas as pd\n",
        "import numpy as np"
      ]
    },
    {
      "cell_type": "markdown",
      "source": [
        "Lendo dataset..."
      ],
      "metadata": {
        "id": "EujhWAj5ngwI"
      }
    },
    {
      "cell_type": "code",
      "source": [
        "dataset_gas=pd.read_csv(url_gas_tsv,sep='\\t')\n",
        "dataset_gas.head()"
      ],
      "metadata": {
        "id": "UmJJu8ocogbj",
        "colab": {
          "base_uri": "https://localhost:8080/",
          "height": 409
        },
        "outputId": "00e6e1d4-04d2-4b48-d14f-f8baaf94ed6d"
      },
      "execution_count": 3,
      "outputs": [
        {
          "output_type": "execute_result",
          "data": {
            "text/plain": [
              "  DATA INICIAL  DATA FINAL        REGIÃO              ESTADO  \\\n",
              "0   2004-05-09  2004-05-15  CENTRO OESTE    DISTRITO FEDERAL   \n",
              "1   2004-05-09  2004-05-15  CENTRO OESTE               GOIAS   \n",
              "2   2004-05-09  2004-05-15  CENTRO OESTE         MATO GROSSO   \n",
              "3   2004-05-09  2004-05-15  CENTRO OESTE  MATO GROSSO DO SUL   \n",
              "4   2004-05-09  2004-05-15      NORDESTE             ALAGOAS   \n",
              "\n",
              "            PRODUTO  NÚMERO DE POSTOS PESQUISADOS UNIDADE DE MEDIDA  \\\n",
              "0  ETANOL HIDRATADO                           127              R$/l   \n",
              "1  ETANOL HIDRATADO                           387              R$/l   \n",
              "2  ETANOL HIDRATADO                           192              R$/l   \n",
              "3  ETANOL HIDRATADO                           162              R$/l   \n",
              "4  ETANOL HIDRATADO                           103              R$/l   \n",
              "\n",
              "   PREÇO MÉDIO REVENDA  DESVIO PADRÃO REVENDA  PREÇO MÍNIMO REVENDA  \\\n",
              "0                1.288                  0.016                  1.19   \n",
              "1                1.162                  0.114                  0.89   \n",
              "2                1.389                  0.097                  1.18   \n",
              "3                1.262                  0.070                  1.09   \n",
              "4                1.181                  0.078                  1.05   \n",
              "\n",
              "   PREÇO MÁXIMO REVENDA MARGEM MÉDIA REVENDA  COEF DE VARIAÇÃO REVENDA  \\\n",
              "0                 1.350                0.463                     0.012   \n",
              "1                 1.449                0.399                     0.098   \n",
              "2                 1.760                0.419                     0.070   \n",
              "3                 1.509                0.432                     0.055   \n",
              "4                 1.400                 0.24                     0.066   \n",
              "\n",
              "  PREÇO MÉDIO DISTRIBUIÇÃO DESVIO PADRÃO DISTRIBUIÇÃO  \\\n",
              "0                    0.825                       0.11   \n",
              "1                    0.763                      0.088   \n",
              "2                     0.97                      0.095   \n",
              "3                     0.83                      0.119   \n",
              "4                    0.941                      0.077   \n",
              "\n",
              "  PREÇO MÍNIMO DISTRIBUIÇÃO PREÇO MÁXIMO DISTRIBUIÇÃO  \\\n",
              "0                    0.4201                    0.9666   \n",
              "1                    0.5013                      1.05   \n",
              "2                    0.5614                     1.161   \n",
              "3                    0.5991                   1.22242   \n",
              "4                    0.7441                    1.0317   \n",
              "\n",
              "  COEF DE VARIAÇÃO DISTRIBUIÇÃO  \n",
              "0                         0.133  \n",
              "1                         0.115  \n",
              "2                         0.098  \n",
              "3                         0.143  \n",
              "4                         0.082  "
            ],
            "text/html": [
              "\n",
              "  <div id=\"df-74ffc864-28c9-4b2f-b841-f42baedb7030\">\n",
              "    <div class=\"colab-df-container\">\n",
              "      <div>\n",
              "<style scoped>\n",
              "    .dataframe tbody tr th:only-of-type {\n",
              "        vertical-align: middle;\n",
              "    }\n",
              "\n",
              "    .dataframe tbody tr th {\n",
              "        vertical-align: top;\n",
              "    }\n",
              "\n",
              "    .dataframe thead th {\n",
              "        text-align: right;\n",
              "    }\n",
              "</style>\n",
              "<table border=\"1\" class=\"dataframe\">\n",
              "  <thead>\n",
              "    <tr style=\"text-align: right;\">\n",
              "      <th></th>\n",
              "      <th>DATA INICIAL</th>\n",
              "      <th>DATA FINAL</th>\n",
              "      <th>REGIÃO</th>\n",
              "      <th>ESTADO</th>\n",
              "      <th>PRODUTO</th>\n",
              "      <th>NÚMERO DE POSTOS PESQUISADOS</th>\n",
              "      <th>UNIDADE DE MEDIDA</th>\n",
              "      <th>PREÇO MÉDIO REVENDA</th>\n",
              "      <th>DESVIO PADRÃO REVENDA</th>\n",
              "      <th>PREÇO MÍNIMO REVENDA</th>\n",
              "      <th>PREÇO MÁXIMO REVENDA</th>\n",
              "      <th>MARGEM MÉDIA REVENDA</th>\n",
              "      <th>COEF DE VARIAÇÃO REVENDA</th>\n",
              "      <th>PREÇO MÉDIO DISTRIBUIÇÃO</th>\n",
              "      <th>DESVIO PADRÃO DISTRIBUIÇÃO</th>\n",
              "      <th>PREÇO MÍNIMO DISTRIBUIÇÃO</th>\n",
              "      <th>PREÇO MÁXIMO DISTRIBUIÇÃO</th>\n",
              "      <th>COEF DE VARIAÇÃO DISTRIBUIÇÃO</th>\n",
              "    </tr>\n",
              "  </thead>\n",
              "  <tbody>\n",
              "    <tr>\n",
              "      <th>0</th>\n",
              "      <td>2004-05-09</td>\n",
              "      <td>2004-05-15</td>\n",
              "      <td>CENTRO OESTE</td>\n",
              "      <td>DISTRITO FEDERAL</td>\n",
              "      <td>ETANOL HIDRATADO</td>\n",
              "      <td>127</td>\n",
              "      <td>R$/l</td>\n",
              "      <td>1.288</td>\n",
              "      <td>0.016</td>\n",
              "      <td>1.19</td>\n",
              "      <td>1.350</td>\n",
              "      <td>0.463</td>\n",
              "      <td>0.012</td>\n",
              "      <td>0.825</td>\n",
              "      <td>0.11</td>\n",
              "      <td>0.4201</td>\n",
              "      <td>0.9666</td>\n",
              "      <td>0.133</td>\n",
              "    </tr>\n",
              "    <tr>\n",
              "      <th>1</th>\n",
              "      <td>2004-05-09</td>\n",
              "      <td>2004-05-15</td>\n",
              "      <td>CENTRO OESTE</td>\n",
              "      <td>GOIAS</td>\n",
              "      <td>ETANOL HIDRATADO</td>\n",
              "      <td>387</td>\n",
              "      <td>R$/l</td>\n",
              "      <td>1.162</td>\n",
              "      <td>0.114</td>\n",
              "      <td>0.89</td>\n",
              "      <td>1.449</td>\n",
              "      <td>0.399</td>\n",
              "      <td>0.098</td>\n",
              "      <td>0.763</td>\n",
              "      <td>0.088</td>\n",
              "      <td>0.5013</td>\n",
              "      <td>1.05</td>\n",
              "      <td>0.115</td>\n",
              "    </tr>\n",
              "    <tr>\n",
              "      <th>2</th>\n",
              "      <td>2004-05-09</td>\n",
              "      <td>2004-05-15</td>\n",
              "      <td>CENTRO OESTE</td>\n",
              "      <td>MATO GROSSO</td>\n",
              "      <td>ETANOL HIDRATADO</td>\n",
              "      <td>192</td>\n",
              "      <td>R$/l</td>\n",
              "      <td>1.389</td>\n",
              "      <td>0.097</td>\n",
              "      <td>1.18</td>\n",
              "      <td>1.760</td>\n",
              "      <td>0.419</td>\n",
              "      <td>0.070</td>\n",
              "      <td>0.97</td>\n",
              "      <td>0.095</td>\n",
              "      <td>0.5614</td>\n",
              "      <td>1.161</td>\n",
              "      <td>0.098</td>\n",
              "    </tr>\n",
              "    <tr>\n",
              "      <th>3</th>\n",
              "      <td>2004-05-09</td>\n",
              "      <td>2004-05-15</td>\n",
              "      <td>CENTRO OESTE</td>\n",
              "      <td>MATO GROSSO DO SUL</td>\n",
              "      <td>ETANOL HIDRATADO</td>\n",
              "      <td>162</td>\n",
              "      <td>R$/l</td>\n",
              "      <td>1.262</td>\n",
              "      <td>0.070</td>\n",
              "      <td>1.09</td>\n",
              "      <td>1.509</td>\n",
              "      <td>0.432</td>\n",
              "      <td>0.055</td>\n",
              "      <td>0.83</td>\n",
              "      <td>0.119</td>\n",
              "      <td>0.5991</td>\n",
              "      <td>1.22242</td>\n",
              "      <td>0.143</td>\n",
              "    </tr>\n",
              "    <tr>\n",
              "      <th>4</th>\n",
              "      <td>2004-05-09</td>\n",
              "      <td>2004-05-15</td>\n",
              "      <td>NORDESTE</td>\n",
              "      <td>ALAGOAS</td>\n",
              "      <td>ETANOL HIDRATADO</td>\n",
              "      <td>103</td>\n",
              "      <td>R$/l</td>\n",
              "      <td>1.181</td>\n",
              "      <td>0.078</td>\n",
              "      <td>1.05</td>\n",
              "      <td>1.400</td>\n",
              "      <td>0.24</td>\n",
              "      <td>0.066</td>\n",
              "      <td>0.941</td>\n",
              "      <td>0.077</td>\n",
              "      <td>0.7441</td>\n",
              "      <td>1.0317</td>\n",
              "      <td>0.082</td>\n",
              "    </tr>\n",
              "  </tbody>\n",
              "</table>\n",
              "</div>\n",
              "      <button class=\"colab-df-convert\" onclick=\"convertToInteractive('df-74ffc864-28c9-4b2f-b841-f42baedb7030')\"\n",
              "              title=\"Convert this dataframe to an interactive table.\"\n",
              "              style=\"display:none;\">\n",
              "        \n",
              "  <svg xmlns=\"http://www.w3.org/2000/svg\" height=\"24px\"viewBox=\"0 0 24 24\"\n",
              "       width=\"24px\">\n",
              "    <path d=\"M0 0h24v24H0V0z\" fill=\"none\"/>\n",
              "    <path d=\"M18.56 5.44l.94 2.06.94-2.06 2.06-.94-2.06-.94-.94-2.06-.94 2.06-2.06.94zm-11 1L8.5 8.5l.94-2.06 2.06-.94-2.06-.94L8.5 2.5l-.94 2.06-2.06.94zm10 10l.94 2.06.94-2.06 2.06-.94-2.06-.94-.94-2.06-.94 2.06-2.06.94z\"/><path d=\"M17.41 7.96l-1.37-1.37c-.4-.4-.92-.59-1.43-.59-.52 0-1.04.2-1.43.59L10.3 9.45l-7.72 7.72c-.78.78-.78 2.05 0 2.83L4 21.41c.39.39.9.59 1.41.59.51 0 1.02-.2 1.41-.59l7.78-7.78 2.81-2.81c.8-.78.8-2.07 0-2.86zM5.41 20L4 18.59l7.72-7.72 1.47 1.35L5.41 20z\"/>\n",
              "  </svg>\n",
              "      </button>\n",
              "      \n",
              "  <style>\n",
              "    .colab-df-container {\n",
              "      display:flex;\n",
              "      flex-wrap:wrap;\n",
              "      gap: 12px;\n",
              "    }\n",
              "\n",
              "    .colab-df-convert {\n",
              "      background-color: #E8F0FE;\n",
              "      border: none;\n",
              "      border-radius: 50%;\n",
              "      cursor: pointer;\n",
              "      display: none;\n",
              "      fill: #1967D2;\n",
              "      height: 32px;\n",
              "      padding: 0 0 0 0;\n",
              "      width: 32px;\n",
              "    }\n",
              "\n",
              "    .colab-df-convert:hover {\n",
              "      background-color: #E2EBFA;\n",
              "      box-shadow: 0px 1px 2px rgba(60, 64, 67, 0.3), 0px 1px 3px 1px rgba(60, 64, 67, 0.15);\n",
              "      fill: #174EA6;\n",
              "    }\n",
              "\n",
              "    [theme=dark] .colab-df-convert {\n",
              "      background-color: #3B4455;\n",
              "      fill: #D2E3FC;\n",
              "    }\n",
              "\n",
              "    [theme=dark] .colab-df-convert:hover {\n",
              "      background-color: #434B5C;\n",
              "      box-shadow: 0px 1px 3px 1px rgba(0, 0, 0, 0.15);\n",
              "      filter: drop-shadow(0px 1px 2px rgba(0, 0, 0, 0.3));\n",
              "      fill: #FFFFFF;\n",
              "    }\n",
              "  </style>\n",
              "\n",
              "      <script>\n",
              "        const buttonEl =\n",
              "          document.querySelector('#df-74ffc864-28c9-4b2f-b841-f42baedb7030 button.colab-df-convert');\n",
              "        buttonEl.style.display =\n",
              "          google.colab.kernel.accessAllowed ? 'block' : 'none';\n",
              "\n",
              "        async function convertToInteractive(key) {\n",
              "          const element = document.querySelector('#df-74ffc864-28c9-4b2f-b841-f42baedb7030');\n",
              "          const dataTable =\n",
              "            await google.colab.kernel.invokeFunction('convertToInteractive',\n",
              "                                                     [key], {});\n",
              "          if (!dataTable) return;\n",
              "\n",
              "          const docLinkHtml = 'Like what you see? Visit the ' +\n",
              "            '<a target=\"_blank\" href=https://colab.research.google.com/notebooks/data_table.ipynb>data table notebook</a>'\n",
              "            + ' to learn more about interactive tables.';\n",
              "          element.innerHTML = '';\n",
              "          dataTable['output_type'] = 'display_data';\n",
              "          await google.colab.output.renderOutput(dataTable, element);\n",
              "          const docLink = document.createElement('div');\n",
              "          docLink.innerHTML = docLinkHtml;\n",
              "          element.appendChild(docLink);\n",
              "        }\n",
              "      </script>\n",
              "    </div>\n",
              "  </div>\n",
              "  "
            ]
          },
          "metadata": {},
          "execution_count": 3
        }
      ]
    },
    {
      "cell_type": "markdown",
      "source": [
        "Convertendo o para csv\n",
        "Estamos exemplificando uma maneira de traduzir dataset para outro formato"
      ],
      "metadata": {
        "id": "olRjN7hgsNer"
      }
    },
    {
      "cell_type": "code",
      "source": [
        "dataset_gas.to_csv(r'/content/gas.csv')"
      ],
      "metadata": {
        "id": "YbmAOzjKuqDD"
      },
      "execution_count": 4,
      "outputs": []
    },
    {
      "cell_type": "markdown",
      "source": [
        "Obtendo informações sobre o dataset:"
      ],
      "metadata": {
        "id": "_b4q7um1snfc"
      }
    },
    {
      "cell_type": "code",
      "source": [
        "dataset_gas.info()"
      ],
      "metadata": {
        "colab": {
          "base_uri": "https://localhost:8080/"
        },
        "id": "BSBiz8rLsrIE",
        "outputId": "df6d3d3d-b97e-4cf7-fedb-e3198ad57a1a"
      },
      "execution_count": 5,
      "outputs": [
        {
          "output_type": "stream",
          "name": "stdout",
          "text": [
            "<class 'pandas.core.frame.DataFrame'>\n",
            "RangeIndex: 120823 entries, 0 to 120822\n",
            "Data columns (total 18 columns):\n",
            " #   Column                         Non-Null Count   Dtype  \n",
            "---  ------                         --------------   -----  \n",
            " 0   DATA INICIAL                   120823 non-null  object \n",
            " 1   DATA FINAL                     120823 non-null  object \n",
            " 2   REGIÃO                         120823 non-null  object \n",
            " 3   ESTADO                         120823 non-null  object \n",
            " 4   PRODUTO                        120823 non-null  object \n",
            " 5   NÚMERO DE POSTOS PESQUISADOS   120823 non-null  int64  \n",
            " 6   UNIDADE DE MEDIDA              120823 non-null  object \n",
            " 7   PREÇO MÉDIO REVENDA            120823 non-null  float64\n",
            " 8   DESVIO PADRÃO REVENDA          120823 non-null  float64\n",
            " 9   PREÇO MÍNIMO REVENDA           120823 non-null  float64\n",
            " 10  PREÇO MÁXIMO REVENDA           120823 non-null  float64\n",
            " 11  MARGEM MÉDIA REVENDA           120823 non-null  object \n",
            " 12  COEF DE VARIAÇÃO REVENDA       120823 non-null  float64\n",
            " 13  PREÇO MÉDIO DISTRIBUIÇÃO       120823 non-null  object \n",
            " 14  DESVIO PADRÃO DISTRIBUIÇÃO     120823 non-null  object \n",
            " 15  PREÇO MÍNIMO DISTRIBUIÇÃO      120823 non-null  object \n",
            " 16  PREÇO MÁXIMO DISTRIBUIÇÃO      120823 non-null  object \n",
            " 17  COEF DE VARIAÇÃO DISTRIBUIÇÃO  120823 non-null  object \n",
            "dtypes: float64(5), int64(1), object(12)\n",
            "memory usage: 16.6+ MB\n"
          ]
        }
      ]
    },
    {
      "cell_type": "markdown",
      "source": [
        "Muitas colunas estão como objeto... Provavelmente precisaremos converter..."
      ],
      "metadata": {
        "id": "eRPW36cMo-Ol"
      }
    },
    {
      "cell_type": "code",
      "source": [
        "dataset_gas.shape"
      ],
      "metadata": {
        "colab": {
          "base_uri": "https://localhost:8080/"
        },
        "id": "AF5oUSsKozpI",
        "outputId": "a67a3bdf-4abe-4a0d-a696-9869e0f5e02b"
      },
      "execution_count": 8,
      "outputs": [
        {
          "output_type": "execute_result",
          "data": {
            "text/plain": [
              "(120823, 18)"
            ]
          },
          "metadata": {},
          "execution_count": 8
        }
      ]
    },
    {
      "cell_type": "markdown",
      "source": [
        "O dataset possui XXX linhas e XX colunas..."
      ],
      "metadata": {
        "id": "sxdWXD-YpKmM"
      }
    },
    {
      "cell_type": "code",
      "source": [
        "dataset_gas.describe()"
      ],
      "metadata": {
        "colab": {
          "base_uri": "https://localhost:8080/",
          "height": 300
        },
        "id": "dXJMubGOoz7_",
        "outputId": "1d25f5c5-631d-4a15-8fc2-8bca69084a8f"
      },
      "execution_count": 6,
      "outputs": [
        {
          "output_type": "execute_result",
          "data": {
            "text/plain": [
              "       NÚMERO DE POSTOS PESQUISADOS  PREÇO MÉDIO REVENDA  \\\n",
              "count                 120823.000000        120823.000000   \n",
              "mean                     221.066461            11.473440   \n",
              "std                      387.940239            19.161823   \n",
              "min                        1.000000             0.766000   \n",
              "25%                       39.000000             2.157000   \n",
              "50%                       99.000000             2.899000   \n",
              "75%                      226.000000             4.026000   \n",
              "max                     4167.000000           107.500000   \n",
              "\n",
              "       DESVIO PADRÃO REVENDA  PREÇO MÍNIMO REVENDA  PREÇO MÁXIMO REVENDA  \\\n",
              "count          120823.000000         120823.000000         120823.000000   \n",
              "mean                0.684132              9.977821             13.233902   \n",
              "std                 1.403317             16.433783             22.451445   \n",
              "min                 0.000000              0.590000              0.999000   \n",
              "25%                 0.075000              1.989000              2.420000   \n",
              "50%                 0.121000              2.690000              3.200000   \n",
              "75%                 0.204000              3.790000              4.589000   \n",
              "max                10.748000            100.000000            120.000000   \n",
              "\n",
              "       COEF DE VARIAÇÃO REVENDA  \n",
              "count             120823.000000  \n",
              "mean                   0.045298  \n",
              "std                    0.024763  \n",
              "min                    0.000000  \n",
              "25%                    0.029000  \n",
              "50%                    0.041000  \n",
              "75%                    0.058000  \n",
              "max                    0.395000  "
            ],
            "text/html": [
              "\n",
              "  <div id=\"df-5074fd3c-d636-4611-90ae-0c3b1cc15374\">\n",
              "    <div class=\"colab-df-container\">\n",
              "      <div>\n",
              "<style scoped>\n",
              "    .dataframe tbody tr th:only-of-type {\n",
              "        vertical-align: middle;\n",
              "    }\n",
              "\n",
              "    .dataframe tbody tr th {\n",
              "        vertical-align: top;\n",
              "    }\n",
              "\n",
              "    .dataframe thead th {\n",
              "        text-align: right;\n",
              "    }\n",
              "</style>\n",
              "<table border=\"1\" class=\"dataframe\">\n",
              "  <thead>\n",
              "    <tr style=\"text-align: right;\">\n",
              "      <th></th>\n",
              "      <th>NÚMERO DE POSTOS PESQUISADOS</th>\n",
              "      <th>PREÇO MÉDIO REVENDA</th>\n",
              "      <th>DESVIO PADRÃO REVENDA</th>\n",
              "      <th>PREÇO MÍNIMO REVENDA</th>\n",
              "      <th>PREÇO MÁXIMO REVENDA</th>\n",
              "      <th>COEF DE VARIAÇÃO REVENDA</th>\n",
              "    </tr>\n",
              "  </thead>\n",
              "  <tbody>\n",
              "    <tr>\n",
              "      <th>count</th>\n",
              "      <td>120823.000000</td>\n",
              "      <td>120823.000000</td>\n",
              "      <td>120823.000000</td>\n",
              "      <td>120823.000000</td>\n",
              "      <td>120823.000000</td>\n",
              "      <td>120823.000000</td>\n",
              "    </tr>\n",
              "    <tr>\n",
              "      <th>mean</th>\n",
              "      <td>221.066461</td>\n",
              "      <td>11.473440</td>\n",
              "      <td>0.684132</td>\n",
              "      <td>9.977821</td>\n",
              "      <td>13.233902</td>\n",
              "      <td>0.045298</td>\n",
              "    </tr>\n",
              "    <tr>\n",
              "      <th>std</th>\n",
              "      <td>387.940239</td>\n",
              "      <td>19.161823</td>\n",
              "      <td>1.403317</td>\n",
              "      <td>16.433783</td>\n",
              "      <td>22.451445</td>\n",
              "      <td>0.024763</td>\n",
              "    </tr>\n",
              "    <tr>\n",
              "      <th>min</th>\n",
              "      <td>1.000000</td>\n",
              "      <td>0.766000</td>\n",
              "      <td>0.000000</td>\n",
              "      <td>0.590000</td>\n",
              "      <td>0.999000</td>\n",
              "      <td>0.000000</td>\n",
              "    </tr>\n",
              "    <tr>\n",
              "      <th>25%</th>\n",
              "      <td>39.000000</td>\n",
              "      <td>2.157000</td>\n",
              "      <td>0.075000</td>\n",
              "      <td>1.989000</td>\n",
              "      <td>2.420000</td>\n",
              "      <td>0.029000</td>\n",
              "    </tr>\n",
              "    <tr>\n",
              "      <th>50%</th>\n",
              "      <td>99.000000</td>\n",
              "      <td>2.899000</td>\n",
              "      <td>0.121000</td>\n",
              "      <td>2.690000</td>\n",
              "      <td>3.200000</td>\n",
              "      <td>0.041000</td>\n",
              "    </tr>\n",
              "    <tr>\n",
              "      <th>75%</th>\n",
              "      <td>226.000000</td>\n",
              "      <td>4.026000</td>\n",
              "      <td>0.204000</td>\n",
              "      <td>3.790000</td>\n",
              "      <td>4.589000</td>\n",
              "      <td>0.058000</td>\n",
              "    </tr>\n",
              "    <tr>\n",
              "      <th>max</th>\n",
              "      <td>4167.000000</td>\n",
              "      <td>107.500000</td>\n",
              "      <td>10.748000</td>\n",
              "      <td>100.000000</td>\n",
              "      <td>120.000000</td>\n",
              "      <td>0.395000</td>\n",
              "    </tr>\n",
              "  </tbody>\n",
              "</table>\n",
              "</div>\n",
              "      <button class=\"colab-df-convert\" onclick=\"convertToInteractive('df-5074fd3c-d636-4611-90ae-0c3b1cc15374')\"\n",
              "              title=\"Convert this dataframe to an interactive table.\"\n",
              "              style=\"display:none;\">\n",
              "        \n",
              "  <svg xmlns=\"http://www.w3.org/2000/svg\" height=\"24px\"viewBox=\"0 0 24 24\"\n",
              "       width=\"24px\">\n",
              "    <path d=\"M0 0h24v24H0V0z\" fill=\"none\"/>\n",
              "    <path d=\"M18.56 5.44l.94 2.06.94-2.06 2.06-.94-2.06-.94-.94-2.06-.94 2.06-2.06.94zm-11 1L8.5 8.5l.94-2.06 2.06-.94-2.06-.94L8.5 2.5l-.94 2.06-2.06.94zm10 10l.94 2.06.94-2.06 2.06-.94-2.06-.94-.94-2.06-.94 2.06-2.06.94z\"/><path d=\"M17.41 7.96l-1.37-1.37c-.4-.4-.92-.59-1.43-.59-.52 0-1.04.2-1.43.59L10.3 9.45l-7.72 7.72c-.78.78-.78 2.05 0 2.83L4 21.41c.39.39.9.59 1.41.59.51 0 1.02-.2 1.41-.59l7.78-7.78 2.81-2.81c.8-.78.8-2.07 0-2.86zM5.41 20L4 18.59l7.72-7.72 1.47 1.35L5.41 20z\"/>\n",
              "  </svg>\n",
              "      </button>\n",
              "      \n",
              "  <style>\n",
              "    .colab-df-container {\n",
              "      display:flex;\n",
              "      flex-wrap:wrap;\n",
              "      gap: 12px;\n",
              "    }\n",
              "\n",
              "    .colab-df-convert {\n",
              "      background-color: #E8F0FE;\n",
              "      border: none;\n",
              "      border-radius: 50%;\n",
              "      cursor: pointer;\n",
              "      display: none;\n",
              "      fill: #1967D2;\n",
              "      height: 32px;\n",
              "      padding: 0 0 0 0;\n",
              "      width: 32px;\n",
              "    }\n",
              "\n",
              "    .colab-df-convert:hover {\n",
              "      background-color: #E2EBFA;\n",
              "      box-shadow: 0px 1px 2px rgba(60, 64, 67, 0.3), 0px 1px 3px 1px rgba(60, 64, 67, 0.15);\n",
              "      fill: #174EA6;\n",
              "    }\n",
              "\n",
              "    [theme=dark] .colab-df-convert {\n",
              "      background-color: #3B4455;\n",
              "      fill: #D2E3FC;\n",
              "    }\n",
              "\n",
              "    [theme=dark] .colab-df-convert:hover {\n",
              "      background-color: #434B5C;\n",
              "      box-shadow: 0px 1px 3px 1px rgba(0, 0, 0, 0.15);\n",
              "      filter: drop-shadow(0px 1px 2px rgba(0, 0, 0, 0.3));\n",
              "      fill: #FFFFFF;\n",
              "    }\n",
              "  </style>\n",
              "\n",
              "      <script>\n",
              "        const buttonEl =\n",
              "          document.querySelector('#df-5074fd3c-d636-4611-90ae-0c3b1cc15374 button.colab-df-convert');\n",
              "        buttonEl.style.display =\n",
              "          google.colab.kernel.accessAllowed ? 'block' : 'none';\n",
              "\n",
              "        async function convertToInteractive(key) {\n",
              "          const element = document.querySelector('#df-5074fd3c-d636-4611-90ae-0c3b1cc15374');\n",
              "          const dataTable =\n",
              "            await google.colab.kernel.invokeFunction('convertToInteractive',\n",
              "                                                     [key], {});\n",
              "          if (!dataTable) return;\n",
              "\n",
              "          const docLinkHtml = 'Like what you see? Visit the ' +\n",
              "            '<a target=\"_blank\" href=https://colab.research.google.com/notebooks/data_table.ipynb>data table notebook</a>'\n",
              "            + ' to learn more about interactive tables.';\n",
              "          element.innerHTML = '';\n",
              "          dataTable['output_type'] = 'display_data';\n",
              "          await google.colab.output.renderOutput(dataTable, element);\n",
              "          const docLink = document.createElement('div');\n",
              "          docLink.innerHTML = docLinkHtml;\n",
              "          element.appendChild(docLink);\n",
              "        }\n",
              "      </script>\n",
              "    </div>\n",
              "  </div>\n",
              "  "
            ]
          },
          "metadata": {},
          "execution_count": 6
        }
      ]
    },
    {
      "cell_type": "markdown",
      "source": [
        "Describe com menos colunas pois ele só pega aquelas que tem formato do tipo int/float para fazer análise"
      ],
      "metadata": {
        "id": "v9NFTFjSqLqu"
      }
    },
    {
      "cell_type": "code",
      "source": [
        "dataset_gas.isna().sum()"
      ],
      "metadata": {
        "colab": {
          "base_uri": "https://localhost:8080/"
        },
        "id": "5oTd5uN6ozx3",
        "outputId": "f62bbc29-8fb7-4dea-b640-2ce743733188"
      },
      "execution_count": 10,
      "outputs": [
        {
          "output_type": "execute_result",
          "data": {
            "text/plain": [
              "DATA INICIAL                     0\n",
              "DATA FINAL                       0\n",
              "REGIÃO                           0\n",
              "ESTADO                           0\n",
              "PRODUTO                          0\n",
              "NÚMERO DE POSTOS PESQUISADOS     0\n",
              "UNIDADE DE MEDIDA                0\n",
              "PREÇO MÉDIO REVENDA              0\n",
              "DESVIO PADRÃO REVENDA            0\n",
              "PREÇO MÍNIMO REVENDA             0\n",
              "PREÇO MÁXIMO REVENDA             0\n",
              "MARGEM MÉDIA REVENDA             0\n",
              "COEF DE VARIAÇÃO REVENDA         0\n",
              "PREÇO MÉDIO DISTRIBUIÇÃO         0\n",
              "DESVIO PADRÃO DISTRIBUIÇÃO       0\n",
              "PREÇO MÍNIMO DISTRIBUIÇÃO        0\n",
              "PREÇO MÁXIMO DISTRIBUIÇÃO        0\n",
              "COEF DE VARIAÇÃO DISTRIBUIÇÃO    0\n",
              "dtype: int64"
            ]
          },
          "metadata": {},
          "execution_count": 10
        }
      ]
    },
    {
      "cell_type": "markdown",
      "source": [
        "Analisamos se há colunas com valores NaN - *Not a Number* e não foi encontrado....\n",
        "\n",
        "Roberto/Igor respeite os planilheiros"
      ],
      "metadata": {
        "id": "2xoOXRJrq7ax"
      }
    },
    {
      "cell_type": "markdown",
      "source": [
        "No dataset foi informado que\n",
        "\n",
        "*NULL values are now replaces with -99999*\n",
        "\n",
        "Vamos verificar se encontramos este valor em algum local"
      ],
      "metadata": {
        "id": "NRRgtPUYtESc"
      }
    },
    {
      "cell_type": "code",
      "source": [
        "buscando_nulos = dataset_gas.isin([-99999])\n",
        "resultado = dataset_gas[buscando_nulos]\n",
        "resultado.head()"
      ],
      "metadata": {
        "colab": {
          "base_uri": "https://localhost:8080/",
          "height": 285
        },
        "id": "JFz8IH2DsGFO",
        "outputId": "72b5cb26-5a7b-4e7b-ac35-5e94eaa785e7"
      },
      "execution_count": 20,
      "outputs": [
        {
          "output_type": "execute_result",
          "data": {
            "text/plain": [
              "  DATA INICIAL DATA FINAL REGIÃO ESTADO PRODUTO  NÚMERO DE POSTOS PESQUISADOS  \\\n",
              "0          NaN        NaN    NaN    NaN     NaN                           NaN   \n",
              "1          NaN        NaN    NaN    NaN     NaN                           NaN   \n",
              "2          NaN        NaN    NaN    NaN     NaN                           NaN   \n",
              "3          NaN        NaN    NaN    NaN     NaN                           NaN   \n",
              "4          NaN        NaN    NaN    NaN     NaN                           NaN   \n",
              "\n",
              "  UNIDADE DE MEDIDA  PREÇO MÉDIO REVENDA  DESVIO PADRÃO REVENDA  \\\n",
              "0               NaN                  NaN                    NaN   \n",
              "1               NaN                  NaN                    NaN   \n",
              "2               NaN                  NaN                    NaN   \n",
              "3               NaN                  NaN                    NaN   \n",
              "4               NaN                  NaN                    NaN   \n",
              "\n",
              "   PREÇO MÍNIMO REVENDA  PREÇO MÁXIMO REVENDA MARGEM MÉDIA REVENDA  \\\n",
              "0                   NaN                   NaN                  NaN   \n",
              "1                   NaN                   NaN                  NaN   \n",
              "2                   NaN                   NaN                  NaN   \n",
              "3                   NaN                   NaN                  NaN   \n",
              "4                   NaN                   NaN                  NaN   \n",
              "\n",
              "   COEF DE VARIAÇÃO REVENDA PREÇO MÉDIO DISTRIBUIÇÃO  \\\n",
              "0                       NaN                      NaN   \n",
              "1                       NaN                      NaN   \n",
              "2                       NaN                      NaN   \n",
              "3                       NaN                      NaN   \n",
              "4                       NaN                      NaN   \n",
              "\n",
              "  DESVIO PADRÃO DISTRIBUIÇÃO PREÇO MÍNIMO DISTRIBUIÇÃO  \\\n",
              "0                        NaN                       NaN   \n",
              "1                        NaN                       NaN   \n",
              "2                        NaN                       NaN   \n",
              "3                        NaN                       NaN   \n",
              "4                        NaN                       NaN   \n",
              "\n",
              "  PREÇO MÁXIMO DISTRIBUIÇÃO COEF DE VARIAÇÃO DISTRIBUIÇÃO  \n",
              "0                       NaN                           NaN  \n",
              "1                       NaN                           NaN  \n",
              "2                       NaN                           NaN  \n",
              "3                       NaN                           NaN  \n",
              "4                       NaN                           NaN  "
            ],
            "text/html": [
              "\n",
              "  <div id=\"df-7fae2df8-8dee-4860-be2d-da097c0f6630\">\n",
              "    <div class=\"colab-df-container\">\n",
              "      <div>\n",
              "<style scoped>\n",
              "    .dataframe tbody tr th:only-of-type {\n",
              "        vertical-align: middle;\n",
              "    }\n",
              "\n",
              "    .dataframe tbody tr th {\n",
              "        vertical-align: top;\n",
              "    }\n",
              "\n",
              "    .dataframe thead th {\n",
              "        text-align: right;\n",
              "    }\n",
              "</style>\n",
              "<table border=\"1\" class=\"dataframe\">\n",
              "  <thead>\n",
              "    <tr style=\"text-align: right;\">\n",
              "      <th></th>\n",
              "      <th>DATA INICIAL</th>\n",
              "      <th>DATA FINAL</th>\n",
              "      <th>REGIÃO</th>\n",
              "      <th>ESTADO</th>\n",
              "      <th>PRODUTO</th>\n",
              "      <th>NÚMERO DE POSTOS PESQUISADOS</th>\n",
              "      <th>UNIDADE DE MEDIDA</th>\n",
              "      <th>PREÇO MÉDIO REVENDA</th>\n",
              "      <th>DESVIO PADRÃO REVENDA</th>\n",
              "      <th>PREÇO MÍNIMO REVENDA</th>\n",
              "      <th>PREÇO MÁXIMO REVENDA</th>\n",
              "      <th>MARGEM MÉDIA REVENDA</th>\n",
              "      <th>COEF DE VARIAÇÃO REVENDA</th>\n",
              "      <th>PREÇO MÉDIO DISTRIBUIÇÃO</th>\n",
              "      <th>DESVIO PADRÃO DISTRIBUIÇÃO</th>\n",
              "      <th>PREÇO MÍNIMO DISTRIBUIÇÃO</th>\n",
              "      <th>PREÇO MÁXIMO DISTRIBUIÇÃO</th>\n",
              "      <th>COEF DE VARIAÇÃO DISTRIBUIÇÃO</th>\n",
              "    </tr>\n",
              "  </thead>\n",
              "  <tbody>\n",
              "    <tr>\n",
              "      <th>0</th>\n",
              "      <td>NaN</td>\n",
              "      <td>NaN</td>\n",
              "      <td>NaN</td>\n",
              "      <td>NaN</td>\n",
              "      <td>NaN</td>\n",
              "      <td>NaN</td>\n",
              "      <td>NaN</td>\n",
              "      <td>NaN</td>\n",
              "      <td>NaN</td>\n",
              "      <td>NaN</td>\n",
              "      <td>NaN</td>\n",
              "      <td>NaN</td>\n",
              "      <td>NaN</td>\n",
              "      <td>NaN</td>\n",
              "      <td>NaN</td>\n",
              "      <td>NaN</td>\n",
              "      <td>NaN</td>\n",
              "      <td>NaN</td>\n",
              "    </tr>\n",
              "    <tr>\n",
              "      <th>1</th>\n",
              "      <td>NaN</td>\n",
              "      <td>NaN</td>\n",
              "      <td>NaN</td>\n",
              "      <td>NaN</td>\n",
              "      <td>NaN</td>\n",
              "      <td>NaN</td>\n",
              "      <td>NaN</td>\n",
              "      <td>NaN</td>\n",
              "      <td>NaN</td>\n",
              "      <td>NaN</td>\n",
              "      <td>NaN</td>\n",
              "      <td>NaN</td>\n",
              "      <td>NaN</td>\n",
              "      <td>NaN</td>\n",
              "      <td>NaN</td>\n",
              "      <td>NaN</td>\n",
              "      <td>NaN</td>\n",
              "      <td>NaN</td>\n",
              "    </tr>\n",
              "    <tr>\n",
              "      <th>2</th>\n",
              "      <td>NaN</td>\n",
              "      <td>NaN</td>\n",
              "      <td>NaN</td>\n",
              "      <td>NaN</td>\n",
              "      <td>NaN</td>\n",
              "      <td>NaN</td>\n",
              "      <td>NaN</td>\n",
              "      <td>NaN</td>\n",
              "      <td>NaN</td>\n",
              "      <td>NaN</td>\n",
              "      <td>NaN</td>\n",
              "      <td>NaN</td>\n",
              "      <td>NaN</td>\n",
              "      <td>NaN</td>\n",
              "      <td>NaN</td>\n",
              "      <td>NaN</td>\n",
              "      <td>NaN</td>\n",
              "      <td>NaN</td>\n",
              "    </tr>\n",
              "    <tr>\n",
              "      <th>3</th>\n",
              "      <td>NaN</td>\n",
              "      <td>NaN</td>\n",
              "      <td>NaN</td>\n",
              "      <td>NaN</td>\n",
              "      <td>NaN</td>\n",
              "      <td>NaN</td>\n",
              "      <td>NaN</td>\n",
              "      <td>NaN</td>\n",
              "      <td>NaN</td>\n",
              "      <td>NaN</td>\n",
              "      <td>NaN</td>\n",
              "      <td>NaN</td>\n",
              "      <td>NaN</td>\n",
              "      <td>NaN</td>\n",
              "      <td>NaN</td>\n",
              "      <td>NaN</td>\n",
              "      <td>NaN</td>\n",
              "      <td>NaN</td>\n",
              "    </tr>\n",
              "    <tr>\n",
              "      <th>4</th>\n",
              "      <td>NaN</td>\n",
              "      <td>NaN</td>\n",
              "      <td>NaN</td>\n",
              "      <td>NaN</td>\n",
              "      <td>NaN</td>\n",
              "      <td>NaN</td>\n",
              "      <td>NaN</td>\n",
              "      <td>NaN</td>\n",
              "      <td>NaN</td>\n",
              "      <td>NaN</td>\n",
              "      <td>NaN</td>\n",
              "      <td>NaN</td>\n",
              "      <td>NaN</td>\n",
              "      <td>NaN</td>\n",
              "      <td>NaN</td>\n",
              "      <td>NaN</td>\n",
              "      <td>NaN</td>\n",
              "      <td>NaN</td>\n",
              "    </tr>\n",
              "  </tbody>\n",
              "</table>\n",
              "</div>\n",
              "      <button class=\"colab-df-convert\" onclick=\"convertToInteractive('df-7fae2df8-8dee-4860-be2d-da097c0f6630')\"\n",
              "              title=\"Convert this dataframe to an interactive table.\"\n",
              "              style=\"display:none;\">\n",
              "        \n",
              "  <svg xmlns=\"http://www.w3.org/2000/svg\" height=\"24px\"viewBox=\"0 0 24 24\"\n",
              "       width=\"24px\">\n",
              "    <path d=\"M0 0h24v24H0V0z\" fill=\"none\"/>\n",
              "    <path d=\"M18.56 5.44l.94 2.06.94-2.06 2.06-.94-2.06-.94-.94-2.06-.94 2.06-2.06.94zm-11 1L8.5 8.5l.94-2.06 2.06-.94-2.06-.94L8.5 2.5l-.94 2.06-2.06.94zm10 10l.94 2.06.94-2.06 2.06-.94-2.06-.94-.94-2.06-.94 2.06-2.06.94z\"/><path d=\"M17.41 7.96l-1.37-1.37c-.4-.4-.92-.59-1.43-.59-.52 0-1.04.2-1.43.59L10.3 9.45l-7.72 7.72c-.78.78-.78 2.05 0 2.83L4 21.41c.39.39.9.59 1.41.59.51 0 1.02-.2 1.41-.59l7.78-7.78 2.81-2.81c.8-.78.8-2.07 0-2.86zM5.41 20L4 18.59l7.72-7.72 1.47 1.35L5.41 20z\"/>\n",
              "  </svg>\n",
              "      </button>\n",
              "      \n",
              "  <style>\n",
              "    .colab-df-container {\n",
              "      display:flex;\n",
              "      flex-wrap:wrap;\n",
              "      gap: 12px;\n",
              "    }\n",
              "\n",
              "    .colab-df-convert {\n",
              "      background-color: #E8F0FE;\n",
              "      border: none;\n",
              "      border-radius: 50%;\n",
              "      cursor: pointer;\n",
              "      display: none;\n",
              "      fill: #1967D2;\n",
              "      height: 32px;\n",
              "      padding: 0 0 0 0;\n",
              "      width: 32px;\n",
              "    }\n",
              "\n",
              "    .colab-df-convert:hover {\n",
              "      background-color: #E2EBFA;\n",
              "      box-shadow: 0px 1px 2px rgba(60, 64, 67, 0.3), 0px 1px 3px 1px rgba(60, 64, 67, 0.15);\n",
              "      fill: #174EA6;\n",
              "    }\n",
              "\n",
              "    [theme=dark] .colab-df-convert {\n",
              "      background-color: #3B4455;\n",
              "      fill: #D2E3FC;\n",
              "    }\n",
              "\n",
              "    [theme=dark] .colab-df-convert:hover {\n",
              "      background-color: #434B5C;\n",
              "      box-shadow: 0px 1px 3px 1px rgba(0, 0, 0, 0.15);\n",
              "      filter: drop-shadow(0px 1px 2px rgba(0, 0, 0, 0.3));\n",
              "      fill: #FFFFFF;\n",
              "    }\n",
              "  </style>\n",
              "\n",
              "      <script>\n",
              "        const buttonEl =\n",
              "          document.querySelector('#df-7fae2df8-8dee-4860-be2d-da097c0f6630 button.colab-df-convert');\n",
              "        buttonEl.style.display =\n",
              "          google.colab.kernel.accessAllowed ? 'block' : 'none';\n",
              "\n",
              "        async function convertToInteractive(key) {\n",
              "          const element = document.querySelector('#df-7fae2df8-8dee-4860-be2d-da097c0f6630');\n",
              "          const dataTable =\n",
              "            await google.colab.kernel.invokeFunction('convertToInteractive',\n",
              "                                                     [key], {});\n",
              "          if (!dataTable) return;\n",
              "\n",
              "          const docLinkHtml = 'Like what you see? Visit the ' +\n",
              "            '<a target=\"_blank\" href=https://colab.research.google.com/notebooks/data_table.ipynb>data table notebook</a>'\n",
              "            + ' to learn more about interactive tables.';\n",
              "          element.innerHTML = '';\n",
              "          dataTable['output_type'] = 'display_data';\n",
              "          await google.colab.output.renderOutput(dataTable, element);\n",
              "          const docLink = document.createElement('div');\n",
              "          docLink.innerHTML = docLinkHtml;\n",
              "          element.appendChild(docLink);\n",
              "        }\n",
              "      </script>\n",
              "    </div>\n",
              "  </div>\n",
              "  "
            ]
          },
          "metadata": {},
          "execution_count": 20
        }
      ]
    },
    {
      "cell_type": "markdown",
      "source": [
        "Agora vamos somar os valores que NÃO são nulos"
      ],
      "metadata": {
        "id": "ewcnQf3Ntc8p"
      }
    },
    {
      "cell_type": "code",
      "source": [
        "resultado.notna().sum()"
      ],
      "metadata": {
        "colab": {
          "base_uri": "https://localhost:8080/"
        },
        "id": "OsyzAiqTsnIT",
        "outputId": "73839025-0886-4f68-822a-5810267e4429"
      },
      "execution_count": 23,
      "outputs": [
        {
          "output_type": "execute_result",
          "data": {
            "text/plain": [
              "DATA INICIAL                     0\n",
              "DATA FINAL                       0\n",
              "REGIÃO                           0\n",
              "ESTADO                           0\n",
              "PRODUTO                          0\n",
              "NÚMERO DE POSTOS PESQUISADOS     0\n",
              "UNIDADE DE MEDIDA                0\n",
              "PREÇO MÉDIO REVENDA              0\n",
              "DESVIO PADRÃO REVENDA            0\n",
              "PREÇO MÍNIMO REVENDA             0\n",
              "PREÇO MÁXIMO REVENDA             0\n",
              "MARGEM MÉDIA REVENDA             0\n",
              "COEF DE VARIAÇÃO REVENDA         0\n",
              "PREÇO MÉDIO DISTRIBUIÇÃO         0\n",
              "DESVIO PADRÃO DISTRIBUIÇÃO       0\n",
              "PREÇO MÍNIMO DISTRIBUIÇÃO        0\n",
              "PREÇO MÁXIMO DISTRIBUIÇÃO        0\n",
              "COEF DE VARIAÇÃO DISTRIBUIÇÃO    0\n",
              "dtype: int64"
            ]
          },
          "metadata": {},
          "execution_count": 23
        }
      ]
    },
    {
      "cell_type": "markdown",
      "source": [
        "Concluímos que não há valores nulos neste dataset"
      ],
      "metadata": {
        "id": "gZLXMdIPtiks"
      }
    },
    {
      "cell_type": "markdown",
      "source": [
        "Visto que este dataset mostra uma série temporal, não há sentido em haver linhas iguais.\n",
        "\n",
        "Verificar se na linha inteira desse dataframe tem duplicatas"
      ],
      "metadata": {
        "id": "fNQ4w_1kEkCe"
      }
    },
    {
      "cell_type": "code",
      "source": [
        "dataset_gas.duplicated().sum()"
      ],
      "metadata": {
        "colab": {
          "base_uri": "https://localhost:8080/"
        },
        "id": "2PHADvgxv9hx",
        "outputId": "65d3af3c-ad37-4d4a-afb7-5d52d06a0ce9"
      },
      "execution_count": 31,
      "outputs": [
        {
          "output_type": "execute_result",
          "data": {
            "text/plain": [
              "0"
            ]
          },
          "metadata": {},
          "execution_count": 31
        }
      ]
    },
    {
      "cell_type": "markdown",
      "source": [
        "Verificado"
      ],
      "metadata": {
        "id": "tgHpx4iuwiNf"
      }
    },
    {
      "cell_type": "markdown",
      "source": [
        "Dataframe com as datas separadas (para podermos lidar melhor com series temporais)"
      ],
      "metadata": {
        "id": "tVDRoRR1FwCl"
      }
    },
    {
      "cell_type": "markdown",
      "source": [
        "Definir as funções necessárias:"
      ],
      "metadata": {
        "id": "ZKTzFjHzHujd"
      }
    },
    {
      "cell_type": "code",
      "source": [
        "def split_data(coluna,caracter_separador):\n",
        "  lista_split=coluna.str.split(caracter_separador)\n",
        "  return(lista_split)\n",
        "\n",
        "def extrair_lista(lista,indice):\n",
        "  lista_construida=[]\n",
        "  for i in range(0,len(lista)):\n",
        "    lista_construida.append(lista[i][indice])\n",
        "  return lista_construida\n",
        "\n"
      ],
      "metadata": {
        "id": "tF8vX4fNFvn9"
      },
      "execution_count": 32,
      "outputs": []
    },
    {
      "cell_type": "markdown",
      "source": [
        "Separar os dias meses e anos em listas"
      ],
      "metadata": {
        "id": "Cjg8TvpHJf3F"
      }
    },
    {
      "cell_type": "code",
      "source": [
        "separados_dias_anos_inicial=split_data(dataset_gas['DATA INICIAL'],'-')\n",
        "\n",
        "separados_dias_anos_final=split_data(dataset_gas['DATA FINAL'],'-')\n",
        "\n",
        "separados_dias_anos_final"
      ],
      "metadata": {
        "colab": {
          "base_uri": "https://localhost:8080/"
        },
        "id": "RXjJ0mHAJimd",
        "outputId": "349382c9-95a9-4f88-eabf-f90f89bfd009"
      },
      "execution_count": 43,
      "outputs": [
        {
          "output_type": "execute_result",
          "data": {
            "text/plain": [
              "0         [2004, 05, 15]\n",
              "1         [2004, 05, 15]\n",
              "2         [2004, 05, 15]\n",
              "3         [2004, 05, 15]\n",
              "4         [2004, 05, 15]\n",
              "               ...      \n",
              "120818    [2021, 05, 01]\n",
              "120819    [2021, 05, 01]\n",
              "120820    [2021, 05, 01]\n",
              "120821    [2021, 05, 01]\n",
              "120822    [2021, 05, 01]\n",
              "Name: DATA FINAL, Length: 120823, dtype: object"
            ]
          },
          "metadata": {},
          "execution_count": 43
        }
      ]
    },
    {
      "cell_type": "markdown",
      "source": [
        "Colocar essas listas no dataframe de forma a substituir\n",
        "\n",
        "\n"
      ],
      "metadata": {
        "id": "DByHRXhfKkG4"
      }
    },
    {
      "cell_type": "markdown",
      "source": [
        "Transformar as listas em numpy para ser mais fácil de trabalhar"
      ],
      "metadata": {
        "id": "h04WGkHjNm1e"
      }
    },
    {
      "cell_type": "markdown",
      "source": [
        "Criar as listas para serem colocadas no dataframe dataset_gas2"
      ],
      "metadata": {
        "id": "bg3M7C-_PV1m"
      }
    },
    {
      "cell_type": "code",
      "source": [
        "anos_inicial=extrair_lista(separados_dias_anos_inicial,0)\n",
        "meses_inicial=extrair_lista(separados_dias_anos_inicial,1)\n",
        "dias_inicial=extrair_lista(separados_dias_anos_inicial,2)\n",
        "anos_final=extrair_lista(separados_dias_anos_final,0)\n",
        "meses_final=extrair_lista(separados_dias_anos_final,1)\n",
        "dias_final=extrair_lista(separados_dias_anos_final,2)\n"
      ],
      "metadata": {
        "id": "BpW3f5uHLhtV"
      },
      "execution_count": 44,
      "outputs": []
    },
    {
      "cell_type": "markdown",
      "source": [
        "Colocar essas colunas no dataframe"
      ],
      "metadata": {
        "id": "hBi90cEFPemW"
      }
    },
    {
      "cell_type": "code",
      "source": [
        "dataset_gas2['DIA INICIAL']=dias_inicial\n",
        "dataset_gas2['MES INICIAL']=meses_inicial\n",
        "dataset_gas2['ANO INICIAL']=anos_inicial\n",
        "dataset_gas2['DIA FINAL']=dias_final\n",
        "dataset_gas2['MES FINAL']=meses_final\n",
        "dataset_gas2['ANO FINAL']=anos_final\n"
      ],
      "metadata": {
        "id": "Im7p5ttPMjWv"
      },
      "execution_count": null,
      "outputs": []
    },
    {
      "cell_type": "markdown",
      "source": [
        "Ver se deu tudo certo"
      ],
      "metadata": {
        "id": "1_TQuxpiPjs2"
      }
    },
    {
      "cell_type": "code",
      "source": [
        "dataset_gas2"
      ],
      "metadata": {
        "colab": {
          "base_uri": "https://localhost:8080/",
          "height": 713
        },
        "id": "bJ0VICJXNQje",
        "outputId": "80f527bb-e005-47b3-bbf3-66fe72a15722"
      },
      "execution_count": null,
      "outputs": [
        {
          "output_type": "execute_result",
          "data": {
            "text/plain": [
              "              REGIÃO              ESTADO           PRODUTO  \\\n",
              "0       CENTRO OESTE    DISTRITO FEDERAL  ETANOL HIDRATADO   \n",
              "1       CENTRO OESTE               GOIAS  ETANOL HIDRATADO   \n",
              "2       CENTRO OESTE         MATO GROSSO  ETANOL HIDRATADO   \n",
              "3       CENTRO OESTE  MATO GROSSO DO SUL  ETANOL HIDRATADO   \n",
              "4           NORDESTE             ALAGOAS  ETANOL HIDRATADO   \n",
              "...              ...                 ...               ...   \n",
              "120818         NORTE             RORAIMA   OLEO DIESEL S10   \n",
              "120819           SUL      SANTA CATARINA   OLEO DIESEL S10   \n",
              "120820       SUDESTE           SAO PAULO   OLEO DIESEL S10   \n",
              "120821      NORDESTE             SERGIPE   OLEO DIESEL S10   \n",
              "120822         NORTE           TOCANTINS   OLEO DIESEL S10   \n",
              "\n",
              "        NÚMERO DE POSTOS PESQUISADOS UNIDADE DE MEDIDA  PREÇO MÉDIO REVENDA  \\\n",
              "0                                127              R$/l                1.288   \n",
              "1                                387              R$/l                1.162   \n",
              "2                                192              R$/l                1.389   \n",
              "3                                162              R$/l                1.262   \n",
              "4                                103              R$/l                1.181   \n",
              "...                              ...               ...                  ...   \n",
              "120818                            12              R$/l                4.582   \n",
              "120819                           100              R$/l                4.141   \n",
              "120820                           886              R$/l                4.246   \n",
              "120821                            33              R$/l                4.464   \n",
              "120822                            18              R$/l                4.352   \n",
              "\n",
              "        DESVIO PADRÃO REVENDA  PREÇO MÍNIMO REVENDA  PREÇO MÁXIMO REVENDA  \\\n",
              "0                       0.016                 1.190                 1.350   \n",
              "1                       0.114                 0.890                 1.449   \n",
              "2                       0.097                 1.180                 1.760   \n",
              "3                       0.070                 1.090                 1.509   \n",
              "4                       0.078                 1.050                 1.400   \n",
              "...                       ...                   ...                   ...   \n",
              "120818                  0.056                 4.510                 4.690   \n",
              "120819                  0.187                 3.838                 4.739   \n",
              "120820                  0.216                 3.769                 5.199   \n",
              "120821                  0.205                 4.190                 4.699   \n",
              "120822                  0.156                 4.199                 4.699   \n",
              "\n",
              "       MARGEM MÉDIA REVENDA  ...  DESVIO PADRÃO DISTRIBUIÇÃO  \\\n",
              "0                     0.463  ...                        0.11   \n",
              "1                     0.399  ...                       0.088   \n",
              "2                     0.419  ...                       0.095   \n",
              "3                     0.432  ...                       0.119   \n",
              "4                      0.24  ...                       0.077   \n",
              "...                     ...  ...                         ...   \n",
              "120818             -99999.0  ...                    -99999.0   \n",
              "120819             -99999.0  ...                    -99999.0   \n",
              "120820             -99999.0  ...                    -99999.0   \n",
              "120821             -99999.0  ...                    -99999.0   \n",
              "120822             -99999.0  ...                    -99999.0   \n",
              "\n",
              "       PREÇO MÍNIMO DISTRIBUIÇÃO PREÇO MÁXIMO DISTRIBUIÇÃO  \\\n",
              "0                         0.4201                    0.9666   \n",
              "1                         0.5013                      1.05   \n",
              "2                         0.5614                     1.161   \n",
              "3                         0.5991                   1.22242   \n",
              "4                         0.7441                    1.0317   \n",
              "...                          ...                       ...   \n",
              "120818                  -99999.0                  -99999.0   \n",
              "120819                  -99999.0                  -99999.0   \n",
              "120820                  -99999.0                  -99999.0   \n",
              "120821                  -99999.0                  -99999.0   \n",
              "120822                  -99999.0                  -99999.0   \n",
              "\n",
              "       COEF DE VARIAÇÃO DISTRIBUIÇÃO DIA INICIAL MESES INICIAL ANOS INICIAL  \\\n",
              "0                              0.133          09            05         2004   \n",
              "1                              0.115          09            05         2004   \n",
              "2                              0.098          09            05         2004   \n",
              "3                              0.143          09            05         2004   \n",
              "4                              0.082          09            05         2004   \n",
              "...                              ...         ...           ...          ...   \n",
              "120818                      -99999.0          25            04         2021   \n",
              "120819                      -99999.0          25            04         2021   \n",
              "120820                      -99999.0          25            04         2021   \n",
              "120821                      -99999.0          25            04         2021   \n",
              "120822                      -99999.0          25            04         2021   \n",
              "\n",
              "       DIA FINAL MES FINAL ANO FINAL  \n",
              "0             15        05      2004  \n",
              "1             15        05      2004  \n",
              "2             15        05      2004  \n",
              "3             15        05      2004  \n",
              "4             15        05      2004  \n",
              "...          ...       ...       ...  \n",
              "120818        01        05      2021  \n",
              "120819        01        05      2021  \n",
              "120820        01        05      2021  \n",
              "120821        01        05      2021  \n",
              "120822        01        05      2021  \n",
              "\n",
              "[120823 rows x 22 columns]"
            ],
            "text/html": [
              "\n",
              "  <div id=\"df-784d3fb6-340e-412c-9b29-4b53532459dd\">\n",
              "    <div class=\"colab-df-container\">\n",
              "      <div>\n",
              "<style scoped>\n",
              "    .dataframe tbody tr th:only-of-type {\n",
              "        vertical-align: middle;\n",
              "    }\n",
              "\n",
              "    .dataframe tbody tr th {\n",
              "        vertical-align: top;\n",
              "    }\n",
              "\n",
              "    .dataframe thead th {\n",
              "        text-align: right;\n",
              "    }\n",
              "</style>\n",
              "<table border=\"1\" class=\"dataframe\">\n",
              "  <thead>\n",
              "    <tr style=\"text-align: right;\">\n",
              "      <th></th>\n",
              "      <th>REGIÃO</th>\n",
              "      <th>ESTADO</th>\n",
              "      <th>PRODUTO</th>\n",
              "      <th>NÚMERO DE POSTOS PESQUISADOS</th>\n",
              "      <th>UNIDADE DE MEDIDA</th>\n",
              "      <th>PREÇO MÉDIO REVENDA</th>\n",
              "      <th>DESVIO PADRÃO REVENDA</th>\n",
              "      <th>PREÇO MÍNIMO REVENDA</th>\n",
              "      <th>PREÇO MÁXIMO REVENDA</th>\n",
              "      <th>MARGEM MÉDIA REVENDA</th>\n",
              "      <th>...</th>\n",
              "      <th>DESVIO PADRÃO DISTRIBUIÇÃO</th>\n",
              "      <th>PREÇO MÍNIMO DISTRIBUIÇÃO</th>\n",
              "      <th>PREÇO MÁXIMO DISTRIBUIÇÃO</th>\n",
              "      <th>COEF DE VARIAÇÃO DISTRIBUIÇÃO</th>\n",
              "      <th>DIA INICIAL</th>\n",
              "      <th>MESES INICIAL</th>\n",
              "      <th>ANOS INICIAL</th>\n",
              "      <th>DIA FINAL</th>\n",
              "      <th>MES FINAL</th>\n",
              "      <th>ANO FINAL</th>\n",
              "    </tr>\n",
              "  </thead>\n",
              "  <tbody>\n",
              "    <tr>\n",
              "      <th>0</th>\n",
              "      <td>CENTRO OESTE</td>\n",
              "      <td>DISTRITO FEDERAL</td>\n",
              "      <td>ETANOL HIDRATADO</td>\n",
              "      <td>127</td>\n",
              "      <td>R$/l</td>\n",
              "      <td>1.288</td>\n",
              "      <td>0.016</td>\n",
              "      <td>1.190</td>\n",
              "      <td>1.350</td>\n",
              "      <td>0.463</td>\n",
              "      <td>...</td>\n",
              "      <td>0.11</td>\n",
              "      <td>0.4201</td>\n",
              "      <td>0.9666</td>\n",
              "      <td>0.133</td>\n",
              "      <td>09</td>\n",
              "      <td>05</td>\n",
              "      <td>2004</td>\n",
              "      <td>15</td>\n",
              "      <td>05</td>\n",
              "      <td>2004</td>\n",
              "    </tr>\n",
              "    <tr>\n",
              "      <th>1</th>\n",
              "      <td>CENTRO OESTE</td>\n",
              "      <td>GOIAS</td>\n",
              "      <td>ETANOL HIDRATADO</td>\n",
              "      <td>387</td>\n",
              "      <td>R$/l</td>\n",
              "      <td>1.162</td>\n",
              "      <td>0.114</td>\n",
              "      <td>0.890</td>\n",
              "      <td>1.449</td>\n",
              "      <td>0.399</td>\n",
              "      <td>...</td>\n",
              "      <td>0.088</td>\n",
              "      <td>0.5013</td>\n",
              "      <td>1.05</td>\n",
              "      <td>0.115</td>\n",
              "      <td>09</td>\n",
              "      <td>05</td>\n",
              "      <td>2004</td>\n",
              "      <td>15</td>\n",
              "      <td>05</td>\n",
              "      <td>2004</td>\n",
              "    </tr>\n",
              "    <tr>\n",
              "      <th>2</th>\n",
              "      <td>CENTRO OESTE</td>\n",
              "      <td>MATO GROSSO</td>\n",
              "      <td>ETANOL HIDRATADO</td>\n",
              "      <td>192</td>\n",
              "      <td>R$/l</td>\n",
              "      <td>1.389</td>\n",
              "      <td>0.097</td>\n",
              "      <td>1.180</td>\n",
              "      <td>1.760</td>\n",
              "      <td>0.419</td>\n",
              "      <td>...</td>\n",
              "      <td>0.095</td>\n",
              "      <td>0.5614</td>\n",
              "      <td>1.161</td>\n",
              "      <td>0.098</td>\n",
              "      <td>09</td>\n",
              "      <td>05</td>\n",
              "      <td>2004</td>\n",
              "      <td>15</td>\n",
              "      <td>05</td>\n",
              "      <td>2004</td>\n",
              "    </tr>\n",
              "    <tr>\n",
              "      <th>3</th>\n",
              "      <td>CENTRO OESTE</td>\n",
              "      <td>MATO GROSSO DO SUL</td>\n",
              "      <td>ETANOL HIDRATADO</td>\n",
              "      <td>162</td>\n",
              "      <td>R$/l</td>\n",
              "      <td>1.262</td>\n",
              "      <td>0.070</td>\n",
              "      <td>1.090</td>\n",
              "      <td>1.509</td>\n",
              "      <td>0.432</td>\n",
              "      <td>...</td>\n",
              "      <td>0.119</td>\n",
              "      <td>0.5991</td>\n",
              "      <td>1.22242</td>\n",
              "      <td>0.143</td>\n",
              "      <td>09</td>\n",
              "      <td>05</td>\n",
              "      <td>2004</td>\n",
              "      <td>15</td>\n",
              "      <td>05</td>\n",
              "      <td>2004</td>\n",
              "    </tr>\n",
              "    <tr>\n",
              "      <th>4</th>\n",
              "      <td>NORDESTE</td>\n",
              "      <td>ALAGOAS</td>\n",
              "      <td>ETANOL HIDRATADO</td>\n",
              "      <td>103</td>\n",
              "      <td>R$/l</td>\n",
              "      <td>1.181</td>\n",
              "      <td>0.078</td>\n",
              "      <td>1.050</td>\n",
              "      <td>1.400</td>\n",
              "      <td>0.24</td>\n",
              "      <td>...</td>\n",
              "      <td>0.077</td>\n",
              "      <td>0.7441</td>\n",
              "      <td>1.0317</td>\n",
              "      <td>0.082</td>\n",
              "      <td>09</td>\n",
              "      <td>05</td>\n",
              "      <td>2004</td>\n",
              "      <td>15</td>\n",
              "      <td>05</td>\n",
              "      <td>2004</td>\n",
              "    </tr>\n",
              "    <tr>\n",
              "      <th>...</th>\n",
              "      <td>...</td>\n",
              "      <td>...</td>\n",
              "      <td>...</td>\n",
              "      <td>...</td>\n",
              "      <td>...</td>\n",
              "      <td>...</td>\n",
              "      <td>...</td>\n",
              "      <td>...</td>\n",
              "      <td>...</td>\n",
              "      <td>...</td>\n",
              "      <td>...</td>\n",
              "      <td>...</td>\n",
              "      <td>...</td>\n",
              "      <td>...</td>\n",
              "      <td>...</td>\n",
              "      <td>...</td>\n",
              "      <td>...</td>\n",
              "      <td>...</td>\n",
              "      <td>...</td>\n",
              "      <td>...</td>\n",
              "      <td>...</td>\n",
              "    </tr>\n",
              "    <tr>\n",
              "      <th>120818</th>\n",
              "      <td>NORTE</td>\n",
              "      <td>RORAIMA</td>\n",
              "      <td>OLEO DIESEL S10</td>\n",
              "      <td>12</td>\n",
              "      <td>R$/l</td>\n",
              "      <td>4.582</td>\n",
              "      <td>0.056</td>\n",
              "      <td>4.510</td>\n",
              "      <td>4.690</td>\n",
              "      <td>-99999.0</td>\n",
              "      <td>...</td>\n",
              "      <td>-99999.0</td>\n",
              "      <td>-99999.0</td>\n",
              "      <td>-99999.0</td>\n",
              "      <td>-99999.0</td>\n",
              "      <td>25</td>\n",
              "      <td>04</td>\n",
              "      <td>2021</td>\n",
              "      <td>01</td>\n",
              "      <td>05</td>\n",
              "      <td>2021</td>\n",
              "    </tr>\n",
              "    <tr>\n",
              "      <th>120819</th>\n",
              "      <td>SUL</td>\n",
              "      <td>SANTA CATARINA</td>\n",
              "      <td>OLEO DIESEL S10</td>\n",
              "      <td>100</td>\n",
              "      <td>R$/l</td>\n",
              "      <td>4.141</td>\n",
              "      <td>0.187</td>\n",
              "      <td>3.838</td>\n",
              "      <td>4.739</td>\n",
              "      <td>-99999.0</td>\n",
              "      <td>...</td>\n",
              "      <td>-99999.0</td>\n",
              "      <td>-99999.0</td>\n",
              "      <td>-99999.0</td>\n",
              "      <td>-99999.0</td>\n",
              "      <td>25</td>\n",
              "      <td>04</td>\n",
              "      <td>2021</td>\n",
              "      <td>01</td>\n",
              "      <td>05</td>\n",
              "      <td>2021</td>\n",
              "    </tr>\n",
              "    <tr>\n",
              "      <th>120820</th>\n",
              "      <td>SUDESTE</td>\n",
              "      <td>SAO PAULO</td>\n",
              "      <td>OLEO DIESEL S10</td>\n",
              "      <td>886</td>\n",
              "      <td>R$/l</td>\n",
              "      <td>4.246</td>\n",
              "      <td>0.216</td>\n",
              "      <td>3.769</td>\n",
              "      <td>5.199</td>\n",
              "      <td>-99999.0</td>\n",
              "      <td>...</td>\n",
              "      <td>-99999.0</td>\n",
              "      <td>-99999.0</td>\n",
              "      <td>-99999.0</td>\n",
              "      <td>-99999.0</td>\n",
              "      <td>25</td>\n",
              "      <td>04</td>\n",
              "      <td>2021</td>\n",
              "      <td>01</td>\n",
              "      <td>05</td>\n",
              "      <td>2021</td>\n",
              "    </tr>\n",
              "    <tr>\n",
              "      <th>120821</th>\n",
              "      <td>NORDESTE</td>\n",
              "      <td>SERGIPE</td>\n",
              "      <td>OLEO DIESEL S10</td>\n",
              "      <td>33</td>\n",
              "      <td>R$/l</td>\n",
              "      <td>4.464</td>\n",
              "      <td>0.205</td>\n",
              "      <td>4.190</td>\n",
              "      <td>4.699</td>\n",
              "      <td>-99999.0</td>\n",
              "      <td>...</td>\n",
              "      <td>-99999.0</td>\n",
              "      <td>-99999.0</td>\n",
              "      <td>-99999.0</td>\n",
              "      <td>-99999.0</td>\n",
              "      <td>25</td>\n",
              "      <td>04</td>\n",
              "      <td>2021</td>\n",
              "      <td>01</td>\n",
              "      <td>05</td>\n",
              "      <td>2021</td>\n",
              "    </tr>\n",
              "    <tr>\n",
              "      <th>120822</th>\n",
              "      <td>NORTE</td>\n",
              "      <td>TOCANTINS</td>\n",
              "      <td>OLEO DIESEL S10</td>\n",
              "      <td>18</td>\n",
              "      <td>R$/l</td>\n",
              "      <td>4.352</td>\n",
              "      <td>0.156</td>\n",
              "      <td>4.199</td>\n",
              "      <td>4.699</td>\n",
              "      <td>-99999.0</td>\n",
              "      <td>...</td>\n",
              "      <td>-99999.0</td>\n",
              "      <td>-99999.0</td>\n",
              "      <td>-99999.0</td>\n",
              "      <td>-99999.0</td>\n",
              "      <td>25</td>\n",
              "      <td>04</td>\n",
              "      <td>2021</td>\n",
              "      <td>01</td>\n",
              "      <td>05</td>\n",
              "      <td>2021</td>\n",
              "    </tr>\n",
              "  </tbody>\n",
              "</table>\n",
              "<p>120823 rows × 22 columns</p>\n",
              "</div>\n",
              "      <button class=\"colab-df-convert\" onclick=\"convertToInteractive('df-784d3fb6-340e-412c-9b29-4b53532459dd')\"\n",
              "              title=\"Convert this dataframe to an interactive table.\"\n",
              "              style=\"display:none;\">\n",
              "        \n",
              "  <svg xmlns=\"http://www.w3.org/2000/svg\" height=\"24px\"viewBox=\"0 0 24 24\"\n",
              "       width=\"24px\">\n",
              "    <path d=\"M0 0h24v24H0V0z\" fill=\"none\"/>\n",
              "    <path d=\"M18.56 5.44l.94 2.06.94-2.06 2.06-.94-2.06-.94-.94-2.06-.94 2.06-2.06.94zm-11 1L8.5 8.5l.94-2.06 2.06-.94-2.06-.94L8.5 2.5l-.94 2.06-2.06.94zm10 10l.94 2.06.94-2.06 2.06-.94-2.06-.94-.94-2.06-.94 2.06-2.06.94z\"/><path d=\"M17.41 7.96l-1.37-1.37c-.4-.4-.92-.59-1.43-.59-.52 0-1.04.2-1.43.59L10.3 9.45l-7.72 7.72c-.78.78-.78 2.05 0 2.83L4 21.41c.39.39.9.59 1.41.59.51 0 1.02-.2 1.41-.59l7.78-7.78 2.81-2.81c.8-.78.8-2.07 0-2.86zM5.41 20L4 18.59l7.72-7.72 1.47 1.35L5.41 20z\"/>\n",
              "  </svg>\n",
              "      </button>\n",
              "      \n",
              "  <style>\n",
              "    .colab-df-container {\n",
              "      display:flex;\n",
              "      flex-wrap:wrap;\n",
              "      gap: 12px;\n",
              "    }\n",
              "\n",
              "    .colab-df-convert {\n",
              "      background-color: #E8F0FE;\n",
              "      border: none;\n",
              "      border-radius: 50%;\n",
              "      cursor: pointer;\n",
              "      display: none;\n",
              "      fill: #1967D2;\n",
              "      height: 32px;\n",
              "      padding: 0 0 0 0;\n",
              "      width: 32px;\n",
              "    }\n",
              "\n",
              "    .colab-df-convert:hover {\n",
              "      background-color: #E2EBFA;\n",
              "      box-shadow: 0px 1px 2px rgba(60, 64, 67, 0.3), 0px 1px 3px 1px rgba(60, 64, 67, 0.15);\n",
              "      fill: #174EA6;\n",
              "    }\n",
              "\n",
              "    [theme=dark] .colab-df-convert {\n",
              "      background-color: #3B4455;\n",
              "      fill: #D2E3FC;\n",
              "    }\n",
              "\n",
              "    [theme=dark] .colab-df-convert:hover {\n",
              "      background-color: #434B5C;\n",
              "      box-shadow: 0px 1px 3px 1px rgba(0, 0, 0, 0.15);\n",
              "      filter: drop-shadow(0px 1px 2px rgba(0, 0, 0, 0.3));\n",
              "      fill: #FFFFFF;\n",
              "    }\n",
              "  </style>\n",
              "\n",
              "      <script>\n",
              "        const buttonEl =\n",
              "          document.querySelector('#df-784d3fb6-340e-412c-9b29-4b53532459dd button.colab-df-convert');\n",
              "        buttonEl.style.display =\n",
              "          google.colab.kernel.accessAllowed ? 'block' : 'none';\n",
              "\n",
              "        async function convertToInteractive(key) {\n",
              "          const element = document.querySelector('#df-784d3fb6-340e-412c-9b29-4b53532459dd');\n",
              "          const dataTable =\n",
              "            await google.colab.kernel.invokeFunction('convertToInteractive',\n",
              "                                                     [key], {});\n",
              "          if (!dataTable) return;\n",
              "\n",
              "          const docLinkHtml = 'Like what you see? Visit the ' +\n",
              "            '<a target=\"_blank\" href=https://colab.research.google.com/notebooks/data_table.ipynb>data table notebook</a>'\n",
              "            + ' to learn more about interactive tables.';\n",
              "          element.innerHTML = '';\n",
              "          dataTable['output_type'] = 'display_data';\n",
              "          await google.colab.output.renderOutput(dataTable, element);\n",
              "          const docLink = document.createElement('div');\n",
              "          docLink.innerHTML = docLinkHtml;\n",
              "          element.appendChild(docLink);\n",
              "        }\n",
              "      </script>\n",
              "    </div>\n",
              "  </div>\n",
              "  "
            ]
          },
          "metadata": {},
          "execution_count": 56
        }
      ]
    },
    {
      "cell_type": "code",
      "source": [
        "dataset_gas2[['DIA INICIAL','MES INICIAL','ANO INICIAL','DIA FINAL','MES FINAL','ANO FINAL']]=dataset_gas2[['DIA INICIAL','MES INICIAL','ANO INICIAL','DIA FINAL','MES FINAL','ANO FINAL']].astype(int)"
      ],
      "metadata": {
        "id": "0hm2rKSLNXJ2"
      },
      "execution_count": null,
      "outputs": []
    },
    {
      "cell_type": "code",
      "source": [
        "dataset_gas2.info()"
      ],
      "metadata": {
        "colab": {
          "base_uri": "https://localhost:8080/"
        },
        "id": "mQ5ej0njPHNW",
        "outputId": "785b5306-e414-4906-e9ef-adf1b270ec19"
      },
      "execution_count": null,
      "outputs": [
        {
          "output_type": "stream",
          "name": "stdout",
          "text": [
            "<class 'pandas.core.frame.DataFrame'>\n",
            "RangeIndex: 120823 entries, 0 to 120822\n",
            "Data columns (total 22 columns):\n",
            " #   Column                         Non-Null Count   Dtype  \n",
            "---  ------                         --------------   -----  \n",
            " 0   REGIÃO                         120823 non-null  object \n",
            " 1   ESTADO                         120823 non-null  object \n",
            " 2   PRODUTO                        120823 non-null  object \n",
            " 3   NÚMERO DE POSTOS PESQUISADOS   120823 non-null  int64  \n",
            " 4   UNIDADE DE MEDIDA              120823 non-null  object \n",
            " 5   PREÇO MÉDIO REVENDA            120823 non-null  float64\n",
            " 6   DESVIO PADRÃO REVENDA          120823 non-null  float64\n",
            " 7   PREÇO MÍNIMO REVENDA           120823 non-null  float64\n",
            " 8   PREÇO MÁXIMO REVENDA           120823 non-null  float64\n",
            " 9   MARGEM MÉDIA REVENDA           120823 non-null  object \n",
            " 10  COEF DE VARIAÇÃO REVENDA       120823 non-null  float64\n",
            " 11  PREÇO MÉDIO DISTRIBUIÇÃO       120823 non-null  object \n",
            " 12  DESVIO PADRÃO DISTRIBUIÇÃO     120823 non-null  object \n",
            " 13  PREÇO MÍNIMO DISTRIBUIÇÃO      120823 non-null  object \n",
            " 14  PREÇO MÁXIMO DISTRIBUIÇÃO      120823 non-null  object \n",
            " 15  COEF DE VARIAÇÃO DISTRIBUIÇÃO  120823 non-null  object \n",
            " 16  DIA INICIAL                    120823 non-null  int64  \n",
            " 17  DIA FINAL                      120823 non-null  int64  \n",
            " 18  MES FINAL                      120823 non-null  int64  \n",
            " 19  ANO FINAL                      120823 non-null  int64  \n",
            " 20  MES INICIAL                    120823 non-null  int64  \n",
            " 21  ANO INICIAL                    120823 non-null  int64  \n",
            "dtypes: float64(5), int64(7), object(10)\n",
            "memory usage: 20.3+ MB\n"
          ]
        }
      ]
    },
    {
      "cell_type": "code",
      "source": [
        "dataset_gas2.drop(columns=['MESES INICIAL','ANOS INICIAL'],inplace=True)"
      ],
      "metadata": {
        "id": "3Ljgk4V1PueG"
      },
      "execution_count": null,
      "outputs": []
    }
  ]
}