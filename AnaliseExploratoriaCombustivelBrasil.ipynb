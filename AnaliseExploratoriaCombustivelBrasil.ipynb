{
  "nbformat": 4,
  "nbformat_minor": 0,
  "metadata": {
    "colab": {
      "provenance": [],
      "include_colab_link": true
    },
    "kernelspec": {
      "name": "python3",
      "display_name": "Python 3"
    },
    "language_info": {
      "name": "python"
    }
  },
  "cells": [
    {
      "cell_type": "markdown",
      "metadata": {
        "id": "view-in-github",
        "colab_type": "text"
      },
      "source": [
        "<a href=\"https://colab.research.google.com/github/VitorFRodrigues/tecprog1_Vitor_Rodrigues/blob/main/AnaliseExploratoriaCombustivelBrasil.ipynb\" target=\"_parent\"><img src=\"https://colab.research.google.com/assets/colab-badge.svg\" alt=\"Open In Colab\"/></a>"
      ]
    },
    {
      "cell_type": "markdown",
      "source": [
        "#Titulo - Analise exploratória de Combustível no Brasil"
      ],
      "metadata": {
        "id": "vTsNoU6MiwQn"
      }
    },
    {
      "cell_type": "markdown",
      "source": [
        "## 1. Introdução\n",
        "\n",
        "AAAAA"
      ],
      "metadata": {
        "id": "wDMKIFvijdcZ"
      }
    },
    {
      "cell_type": "markdown",
      "source": [
        "## 2. Objetivos\n",
        "\n",
        "AAA"
      ],
      "metadata": {
        "id": "0TSCFlbvjlcZ"
      }
    },
    {
      "cell_type": "markdown",
      "source": [
        "## 3. Limpeza de dados"
      ],
      "metadata": {
        "id": "ukUxsF69jrcR"
      }
    },
    {
      "cell_type": "markdown",
      "source": [
        "Importar os pacotes necessários\n",
        "Dataset salvo no github... dar abrir o raw file e usar o link abaixo para conseguir acesso sem precisar ter o arquivo na máquina"
      ],
      "metadata": {
        "id": "tb7JOCcgoLkd"
      }
    },
    {
      "cell_type": "code",
      "source": [
        "url_gas_tsv = 'https://raw.githubusercontent.com/MoroniMenesses/tec_prog1_Moroni_Bora/main/2004-2021.tsv'"
      ],
      "metadata": {
        "id": "VMOCqshliRxu"
      },
      "execution_count": 832,
      "outputs": []
    },
    {
      "cell_type": "markdown",
      "source": [
        "Importação das bibliotecas necessárias para o trabalho\n"
      ],
      "metadata": {
        "id": "yrF7axzVecQ-"
      }
    },
    {
      "cell_type": "code",
      "execution_count": 833,
      "metadata": {
        "id": "3RUCeK0Wn4vR"
      },
      "outputs": [],
      "source": [
        "import pandas as pd\n",
        "import numpy as np"
      ]
    },
    {
      "cell_type": "markdown",
      "source": [
        "Lendo dataset..."
      ],
      "metadata": {
        "id": "EujhWAj5ngwI"
      }
    },
    {
      "cell_type": "code",
      "source": [
        "dataset_gas=pd.read_csv(url_gas_tsv,sep='\\t')\n",
        "dataset_gas.head()"
      ],
      "metadata": {
        "id": "UmJJu8ocogbj",
        "colab": {
          "base_uri": "https://localhost:8080/",
          "height": 389
        },
        "outputId": "580c8e83-5674-4398-d7e1-13acd721f04f"
      },
      "execution_count": 834,
      "outputs": [
        {
          "output_type": "execute_result",
          "data": {
            "text/plain": [
              "  DATA INICIAL  DATA FINAL        REGIÃO              ESTADO  \\\n",
              "0   2004-05-09  2004-05-15  CENTRO OESTE    DISTRITO FEDERAL   \n",
              "1   2004-05-09  2004-05-15  CENTRO OESTE               GOIAS   \n",
              "2   2004-05-09  2004-05-15  CENTRO OESTE         MATO GROSSO   \n",
              "3   2004-05-09  2004-05-15  CENTRO OESTE  MATO GROSSO DO SUL   \n",
              "4   2004-05-09  2004-05-15      NORDESTE             ALAGOAS   \n",
              "\n",
              "            PRODUTO  NÚMERO DE POSTOS PESQUISADOS UNIDADE DE MEDIDA  \\\n",
              "0  ETANOL HIDRATADO                           127              R$/l   \n",
              "1  ETANOL HIDRATADO                           387              R$/l   \n",
              "2  ETANOL HIDRATADO                           192              R$/l   \n",
              "3  ETANOL HIDRATADO                           162              R$/l   \n",
              "4  ETANOL HIDRATADO                           103              R$/l   \n",
              "\n",
              "   PREÇO MÉDIO REVENDA  DESVIO PADRÃO REVENDA  PREÇO MÍNIMO REVENDA  \\\n",
              "0                1.288                  0.016                  1.19   \n",
              "1                1.162                  0.114                  0.89   \n",
              "2                1.389                  0.097                  1.18   \n",
              "3                1.262                  0.070                  1.09   \n",
              "4                1.181                  0.078                  1.05   \n",
              "\n",
              "   PREÇO MÁXIMO REVENDA MARGEM MÉDIA REVENDA  COEF DE VARIAÇÃO REVENDA  \\\n",
              "0                 1.350                0.463                     0.012   \n",
              "1                 1.449                0.399                     0.098   \n",
              "2                 1.760                0.419                     0.070   \n",
              "3                 1.509                0.432                     0.055   \n",
              "4                 1.400                 0.24                     0.066   \n",
              "\n",
              "  PREÇO MÉDIO DISTRIBUIÇÃO DESVIO PADRÃO DISTRIBUIÇÃO  \\\n",
              "0                    0.825                       0.11   \n",
              "1                    0.763                      0.088   \n",
              "2                     0.97                      0.095   \n",
              "3                     0.83                      0.119   \n",
              "4                    0.941                      0.077   \n",
              "\n",
              "  PREÇO MÍNIMO DISTRIBUIÇÃO PREÇO MÁXIMO DISTRIBUIÇÃO  \\\n",
              "0                    0.4201                    0.9666   \n",
              "1                    0.5013                      1.05   \n",
              "2                    0.5614                     1.161   \n",
              "3                    0.5991                   1.22242   \n",
              "4                    0.7441                    1.0317   \n",
              "\n",
              "  COEF DE VARIAÇÃO DISTRIBUIÇÃO  \n",
              "0                         0.133  \n",
              "1                         0.115  \n",
              "2                         0.098  \n",
              "3                         0.143  \n",
              "4                         0.082  "
            ],
            "text/html": [
              "\n",
              "  <div id=\"df-26d65a8c-7800-4c6f-acdc-3a3149c43137\">\n",
              "    <div class=\"colab-df-container\">\n",
              "      <div>\n",
              "<style scoped>\n",
              "    .dataframe tbody tr th:only-of-type {\n",
              "        vertical-align: middle;\n",
              "    }\n",
              "\n",
              "    .dataframe tbody tr th {\n",
              "        vertical-align: top;\n",
              "    }\n",
              "\n",
              "    .dataframe thead th {\n",
              "        text-align: right;\n",
              "    }\n",
              "</style>\n",
              "<table border=\"1\" class=\"dataframe\">\n",
              "  <thead>\n",
              "    <tr style=\"text-align: right;\">\n",
              "      <th></th>\n",
              "      <th>DATA INICIAL</th>\n",
              "      <th>DATA FINAL</th>\n",
              "      <th>REGIÃO</th>\n",
              "      <th>ESTADO</th>\n",
              "      <th>PRODUTO</th>\n",
              "      <th>NÚMERO DE POSTOS PESQUISADOS</th>\n",
              "      <th>UNIDADE DE MEDIDA</th>\n",
              "      <th>PREÇO MÉDIO REVENDA</th>\n",
              "      <th>DESVIO PADRÃO REVENDA</th>\n",
              "      <th>PREÇO MÍNIMO REVENDA</th>\n",
              "      <th>PREÇO MÁXIMO REVENDA</th>\n",
              "      <th>MARGEM MÉDIA REVENDA</th>\n",
              "      <th>COEF DE VARIAÇÃO REVENDA</th>\n",
              "      <th>PREÇO MÉDIO DISTRIBUIÇÃO</th>\n",
              "      <th>DESVIO PADRÃO DISTRIBUIÇÃO</th>\n",
              "      <th>PREÇO MÍNIMO DISTRIBUIÇÃO</th>\n",
              "      <th>PREÇO MÁXIMO DISTRIBUIÇÃO</th>\n",
              "      <th>COEF DE VARIAÇÃO DISTRIBUIÇÃO</th>\n",
              "    </tr>\n",
              "  </thead>\n",
              "  <tbody>\n",
              "    <tr>\n",
              "      <th>0</th>\n",
              "      <td>2004-05-09</td>\n",
              "      <td>2004-05-15</td>\n",
              "      <td>CENTRO OESTE</td>\n",
              "      <td>DISTRITO FEDERAL</td>\n",
              "      <td>ETANOL HIDRATADO</td>\n",
              "      <td>127</td>\n",
              "      <td>R$/l</td>\n",
              "      <td>1.288</td>\n",
              "      <td>0.016</td>\n",
              "      <td>1.19</td>\n",
              "      <td>1.350</td>\n",
              "      <td>0.463</td>\n",
              "      <td>0.012</td>\n",
              "      <td>0.825</td>\n",
              "      <td>0.11</td>\n",
              "      <td>0.4201</td>\n",
              "      <td>0.9666</td>\n",
              "      <td>0.133</td>\n",
              "    </tr>\n",
              "    <tr>\n",
              "      <th>1</th>\n",
              "      <td>2004-05-09</td>\n",
              "      <td>2004-05-15</td>\n",
              "      <td>CENTRO OESTE</td>\n",
              "      <td>GOIAS</td>\n",
              "      <td>ETANOL HIDRATADO</td>\n",
              "      <td>387</td>\n",
              "      <td>R$/l</td>\n",
              "      <td>1.162</td>\n",
              "      <td>0.114</td>\n",
              "      <td>0.89</td>\n",
              "      <td>1.449</td>\n",
              "      <td>0.399</td>\n",
              "      <td>0.098</td>\n",
              "      <td>0.763</td>\n",
              "      <td>0.088</td>\n",
              "      <td>0.5013</td>\n",
              "      <td>1.05</td>\n",
              "      <td>0.115</td>\n",
              "    </tr>\n",
              "    <tr>\n",
              "      <th>2</th>\n",
              "      <td>2004-05-09</td>\n",
              "      <td>2004-05-15</td>\n",
              "      <td>CENTRO OESTE</td>\n",
              "      <td>MATO GROSSO</td>\n",
              "      <td>ETANOL HIDRATADO</td>\n",
              "      <td>192</td>\n",
              "      <td>R$/l</td>\n",
              "      <td>1.389</td>\n",
              "      <td>0.097</td>\n",
              "      <td>1.18</td>\n",
              "      <td>1.760</td>\n",
              "      <td>0.419</td>\n",
              "      <td>0.070</td>\n",
              "      <td>0.97</td>\n",
              "      <td>0.095</td>\n",
              "      <td>0.5614</td>\n",
              "      <td>1.161</td>\n",
              "      <td>0.098</td>\n",
              "    </tr>\n",
              "    <tr>\n",
              "      <th>3</th>\n",
              "      <td>2004-05-09</td>\n",
              "      <td>2004-05-15</td>\n",
              "      <td>CENTRO OESTE</td>\n",
              "      <td>MATO GROSSO DO SUL</td>\n",
              "      <td>ETANOL HIDRATADO</td>\n",
              "      <td>162</td>\n",
              "      <td>R$/l</td>\n",
              "      <td>1.262</td>\n",
              "      <td>0.070</td>\n",
              "      <td>1.09</td>\n",
              "      <td>1.509</td>\n",
              "      <td>0.432</td>\n",
              "      <td>0.055</td>\n",
              "      <td>0.83</td>\n",
              "      <td>0.119</td>\n",
              "      <td>0.5991</td>\n",
              "      <td>1.22242</td>\n",
              "      <td>0.143</td>\n",
              "    </tr>\n",
              "    <tr>\n",
              "      <th>4</th>\n",
              "      <td>2004-05-09</td>\n",
              "      <td>2004-05-15</td>\n",
              "      <td>NORDESTE</td>\n",
              "      <td>ALAGOAS</td>\n",
              "      <td>ETANOL HIDRATADO</td>\n",
              "      <td>103</td>\n",
              "      <td>R$/l</td>\n",
              "      <td>1.181</td>\n",
              "      <td>0.078</td>\n",
              "      <td>1.05</td>\n",
              "      <td>1.400</td>\n",
              "      <td>0.24</td>\n",
              "      <td>0.066</td>\n",
              "      <td>0.941</td>\n",
              "      <td>0.077</td>\n",
              "      <td>0.7441</td>\n",
              "      <td>1.0317</td>\n",
              "      <td>0.082</td>\n",
              "    </tr>\n",
              "  </tbody>\n",
              "</table>\n",
              "</div>\n",
              "      <button class=\"colab-df-convert\" onclick=\"convertToInteractive('df-26d65a8c-7800-4c6f-acdc-3a3149c43137')\"\n",
              "              title=\"Convert this dataframe to an interactive table.\"\n",
              "              style=\"display:none;\">\n",
              "        \n",
              "  <svg xmlns=\"http://www.w3.org/2000/svg\" height=\"24px\"viewBox=\"0 0 24 24\"\n",
              "       width=\"24px\">\n",
              "    <path d=\"M0 0h24v24H0V0z\" fill=\"none\"/>\n",
              "    <path d=\"M18.56 5.44l.94 2.06.94-2.06 2.06-.94-2.06-.94-.94-2.06-.94 2.06-2.06.94zm-11 1L8.5 8.5l.94-2.06 2.06-.94-2.06-.94L8.5 2.5l-.94 2.06-2.06.94zm10 10l.94 2.06.94-2.06 2.06-.94-2.06-.94-.94-2.06-.94 2.06-2.06.94z\"/><path d=\"M17.41 7.96l-1.37-1.37c-.4-.4-.92-.59-1.43-.59-.52 0-1.04.2-1.43.59L10.3 9.45l-7.72 7.72c-.78.78-.78 2.05 0 2.83L4 21.41c.39.39.9.59 1.41.59.51 0 1.02-.2 1.41-.59l7.78-7.78 2.81-2.81c.8-.78.8-2.07 0-2.86zM5.41 20L4 18.59l7.72-7.72 1.47 1.35L5.41 20z\"/>\n",
              "  </svg>\n",
              "      </button>\n",
              "      \n",
              "  <style>\n",
              "    .colab-df-container {\n",
              "      display:flex;\n",
              "      flex-wrap:wrap;\n",
              "      gap: 12px;\n",
              "    }\n",
              "\n",
              "    .colab-df-convert {\n",
              "      background-color: #E8F0FE;\n",
              "      border: none;\n",
              "      border-radius: 50%;\n",
              "      cursor: pointer;\n",
              "      display: none;\n",
              "      fill: #1967D2;\n",
              "      height: 32px;\n",
              "      padding: 0 0 0 0;\n",
              "      width: 32px;\n",
              "    }\n",
              "\n",
              "    .colab-df-convert:hover {\n",
              "      background-color: #E2EBFA;\n",
              "      box-shadow: 0px 1px 2px rgba(60, 64, 67, 0.3), 0px 1px 3px 1px rgba(60, 64, 67, 0.15);\n",
              "      fill: #174EA6;\n",
              "    }\n",
              "\n",
              "    [theme=dark] .colab-df-convert {\n",
              "      background-color: #3B4455;\n",
              "      fill: #D2E3FC;\n",
              "    }\n",
              "\n",
              "    [theme=dark] .colab-df-convert:hover {\n",
              "      background-color: #434B5C;\n",
              "      box-shadow: 0px 1px 3px 1px rgba(0, 0, 0, 0.15);\n",
              "      filter: drop-shadow(0px 1px 2px rgba(0, 0, 0, 0.3));\n",
              "      fill: #FFFFFF;\n",
              "    }\n",
              "  </style>\n",
              "\n",
              "      <script>\n",
              "        const buttonEl =\n",
              "          document.querySelector('#df-26d65a8c-7800-4c6f-acdc-3a3149c43137 button.colab-df-convert');\n",
              "        buttonEl.style.display =\n",
              "          google.colab.kernel.accessAllowed ? 'block' : 'none';\n",
              "\n",
              "        async function convertToInteractive(key) {\n",
              "          const element = document.querySelector('#df-26d65a8c-7800-4c6f-acdc-3a3149c43137');\n",
              "          const dataTable =\n",
              "            await google.colab.kernel.invokeFunction('convertToInteractive',\n",
              "                                                     [key], {});\n",
              "          if (!dataTable) return;\n",
              "\n",
              "          const docLinkHtml = 'Like what you see? Visit the ' +\n",
              "            '<a target=\"_blank\" href=https://colab.research.google.com/notebooks/data_table.ipynb>data table notebook</a>'\n",
              "            + ' to learn more about interactive tables.';\n",
              "          element.innerHTML = '';\n",
              "          dataTable['output_type'] = 'display_data';\n",
              "          await google.colab.output.renderOutput(dataTable, element);\n",
              "          const docLink = document.createElement('div');\n",
              "          docLink.innerHTML = docLinkHtml;\n",
              "          element.appendChild(docLink);\n",
              "        }\n",
              "      </script>\n",
              "    </div>\n",
              "  </div>\n",
              "  "
            ]
          },
          "metadata": {},
          "execution_count": 834
        }
      ]
    },
    {
      "cell_type": "markdown",
      "source": [
        "Convertendo o para csv\n",
        "Estamos exemplificando uma maneira de traduzir dataset para outro formato"
      ],
      "metadata": {
        "id": "olRjN7hgsNer"
      }
    },
    {
      "cell_type": "code",
      "source": [
        "dataset_gas.to_csv(r'/content/gas.csv')"
      ],
      "metadata": {
        "id": "YbmAOzjKuqDD"
      },
      "execution_count": 835,
      "outputs": []
    },
    {
      "cell_type": "markdown",
      "source": [
        "Obtendo informações sobre o dataset:"
      ],
      "metadata": {
        "id": "_b4q7um1snfc"
      }
    },
    {
      "cell_type": "code",
      "source": [
        "dataset_gas.info()"
      ],
      "metadata": {
        "colab": {
          "base_uri": "https://localhost:8080/"
        },
        "id": "BSBiz8rLsrIE",
        "outputId": "c2157d88-fe3e-4566-aeb5-6b7f5ae68b87"
      },
      "execution_count": 836,
      "outputs": [
        {
          "output_type": "stream",
          "name": "stdout",
          "text": [
            "<class 'pandas.core.frame.DataFrame'>\n",
            "RangeIndex: 120823 entries, 0 to 120822\n",
            "Data columns (total 18 columns):\n",
            " #   Column                         Non-Null Count   Dtype  \n",
            "---  ------                         --------------   -----  \n",
            " 0   DATA INICIAL                   120823 non-null  object \n",
            " 1   DATA FINAL                     120823 non-null  object \n",
            " 2   REGIÃO                         120823 non-null  object \n",
            " 3   ESTADO                         120823 non-null  object \n",
            " 4   PRODUTO                        120823 non-null  object \n",
            " 5   NÚMERO DE POSTOS PESQUISADOS   120823 non-null  int64  \n",
            " 6   UNIDADE DE MEDIDA              120823 non-null  object \n",
            " 7   PREÇO MÉDIO REVENDA            120823 non-null  float64\n",
            " 8   DESVIO PADRÃO REVENDA          120823 non-null  float64\n",
            " 9   PREÇO MÍNIMO REVENDA           120823 non-null  float64\n",
            " 10  PREÇO MÁXIMO REVENDA           120823 non-null  float64\n",
            " 11  MARGEM MÉDIA REVENDA           120823 non-null  object \n",
            " 12  COEF DE VARIAÇÃO REVENDA       120823 non-null  float64\n",
            " 13  PREÇO MÉDIO DISTRIBUIÇÃO       120823 non-null  object \n",
            " 14  DESVIO PADRÃO DISTRIBUIÇÃO     120823 non-null  object \n",
            " 15  PREÇO MÍNIMO DISTRIBUIÇÃO      120823 non-null  object \n",
            " 16  PREÇO MÁXIMO DISTRIBUIÇÃO      120823 non-null  object \n",
            " 17  COEF DE VARIAÇÃO DISTRIBUIÇÃO  120823 non-null  object \n",
            "dtypes: float64(5), int64(1), object(12)\n",
            "memory usage: 16.6+ MB\n"
          ]
        }
      ]
    },
    {
      "cell_type": "markdown",
      "source": [
        "Muitas colunas estão como objeto... Provavelmente precisaremos converter..."
      ],
      "metadata": {
        "id": "eRPW36cMo-Ol"
      }
    },
    {
      "cell_type": "code",
      "source": [
        "dataset_gas.shape"
      ],
      "metadata": {
        "colab": {
          "base_uri": "https://localhost:8080/"
        },
        "id": "AF5oUSsKozpI",
        "outputId": "f542b048-e31c-410c-c6b2-3b234bc15ff3"
      },
      "execution_count": 837,
      "outputs": [
        {
          "output_type": "execute_result",
          "data": {
            "text/plain": [
              "(120823, 18)"
            ]
          },
          "metadata": {},
          "execution_count": 837
        }
      ]
    },
    {
      "cell_type": "markdown",
      "source": [
        "O dataset possui XXX linhas e XX colunas..."
      ],
      "metadata": {
        "id": "sxdWXD-YpKmM"
      }
    },
    {
      "cell_type": "code",
      "source": [
        "dataset_gas.describe()"
      ],
      "metadata": {
        "colab": {
          "base_uri": "https://localhost:8080/",
          "height": 300
        },
        "id": "dXJMubGOoz7_",
        "outputId": "11587e9c-bf41-4cbc-8ae4-6ecfbb0dc28f"
      },
      "execution_count": 838,
      "outputs": [
        {
          "output_type": "execute_result",
          "data": {
            "text/plain": [
              "       NÚMERO DE POSTOS PESQUISADOS  PREÇO MÉDIO REVENDA  \\\n",
              "count                 120823.000000        120823.000000   \n",
              "mean                     221.066461            11.473440   \n",
              "std                      387.940239            19.161823   \n",
              "min                        1.000000             0.766000   \n",
              "25%                       39.000000             2.157000   \n",
              "50%                       99.000000             2.899000   \n",
              "75%                      226.000000             4.026000   \n",
              "max                     4167.000000           107.500000   \n",
              "\n",
              "       DESVIO PADRÃO REVENDA  PREÇO MÍNIMO REVENDA  PREÇO MÁXIMO REVENDA  \\\n",
              "count          120823.000000         120823.000000         120823.000000   \n",
              "mean                0.684132              9.977821             13.233902   \n",
              "std                 1.403317             16.433783             22.451445   \n",
              "min                 0.000000              0.590000              0.999000   \n",
              "25%                 0.075000              1.989000              2.420000   \n",
              "50%                 0.121000              2.690000              3.200000   \n",
              "75%                 0.204000              3.790000              4.589000   \n",
              "max                10.748000            100.000000            120.000000   \n",
              "\n",
              "       COEF DE VARIAÇÃO REVENDA  \n",
              "count             120823.000000  \n",
              "mean                   0.045298  \n",
              "std                    0.024763  \n",
              "min                    0.000000  \n",
              "25%                    0.029000  \n",
              "50%                    0.041000  \n",
              "75%                    0.058000  \n",
              "max                    0.395000  "
            ],
            "text/html": [
              "\n",
              "  <div id=\"df-de79b554-d3c3-4ff2-a0d5-26f626da563b\">\n",
              "    <div class=\"colab-df-container\">\n",
              "      <div>\n",
              "<style scoped>\n",
              "    .dataframe tbody tr th:only-of-type {\n",
              "        vertical-align: middle;\n",
              "    }\n",
              "\n",
              "    .dataframe tbody tr th {\n",
              "        vertical-align: top;\n",
              "    }\n",
              "\n",
              "    .dataframe thead th {\n",
              "        text-align: right;\n",
              "    }\n",
              "</style>\n",
              "<table border=\"1\" class=\"dataframe\">\n",
              "  <thead>\n",
              "    <tr style=\"text-align: right;\">\n",
              "      <th></th>\n",
              "      <th>NÚMERO DE POSTOS PESQUISADOS</th>\n",
              "      <th>PREÇO MÉDIO REVENDA</th>\n",
              "      <th>DESVIO PADRÃO REVENDA</th>\n",
              "      <th>PREÇO MÍNIMO REVENDA</th>\n",
              "      <th>PREÇO MÁXIMO REVENDA</th>\n",
              "      <th>COEF DE VARIAÇÃO REVENDA</th>\n",
              "    </tr>\n",
              "  </thead>\n",
              "  <tbody>\n",
              "    <tr>\n",
              "      <th>count</th>\n",
              "      <td>120823.000000</td>\n",
              "      <td>120823.000000</td>\n",
              "      <td>120823.000000</td>\n",
              "      <td>120823.000000</td>\n",
              "      <td>120823.000000</td>\n",
              "      <td>120823.000000</td>\n",
              "    </tr>\n",
              "    <tr>\n",
              "      <th>mean</th>\n",
              "      <td>221.066461</td>\n",
              "      <td>11.473440</td>\n",
              "      <td>0.684132</td>\n",
              "      <td>9.977821</td>\n",
              "      <td>13.233902</td>\n",
              "      <td>0.045298</td>\n",
              "    </tr>\n",
              "    <tr>\n",
              "      <th>std</th>\n",
              "      <td>387.940239</td>\n",
              "      <td>19.161823</td>\n",
              "      <td>1.403317</td>\n",
              "      <td>16.433783</td>\n",
              "      <td>22.451445</td>\n",
              "      <td>0.024763</td>\n",
              "    </tr>\n",
              "    <tr>\n",
              "      <th>min</th>\n",
              "      <td>1.000000</td>\n",
              "      <td>0.766000</td>\n",
              "      <td>0.000000</td>\n",
              "      <td>0.590000</td>\n",
              "      <td>0.999000</td>\n",
              "      <td>0.000000</td>\n",
              "    </tr>\n",
              "    <tr>\n",
              "      <th>25%</th>\n",
              "      <td>39.000000</td>\n",
              "      <td>2.157000</td>\n",
              "      <td>0.075000</td>\n",
              "      <td>1.989000</td>\n",
              "      <td>2.420000</td>\n",
              "      <td>0.029000</td>\n",
              "    </tr>\n",
              "    <tr>\n",
              "      <th>50%</th>\n",
              "      <td>99.000000</td>\n",
              "      <td>2.899000</td>\n",
              "      <td>0.121000</td>\n",
              "      <td>2.690000</td>\n",
              "      <td>3.200000</td>\n",
              "      <td>0.041000</td>\n",
              "    </tr>\n",
              "    <tr>\n",
              "      <th>75%</th>\n",
              "      <td>226.000000</td>\n",
              "      <td>4.026000</td>\n",
              "      <td>0.204000</td>\n",
              "      <td>3.790000</td>\n",
              "      <td>4.589000</td>\n",
              "      <td>0.058000</td>\n",
              "    </tr>\n",
              "    <tr>\n",
              "      <th>max</th>\n",
              "      <td>4167.000000</td>\n",
              "      <td>107.500000</td>\n",
              "      <td>10.748000</td>\n",
              "      <td>100.000000</td>\n",
              "      <td>120.000000</td>\n",
              "      <td>0.395000</td>\n",
              "    </tr>\n",
              "  </tbody>\n",
              "</table>\n",
              "</div>\n",
              "      <button class=\"colab-df-convert\" onclick=\"convertToInteractive('df-de79b554-d3c3-4ff2-a0d5-26f626da563b')\"\n",
              "              title=\"Convert this dataframe to an interactive table.\"\n",
              "              style=\"display:none;\">\n",
              "        \n",
              "  <svg xmlns=\"http://www.w3.org/2000/svg\" height=\"24px\"viewBox=\"0 0 24 24\"\n",
              "       width=\"24px\">\n",
              "    <path d=\"M0 0h24v24H0V0z\" fill=\"none\"/>\n",
              "    <path d=\"M18.56 5.44l.94 2.06.94-2.06 2.06-.94-2.06-.94-.94-2.06-.94 2.06-2.06.94zm-11 1L8.5 8.5l.94-2.06 2.06-.94-2.06-.94L8.5 2.5l-.94 2.06-2.06.94zm10 10l.94 2.06.94-2.06 2.06-.94-2.06-.94-.94-2.06-.94 2.06-2.06.94z\"/><path d=\"M17.41 7.96l-1.37-1.37c-.4-.4-.92-.59-1.43-.59-.52 0-1.04.2-1.43.59L10.3 9.45l-7.72 7.72c-.78.78-.78 2.05 0 2.83L4 21.41c.39.39.9.59 1.41.59.51 0 1.02-.2 1.41-.59l7.78-7.78 2.81-2.81c.8-.78.8-2.07 0-2.86zM5.41 20L4 18.59l7.72-7.72 1.47 1.35L5.41 20z\"/>\n",
              "  </svg>\n",
              "      </button>\n",
              "      \n",
              "  <style>\n",
              "    .colab-df-container {\n",
              "      display:flex;\n",
              "      flex-wrap:wrap;\n",
              "      gap: 12px;\n",
              "    }\n",
              "\n",
              "    .colab-df-convert {\n",
              "      background-color: #E8F0FE;\n",
              "      border: none;\n",
              "      border-radius: 50%;\n",
              "      cursor: pointer;\n",
              "      display: none;\n",
              "      fill: #1967D2;\n",
              "      height: 32px;\n",
              "      padding: 0 0 0 0;\n",
              "      width: 32px;\n",
              "    }\n",
              "\n",
              "    .colab-df-convert:hover {\n",
              "      background-color: #E2EBFA;\n",
              "      box-shadow: 0px 1px 2px rgba(60, 64, 67, 0.3), 0px 1px 3px 1px rgba(60, 64, 67, 0.15);\n",
              "      fill: #174EA6;\n",
              "    }\n",
              "\n",
              "    [theme=dark] .colab-df-convert {\n",
              "      background-color: #3B4455;\n",
              "      fill: #D2E3FC;\n",
              "    }\n",
              "\n",
              "    [theme=dark] .colab-df-convert:hover {\n",
              "      background-color: #434B5C;\n",
              "      box-shadow: 0px 1px 3px 1px rgba(0, 0, 0, 0.15);\n",
              "      filter: drop-shadow(0px 1px 2px rgba(0, 0, 0, 0.3));\n",
              "      fill: #FFFFFF;\n",
              "    }\n",
              "  </style>\n",
              "\n",
              "      <script>\n",
              "        const buttonEl =\n",
              "          document.querySelector('#df-de79b554-d3c3-4ff2-a0d5-26f626da563b button.colab-df-convert');\n",
              "        buttonEl.style.display =\n",
              "          google.colab.kernel.accessAllowed ? 'block' : 'none';\n",
              "\n",
              "        async function convertToInteractive(key) {\n",
              "          const element = document.querySelector('#df-de79b554-d3c3-4ff2-a0d5-26f626da563b');\n",
              "          const dataTable =\n",
              "            await google.colab.kernel.invokeFunction('convertToInteractive',\n",
              "                                                     [key], {});\n",
              "          if (!dataTable) return;\n",
              "\n",
              "          const docLinkHtml = 'Like what you see? Visit the ' +\n",
              "            '<a target=\"_blank\" href=https://colab.research.google.com/notebooks/data_table.ipynb>data table notebook</a>'\n",
              "            + ' to learn more about interactive tables.';\n",
              "          element.innerHTML = '';\n",
              "          dataTable['output_type'] = 'display_data';\n",
              "          await google.colab.output.renderOutput(dataTable, element);\n",
              "          const docLink = document.createElement('div');\n",
              "          docLink.innerHTML = docLinkHtml;\n",
              "          element.appendChild(docLink);\n",
              "        }\n",
              "      </script>\n",
              "    </div>\n",
              "  </div>\n",
              "  "
            ]
          },
          "metadata": {},
          "execution_count": 838
        }
      ]
    },
    {
      "cell_type": "markdown",
      "source": [
        "Describe com menos colunas pois ele só pega aquelas que tem formato do tipo int/float para fazer análise"
      ],
      "metadata": {
        "id": "v9NFTFjSqLqu"
      }
    },
    {
      "cell_type": "code",
      "source": [
        "dataset_gas.isna().sum()"
      ],
      "metadata": {
        "colab": {
          "base_uri": "https://localhost:8080/"
        },
        "id": "5oTd5uN6ozx3",
        "outputId": "01608409-d2e5-494d-97ae-a39141122fe1"
      },
      "execution_count": 839,
      "outputs": [
        {
          "output_type": "execute_result",
          "data": {
            "text/plain": [
              "DATA INICIAL                     0\n",
              "DATA FINAL                       0\n",
              "REGIÃO                           0\n",
              "ESTADO                           0\n",
              "PRODUTO                          0\n",
              "NÚMERO DE POSTOS PESQUISADOS     0\n",
              "UNIDADE DE MEDIDA                0\n",
              "PREÇO MÉDIO REVENDA              0\n",
              "DESVIO PADRÃO REVENDA            0\n",
              "PREÇO MÍNIMO REVENDA             0\n",
              "PREÇO MÁXIMO REVENDA             0\n",
              "MARGEM MÉDIA REVENDA             0\n",
              "COEF DE VARIAÇÃO REVENDA         0\n",
              "PREÇO MÉDIO DISTRIBUIÇÃO         0\n",
              "DESVIO PADRÃO DISTRIBUIÇÃO       0\n",
              "PREÇO MÍNIMO DISTRIBUIÇÃO        0\n",
              "PREÇO MÁXIMO DISTRIBUIÇÃO        0\n",
              "COEF DE VARIAÇÃO DISTRIBUIÇÃO    0\n",
              "dtype: int64"
            ]
          },
          "metadata": {},
          "execution_count": 839
        }
      ]
    },
    {
      "cell_type": "markdown",
      "source": [
        "Analisamos se há colunas com valores NaN - *Not a Number* e não foi encontrado....\n",
        "\n",
        "Roberto/Igor respeite os planilheiros"
      ],
      "metadata": {
        "id": "2xoOXRJrq7ax"
      }
    },
    {
      "cell_type": "markdown",
      "source": [
        "No dataset foi informado que\n",
        "\n",
        "*NULL values are now replaces with '-99999.0'*\n",
        "\n",
        "Vamos verificar se encontramos este valor em algum local"
      ],
      "metadata": {
        "id": "NRRgtPUYtESc"
      }
    },
    {
      "cell_type": "code",
      "source": [
        "buscando_nulos = dataset_gas.isin(['-', '-99999.0'])\n",
        "resultado = dataset_gas[buscando_nulos]\n",
        "resultado.head()"
      ],
      "metadata": {
        "colab": {
          "base_uri": "https://localhost:8080/",
          "height": 285
        },
        "id": "JFz8IH2DsGFO",
        "outputId": "5b860bc5-45ea-4508-a21b-17d2bca6b30b"
      },
      "execution_count": 840,
      "outputs": [
        {
          "output_type": "execute_result",
          "data": {
            "text/plain": [
              "  DATA INICIAL DATA FINAL REGIÃO ESTADO PRODUTO  NÚMERO DE POSTOS PESQUISADOS  \\\n",
              "0          NaN        NaN    NaN    NaN     NaN                           NaN   \n",
              "1          NaN        NaN    NaN    NaN     NaN                           NaN   \n",
              "2          NaN        NaN    NaN    NaN     NaN                           NaN   \n",
              "3          NaN        NaN    NaN    NaN     NaN                           NaN   \n",
              "4          NaN        NaN    NaN    NaN     NaN                           NaN   \n",
              "\n",
              "  UNIDADE DE MEDIDA  PREÇO MÉDIO REVENDA  DESVIO PADRÃO REVENDA  \\\n",
              "0               NaN                  NaN                    NaN   \n",
              "1               NaN                  NaN                    NaN   \n",
              "2               NaN                  NaN                    NaN   \n",
              "3               NaN                  NaN                    NaN   \n",
              "4               NaN                  NaN                    NaN   \n",
              "\n",
              "   PREÇO MÍNIMO REVENDA  PREÇO MÁXIMO REVENDA MARGEM MÉDIA REVENDA  \\\n",
              "0                   NaN                   NaN                  NaN   \n",
              "1                   NaN                   NaN                  NaN   \n",
              "2                   NaN                   NaN                  NaN   \n",
              "3                   NaN                   NaN                  NaN   \n",
              "4                   NaN                   NaN                  NaN   \n",
              "\n",
              "   COEF DE VARIAÇÃO REVENDA PREÇO MÉDIO DISTRIBUIÇÃO  \\\n",
              "0                       NaN                      NaN   \n",
              "1                       NaN                      NaN   \n",
              "2                       NaN                      NaN   \n",
              "3                       NaN                      NaN   \n",
              "4                       NaN                      NaN   \n",
              "\n",
              "  DESVIO PADRÃO DISTRIBUIÇÃO PREÇO MÍNIMO DISTRIBUIÇÃO  \\\n",
              "0                        NaN                       NaN   \n",
              "1                        NaN                       NaN   \n",
              "2                        NaN                       NaN   \n",
              "3                        NaN                       NaN   \n",
              "4                        NaN                       NaN   \n",
              "\n",
              "  PREÇO MÁXIMO DISTRIBUIÇÃO COEF DE VARIAÇÃO DISTRIBUIÇÃO  \n",
              "0                       NaN                           NaN  \n",
              "1                       NaN                           NaN  \n",
              "2                       NaN                           NaN  \n",
              "3                       NaN                           NaN  \n",
              "4                       NaN                           NaN  "
            ],
            "text/html": [
              "\n",
              "  <div id=\"df-8136524a-3036-4ffc-b604-d6f7e200705e\">\n",
              "    <div class=\"colab-df-container\">\n",
              "      <div>\n",
              "<style scoped>\n",
              "    .dataframe tbody tr th:only-of-type {\n",
              "        vertical-align: middle;\n",
              "    }\n",
              "\n",
              "    .dataframe tbody tr th {\n",
              "        vertical-align: top;\n",
              "    }\n",
              "\n",
              "    .dataframe thead th {\n",
              "        text-align: right;\n",
              "    }\n",
              "</style>\n",
              "<table border=\"1\" class=\"dataframe\">\n",
              "  <thead>\n",
              "    <tr style=\"text-align: right;\">\n",
              "      <th></th>\n",
              "      <th>DATA INICIAL</th>\n",
              "      <th>DATA FINAL</th>\n",
              "      <th>REGIÃO</th>\n",
              "      <th>ESTADO</th>\n",
              "      <th>PRODUTO</th>\n",
              "      <th>NÚMERO DE POSTOS PESQUISADOS</th>\n",
              "      <th>UNIDADE DE MEDIDA</th>\n",
              "      <th>PREÇO MÉDIO REVENDA</th>\n",
              "      <th>DESVIO PADRÃO REVENDA</th>\n",
              "      <th>PREÇO MÍNIMO REVENDA</th>\n",
              "      <th>PREÇO MÁXIMO REVENDA</th>\n",
              "      <th>MARGEM MÉDIA REVENDA</th>\n",
              "      <th>COEF DE VARIAÇÃO REVENDA</th>\n",
              "      <th>PREÇO MÉDIO DISTRIBUIÇÃO</th>\n",
              "      <th>DESVIO PADRÃO DISTRIBUIÇÃO</th>\n",
              "      <th>PREÇO MÍNIMO DISTRIBUIÇÃO</th>\n",
              "      <th>PREÇO MÁXIMO DISTRIBUIÇÃO</th>\n",
              "      <th>COEF DE VARIAÇÃO DISTRIBUIÇÃO</th>\n",
              "    </tr>\n",
              "  </thead>\n",
              "  <tbody>\n",
              "    <tr>\n",
              "      <th>0</th>\n",
              "      <td>NaN</td>\n",
              "      <td>NaN</td>\n",
              "      <td>NaN</td>\n",
              "      <td>NaN</td>\n",
              "      <td>NaN</td>\n",
              "      <td>NaN</td>\n",
              "      <td>NaN</td>\n",
              "      <td>NaN</td>\n",
              "      <td>NaN</td>\n",
              "      <td>NaN</td>\n",
              "      <td>NaN</td>\n",
              "      <td>NaN</td>\n",
              "      <td>NaN</td>\n",
              "      <td>NaN</td>\n",
              "      <td>NaN</td>\n",
              "      <td>NaN</td>\n",
              "      <td>NaN</td>\n",
              "      <td>NaN</td>\n",
              "    </tr>\n",
              "    <tr>\n",
              "      <th>1</th>\n",
              "      <td>NaN</td>\n",
              "      <td>NaN</td>\n",
              "      <td>NaN</td>\n",
              "      <td>NaN</td>\n",
              "      <td>NaN</td>\n",
              "      <td>NaN</td>\n",
              "      <td>NaN</td>\n",
              "      <td>NaN</td>\n",
              "      <td>NaN</td>\n",
              "      <td>NaN</td>\n",
              "      <td>NaN</td>\n",
              "      <td>NaN</td>\n",
              "      <td>NaN</td>\n",
              "      <td>NaN</td>\n",
              "      <td>NaN</td>\n",
              "      <td>NaN</td>\n",
              "      <td>NaN</td>\n",
              "      <td>NaN</td>\n",
              "    </tr>\n",
              "    <tr>\n",
              "      <th>2</th>\n",
              "      <td>NaN</td>\n",
              "      <td>NaN</td>\n",
              "      <td>NaN</td>\n",
              "      <td>NaN</td>\n",
              "      <td>NaN</td>\n",
              "      <td>NaN</td>\n",
              "      <td>NaN</td>\n",
              "      <td>NaN</td>\n",
              "      <td>NaN</td>\n",
              "      <td>NaN</td>\n",
              "      <td>NaN</td>\n",
              "      <td>NaN</td>\n",
              "      <td>NaN</td>\n",
              "      <td>NaN</td>\n",
              "      <td>NaN</td>\n",
              "      <td>NaN</td>\n",
              "      <td>NaN</td>\n",
              "      <td>NaN</td>\n",
              "    </tr>\n",
              "    <tr>\n",
              "      <th>3</th>\n",
              "      <td>NaN</td>\n",
              "      <td>NaN</td>\n",
              "      <td>NaN</td>\n",
              "      <td>NaN</td>\n",
              "      <td>NaN</td>\n",
              "      <td>NaN</td>\n",
              "      <td>NaN</td>\n",
              "      <td>NaN</td>\n",
              "      <td>NaN</td>\n",
              "      <td>NaN</td>\n",
              "      <td>NaN</td>\n",
              "      <td>NaN</td>\n",
              "      <td>NaN</td>\n",
              "      <td>NaN</td>\n",
              "      <td>NaN</td>\n",
              "      <td>NaN</td>\n",
              "      <td>NaN</td>\n",
              "      <td>NaN</td>\n",
              "    </tr>\n",
              "    <tr>\n",
              "      <th>4</th>\n",
              "      <td>NaN</td>\n",
              "      <td>NaN</td>\n",
              "      <td>NaN</td>\n",
              "      <td>NaN</td>\n",
              "      <td>NaN</td>\n",
              "      <td>NaN</td>\n",
              "      <td>NaN</td>\n",
              "      <td>NaN</td>\n",
              "      <td>NaN</td>\n",
              "      <td>NaN</td>\n",
              "      <td>NaN</td>\n",
              "      <td>NaN</td>\n",
              "      <td>NaN</td>\n",
              "      <td>NaN</td>\n",
              "      <td>NaN</td>\n",
              "      <td>NaN</td>\n",
              "      <td>NaN</td>\n",
              "      <td>NaN</td>\n",
              "    </tr>\n",
              "  </tbody>\n",
              "</table>\n",
              "</div>\n",
              "      <button class=\"colab-df-convert\" onclick=\"convertToInteractive('df-8136524a-3036-4ffc-b604-d6f7e200705e')\"\n",
              "              title=\"Convert this dataframe to an interactive table.\"\n",
              "              style=\"display:none;\">\n",
              "        \n",
              "  <svg xmlns=\"http://www.w3.org/2000/svg\" height=\"24px\"viewBox=\"0 0 24 24\"\n",
              "       width=\"24px\">\n",
              "    <path d=\"M0 0h24v24H0V0z\" fill=\"none\"/>\n",
              "    <path d=\"M18.56 5.44l.94 2.06.94-2.06 2.06-.94-2.06-.94-.94-2.06-.94 2.06-2.06.94zm-11 1L8.5 8.5l.94-2.06 2.06-.94-2.06-.94L8.5 2.5l-.94 2.06-2.06.94zm10 10l.94 2.06.94-2.06 2.06-.94-2.06-.94-.94-2.06-.94 2.06-2.06.94z\"/><path d=\"M17.41 7.96l-1.37-1.37c-.4-.4-.92-.59-1.43-.59-.52 0-1.04.2-1.43.59L10.3 9.45l-7.72 7.72c-.78.78-.78 2.05 0 2.83L4 21.41c.39.39.9.59 1.41.59.51 0 1.02-.2 1.41-.59l7.78-7.78 2.81-2.81c.8-.78.8-2.07 0-2.86zM5.41 20L4 18.59l7.72-7.72 1.47 1.35L5.41 20z\"/>\n",
              "  </svg>\n",
              "      </button>\n",
              "      \n",
              "  <style>\n",
              "    .colab-df-container {\n",
              "      display:flex;\n",
              "      flex-wrap:wrap;\n",
              "      gap: 12px;\n",
              "    }\n",
              "\n",
              "    .colab-df-convert {\n",
              "      background-color: #E8F0FE;\n",
              "      border: none;\n",
              "      border-radius: 50%;\n",
              "      cursor: pointer;\n",
              "      display: none;\n",
              "      fill: #1967D2;\n",
              "      height: 32px;\n",
              "      padding: 0 0 0 0;\n",
              "      width: 32px;\n",
              "    }\n",
              "\n",
              "    .colab-df-convert:hover {\n",
              "      background-color: #E2EBFA;\n",
              "      box-shadow: 0px 1px 2px rgba(60, 64, 67, 0.3), 0px 1px 3px 1px rgba(60, 64, 67, 0.15);\n",
              "      fill: #174EA6;\n",
              "    }\n",
              "\n",
              "    [theme=dark] .colab-df-convert {\n",
              "      background-color: #3B4455;\n",
              "      fill: #D2E3FC;\n",
              "    }\n",
              "\n",
              "    [theme=dark] .colab-df-convert:hover {\n",
              "      background-color: #434B5C;\n",
              "      box-shadow: 0px 1px 3px 1px rgba(0, 0, 0, 0.15);\n",
              "      filter: drop-shadow(0px 1px 2px rgba(0, 0, 0, 0.3));\n",
              "      fill: #FFFFFF;\n",
              "    }\n",
              "  </style>\n",
              "\n",
              "      <script>\n",
              "        const buttonEl =\n",
              "          document.querySelector('#df-8136524a-3036-4ffc-b604-d6f7e200705e button.colab-df-convert');\n",
              "        buttonEl.style.display =\n",
              "          google.colab.kernel.accessAllowed ? 'block' : 'none';\n",
              "\n",
              "        async function convertToInteractive(key) {\n",
              "          const element = document.querySelector('#df-8136524a-3036-4ffc-b604-d6f7e200705e');\n",
              "          const dataTable =\n",
              "            await google.colab.kernel.invokeFunction('convertToInteractive',\n",
              "                                                     [key], {});\n",
              "          if (!dataTable) return;\n",
              "\n",
              "          const docLinkHtml = 'Like what you see? Visit the ' +\n",
              "            '<a target=\"_blank\" href=https://colab.research.google.com/notebooks/data_table.ipynb>data table notebook</a>'\n",
              "            + ' to learn more about interactive tables.';\n",
              "          element.innerHTML = '';\n",
              "          dataTable['output_type'] = 'display_data';\n",
              "          await google.colab.output.renderOutput(dataTable, element);\n",
              "          const docLink = document.createElement('div');\n",
              "          docLink.innerHTML = docLinkHtml;\n",
              "          element.appendChild(docLink);\n",
              "        }\n",
              "      </script>\n",
              "    </div>\n",
              "  </div>\n",
              "  "
            ]
          },
          "metadata": {},
          "execution_count": 840
        }
      ]
    },
    {
      "cell_type": "markdown",
      "source": [
        "Agora vamos somar os valores que NÃO são nulos"
      ],
      "metadata": {
        "id": "ewcnQf3Ntc8p"
      }
    },
    {
      "cell_type": "code",
      "source": [
        "resultado.notna().sum()"
      ],
      "metadata": {
        "colab": {
          "base_uri": "https://localhost:8080/"
        },
        "id": "OsyzAiqTsnIT",
        "outputId": "a85c7f88-aad8-4187-a86e-681eba59b63e"
      },
      "execution_count": 841,
      "outputs": [
        {
          "output_type": "execute_result",
          "data": {
            "text/plain": [
              "DATA INICIAL                        0\n",
              "DATA FINAL                          0\n",
              "REGIÃO                              0\n",
              "ESTADO                              0\n",
              "PRODUTO                             0\n",
              "NÚMERO DE POSTOS PESQUISADOS        0\n",
              "UNIDADE DE MEDIDA                   0\n",
              "PREÇO MÉDIO REVENDA                 0\n",
              "DESVIO PADRÃO REVENDA               0\n",
              "PREÇO MÍNIMO REVENDA                0\n",
              "PREÇO MÁXIMO REVENDA                0\n",
              "MARGEM MÉDIA REVENDA             8948\n",
              "COEF DE VARIAÇÃO REVENDA            0\n",
              "PREÇO MÉDIO DISTRIBUIÇÃO         8908\n",
              "DESVIO PADRÃO DISTRIBUIÇÃO       8908\n",
              "PREÇO MÍNIMO DISTRIBUIÇÃO        8908\n",
              "PREÇO MÁXIMO DISTRIBUIÇÃO        8908\n",
              "COEF DE VARIAÇÃO DISTRIBUIÇÃO    8908\n",
              "dtype: int64"
            ]
          },
          "metadata": {},
          "execution_count": 841
        }
      ]
    },
    {
      "cell_type": "markdown",
      "source": [
        "Identificamos que aproximadamente 9.000 linhas possuem valores não-definidos. Quanto isto representa em nosso volume total?"
      ],
      "metadata": {
        "id": "_zkaeZx33v6N"
      }
    },
    {
      "cell_type": "code",
      "source": [
        "8948 / dataset_gas.shape[0] *100"
      ],
      "metadata": {
        "colab": {
          "base_uri": "https://localhost:8080/"
        },
        "id": "ZyD6vmx33hNk",
        "outputId": "ceb6b257-72e4-4f60-ff15-49379fceabf6"
      },
      "execution_count": 842,
      "outputs": [
        {
          "output_type": "execute_result",
          "data": {
            "text/plain": [
              "7.405874709285484"
            ]
          },
          "metadata": {},
          "execution_count": 842
        }
      ]
    },
    {
      "cell_type": "markdown",
      "source": [
        "Vimos que estes valores NaN se encontram em apenas 7,4% de nosso dataset. Foi optado remover estas linhas"
      ],
      "metadata": {
        "id": "p0sYPl3O4cg1"
      }
    },
    {
      "cell_type": "markdown",
      "source": [
        "Para modificarmos, vamos primeiramente substituir estes itens por NaN."
      ],
      "metadata": {
        "id": "7fHFt2k748Cy"
      }
    },
    {
      "cell_type": "code",
      "source": [
        "dataset_gas = dataset_gas.replace('-' , np.nan)\n",
        "dataset_gas = dataset_gas.replace('-99999.0' , np.nan)"
      ],
      "metadata": {
        "id": "NeVktDMcDXN7"
      },
      "execution_count": 843,
      "outputs": []
    },
    {
      "cell_type": "code",
      "source": [
        "dataset_gas.isna().sum()"
      ],
      "metadata": {
        "colab": {
          "base_uri": "https://localhost:8080/"
        },
        "id": "9Y_rIidk535z",
        "outputId": "d592ca9b-9c2c-433e-b897-bb58f66c232e"
      },
      "execution_count": 844,
      "outputs": [
        {
          "output_type": "execute_result",
          "data": {
            "text/plain": [
              "DATA INICIAL                        0\n",
              "DATA FINAL                          0\n",
              "REGIÃO                              0\n",
              "ESTADO                              0\n",
              "PRODUTO                             0\n",
              "NÚMERO DE POSTOS PESQUISADOS        0\n",
              "UNIDADE DE MEDIDA                   0\n",
              "PREÇO MÉDIO REVENDA                 0\n",
              "DESVIO PADRÃO REVENDA               0\n",
              "PREÇO MÍNIMO REVENDA                0\n",
              "PREÇO MÁXIMO REVENDA                0\n",
              "MARGEM MÉDIA REVENDA             8948\n",
              "COEF DE VARIAÇÃO REVENDA            0\n",
              "PREÇO MÉDIO DISTRIBUIÇÃO         8908\n",
              "DESVIO PADRÃO DISTRIBUIÇÃO       8908\n",
              "PREÇO MÍNIMO DISTRIBUIÇÃO        8908\n",
              "PREÇO MÁXIMO DISTRIBUIÇÃO        8908\n",
              "COEF DE VARIAÇÃO DISTRIBUIÇÃO    8908\n",
              "dtype: int64"
            ]
          },
          "metadata": {},
          "execution_count": 844
        }
      ]
    },
    {
      "cell_type": "markdown",
      "source": [
        "Como dados serão removidos do conjunto, será criado um novo df para trabalharmos:"
      ],
      "metadata": {
        "id": "GXzQhyEp7MqC"
      }
    },
    {
      "cell_type": "code",
      "source": [
        "dataset_gas_limpo = dataset_gas.copy()\n",
        "dataset_gas_limpo.shape"
      ],
      "metadata": {
        "colab": {
          "base_uri": "https://localhost:8080/"
        },
        "id": "4Ydb7NCa6sf0",
        "outputId": "1458af84-0e4c-4eba-cc43-7a1e831a022a"
      },
      "execution_count": 845,
      "outputs": [
        {
          "output_type": "execute_result",
          "data": {
            "text/plain": [
              "(120823, 18)"
            ]
          },
          "metadata": {},
          "execution_count": 845
        }
      ]
    },
    {
      "cell_type": "markdown",
      "source": [
        "Agora iremos remover as linhas que possuem NaN"
      ],
      "metadata": {
        "id": "as1H1EGR7asx"
      }
    },
    {
      "cell_type": "code",
      "source": [
        "dataset_gas_limpo = dataset_gas_limpo.dropna()\n",
        "dataset_gas_limpo.shape"
      ],
      "metadata": {
        "colab": {
          "base_uri": "https://localhost:8080/"
        },
        "id": "qFtrihz96uIS",
        "outputId": "bb52888a-2590-448a-c1ac-38808379501a"
      },
      "execution_count": 846,
      "outputs": [
        {
          "output_type": "execute_result",
          "data": {
            "text/plain": [
              "(111875, 18)"
            ]
          },
          "metadata": {},
          "execution_count": 846
        }
      ]
    },
    {
      "cell_type": "code",
      "source": [
        "dataset_gas_limpo.shape"
      ],
      "metadata": {
        "colab": {
          "base_uri": "https://localhost:8080/"
        },
        "id": "mLf51j-g5gGy",
        "outputId": "9b1b0331-6c0e-422f-f313-ca8eee4ec584"
      },
      "execution_count": 847,
      "outputs": [
        {
          "output_type": "execute_result",
          "data": {
            "text/plain": [
              "(111875, 18)"
            ]
          },
          "metadata": {},
          "execution_count": 847
        }
      ]
    },
    {
      "cell_type": "markdown",
      "source": [
        "---"
      ],
      "metadata": {
        "id": "J1MGMAFr8NLl"
      }
    },
    {
      "cell_type": "markdown",
      "source": [
        "SAIBA MAIS"
      ],
      "metadata": {
        "id": "bFfetdxx9k3x"
      }
    },
    {
      "cell_type": "code",
      "source": [
        "# OBSERVAÇÃO\n",
        "# Antes de removermos as linhas NaN, nós tentamos inicialmente substituir seus valores por None. \n",
        "# Curiosamente quando realizamos um replace para None, estes valores acabam recebendo o valor da linha superior. \n",
        "# Vamos fazer um exemplo pequeno e prático abaixo\n",
        "\n",
        "# '-999999.0'\n",
        "# dataset_gas.iloc[120764]\n",
        "\n",
        "# '-'\n",
        "# dataset_gas.iloc[1903]\n",
        "\n",
        "# '-999999.0'\n",
        "# dataset_gas.iloc[120768, 15]"
      ],
      "metadata": {
        "id": "dM14C192L93C"
      },
      "execution_count": 848,
      "outputs": []
    },
    {
      "cell_type": "code",
      "source": [
        "data = [['-', 2, 3], [4, '-', 6], [7, 8, '-']]\n",
        "\n",
        "df = pd.DataFrame(data, columns=[\"A\", \"B\", \"C\"])\n",
        "df"
      ],
      "metadata": {
        "colab": {
          "base_uri": "https://localhost:8080/",
          "height": 143
        },
        "id": "BwwHLYST8jKw",
        "outputId": "b15ccc84-5f95-44f2-c656-14f8e0d286b8"
      },
      "execution_count": 849,
      "outputs": [
        {
          "output_type": "execute_result",
          "data": {
            "text/plain": [
              "   A  B  C\n",
              "0  -  2  3\n",
              "1  4  -  6\n",
              "2  7  8  -"
            ],
            "text/html": [
              "\n",
              "  <div id=\"df-5227e998-2478-464a-afa1-bb8e7940d65b\">\n",
              "    <div class=\"colab-df-container\">\n",
              "      <div>\n",
              "<style scoped>\n",
              "    .dataframe tbody tr th:only-of-type {\n",
              "        vertical-align: middle;\n",
              "    }\n",
              "\n",
              "    .dataframe tbody tr th {\n",
              "        vertical-align: top;\n",
              "    }\n",
              "\n",
              "    .dataframe thead th {\n",
              "        text-align: right;\n",
              "    }\n",
              "</style>\n",
              "<table border=\"1\" class=\"dataframe\">\n",
              "  <thead>\n",
              "    <tr style=\"text-align: right;\">\n",
              "      <th></th>\n",
              "      <th>A</th>\n",
              "      <th>B</th>\n",
              "      <th>C</th>\n",
              "    </tr>\n",
              "  </thead>\n",
              "  <tbody>\n",
              "    <tr>\n",
              "      <th>0</th>\n",
              "      <td>-</td>\n",
              "      <td>2</td>\n",
              "      <td>3</td>\n",
              "    </tr>\n",
              "    <tr>\n",
              "      <th>1</th>\n",
              "      <td>4</td>\n",
              "      <td>-</td>\n",
              "      <td>6</td>\n",
              "    </tr>\n",
              "    <tr>\n",
              "      <th>2</th>\n",
              "      <td>7</td>\n",
              "      <td>8</td>\n",
              "      <td>-</td>\n",
              "    </tr>\n",
              "  </tbody>\n",
              "</table>\n",
              "</div>\n",
              "      <button class=\"colab-df-convert\" onclick=\"convertToInteractive('df-5227e998-2478-464a-afa1-bb8e7940d65b')\"\n",
              "              title=\"Convert this dataframe to an interactive table.\"\n",
              "              style=\"display:none;\">\n",
              "        \n",
              "  <svg xmlns=\"http://www.w3.org/2000/svg\" height=\"24px\"viewBox=\"0 0 24 24\"\n",
              "       width=\"24px\">\n",
              "    <path d=\"M0 0h24v24H0V0z\" fill=\"none\"/>\n",
              "    <path d=\"M18.56 5.44l.94 2.06.94-2.06 2.06-.94-2.06-.94-.94-2.06-.94 2.06-2.06.94zm-11 1L8.5 8.5l.94-2.06 2.06-.94-2.06-.94L8.5 2.5l-.94 2.06-2.06.94zm10 10l.94 2.06.94-2.06 2.06-.94-2.06-.94-.94-2.06-.94 2.06-2.06.94z\"/><path d=\"M17.41 7.96l-1.37-1.37c-.4-.4-.92-.59-1.43-.59-.52 0-1.04.2-1.43.59L10.3 9.45l-7.72 7.72c-.78.78-.78 2.05 0 2.83L4 21.41c.39.39.9.59 1.41.59.51 0 1.02-.2 1.41-.59l7.78-7.78 2.81-2.81c.8-.78.8-2.07 0-2.86zM5.41 20L4 18.59l7.72-7.72 1.47 1.35L5.41 20z\"/>\n",
              "  </svg>\n",
              "      </button>\n",
              "      \n",
              "  <style>\n",
              "    .colab-df-container {\n",
              "      display:flex;\n",
              "      flex-wrap:wrap;\n",
              "      gap: 12px;\n",
              "    }\n",
              "\n",
              "    .colab-df-convert {\n",
              "      background-color: #E8F0FE;\n",
              "      border: none;\n",
              "      border-radius: 50%;\n",
              "      cursor: pointer;\n",
              "      display: none;\n",
              "      fill: #1967D2;\n",
              "      height: 32px;\n",
              "      padding: 0 0 0 0;\n",
              "      width: 32px;\n",
              "    }\n",
              "\n",
              "    .colab-df-convert:hover {\n",
              "      background-color: #E2EBFA;\n",
              "      box-shadow: 0px 1px 2px rgba(60, 64, 67, 0.3), 0px 1px 3px 1px rgba(60, 64, 67, 0.15);\n",
              "      fill: #174EA6;\n",
              "    }\n",
              "\n",
              "    [theme=dark] .colab-df-convert {\n",
              "      background-color: #3B4455;\n",
              "      fill: #D2E3FC;\n",
              "    }\n",
              "\n",
              "    [theme=dark] .colab-df-convert:hover {\n",
              "      background-color: #434B5C;\n",
              "      box-shadow: 0px 1px 3px 1px rgba(0, 0, 0, 0.15);\n",
              "      filter: drop-shadow(0px 1px 2px rgba(0, 0, 0, 0.3));\n",
              "      fill: #FFFFFF;\n",
              "    }\n",
              "  </style>\n",
              "\n",
              "      <script>\n",
              "        const buttonEl =\n",
              "          document.querySelector('#df-5227e998-2478-464a-afa1-bb8e7940d65b button.colab-df-convert');\n",
              "        buttonEl.style.display =\n",
              "          google.colab.kernel.accessAllowed ? 'block' : 'none';\n",
              "\n",
              "        async function convertToInteractive(key) {\n",
              "          const element = document.querySelector('#df-5227e998-2478-464a-afa1-bb8e7940d65b');\n",
              "          const dataTable =\n",
              "            await google.colab.kernel.invokeFunction('convertToInteractive',\n",
              "                                                     [key], {});\n",
              "          if (!dataTable) return;\n",
              "\n",
              "          const docLinkHtml = 'Like what you see? Visit the ' +\n",
              "            '<a target=\"_blank\" href=https://colab.research.google.com/notebooks/data_table.ipynb>data table notebook</a>'\n",
              "            + ' to learn more about interactive tables.';\n",
              "          element.innerHTML = '';\n",
              "          dataTable['output_type'] = 'display_data';\n",
              "          await google.colab.output.renderOutput(dataTable, element);\n",
              "          const docLink = document.createElement('div');\n",
              "          docLink.innerHTML = docLinkHtml;\n",
              "          element.appendChild(docLink);\n",
              "        }\n",
              "      </script>\n",
              "    </div>\n",
              "  </div>\n",
              "  "
            ]
          },
          "metadata": {},
          "execution_count": 849
        }
      ]
    },
    {
      "cell_type": "code",
      "source": [
        "df = df.replace('-', None)\n",
        "df"
      ],
      "metadata": {
        "colab": {
          "base_uri": "https://localhost:8080/",
          "height": 143
        },
        "id": "nnpSf4T981Ho",
        "outputId": "22e10a12-870a-4ef1-87b5-ff9e23dfac02"
      },
      "execution_count": 850,
      "outputs": [
        {
          "output_type": "execute_result",
          "data": {
            "text/plain": [
              "   A  B  C\n",
              "0  -  2  3\n",
              "1  4  2  6\n",
              "2  7  8  6"
            ],
            "text/html": [
              "\n",
              "  <div id=\"df-39a6de1f-78a3-47ce-b385-da03a093d2ea\">\n",
              "    <div class=\"colab-df-container\">\n",
              "      <div>\n",
              "<style scoped>\n",
              "    .dataframe tbody tr th:only-of-type {\n",
              "        vertical-align: middle;\n",
              "    }\n",
              "\n",
              "    .dataframe tbody tr th {\n",
              "        vertical-align: top;\n",
              "    }\n",
              "\n",
              "    .dataframe thead th {\n",
              "        text-align: right;\n",
              "    }\n",
              "</style>\n",
              "<table border=\"1\" class=\"dataframe\">\n",
              "  <thead>\n",
              "    <tr style=\"text-align: right;\">\n",
              "      <th></th>\n",
              "      <th>A</th>\n",
              "      <th>B</th>\n",
              "      <th>C</th>\n",
              "    </tr>\n",
              "  </thead>\n",
              "  <tbody>\n",
              "    <tr>\n",
              "      <th>0</th>\n",
              "      <td>-</td>\n",
              "      <td>2</td>\n",
              "      <td>3</td>\n",
              "    </tr>\n",
              "    <tr>\n",
              "      <th>1</th>\n",
              "      <td>4</td>\n",
              "      <td>2</td>\n",
              "      <td>6</td>\n",
              "    </tr>\n",
              "    <tr>\n",
              "      <th>2</th>\n",
              "      <td>7</td>\n",
              "      <td>8</td>\n",
              "      <td>6</td>\n",
              "    </tr>\n",
              "  </tbody>\n",
              "</table>\n",
              "</div>\n",
              "      <button class=\"colab-df-convert\" onclick=\"convertToInteractive('df-39a6de1f-78a3-47ce-b385-da03a093d2ea')\"\n",
              "              title=\"Convert this dataframe to an interactive table.\"\n",
              "              style=\"display:none;\">\n",
              "        \n",
              "  <svg xmlns=\"http://www.w3.org/2000/svg\" height=\"24px\"viewBox=\"0 0 24 24\"\n",
              "       width=\"24px\">\n",
              "    <path d=\"M0 0h24v24H0V0z\" fill=\"none\"/>\n",
              "    <path d=\"M18.56 5.44l.94 2.06.94-2.06 2.06-.94-2.06-.94-.94-2.06-.94 2.06-2.06.94zm-11 1L8.5 8.5l.94-2.06 2.06-.94-2.06-.94L8.5 2.5l-.94 2.06-2.06.94zm10 10l.94 2.06.94-2.06 2.06-.94-2.06-.94-.94-2.06-.94 2.06-2.06.94z\"/><path d=\"M17.41 7.96l-1.37-1.37c-.4-.4-.92-.59-1.43-.59-.52 0-1.04.2-1.43.59L10.3 9.45l-7.72 7.72c-.78.78-.78 2.05 0 2.83L4 21.41c.39.39.9.59 1.41.59.51 0 1.02-.2 1.41-.59l7.78-7.78 2.81-2.81c.8-.78.8-2.07 0-2.86zM5.41 20L4 18.59l7.72-7.72 1.47 1.35L5.41 20z\"/>\n",
              "  </svg>\n",
              "      </button>\n",
              "      \n",
              "  <style>\n",
              "    .colab-df-container {\n",
              "      display:flex;\n",
              "      flex-wrap:wrap;\n",
              "      gap: 12px;\n",
              "    }\n",
              "\n",
              "    .colab-df-convert {\n",
              "      background-color: #E8F0FE;\n",
              "      border: none;\n",
              "      border-radius: 50%;\n",
              "      cursor: pointer;\n",
              "      display: none;\n",
              "      fill: #1967D2;\n",
              "      height: 32px;\n",
              "      padding: 0 0 0 0;\n",
              "      width: 32px;\n",
              "    }\n",
              "\n",
              "    .colab-df-convert:hover {\n",
              "      background-color: #E2EBFA;\n",
              "      box-shadow: 0px 1px 2px rgba(60, 64, 67, 0.3), 0px 1px 3px 1px rgba(60, 64, 67, 0.15);\n",
              "      fill: #174EA6;\n",
              "    }\n",
              "\n",
              "    [theme=dark] .colab-df-convert {\n",
              "      background-color: #3B4455;\n",
              "      fill: #D2E3FC;\n",
              "    }\n",
              "\n",
              "    [theme=dark] .colab-df-convert:hover {\n",
              "      background-color: #434B5C;\n",
              "      box-shadow: 0px 1px 3px 1px rgba(0, 0, 0, 0.15);\n",
              "      filter: drop-shadow(0px 1px 2px rgba(0, 0, 0, 0.3));\n",
              "      fill: #FFFFFF;\n",
              "    }\n",
              "  </style>\n",
              "\n",
              "      <script>\n",
              "        const buttonEl =\n",
              "          document.querySelector('#df-39a6de1f-78a3-47ce-b385-da03a093d2ea button.colab-df-convert');\n",
              "        buttonEl.style.display =\n",
              "          google.colab.kernel.accessAllowed ? 'block' : 'none';\n",
              "\n",
              "        async function convertToInteractive(key) {\n",
              "          const element = document.querySelector('#df-39a6de1f-78a3-47ce-b385-da03a093d2ea');\n",
              "          const dataTable =\n",
              "            await google.colab.kernel.invokeFunction('convertToInteractive',\n",
              "                                                     [key], {});\n",
              "          if (!dataTable) return;\n",
              "\n",
              "          const docLinkHtml = 'Like what you see? Visit the ' +\n",
              "            '<a target=\"_blank\" href=https://colab.research.google.com/notebooks/data_table.ipynb>data table notebook</a>'\n",
              "            + ' to learn more about interactive tables.';\n",
              "          element.innerHTML = '';\n",
              "          dataTable['output_type'] = 'display_data';\n",
              "          await google.colab.output.renderOutput(dataTable, element);\n",
              "          const docLink = document.createElement('div');\n",
              "          docLink.innerHTML = docLinkHtml;\n",
              "          element.appendChild(docLink);\n",
              "        }\n",
              "      </script>\n",
              "    </div>\n",
              "  </div>\n",
              "  "
            ]
          },
          "metadata": {},
          "execution_count": 850
        }
      ]
    },
    {
      "cell_type": "markdown",
      "source": [
        "---"
      ],
      "metadata": {
        "id": "7wOUnFEJ8OkD"
      }
    },
    {
      "cell_type": "markdown",
      "source": [
        "Vamos fazer um novo data info para checar se os valores que deveriam ser float estão realmente."
      ],
      "metadata": {
        "id": "q_rxq0EuEwSq"
      }
    },
    {
      "cell_type": "code",
      "source": [
        "dataset_gas_limpo.info()"
      ],
      "metadata": {
        "colab": {
          "base_uri": "https://localhost:8080/"
        },
        "id": "XEezYDJkDi87",
        "outputId": "121f345e-6782-44f6-ea78-9b3c5f443e0a"
      },
      "execution_count": 851,
      "outputs": [
        {
          "output_type": "stream",
          "name": "stdout",
          "text": [
            "<class 'pandas.core.frame.DataFrame'>\n",
            "Int64Index: 111875 entries, 0 to 115883\n",
            "Data columns (total 18 columns):\n",
            " #   Column                         Non-Null Count   Dtype  \n",
            "---  ------                         --------------   -----  \n",
            " 0   DATA INICIAL                   111875 non-null  object \n",
            " 1   DATA FINAL                     111875 non-null  object \n",
            " 2   REGIÃO                         111875 non-null  object \n",
            " 3   ESTADO                         111875 non-null  object \n",
            " 4   PRODUTO                        111875 non-null  object \n",
            " 5   NÚMERO DE POSTOS PESQUISADOS   111875 non-null  int64  \n",
            " 6   UNIDADE DE MEDIDA              111875 non-null  object \n",
            " 7   PREÇO MÉDIO REVENDA            111875 non-null  float64\n",
            " 8   DESVIO PADRÃO REVENDA          111875 non-null  float64\n",
            " 9   PREÇO MÍNIMO REVENDA           111875 non-null  float64\n",
            " 10  PREÇO MÁXIMO REVENDA           111875 non-null  float64\n",
            " 11  MARGEM MÉDIA REVENDA           111875 non-null  object \n",
            " 12  COEF DE VARIAÇÃO REVENDA       111875 non-null  float64\n",
            " 13  PREÇO MÉDIO DISTRIBUIÇÃO       111875 non-null  object \n",
            " 14  DESVIO PADRÃO DISTRIBUIÇÃO     111875 non-null  object \n",
            " 15  PREÇO MÍNIMO DISTRIBUIÇÃO      111875 non-null  object \n",
            " 16  PREÇO MÁXIMO DISTRIBUIÇÃO      111875 non-null  object \n",
            " 17  COEF DE VARIAÇÃO DISTRIBUIÇÃO  111875 non-null  object \n",
            "dtypes: float64(5), int64(1), object(12)\n",
            "memory usage: 16.2+ MB\n"
          ]
        }
      ]
    },
    {
      "cell_type": "markdown",
      "source": [
        "Vimos que as colunas:\n",
        "\n",
        "        -'MARGEM MÉDIA REVENDA',\n",
        "        -'PREÇO MÉDIO DISTRIBUIÇÃO',\n",
        "        -'DESVIO PADRÃO DISTRIBUIÇÃO', \n",
        "        -'PREÇO MÍNIMO DISTRIBUIÇÃO',\n",
        "        -'PREÇO MÁXIMO DISTRIBUIÇÃO', \n",
        "        -'COEF DE VARIAÇÃO DISTRIBUIÇÃO',\n",
        "\n",
        "Ainda estão como object, vamos força-las para float"
      ],
      "metadata": {
        "id": "jW896N57EqEP"
      }
    },
    {
      "cell_type": "code",
      "source": [
        "cols = ['MARGEM MÉDIA REVENDA',\n",
        "        'PREÇO MÉDIO DISTRIBUIÇÃO',\n",
        "        'DESVIO PADRÃO DISTRIBUIÇÃO', \n",
        "        'PREÇO MÍNIMO DISTRIBUIÇÃO',\n",
        "        'PREÇO MÁXIMO DISTRIBUIÇÃO', \n",
        "        'COEF DE VARIAÇÃO DISTRIBUIÇÃO',\n",
        "]\n",
        "for i in cols:\n",
        "  dataset_gas_limpo[i]=dataset_gas_limpo[i].astype(float)"
      ],
      "metadata": {
        "id": "nLdR9NsDD7j8"
      },
      "execution_count": 852,
      "outputs": []
    },
    {
      "cell_type": "markdown",
      "source": [
        "Vamos testar data info novamente:"
      ],
      "metadata": {
        "id": "1rkLqaNdFHXw"
      }
    },
    {
      "cell_type": "code",
      "source": [
        "dataset_gas_limpo.info()"
      ],
      "metadata": {
        "colab": {
          "base_uri": "https://localhost:8080/"
        },
        "id": "3KMu4kZdEtbg",
        "outputId": "10c680d3-83cf-4c8b-f933-3c5106359c34"
      },
      "execution_count": 853,
      "outputs": [
        {
          "output_type": "stream",
          "name": "stdout",
          "text": [
            "<class 'pandas.core.frame.DataFrame'>\n",
            "Int64Index: 111875 entries, 0 to 115883\n",
            "Data columns (total 18 columns):\n",
            " #   Column                         Non-Null Count   Dtype  \n",
            "---  ------                         --------------   -----  \n",
            " 0   DATA INICIAL                   111875 non-null  object \n",
            " 1   DATA FINAL                     111875 non-null  object \n",
            " 2   REGIÃO                         111875 non-null  object \n",
            " 3   ESTADO                         111875 non-null  object \n",
            " 4   PRODUTO                        111875 non-null  object \n",
            " 5   NÚMERO DE POSTOS PESQUISADOS   111875 non-null  int64  \n",
            " 6   UNIDADE DE MEDIDA              111875 non-null  object \n",
            " 7   PREÇO MÉDIO REVENDA            111875 non-null  float64\n",
            " 8   DESVIO PADRÃO REVENDA          111875 non-null  float64\n",
            " 9   PREÇO MÍNIMO REVENDA           111875 non-null  float64\n",
            " 10  PREÇO MÁXIMO REVENDA           111875 non-null  float64\n",
            " 11  MARGEM MÉDIA REVENDA           111875 non-null  float64\n",
            " 12  COEF DE VARIAÇÃO REVENDA       111875 non-null  float64\n",
            " 13  PREÇO MÉDIO DISTRIBUIÇÃO       111875 non-null  float64\n",
            " 14  DESVIO PADRÃO DISTRIBUIÇÃO     111875 non-null  float64\n",
            " 15  PREÇO MÍNIMO DISTRIBUIÇÃO      111875 non-null  float64\n",
            " 16  PREÇO MÁXIMO DISTRIBUIÇÃO      111875 non-null  float64\n",
            " 17  COEF DE VARIAÇÃO DISTRIBUIÇÃO  111875 non-null  float64\n",
            "dtypes: float64(11), int64(1), object(6)\n",
            "memory usage: 16.2+ MB\n"
          ]
        }
      ]
    },
    {
      "cell_type": "markdown",
      "source": [
        "Maravilha! Temos nosso dataset com formato ok"
      ],
      "metadata": {
        "id": "GblehaXpFMaN"
      }
    },
    {
      "cell_type": "markdown",
      "source": [
        "Visto que este dataset mostra uma série temporal, não há sentido em haver linhas iguais.\n",
        "\n",
        "Verificar se na linha inteira desse dataframe tem duplicatas"
      ],
      "metadata": {
        "id": "fNQ4w_1kEkCe"
      }
    },
    {
      "cell_type": "code",
      "source": [
        "dataset_gas_limpo.duplicated().sum()"
      ],
      "metadata": {
        "colab": {
          "base_uri": "https://localhost:8080/"
        },
        "id": "2PHADvgxv9hx",
        "outputId": "32ad826f-7500-4c4d-abf1-0ad273874d26"
      },
      "execution_count": 854,
      "outputs": [
        {
          "output_type": "execute_result",
          "data": {
            "text/plain": [
              "0"
            ]
          },
          "metadata": {},
          "execution_count": 854
        }
      ]
    },
    {
      "cell_type": "markdown",
      "source": [
        "Verificado"
      ],
      "metadata": {
        "id": "tgHpx4iuwiNf"
      }
    },
    {
      "cell_type": "markdown",
      "source": [
        "Vamos criar colunas no dataframe separando dia, mes, ano número da semana  para análises futuras."
      ],
      "metadata": {
        "id": "tVDRoRR1FwCl"
      }
    },
    {
      "cell_type": "markdown",
      "source": [
        "Definindo as funções necessárias:\n",
        "\n",
        "*Split_data*: pega o valor da coluna de datas e separa em uma lista [ano, mes dia]\n",
        "\n",
        "*extrair_lista*: cria listas com ano, mes e dia separadamente para uso futuro "
      ],
      "metadata": {
        "id": "ZKTzFjHzHujd"
      }
    },
    {
      "cell_type": "code",
      "source": [
        "def split_data(coluna,caracter_separador):\n",
        "  lista_split=coluna.str.split(caracter_separador)\n",
        "  return(lista_split)\n",
        "\n",
        "def extrair_lista(lista,indice):\n",
        "  lista_construida=[]\n",
        "  for i in range(0,len(lista)):\n",
        "    lista_construida.append(int(lista[i][indice]))\n",
        "  return lista_construida"
      ],
      "metadata": {
        "id": "tF8vX4fNFvn9"
      },
      "execution_count": 855,
      "outputs": []
    },
    {
      "cell_type": "markdown",
      "source": [
        "Aplicando as funções acima e em variáveis de armazenamento"
      ],
      "metadata": {
        "id": "Cjg8TvpHJf3F"
      }
    },
    {
      "cell_type": "code",
      "source": [
        "separados_dias_anos_inicial=split_data(dataset_gas_limpo['DATA INICIAL'],'-')\n",
        "\n",
        "separados_dias_anos_final=split_data(dataset_gas_limpo['DATA FINAL'],'-')\n",
        "\n",
        "separados_dias_anos_final"
      ],
      "metadata": {
        "colab": {
          "base_uri": "https://localhost:8080/"
        },
        "id": "RXjJ0mHAJimd",
        "outputId": "66881428-4066-44dc-f00c-1c1c6ccb13c3"
      },
      "execution_count": 856,
      "outputs": [
        {
          "output_type": "execute_result",
          "data": {
            "text/plain": [
              "0         [2004, 05, 15]\n",
              "1         [2004, 05, 15]\n",
              "2         [2004, 05, 15]\n",
              "3         [2004, 05, 15]\n",
              "4         [2004, 05, 15]\n",
              "               ...      \n",
              "115879    [2020, 08, 22]\n",
              "115880    [2020, 08, 22]\n",
              "115881    [2020, 08, 22]\n",
              "115882    [2020, 08, 22]\n",
              "115883    [2020, 08, 22]\n",
              "Name: DATA FINAL, Length: 111875, dtype: object"
            ]
          },
          "metadata": {},
          "execution_count": 856
        }
      ]
    },
    {
      "cell_type": "code",
      "source": [
        "# anos_inicial=extrair_lista(separados_dias_anos_inicial,0)\n",
        "# meses_inicial=extrair_lista(separados_dias_anos_inicial,1)\n",
        "# dias_inicial=extrair_lista(separados_dias_anos_inicial,2)\n",
        "# anos_final=extrair_lista(separados_dias_anos_final,0)\n",
        "# meses_final=extrair_lista(separados_dias_anos_final,1)\n",
        "# dias_final=extrair_lista(separados_dias_anos_final,2)\n"
      ],
      "metadata": {
        "id": "BpW3f5uHLhtV"
      },
      "execution_count": 857,
      "outputs": []
    },
    {
      "cell_type": "markdown",
      "source": [
        "Colocar as listas no dataframe\n",
        "\n",
        "\n"
      ],
      "metadata": {
        "id": "DByHRXhfKkG4"
      }
    },
    {
      "cell_type": "code",
      "source": [
        "# dataset_gas_limpo['DIA INICIAL']=dias_inicial\n",
        "# dataset_gas_limpo['MES INICIAL']=meses_inicial\n",
        "# dataset_gas_limpo['ANO INICIAL']=anos_inicial\n",
        "# dataset_gas_limpo['DIA FINAL']=dias_final\n",
        "# dataset_gas_limpo['MES FINAL']=meses_final\n",
        "# dataset_gas_limpo['ANO FINAL']=anos_final"
      ],
      "metadata": {
        "id": "Im7p5ttPMjWv"
      },
      "execution_count": 858,
      "outputs": []
    },
    {
      "cell_type": "markdown",
      "source": [
        "Entretando, existe um caminho mais simples, utilizando a função .to_datetime do próprio pandas:"
      ],
      "metadata": {
        "id": "vkY37xVs8g6f"
      }
    },
    {
      "cell_type": "code",
      "source": [
        "dataset_gas_limpo['DIA INICIAL']=pd.to_datetime(dataset_gas_limpo['DATA INICIAL'], errors ='coerce').dt.day\n",
        "dataset_gas_limpo['MES INICIAL']=pd.to_datetime(dataset_gas_limpo['DATA INICIAL'], errors ='coerce').dt.month\n",
        "dataset_gas_limpo['ANO INICIAL']=pd.to_datetime(dataset_gas_limpo['DATA INICIAL'], errors ='coerce').dt.year\n",
        "dataset_gas_limpo['SEMANA INICIAL']=pd.to_datetime(dataset_gas_limpo['DATA INICIAL'], errors ='coerce').dt.week\n",
        "\n",
        "dataset_gas_limpo['DIA FINAL']=pd.to_datetime(dataset_gas_limpo['DATA FINAL'], errors ='coerce').dt.day\n",
        "dataset_gas_limpo['MES FINAL']=pd.to_datetime(dataset_gas_limpo['DATA FINAL'], errors ='coerce').dt.month\n",
        "dataset_gas_limpo['ANO FINAL']=pd.to_datetime(dataset_gas_limpo['DATA FINAL'], errors ='coerce').dt.year\n",
        "dataset_gas_limpo['SEMANA FINAL']=pd.to_datetime(dataset_gas_limpo['DATA FINAL'], errors ='coerce').dt.week"
      ],
      "metadata": {
        "colab": {
          "base_uri": "https://localhost:8080/"
        },
        "id": "4gqrjD148ozy",
        "outputId": "4664223f-e310-4d60-d7d6-2dfe1e0e7e14"
      },
      "execution_count": 859,
      "outputs": [
        {
          "output_type": "stream",
          "name": "stderr",
          "text": [
            "<ipython-input-859-bdf0418e384d>:4: FutureWarning: Series.dt.weekofyear and Series.dt.week have been deprecated.  Please use Series.dt.isocalendar().week instead.\n",
            "  dataset_gas_limpo['SEMANA INICIAL']=pd.to_datetime(dataset_gas_limpo['DATA INICIAL'], errors ='coerce').dt.week\n",
            "<ipython-input-859-bdf0418e384d>:9: FutureWarning: Series.dt.weekofyear and Series.dt.week have been deprecated.  Please use Series.dt.isocalendar().week instead.\n",
            "  dataset_gas_limpo['SEMANA FINAL']=pd.to_datetime(dataset_gas_limpo['DATA FINAL'], errors ='coerce').dt.week\n"
          ]
        }
      ]
    },
    {
      "cell_type": "markdown",
      "source": [
        "Vamos checar nosso df"
      ],
      "metadata": {
        "id": "1_TQuxpiPjs2"
      }
    },
    {
      "cell_type": "code",
      "source": [
        "dataset_gas_limpo.head()"
      ],
      "metadata": {
        "colab": {
          "base_uri": "https://localhost:8080/",
          "height": 418
        },
        "id": "ri_-1wD63Cjd",
        "outputId": "d3630993-4085-43b0-ef5f-6f1a2480daea"
      },
      "execution_count": 860,
      "outputs": [
        {
          "output_type": "execute_result",
          "data": {
            "text/plain": [
              "  DATA INICIAL  DATA FINAL        REGIÃO              ESTADO  \\\n",
              "0   2004-05-09  2004-05-15  CENTRO OESTE    DISTRITO FEDERAL   \n",
              "1   2004-05-09  2004-05-15  CENTRO OESTE               GOIAS   \n",
              "2   2004-05-09  2004-05-15  CENTRO OESTE         MATO GROSSO   \n",
              "3   2004-05-09  2004-05-15  CENTRO OESTE  MATO GROSSO DO SUL   \n",
              "4   2004-05-09  2004-05-15      NORDESTE             ALAGOAS   \n",
              "\n",
              "            PRODUTO  NÚMERO DE POSTOS PESQUISADOS UNIDADE DE MEDIDA  \\\n",
              "0  ETANOL HIDRATADO                           127              R$/l   \n",
              "1  ETANOL HIDRATADO                           387              R$/l   \n",
              "2  ETANOL HIDRATADO                           192              R$/l   \n",
              "3  ETANOL HIDRATADO                           162              R$/l   \n",
              "4  ETANOL HIDRATADO                           103              R$/l   \n",
              "\n",
              "   PREÇO MÉDIO REVENDA  DESVIO PADRÃO REVENDA  PREÇO MÍNIMO REVENDA  ...  \\\n",
              "0                1.288                  0.016                  1.19  ...   \n",
              "1                1.162                  0.114                  0.89  ...   \n",
              "2                1.389                  0.097                  1.18  ...   \n",
              "3                1.262                  0.070                  1.09  ...   \n",
              "4                1.181                  0.078                  1.05  ...   \n",
              "\n",
              "   PREÇO MÁXIMO DISTRIBUIÇÃO  COEF DE VARIAÇÃO DISTRIBUIÇÃO  DIA INICIAL  \\\n",
              "0                    0.96660                          0.133            9   \n",
              "1                    1.05000                          0.115            9   \n",
              "2                    1.16100                          0.098            9   \n",
              "3                    1.22242                          0.143            9   \n",
              "4                    1.03170                          0.082            9   \n",
              "\n",
              "   MES INICIAL  ANO INICIAL  SEMANA INICIAL  DIA FINAL  MES FINAL  ANO FINAL  \\\n",
              "0            5         2004              19         15          5       2004   \n",
              "1            5         2004              19         15          5       2004   \n",
              "2            5         2004              19         15          5       2004   \n",
              "3            5         2004              19         15          5       2004   \n",
              "4            5         2004              19         15          5       2004   \n",
              "\n",
              "   SEMANA FINAL  \n",
              "0            20  \n",
              "1            20  \n",
              "2            20  \n",
              "3            20  \n",
              "4            20  \n",
              "\n",
              "[5 rows x 26 columns]"
            ],
            "text/html": [
              "\n",
              "  <div id=\"df-670eb051-aa78-46da-bbbe-a1e83b908bf1\">\n",
              "    <div class=\"colab-df-container\">\n",
              "      <div>\n",
              "<style scoped>\n",
              "    .dataframe tbody tr th:only-of-type {\n",
              "        vertical-align: middle;\n",
              "    }\n",
              "\n",
              "    .dataframe tbody tr th {\n",
              "        vertical-align: top;\n",
              "    }\n",
              "\n",
              "    .dataframe thead th {\n",
              "        text-align: right;\n",
              "    }\n",
              "</style>\n",
              "<table border=\"1\" class=\"dataframe\">\n",
              "  <thead>\n",
              "    <tr style=\"text-align: right;\">\n",
              "      <th></th>\n",
              "      <th>DATA INICIAL</th>\n",
              "      <th>DATA FINAL</th>\n",
              "      <th>REGIÃO</th>\n",
              "      <th>ESTADO</th>\n",
              "      <th>PRODUTO</th>\n",
              "      <th>NÚMERO DE POSTOS PESQUISADOS</th>\n",
              "      <th>UNIDADE DE MEDIDA</th>\n",
              "      <th>PREÇO MÉDIO REVENDA</th>\n",
              "      <th>DESVIO PADRÃO REVENDA</th>\n",
              "      <th>PREÇO MÍNIMO REVENDA</th>\n",
              "      <th>...</th>\n",
              "      <th>PREÇO MÁXIMO DISTRIBUIÇÃO</th>\n",
              "      <th>COEF DE VARIAÇÃO DISTRIBUIÇÃO</th>\n",
              "      <th>DIA INICIAL</th>\n",
              "      <th>MES INICIAL</th>\n",
              "      <th>ANO INICIAL</th>\n",
              "      <th>SEMANA INICIAL</th>\n",
              "      <th>DIA FINAL</th>\n",
              "      <th>MES FINAL</th>\n",
              "      <th>ANO FINAL</th>\n",
              "      <th>SEMANA FINAL</th>\n",
              "    </tr>\n",
              "  </thead>\n",
              "  <tbody>\n",
              "    <tr>\n",
              "      <th>0</th>\n",
              "      <td>2004-05-09</td>\n",
              "      <td>2004-05-15</td>\n",
              "      <td>CENTRO OESTE</td>\n",
              "      <td>DISTRITO FEDERAL</td>\n",
              "      <td>ETANOL HIDRATADO</td>\n",
              "      <td>127</td>\n",
              "      <td>R$/l</td>\n",
              "      <td>1.288</td>\n",
              "      <td>0.016</td>\n",
              "      <td>1.19</td>\n",
              "      <td>...</td>\n",
              "      <td>0.96660</td>\n",
              "      <td>0.133</td>\n",
              "      <td>9</td>\n",
              "      <td>5</td>\n",
              "      <td>2004</td>\n",
              "      <td>19</td>\n",
              "      <td>15</td>\n",
              "      <td>5</td>\n",
              "      <td>2004</td>\n",
              "      <td>20</td>\n",
              "    </tr>\n",
              "    <tr>\n",
              "      <th>1</th>\n",
              "      <td>2004-05-09</td>\n",
              "      <td>2004-05-15</td>\n",
              "      <td>CENTRO OESTE</td>\n",
              "      <td>GOIAS</td>\n",
              "      <td>ETANOL HIDRATADO</td>\n",
              "      <td>387</td>\n",
              "      <td>R$/l</td>\n",
              "      <td>1.162</td>\n",
              "      <td>0.114</td>\n",
              "      <td>0.89</td>\n",
              "      <td>...</td>\n",
              "      <td>1.05000</td>\n",
              "      <td>0.115</td>\n",
              "      <td>9</td>\n",
              "      <td>5</td>\n",
              "      <td>2004</td>\n",
              "      <td>19</td>\n",
              "      <td>15</td>\n",
              "      <td>5</td>\n",
              "      <td>2004</td>\n",
              "      <td>20</td>\n",
              "    </tr>\n",
              "    <tr>\n",
              "      <th>2</th>\n",
              "      <td>2004-05-09</td>\n",
              "      <td>2004-05-15</td>\n",
              "      <td>CENTRO OESTE</td>\n",
              "      <td>MATO GROSSO</td>\n",
              "      <td>ETANOL HIDRATADO</td>\n",
              "      <td>192</td>\n",
              "      <td>R$/l</td>\n",
              "      <td>1.389</td>\n",
              "      <td>0.097</td>\n",
              "      <td>1.18</td>\n",
              "      <td>...</td>\n",
              "      <td>1.16100</td>\n",
              "      <td>0.098</td>\n",
              "      <td>9</td>\n",
              "      <td>5</td>\n",
              "      <td>2004</td>\n",
              "      <td>19</td>\n",
              "      <td>15</td>\n",
              "      <td>5</td>\n",
              "      <td>2004</td>\n",
              "      <td>20</td>\n",
              "    </tr>\n",
              "    <tr>\n",
              "      <th>3</th>\n",
              "      <td>2004-05-09</td>\n",
              "      <td>2004-05-15</td>\n",
              "      <td>CENTRO OESTE</td>\n",
              "      <td>MATO GROSSO DO SUL</td>\n",
              "      <td>ETANOL HIDRATADO</td>\n",
              "      <td>162</td>\n",
              "      <td>R$/l</td>\n",
              "      <td>1.262</td>\n",
              "      <td>0.070</td>\n",
              "      <td>1.09</td>\n",
              "      <td>...</td>\n",
              "      <td>1.22242</td>\n",
              "      <td>0.143</td>\n",
              "      <td>9</td>\n",
              "      <td>5</td>\n",
              "      <td>2004</td>\n",
              "      <td>19</td>\n",
              "      <td>15</td>\n",
              "      <td>5</td>\n",
              "      <td>2004</td>\n",
              "      <td>20</td>\n",
              "    </tr>\n",
              "    <tr>\n",
              "      <th>4</th>\n",
              "      <td>2004-05-09</td>\n",
              "      <td>2004-05-15</td>\n",
              "      <td>NORDESTE</td>\n",
              "      <td>ALAGOAS</td>\n",
              "      <td>ETANOL HIDRATADO</td>\n",
              "      <td>103</td>\n",
              "      <td>R$/l</td>\n",
              "      <td>1.181</td>\n",
              "      <td>0.078</td>\n",
              "      <td>1.05</td>\n",
              "      <td>...</td>\n",
              "      <td>1.03170</td>\n",
              "      <td>0.082</td>\n",
              "      <td>9</td>\n",
              "      <td>5</td>\n",
              "      <td>2004</td>\n",
              "      <td>19</td>\n",
              "      <td>15</td>\n",
              "      <td>5</td>\n",
              "      <td>2004</td>\n",
              "      <td>20</td>\n",
              "    </tr>\n",
              "  </tbody>\n",
              "</table>\n",
              "<p>5 rows × 26 columns</p>\n",
              "</div>\n",
              "      <button class=\"colab-df-convert\" onclick=\"convertToInteractive('df-670eb051-aa78-46da-bbbe-a1e83b908bf1')\"\n",
              "              title=\"Convert this dataframe to an interactive table.\"\n",
              "              style=\"display:none;\">\n",
              "        \n",
              "  <svg xmlns=\"http://www.w3.org/2000/svg\" height=\"24px\"viewBox=\"0 0 24 24\"\n",
              "       width=\"24px\">\n",
              "    <path d=\"M0 0h24v24H0V0z\" fill=\"none\"/>\n",
              "    <path d=\"M18.56 5.44l.94 2.06.94-2.06 2.06-.94-2.06-.94-.94-2.06-.94 2.06-2.06.94zm-11 1L8.5 8.5l.94-2.06 2.06-.94-2.06-.94L8.5 2.5l-.94 2.06-2.06.94zm10 10l.94 2.06.94-2.06 2.06-.94-2.06-.94-.94-2.06-.94 2.06-2.06.94z\"/><path d=\"M17.41 7.96l-1.37-1.37c-.4-.4-.92-.59-1.43-.59-.52 0-1.04.2-1.43.59L10.3 9.45l-7.72 7.72c-.78.78-.78 2.05 0 2.83L4 21.41c.39.39.9.59 1.41.59.51 0 1.02-.2 1.41-.59l7.78-7.78 2.81-2.81c.8-.78.8-2.07 0-2.86zM5.41 20L4 18.59l7.72-7.72 1.47 1.35L5.41 20z\"/>\n",
              "  </svg>\n",
              "      </button>\n",
              "      \n",
              "  <style>\n",
              "    .colab-df-container {\n",
              "      display:flex;\n",
              "      flex-wrap:wrap;\n",
              "      gap: 12px;\n",
              "    }\n",
              "\n",
              "    .colab-df-convert {\n",
              "      background-color: #E8F0FE;\n",
              "      border: none;\n",
              "      border-radius: 50%;\n",
              "      cursor: pointer;\n",
              "      display: none;\n",
              "      fill: #1967D2;\n",
              "      height: 32px;\n",
              "      padding: 0 0 0 0;\n",
              "      width: 32px;\n",
              "    }\n",
              "\n",
              "    .colab-df-convert:hover {\n",
              "      background-color: #E2EBFA;\n",
              "      box-shadow: 0px 1px 2px rgba(60, 64, 67, 0.3), 0px 1px 3px 1px rgba(60, 64, 67, 0.15);\n",
              "      fill: #174EA6;\n",
              "    }\n",
              "\n",
              "    [theme=dark] .colab-df-convert {\n",
              "      background-color: #3B4455;\n",
              "      fill: #D2E3FC;\n",
              "    }\n",
              "\n",
              "    [theme=dark] .colab-df-convert:hover {\n",
              "      background-color: #434B5C;\n",
              "      box-shadow: 0px 1px 3px 1px rgba(0, 0, 0, 0.15);\n",
              "      filter: drop-shadow(0px 1px 2px rgba(0, 0, 0, 0.3));\n",
              "      fill: #FFFFFF;\n",
              "    }\n",
              "  </style>\n",
              "\n",
              "      <script>\n",
              "        const buttonEl =\n",
              "          document.querySelector('#df-670eb051-aa78-46da-bbbe-a1e83b908bf1 button.colab-df-convert');\n",
              "        buttonEl.style.display =\n",
              "          google.colab.kernel.accessAllowed ? 'block' : 'none';\n",
              "\n",
              "        async function convertToInteractive(key) {\n",
              "          const element = document.querySelector('#df-670eb051-aa78-46da-bbbe-a1e83b908bf1');\n",
              "          const dataTable =\n",
              "            await google.colab.kernel.invokeFunction('convertToInteractive',\n",
              "                                                     [key], {});\n",
              "          if (!dataTable) return;\n",
              "\n",
              "          const docLinkHtml = 'Like what you see? Visit the ' +\n",
              "            '<a target=\"_blank\" href=https://colab.research.google.com/notebooks/data_table.ipynb>data table notebook</a>'\n",
              "            + ' to learn more about interactive tables.';\n",
              "          element.innerHTML = '';\n",
              "          dataTable['output_type'] = 'display_data';\n",
              "          await google.colab.output.renderOutput(dataTable, element);\n",
              "          const docLink = document.createElement('div');\n",
              "          docLink.innerHTML = docLinkHtml;\n",
              "          element.appendChild(docLink);\n",
              "        }\n",
              "      </script>\n",
              "    </div>\n",
              "  </div>\n",
              "  "
            ]
          },
          "metadata": {},
          "execution_count": 860
        }
      ]
    },
    {
      "cell_type": "markdown",
      "source": [
        "Reordenando nossas colunas"
      ],
      "metadata": {
        "id": "8HDuwHJD9c4E"
      }
    },
    {
      "cell_type": "code",
      "source": [
        "dataset_gas_limpo.columns"
      ],
      "metadata": {
        "colab": {
          "base_uri": "https://localhost:8080/"
        },
        "id": "0-264wpT9i54",
        "outputId": "33c937b3-6415-444b-a625-b7be97bb8244"
      },
      "execution_count": 861,
      "outputs": [
        {
          "output_type": "execute_result",
          "data": {
            "text/plain": [
              "Index(['DATA INICIAL', 'DATA FINAL', 'REGIÃO', 'ESTADO', 'PRODUTO',\n",
              "       'NÚMERO DE POSTOS PESQUISADOS', 'UNIDADE DE MEDIDA',\n",
              "       'PREÇO MÉDIO REVENDA', 'DESVIO PADRÃO REVENDA', 'PREÇO MÍNIMO REVENDA',\n",
              "       'PREÇO MÁXIMO REVENDA', 'MARGEM MÉDIA REVENDA',\n",
              "       'COEF DE VARIAÇÃO REVENDA', 'PREÇO MÉDIO DISTRIBUIÇÃO',\n",
              "       'DESVIO PADRÃO DISTRIBUIÇÃO', 'PREÇO MÍNIMO DISTRIBUIÇÃO',\n",
              "       'PREÇO MÁXIMO DISTRIBUIÇÃO', 'COEF DE VARIAÇÃO DISTRIBUIÇÃO',\n",
              "       'DIA INICIAL', 'MES INICIAL', 'ANO INICIAL', 'SEMANA INICIAL',\n",
              "       'DIA FINAL', 'MES FINAL', 'ANO FINAL', 'SEMANA FINAL'],\n",
              "      dtype='object')"
            ]
          },
          "metadata": {},
          "execution_count": 861
        }
      ]
    },
    {
      "cell_type": "code",
      "source": [
        "cols = ['DATA INICIAL', \n",
        "        'DIA INICIAL', \n",
        "        'MES INICIAL', \n",
        "        'ANO INICIAL', \n",
        "        'SEMANA INICIAL',\n",
        "        'DATA FINAL',\n",
        "        'DIA FINAL', \n",
        "        'MES FINAL', \n",
        "        'ANO FINAL', \n",
        "        'SEMANA FINAL',\n",
        "        'REGIÃO', \n",
        "        'ESTADO', \n",
        "        'PRODUTO',\n",
        "        'NÚMERO DE POSTOS PESQUISADOS', \n",
        "        'UNIDADE DE MEDIDA',\n",
        "        'PREÇO MÉDIO REVENDA', \n",
        "        'DESVIO PADRÃO REVENDA', \n",
        "        'PREÇO MÍNIMO REVENDA',\n",
        "        'PREÇO MÁXIMO REVENDA', \n",
        "        'MARGEM MÉDIA REVENDA',\n",
        "        'COEF DE VARIAÇÃO REVENDA', \n",
        "        'PREÇO MÉDIO DISTRIBUIÇÃO',\n",
        "        'DESVIO PADRÃO DISTRIBUIÇÃO', \n",
        "        'PREÇO MÍNIMO DISTRIBUIÇÃO',\n",
        "        'PREÇO MÁXIMO DISTRIBUIÇÃO', \n",
        "        'COEF DE VARIAÇÃO DISTRIBUIÇÃO',\n",
        "]\n",
        "\n",
        "dataset_gas_limpo = dataset_gas_limpo.reindex(columns=cols)\n",
        "\n",
        "dataset_gas_limpo.head()"
      ],
      "metadata": {
        "colab": {
          "base_uri": "https://localhost:8080/",
          "height": 401
        },
        "id": "SmaSe6-f9cZG",
        "outputId": "02d320fd-1dfe-4c35-c298-8193a81d7e1e"
      },
      "execution_count": 862,
      "outputs": [
        {
          "output_type": "execute_result",
          "data": {
            "text/plain": [
              "  DATA INICIAL  DIA INICIAL  MES INICIAL  ANO INICIAL  SEMANA INICIAL  \\\n",
              "0   2004-05-09            9            5         2004              19   \n",
              "1   2004-05-09            9            5         2004              19   \n",
              "2   2004-05-09            9            5         2004              19   \n",
              "3   2004-05-09            9            5         2004              19   \n",
              "4   2004-05-09            9            5         2004              19   \n",
              "\n",
              "   DATA FINAL  DIA FINAL  MES FINAL  ANO FINAL  SEMANA FINAL  ...  \\\n",
              "0  2004-05-15         15          5       2004            20  ...   \n",
              "1  2004-05-15         15          5       2004            20  ...   \n",
              "2  2004-05-15         15          5       2004            20  ...   \n",
              "3  2004-05-15         15          5       2004            20  ...   \n",
              "4  2004-05-15         15          5       2004            20  ...   \n",
              "\n",
              "  DESVIO PADRÃO REVENDA PREÇO MÍNIMO REVENDA PREÇO MÁXIMO REVENDA  \\\n",
              "0                 0.016                 1.19                1.350   \n",
              "1                 0.114                 0.89                1.449   \n",
              "2                 0.097                 1.18                1.760   \n",
              "3                 0.070                 1.09                1.509   \n",
              "4                 0.078                 1.05                1.400   \n",
              "\n",
              "   MARGEM MÉDIA REVENDA COEF DE VARIAÇÃO REVENDA  PREÇO MÉDIO DISTRIBUIÇÃO  \\\n",
              "0                 0.463                    0.012                     0.825   \n",
              "1                 0.399                    0.098                     0.763   \n",
              "2                 0.419                    0.070                     0.970   \n",
              "3                 0.432                    0.055                     0.830   \n",
              "4                 0.240                    0.066                     0.941   \n",
              "\n",
              "   DESVIO PADRÃO DISTRIBUIÇÃO  PREÇO MÍNIMO DISTRIBUIÇÃO  \\\n",
              "0                       0.110                     0.4201   \n",
              "1                       0.088                     0.5013   \n",
              "2                       0.095                     0.5614   \n",
              "3                       0.119                     0.5991   \n",
              "4                       0.077                     0.7441   \n",
              "\n",
              "   PREÇO MÁXIMO DISTRIBUIÇÃO  COEF DE VARIAÇÃO DISTRIBUIÇÃO  \n",
              "0                    0.96660                          0.133  \n",
              "1                    1.05000                          0.115  \n",
              "2                    1.16100                          0.098  \n",
              "3                    1.22242                          0.143  \n",
              "4                    1.03170                          0.082  \n",
              "\n",
              "[5 rows x 26 columns]"
            ],
            "text/html": [
              "\n",
              "  <div id=\"df-bc5543d8-5626-451d-9c64-60d923acbd13\">\n",
              "    <div class=\"colab-df-container\">\n",
              "      <div>\n",
              "<style scoped>\n",
              "    .dataframe tbody tr th:only-of-type {\n",
              "        vertical-align: middle;\n",
              "    }\n",
              "\n",
              "    .dataframe tbody tr th {\n",
              "        vertical-align: top;\n",
              "    }\n",
              "\n",
              "    .dataframe thead th {\n",
              "        text-align: right;\n",
              "    }\n",
              "</style>\n",
              "<table border=\"1\" class=\"dataframe\">\n",
              "  <thead>\n",
              "    <tr style=\"text-align: right;\">\n",
              "      <th></th>\n",
              "      <th>DATA INICIAL</th>\n",
              "      <th>DIA INICIAL</th>\n",
              "      <th>MES INICIAL</th>\n",
              "      <th>ANO INICIAL</th>\n",
              "      <th>SEMANA INICIAL</th>\n",
              "      <th>DATA FINAL</th>\n",
              "      <th>DIA FINAL</th>\n",
              "      <th>MES FINAL</th>\n",
              "      <th>ANO FINAL</th>\n",
              "      <th>SEMANA FINAL</th>\n",
              "      <th>...</th>\n",
              "      <th>DESVIO PADRÃO REVENDA</th>\n",
              "      <th>PREÇO MÍNIMO REVENDA</th>\n",
              "      <th>PREÇO MÁXIMO REVENDA</th>\n",
              "      <th>MARGEM MÉDIA REVENDA</th>\n",
              "      <th>COEF DE VARIAÇÃO REVENDA</th>\n",
              "      <th>PREÇO MÉDIO DISTRIBUIÇÃO</th>\n",
              "      <th>DESVIO PADRÃO DISTRIBUIÇÃO</th>\n",
              "      <th>PREÇO MÍNIMO DISTRIBUIÇÃO</th>\n",
              "      <th>PREÇO MÁXIMO DISTRIBUIÇÃO</th>\n",
              "      <th>COEF DE VARIAÇÃO DISTRIBUIÇÃO</th>\n",
              "    </tr>\n",
              "  </thead>\n",
              "  <tbody>\n",
              "    <tr>\n",
              "      <th>0</th>\n",
              "      <td>2004-05-09</td>\n",
              "      <td>9</td>\n",
              "      <td>5</td>\n",
              "      <td>2004</td>\n",
              "      <td>19</td>\n",
              "      <td>2004-05-15</td>\n",
              "      <td>15</td>\n",
              "      <td>5</td>\n",
              "      <td>2004</td>\n",
              "      <td>20</td>\n",
              "      <td>...</td>\n",
              "      <td>0.016</td>\n",
              "      <td>1.19</td>\n",
              "      <td>1.350</td>\n",
              "      <td>0.463</td>\n",
              "      <td>0.012</td>\n",
              "      <td>0.825</td>\n",
              "      <td>0.110</td>\n",
              "      <td>0.4201</td>\n",
              "      <td>0.96660</td>\n",
              "      <td>0.133</td>\n",
              "    </tr>\n",
              "    <tr>\n",
              "      <th>1</th>\n",
              "      <td>2004-05-09</td>\n",
              "      <td>9</td>\n",
              "      <td>5</td>\n",
              "      <td>2004</td>\n",
              "      <td>19</td>\n",
              "      <td>2004-05-15</td>\n",
              "      <td>15</td>\n",
              "      <td>5</td>\n",
              "      <td>2004</td>\n",
              "      <td>20</td>\n",
              "      <td>...</td>\n",
              "      <td>0.114</td>\n",
              "      <td>0.89</td>\n",
              "      <td>1.449</td>\n",
              "      <td>0.399</td>\n",
              "      <td>0.098</td>\n",
              "      <td>0.763</td>\n",
              "      <td>0.088</td>\n",
              "      <td>0.5013</td>\n",
              "      <td>1.05000</td>\n",
              "      <td>0.115</td>\n",
              "    </tr>\n",
              "    <tr>\n",
              "      <th>2</th>\n",
              "      <td>2004-05-09</td>\n",
              "      <td>9</td>\n",
              "      <td>5</td>\n",
              "      <td>2004</td>\n",
              "      <td>19</td>\n",
              "      <td>2004-05-15</td>\n",
              "      <td>15</td>\n",
              "      <td>5</td>\n",
              "      <td>2004</td>\n",
              "      <td>20</td>\n",
              "      <td>...</td>\n",
              "      <td>0.097</td>\n",
              "      <td>1.18</td>\n",
              "      <td>1.760</td>\n",
              "      <td>0.419</td>\n",
              "      <td>0.070</td>\n",
              "      <td>0.970</td>\n",
              "      <td>0.095</td>\n",
              "      <td>0.5614</td>\n",
              "      <td>1.16100</td>\n",
              "      <td>0.098</td>\n",
              "    </tr>\n",
              "    <tr>\n",
              "      <th>3</th>\n",
              "      <td>2004-05-09</td>\n",
              "      <td>9</td>\n",
              "      <td>5</td>\n",
              "      <td>2004</td>\n",
              "      <td>19</td>\n",
              "      <td>2004-05-15</td>\n",
              "      <td>15</td>\n",
              "      <td>5</td>\n",
              "      <td>2004</td>\n",
              "      <td>20</td>\n",
              "      <td>...</td>\n",
              "      <td>0.070</td>\n",
              "      <td>1.09</td>\n",
              "      <td>1.509</td>\n",
              "      <td>0.432</td>\n",
              "      <td>0.055</td>\n",
              "      <td>0.830</td>\n",
              "      <td>0.119</td>\n",
              "      <td>0.5991</td>\n",
              "      <td>1.22242</td>\n",
              "      <td>0.143</td>\n",
              "    </tr>\n",
              "    <tr>\n",
              "      <th>4</th>\n",
              "      <td>2004-05-09</td>\n",
              "      <td>9</td>\n",
              "      <td>5</td>\n",
              "      <td>2004</td>\n",
              "      <td>19</td>\n",
              "      <td>2004-05-15</td>\n",
              "      <td>15</td>\n",
              "      <td>5</td>\n",
              "      <td>2004</td>\n",
              "      <td>20</td>\n",
              "      <td>...</td>\n",
              "      <td>0.078</td>\n",
              "      <td>1.05</td>\n",
              "      <td>1.400</td>\n",
              "      <td>0.240</td>\n",
              "      <td>0.066</td>\n",
              "      <td>0.941</td>\n",
              "      <td>0.077</td>\n",
              "      <td>0.7441</td>\n",
              "      <td>1.03170</td>\n",
              "      <td>0.082</td>\n",
              "    </tr>\n",
              "  </tbody>\n",
              "</table>\n",
              "<p>5 rows × 26 columns</p>\n",
              "</div>\n",
              "      <button class=\"colab-df-convert\" onclick=\"convertToInteractive('df-bc5543d8-5626-451d-9c64-60d923acbd13')\"\n",
              "              title=\"Convert this dataframe to an interactive table.\"\n",
              "              style=\"display:none;\">\n",
              "        \n",
              "  <svg xmlns=\"http://www.w3.org/2000/svg\" height=\"24px\"viewBox=\"0 0 24 24\"\n",
              "       width=\"24px\">\n",
              "    <path d=\"M0 0h24v24H0V0z\" fill=\"none\"/>\n",
              "    <path d=\"M18.56 5.44l.94 2.06.94-2.06 2.06-.94-2.06-.94-.94-2.06-.94 2.06-2.06.94zm-11 1L8.5 8.5l.94-2.06 2.06-.94-2.06-.94L8.5 2.5l-.94 2.06-2.06.94zm10 10l.94 2.06.94-2.06 2.06-.94-2.06-.94-.94-2.06-.94 2.06-2.06.94z\"/><path d=\"M17.41 7.96l-1.37-1.37c-.4-.4-.92-.59-1.43-.59-.52 0-1.04.2-1.43.59L10.3 9.45l-7.72 7.72c-.78.78-.78 2.05 0 2.83L4 21.41c.39.39.9.59 1.41.59.51 0 1.02-.2 1.41-.59l7.78-7.78 2.81-2.81c.8-.78.8-2.07 0-2.86zM5.41 20L4 18.59l7.72-7.72 1.47 1.35L5.41 20z\"/>\n",
              "  </svg>\n",
              "      </button>\n",
              "      \n",
              "  <style>\n",
              "    .colab-df-container {\n",
              "      display:flex;\n",
              "      flex-wrap:wrap;\n",
              "      gap: 12px;\n",
              "    }\n",
              "\n",
              "    .colab-df-convert {\n",
              "      background-color: #E8F0FE;\n",
              "      border: none;\n",
              "      border-radius: 50%;\n",
              "      cursor: pointer;\n",
              "      display: none;\n",
              "      fill: #1967D2;\n",
              "      height: 32px;\n",
              "      padding: 0 0 0 0;\n",
              "      width: 32px;\n",
              "    }\n",
              "\n",
              "    .colab-df-convert:hover {\n",
              "      background-color: #E2EBFA;\n",
              "      box-shadow: 0px 1px 2px rgba(60, 64, 67, 0.3), 0px 1px 3px 1px rgba(60, 64, 67, 0.15);\n",
              "      fill: #174EA6;\n",
              "    }\n",
              "\n",
              "    [theme=dark] .colab-df-convert {\n",
              "      background-color: #3B4455;\n",
              "      fill: #D2E3FC;\n",
              "    }\n",
              "\n",
              "    [theme=dark] .colab-df-convert:hover {\n",
              "      background-color: #434B5C;\n",
              "      box-shadow: 0px 1px 3px 1px rgba(0, 0, 0, 0.15);\n",
              "      filter: drop-shadow(0px 1px 2px rgba(0, 0, 0, 0.3));\n",
              "      fill: #FFFFFF;\n",
              "    }\n",
              "  </style>\n",
              "\n",
              "      <script>\n",
              "        const buttonEl =\n",
              "          document.querySelector('#df-bc5543d8-5626-451d-9c64-60d923acbd13 button.colab-df-convert');\n",
              "        buttonEl.style.display =\n",
              "          google.colab.kernel.accessAllowed ? 'block' : 'none';\n",
              "\n",
              "        async function convertToInteractive(key) {\n",
              "          const element = document.querySelector('#df-bc5543d8-5626-451d-9c64-60d923acbd13');\n",
              "          const dataTable =\n",
              "            await google.colab.kernel.invokeFunction('convertToInteractive',\n",
              "                                                     [key], {});\n",
              "          if (!dataTable) return;\n",
              "\n",
              "          const docLinkHtml = 'Like what you see? Visit the ' +\n",
              "            '<a target=\"_blank\" href=https://colab.research.google.com/notebooks/data_table.ipynb>data table notebook</a>'\n",
              "            + ' to learn more about interactive tables.';\n",
              "          element.innerHTML = '';\n",
              "          dataTable['output_type'] = 'display_data';\n",
              "          await google.colab.output.renderOutput(dataTable, element);\n",
              "          const docLink = document.createElement('div');\n",
              "          docLink.innerHTML = docLinkHtml;\n",
              "          element.appendChild(docLink);\n",
              "        }\n",
              "      </script>\n",
              "    </div>\n",
              "  </div>\n",
              "  "
            ]
          },
          "metadata": {},
          "execution_count": 862
        }
      ]
    },
    {
      "cell_type": "markdown",
      "source": [
        "Vamos agora analisar as colunas object restantes e busca de mais algum ponto de tratamento (nomes iguais, mesma categoria, abreviações, etc)"
      ],
      "metadata": {
        "id": "gO52pUR1m4XJ"
      }
    },
    {
      "cell_type": "markdown",
      "source": [
        "Analisando os valores únicos das colunas\n",
        "\n",
        "- REGIÃO\n",
        "- ESTADO\n",
        "- PRODUTO\n",
        "- UNIDADE DE MEDIDA"
      ],
      "metadata": {
        "id": "_JGwCmegnLan"
      }
    },
    {
      "cell_type": "code",
      "source": [
        "dataset_gas_limpo['REGIÃO'].unique()"
      ],
      "metadata": {
        "colab": {
          "base_uri": "https://localhost:8080/"
        },
        "id": "V6yz-b9DGQfI",
        "outputId": "4788f435-00fe-4f86-9943-d1160a59affb"
      },
      "execution_count": 863,
      "outputs": [
        {
          "output_type": "execute_result",
          "data": {
            "text/plain": [
              "array(['CENTRO OESTE', 'NORDESTE', 'NORTE', 'SUDESTE', 'SUL'],\n",
              "      dtype=object)"
            ]
          },
          "metadata": {},
          "execution_count": 863
        }
      ]
    },
    {
      "cell_type": "code",
      "source": [
        "dataset_gas_limpo['ESTADO'].unique()"
      ],
      "metadata": {
        "colab": {
          "base_uri": "https://localhost:8080/"
        },
        "id": "j-fTGPTwGWjh",
        "outputId": "d7549d85-779f-450d-cbf4-737a85769d16"
      },
      "execution_count": 864,
      "outputs": [
        {
          "output_type": "execute_result",
          "data": {
            "text/plain": [
              "array(['DISTRITO FEDERAL', 'GOIAS', 'MATO GROSSO', 'MATO GROSSO DO SUL',\n",
              "       'ALAGOAS', 'BAHIA', 'CEARA', 'MARANHAO', 'PARAIBA', 'PERNAMBUCO',\n",
              "       'PIAUI', 'RIO GRANDE DO NORTE', 'SERGIPE', 'ACRE', 'AMAPA',\n",
              "       'AMAZONAS', 'PARA', 'RONDONIA', 'RORAIMA', 'TOCANTINS',\n",
              "       'ESPIRITO SANTO', 'MINAS GERAIS', 'RIO DE JANEIRO', 'SAO PAULO',\n",
              "       'PARANA', 'RIO GRANDE DO SUL', 'SANTA CATARINA'], dtype=object)"
            ]
          },
          "metadata": {},
          "execution_count": 864
        }
      ]
    },
    {
      "cell_type": "code",
      "source": [
        "dataset_gas_limpo['PRODUTO'].unique()"
      ],
      "metadata": {
        "colab": {
          "base_uri": "https://localhost:8080/"
        },
        "id": "In-Ltq2CGZxv",
        "outputId": "adfa4ab4-8471-4f81-98e0-094dddaeb0e1"
      },
      "execution_count": 865,
      "outputs": [
        {
          "output_type": "execute_result",
          "data": {
            "text/plain": [
              "array(['ETANOL HIDRATADO', 'GASOLINA COMUM', 'GLP', 'GNV', 'ÓLEO DIESEL',\n",
              "       'ÓLEO DIESEL S10', 'OLEO DIESEL', 'OLEO DIESEL S10'], dtype=object)"
            ]
          },
          "metadata": {},
          "execution_count": 865
        }
      ]
    },
    {
      "cell_type": "code",
      "source": [
        "dataset_gas_limpo['UNIDADE DE MEDIDA'].unique()"
      ],
      "metadata": {
        "colab": {
          "base_uri": "https://localhost:8080/"
        },
        "id": "Df6c07uvGhXm",
        "outputId": "2b07dc73-9f48-47a3-b83c-7867129a86d2"
      },
      "execution_count": 866,
      "outputs": [
        {
          "output_type": "execute_result",
          "data": {
            "text/plain": [
              "array(['R$/l', 'R$/13Kg', 'R$/m3'], dtype=object)"
            ]
          },
          "metadata": {},
          "execution_count": 866
        }
      ]
    },
    {
      "cell_type": "markdown",
      "source": [
        "Analisando os valores únicos das colunas, vamos fazer as seguintes modificações:\n",
        "\n",
        "- REGIÃO\n",
        "  - Não há o que modificar\n",
        "- ESTADO\n",
        "  - Modificação para siglas\n",
        "- PRODUTO\n",
        "  - Padronização de palavras\n",
        "- UNIDADE DE MEDIDA\n",
        "  - Não há o que modificar"
      ],
      "metadata": {
        "id": "Xo1ucMEsnezG"
      }
    },
    {
      "cell_type": "code",
      "source": [
        "estado = {'DISTRITO FEDERAL': 'DF',\n",
        "          'GOIAS': 'GO',\n",
        "          'MATO GROSSO': 'MT',\n",
        "          'MATO GROSSO DO SUL': 'MS',\n",
        "          'ALAGOAS': 'AL',\n",
        "          'BAHIA': 'BA',\n",
        "          'CEARA': 'CE',\n",
        "          'MARANHAO': 'MA',\n",
        "          'PARAIBA': 'PB',\n",
        "          'PERNAMBUCO': 'PE',\n",
        "          'PIAUI': 'PI',\n",
        "          'RIO GRANDE DO NORTE': 'RN',\n",
        "          'SERGIPE': 'SE',\n",
        "          'ACRE': 'AC',\n",
        "          'AMAPA': 'AP',\n",
        "          'AMAZONAS': 'AM',\n",
        "          'PARA': 'PA',\n",
        "          'RONDONIA': 'RO',\n",
        "          'RORAIMA': 'RR',\n",
        "          'TOCANTINS': 'TO',\n",
        "          'ESPIRITO SANTO': 'ES',\n",
        "          'MINAS GERAIS': 'MG',\n",
        "          'RIO DE JANEIRO': 'RJ',\n",
        "          'SAO PAULO': 'SP',\n",
        "          'PARANA': 'PR',\n",
        "          'RIO GRANDE DO SUL': 'RS',\n",
        "          'SANTA CATARINA': 'SC'\n",
        "}\n",
        "dataset_gas_limpo['ESTADO'] = dataset_gas_limpo['ESTADO'].map(estado)"
      ],
      "metadata": {
        "id": "tkdVsMraqomW"
      },
      "execution_count": 867,
      "outputs": []
    },
    {
      "cell_type": "code",
      "source": [
        "dataset_gas_limpo = dataset_gas_limpo.replace('ÓLEO DIESEL' , 'OLEO DIESEL')\n",
        "dataset_gas_limpo = dataset_gas_limpo.replace('ÓLEO DIESEL S10' , 'OLEO DIESEL S10')\n",
        "dataset_gas_limpo['PRODUTO'].unique()"
      ],
      "metadata": {
        "colab": {
          "base_uri": "https://localhost:8080/"
        },
        "id": "Zi_XnIttqojN",
        "outputId": "063fb8b8-824d-400a-9d52-b847be4289cb"
      },
      "execution_count": 868,
      "outputs": [
        {
          "output_type": "execute_result",
          "data": {
            "text/plain": [
              "array(['ETANOL HIDRATADO', 'GASOLINA COMUM', 'GLP', 'GNV', 'OLEO DIESEL',\n",
              "       'OLEO DIESEL S10'], dtype=object)"
            ]
          },
          "metadata": {},
          "execution_count": 868
        }
      ]
    },
    {
      "cell_type": "markdown",
      "source": [
        "Depois de todas as modificações, nosso dataset ficou assim:"
      ],
      "metadata": {
        "id": "x4qUUYLsA-Hs"
      }
    },
    {
      "cell_type": "code",
      "source": [
        "dataset_gas_limpo.head()"
      ],
      "metadata": {
        "colab": {
          "base_uri": "https://localhost:8080/",
          "height": 401
        },
        "id": "msAvbc2IA5Nt",
        "outputId": "f9f7416f-8550-409a-d06b-e021d6e564ea"
      },
      "execution_count": 871,
      "outputs": [
        {
          "output_type": "execute_result",
          "data": {
            "text/plain": [
              "  DATA INICIAL  DIA INICIAL  MES INICIAL  ANO INICIAL  SEMANA INICIAL  \\\n",
              "0   2004-05-09            9            5         2004              19   \n",
              "1   2004-05-09            9            5         2004              19   \n",
              "2   2004-05-09            9            5         2004              19   \n",
              "3   2004-05-09            9            5         2004              19   \n",
              "4   2004-05-09            9            5         2004              19   \n",
              "\n",
              "   DATA FINAL  DIA FINAL  MES FINAL  ANO FINAL  SEMANA FINAL  ...  \\\n",
              "0  2004-05-15         15          5       2004            20  ...   \n",
              "1  2004-05-15         15          5       2004            20  ...   \n",
              "2  2004-05-15         15          5       2004            20  ...   \n",
              "3  2004-05-15         15          5       2004            20  ...   \n",
              "4  2004-05-15         15          5       2004            20  ...   \n",
              "\n",
              "  DESVIO PADRÃO REVENDA PREÇO MÍNIMO REVENDA PREÇO MÁXIMO REVENDA  \\\n",
              "0                 0.016                 1.19                1.350   \n",
              "1                 0.114                 0.89                1.449   \n",
              "2                 0.097                 1.18                1.760   \n",
              "3                 0.070                 1.09                1.509   \n",
              "4                 0.078                 1.05                1.400   \n",
              "\n",
              "   MARGEM MÉDIA REVENDA COEF DE VARIAÇÃO REVENDA  PREÇO MÉDIO DISTRIBUIÇÃO  \\\n",
              "0                 0.463                    0.012                     0.825   \n",
              "1                 0.399                    0.098                     0.763   \n",
              "2                 0.419                    0.070                     0.970   \n",
              "3                 0.432                    0.055                     0.830   \n",
              "4                 0.240                    0.066                     0.941   \n",
              "\n",
              "   DESVIO PADRÃO DISTRIBUIÇÃO  PREÇO MÍNIMO DISTRIBUIÇÃO  \\\n",
              "0                       0.110                     0.4201   \n",
              "1                       0.088                     0.5013   \n",
              "2                       0.095                     0.5614   \n",
              "3                       0.119                     0.5991   \n",
              "4                       0.077                     0.7441   \n",
              "\n",
              "   PREÇO MÁXIMO DISTRIBUIÇÃO  COEF DE VARIAÇÃO DISTRIBUIÇÃO  \n",
              "0                    0.96660                          0.133  \n",
              "1                    1.05000                          0.115  \n",
              "2                    1.16100                          0.098  \n",
              "3                    1.22242                          0.143  \n",
              "4                    1.03170                          0.082  \n",
              "\n",
              "[5 rows x 26 columns]"
            ],
            "text/html": [
              "\n",
              "  <div id=\"df-b97cc054-438a-4dc7-80d7-6d8cc3943c28\">\n",
              "    <div class=\"colab-df-container\">\n",
              "      <div>\n",
              "<style scoped>\n",
              "    .dataframe tbody tr th:only-of-type {\n",
              "        vertical-align: middle;\n",
              "    }\n",
              "\n",
              "    .dataframe tbody tr th {\n",
              "        vertical-align: top;\n",
              "    }\n",
              "\n",
              "    .dataframe thead th {\n",
              "        text-align: right;\n",
              "    }\n",
              "</style>\n",
              "<table border=\"1\" class=\"dataframe\">\n",
              "  <thead>\n",
              "    <tr style=\"text-align: right;\">\n",
              "      <th></th>\n",
              "      <th>DATA INICIAL</th>\n",
              "      <th>DIA INICIAL</th>\n",
              "      <th>MES INICIAL</th>\n",
              "      <th>ANO INICIAL</th>\n",
              "      <th>SEMANA INICIAL</th>\n",
              "      <th>DATA FINAL</th>\n",
              "      <th>DIA FINAL</th>\n",
              "      <th>MES FINAL</th>\n",
              "      <th>ANO FINAL</th>\n",
              "      <th>SEMANA FINAL</th>\n",
              "      <th>...</th>\n",
              "      <th>DESVIO PADRÃO REVENDA</th>\n",
              "      <th>PREÇO MÍNIMO REVENDA</th>\n",
              "      <th>PREÇO MÁXIMO REVENDA</th>\n",
              "      <th>MARGEM MÉDIA REVENDA</th>\n",
              "      <th>COEF DE VARIAÇÃO REVENDA</th>\n",
              "      <th>PREÇO MÉDIO DISTRIBUIÇÃO</th>\n",
              "      <th>DESVIO PADRÃO DISTRIBUIÇÃO</th>\n",
              "      <th>PREÇO MÍNIMO DISTRIBUIÇÃO</th>\n",
              "      <th>PREÇO MÁXIMO DISTRIBUIÇÃO</th>\n",
              "      <th>COEF DE VARIAÇÃO DISTRIBUIÇÃO</th>\n",
              "    </tr>\n",
              "  </thead>\n",
              "  <tbody>\n",
              "    <tr>\n",
              "      <th>0</th>\n",
              "      <td>2004-05-09</td>\n",
              "      <td>9</td>\n",
              "      <td>5</td>\n",
              "      <td>2004</td>\n",
              "      <td>19</td>\n",
              "      <td>2004-05-15</td>\n",
              "      <td>15</td>\n",
              "      <td>5</td>\n",
              "      <td>2004</td>\n",
              "      <td>20</td>\n",
              "      <td>...</td>\n",
              "      <td>0.016</td>\n",
              "      <td>1.19</td>\n",
              "      <td>1.350</td>\n",
              "      <td>0.463</td>\n",
              "      <td>0.012</td>\n",
              "      <td>0.825</td>\n",
              "      <td>0.110</td>\n",
              "      <td>0.4201</td>\n",
              "      <td>0.96660</td>\n",
              "      <td>0.133</td>\n",
              "    </tr>\n",
              "    <tr>\n",
              "      <th>1</th>\n",
              "      <td>2004-05-09</td>\n",
              "      <td>9</td>\n",
              "      <td>5</td>\n",
              "      <td>2004</td>\n",
              "      <td>19</td>\n",
              "      <td>2004-05-15</td>\n",
              "      <td>15</td>\n",
              "      <td>5</td>\n",
              "      <td>2004</td>\n",
              "      <td>20</td>\n",
              "      <td>...</td>\n",
              "      <td>0.114</td>\n",
              "      <td>0.89</td>\n",
              "      <td>1.449</td>\n",
              "      <td>0.399</td>\n",
              "      <td>0.098</td>\n",
              "      <td>0.763</td>\n",
              "      <td>0.088</td>\n",
              "      <td>0.5013</td>\n",
              "      <td>1.05000</td>\n",
              "      <td>0.115</td>\n",
              "    </tr>\n",
              "    <tr>\n",
              "      <th>2</th>\n",
              "      <td>2004-05-09</td>\n",
              "      <td>9</td>\n",
              "      <td>5</td>\n",
              "      <td>2004</td>\n",
              "      <td>19</td>\n",
              "      <td>2004-05-15</td>\n",
              "      <td>15</td>\n",
              "      <td>5</td>\n",
              "      <td>2004</td>\n",
              "      <td>20</td>\n",
              "      <td>...</td>\n",
              "      <td>0.097</td>\n",
              "      <td>1.18</td>\n",
              "      <td>1.760</td>\n",
              "      <td>0.419</td>\n",
              "      <td>0.070</td>\n",
              "      <td>0.970</td>\n",
              "      <td>0.095</td>\n",
              "      <td>0.5614</td>\n",
              "      <td>1.16100</td>\n",
              "      <td>0.098</td>\n",
              "    </tr>\n",
              "    <tr>\n",
              "      <th>3</th>\n",
              "      <td>2004-05-09</td>\n",
              "      <td>9</td>\n",
              "      <td>5</td>\n",
              "      <td>2004</td>\n",
              "      <td>19</td>\n",
              "      <td>2004-05-15</td>\n",
              "      <td>15</td>\n",
              "      <td>5</td>\n",
              "      <td>2004</td>\n",
              "      <td>20</td>\n",
              "      <td>...</td>\n",
              "      <td>0.070</td>\n",
              "      <td>1.09</td>\n",
              "      <td>1.509</td>\n",
              "      <td>0.432</td>\n",
              "      <td>0.055</td>\n",
              "      <td>0.830</td>\n",
              "      <td>0.119</td>\n",
              "      <td>0.5991</td>\n",
              "      <td>1.22242</td>\n",
              "      <td>0.143</td>\n",
              "    </tr>\n",
              "    <tr>\n",
              "      <th>4</th>\n",
              "      <td>2004-05-09</td>\n",
              "      <td>9</td>\n",
              "      <td>5</td>\n",
              "      <td>2004</td>\n",
              "      <td>19</td>\n",
              "      <td>2004-05-15</td>\n",
              "      <td>15</td>\n",
              "      <td>5</td>\n",
              "      <td>2004</td>\n",
              "      <td>20</td>\n",
              "      <td>...</td>\n",
              "      <td>0.078</td>\n",
              "      <td>1.05</td>\n",
              "      <td>1.400</td>\n",
              "      <td>0.240</td>\n",
              "      <td>0.066</td>\n",
              "      <td>0.941</td>\n",
              "      <td>0.077</td>\n",
              "      <td>0.7441</td>\n",
              "      <td>1.03170</td>\n",
              "      <td>0.082</td>\n",
              "    </tr>\n",
              "  </tbody>\n",
              "</table>\n",
              "<p>5 rows × 26 columns</p>\n",
              "</div>\n",
              "      <button class=\"colab-df-convert\" onclick=\"convertToInteractive('df-b97cc054-438a-4dc7-80d7-6d8cc3943c28')\"\n",
              "              title=\"Convert this dataframe to an interactive table.\"\n",
              "              style=\"display:none;\">\n",
              "        \n",
              "  <svg xmlns=\"http://www.w3.org/2000/svg\" height=\"24px\"viewBox=\"0 0 24 24\"\n",
              "       width=\"24px\">\n",
              "    <path d=\"M0 0h24v24H0V0z\" fill=\"none\"/>\n",
              "    <path d=\"M18.56 5.44l.94 2.06.94-2.06 2.06-.94-2.06-.94-.94-2.06-.94 2.06-2.06.94zm-11 1L8.5 8.5l.94-2.06 2.06-.94-2.06-.94L8.5 2.5l-.94 2.06-2.06.94zm10 10l.94 2.06.94-2.06 2.06-.94-2.06-.94-.94-2.06-.94 2.06-2.06.94z\"/><path d=\"M17.41 7.96l-1.37-1.37c-.4-.4-.92-.59-1.43-.59-.52 0-1.04.2-1.43.59L10.3 9.45l-7.72 7.72c-.78.78-.78 2.05 0 2.83L4 21.41c.39.39.9.59 1.41.59.51 0 1.02-.2 1.41-.59l7.78-7.78 2.81-2.81c.8-.78.8-2.07 0-2.86zM5.41 20L4 18.59l7.72-7.72 1.47 1.35L5.41 20z\"/>\n",
              "  </svg>\n",
              "      </button>\n",
              "      \n",
              "  <style>\n",
              "    .colab-df-container {\n",
              "      display:flex;\n",
              "      flex-wrap:wrap;\n",
              "      gap: 12px;\n",
              "    }\n",
              "\n",
              "    .colab-df-convert {\n",
              "      background-color: #E8F0FE;\n",
              "      border: none;\n",
              "      border-radius: 50%;\n",
              "      cursor: pointer;\n",
              "      display: none;\n",
              "      fill: #1967D2;\n",
              "      height: 32px;\n",
              "      padding: 0 0 0 0;\n",
              "      width: 32px;\n",
              "    }\n",
              "\n",
              "    .colab-df-convert:hover {\n",
              "      background-color: #E2EBFA;\n",
              "      box-shadow: 0px 1px 2px rgba(60, 64, 67, 0.3), 0px 1px 3px 1px rgba(60, 64, 67, 0.15);\n",
              "      fill: #174EA6;\n",
              "    }\n",
              "\n",
              "    [theme=dark] .colab-df-convert {\n",
              "      background-color: #3B4455;\n",
              "      fill: #D2E3FC;\n",
              "    }\n",
              "\n",
              "    [theme=dark] .colab-df-convert:hover {\n",
              "      background-color: #434B5C;\n",
              "      box-shadow: 0px 1px 3px 1px rgba(0, 0, 0, 0.15);\n",
              "      filter: drop-shadow(0px 1px 2px rgba(0, 0, 0, 0.3));\n",
              "      fill: #FFFFFF;\n",
              "    }\n",
              "  </style>\n",
              "\n",
              "      <script>\n",
              "        const buttonEl =\n",
              "          document.querySelector('#df-b97cc054-438a-4dc7-80d7-6d8cc3943c28 button.colab-df-convert');\n",
              "        buttonEl.style.display =\n",
              "          google.colab.kernel.accessAllowed ? 'block' : 'none';\n",
              "\n",
              "        async function convertToInteractive(key) {\n",
              "          const element = document.querySelector('#df-b97cc054-438a-4dc7-80d7-6d8cc3943c28');\n",
              "          const dataTable =\n",
              "            await google.colab.kernel.invokeFunction('convertToInteractive',\n",
              "                                                     [key], {});\n",
              "          if (!dataTable) return;\n",
              "\n",
              "          const docLinkHtml = 'Like what you see? Visit the ' +\n",
              "            '<a target=\"_blank\" href=https://colab.research.google.com/notebooks/data_table.ipynb>data table notebook</a>'\n",
              "            + ' to learn more about interactive tables.';\n",
              "          element.innerHTML = '';\n",
              "          dataTable['output_type'] = 'display_data';\n",
              "          await google.colab.output.renderOutput(dataTable, element);\n",
              "          const docLink = document.createElement('div');\n",
              "          docLink.innerHTML = docLinkHtml;\n",
              "          element.appendChild(docLink);\n",
              "        }\n",
              "      </script>\n",
              "    </div>\n",
              "  </div>\n",
              "  "
            ]
          },
          "metadata": {},
          "execution_count": 871
        }
      ]
    },
    {
      "cell_type": "markdown",
      "source": [
        "## 4.0 ANÁLISE EXPLORATÓRIA"
      ],
      "metadata": {
        "id": "tP6MBb7Xurrk"
      }
    },
    {
      "cell_type": "code",
      "source": [
        "selected_rows = dataset_gas_limpo[dataset_gas['UNIDADE DE MEDIDA'] == 'R$/m3']\n",
        "selected_rows.head()"
      ],
      "metadata": {
        "colab": {
          "base_uri": "https://localhost:8080/",
          "height": 437
        },
        "id": "313tJC97GoYg",
        "outputId": "e740eda7-9c8d-4a52-9b01-935e84ac8293"
      },
      "execution_count": 869,
      "outputs": [
        {
          "output_type": "stream",
          "name": "stderr",
          "text": [
            "<ipython-input-869-52e263dd2a2a>:1: UserWarning: Boolean Series key will be reindexed to match DataFrame index.\n",
            "  selected_rows = dataset_gas_limpo[dataset_gas['UNIDADE DE MEDIDA'] == 'R$/m3']\n"
          ]
        },
        {
          "output_type": "execute_result",
          "data": {
            "text/plain": [
              "      DATA INICIAL  DIA INICIAL  MES INICIAL  ANO INICIAL  SEMANA INICIAL  \\\n",
              "36196   2004-05-09            9            5         2004              19   \n",
              "36197   2004-05-09            9            5         2004              19   \n",
              "36198   2004-05-09            9            5         2004              19   \n",
              "36199   2004-05-09            9            5         2004              19   \n",
              "36200   2004-05-09            9            5         2004              19   \n",
              "\n",
              "       DATA FINAL  DIA FINAL  MES FINAL  ANO FINAL  SEMANA FINAL  ...  \\\n",
              "36196  2004-05-15         15          5       2004            20  ...   \n",
              "36197  2004-05-15         15          5       2004            20  ...   \n",
              "36198  2004-05-15         15          5       2004            20  ...   \n",
              "36199  2004-05-15         15          5       2004            20  ...   \n",
              "36200  2004-05-15         15          5       2004            20  ...   \n",
              "\n",
              "      DESVIO PADRÃO REVENDA PREÇO MÍNIMO REVENDA PREÇO MÁXIMO REVENDA  \\\n",
              "36196                 0.000                1.099                1.099   \n",
              "36197                 0.000                1.084                1.084   \n",
              "36198                 0.000                1.079                1.079   \n",
              "36199                 0.001                1.180                1.184   \n",
              "36200                 0.000                1.149                1.149   \n",
              "\n",
              "       MARGEM MÉDIA REVENDA COEF DE VARIAÇÃO REVENDA  \\\n",
              "36196                 0.257                    0.000   \n",
              "36197                 0.295                    0.000   \n",
              "36198                 0.374                    0.000   \n",
              "36199                 0.354                    0.001   \n",
              "36200                 0.357                    0.000   \n",
              "\n",
              "       PREÇO MÉDIO DISTRIBUIÇÃO  DESVIO PADRÃO DISTRIBUIÇÃO  \\\n",
              "36196                     0.842                       0.011   \n",
              "36197                     0.789                       0.000   \n",
              "36198                     0.705                       0.136   \n",
              "36199                     0.830                       0.096   \n",
              "36200                     0.792                       0.098   \n",
              "\n",
              "       PREÇO MÍNIMO DISTRIBUIÇÃO  PREÇO MÁXIMO DISTRIBUIÇÃO  \\\n",
              "36196                     0.8347                     0.8546   \n",
              "36197                     0.7888                     0.7888   \n",
              "36198                     0.4214                     0.8031   \n",
              "36199                     0.6811                     0.9982   \n",
              "36200                     0.6827                     0.9071   \n",
              "\n",
              "       COEF DE VARIAÇÃO DISTRIBUIÇÃO  \n",
              "36196                          0.013  \n",
              "36197                          0.000  \n",
              "36198                          0.193  \n",
              "36199                          0.116  \n",
              "36200                          0.124  \n",
              "\n",
              "[5 rows x 26 columns]"
            ],
            "text/html": [
              "\n",
              "  <div id=\"df-93e445a3-e3e2-4be2-b014-c7c6224d5d8e\">\n",
              "    <div class=\"colab-df-container\">\n",
              "      <div>\n",
              "<style scoped>\n",
              "    .dataframe tbody tr th:only-of-type {\n",
              "        vertical-align: middle;\n",
              "    }\n",
              "\n",
              "    .dataframe tbody tr th {\n",
              "        vertical-align: top;\n",
              "    }\n",
              "\n",
              "    .dataframe thead th {\n",
              "        text-align: right;\n",
              "    }\n",
              "</style>\n",
              "<table border=\"1\" class=\"dataframe\">\n",
              "  <thead>\n",
              "    <tr style=\"text-align: right;\">\n",
              "      <th></th>\n",
              "      <th>DATA INICIAL</th>\n",
              "      <th>DIA INICIAL</th>\n",
              "      <th>MES INICIAL</th>\n",
              "      <th>ANO INICIAL</th>\n",
              "      <th>SEMANA INICIAL</th>\n",
              "      <th>DATA FINAL</th>\n",
              "      <th>DIA FINAL</th>\n",
              "      <th>MES FINAL</th>\n",
              "      <th>ANO FINAL</th>\n",
              "      <th>SEMANA FINAL</th>\n",
              "      <th>...</th>\n",
              "      <th>DESVIO PADRÃO REVENDA</th>\n",
              "      <th>PREÇO MÍNIMO REVENDA</th>\n",
              "      <th>PREÇO MÁXIMO REVENDA</th>\n",
              "      <th>MARGEM MÉDIA REVENDA</th>\n",
              "      <th>COEF DE VARIAÇÃO REVENDA</th>\n",
              "      <th>PREÇO MÉDIO DISTRIBUIÇÃO</th>\n",
              "      <th>DESVIO PADRÃO DISTRIBUIÇÃO</th>\n",
              "      <th>PREÇO MÍNIMO DISTRIBUIÇÃO</th>\n",
              "      <th>PREÇO MÁXIMO DISTRIBUIÇÃO</th>\n",
              "      <th>COEF DE VARIAÇÃO DISTRIBUIÇÃO</th>\n",
              "    </tr>\n",
              "  </thead>\n",
              "  <tbody>\n",
              "    <tr>\n",
              "      <th>36196</th>\n",
              "      <td>2004-05-09</td>\n",
              "      <td>9</td>\n",
              "      <td>5</td>\n",
              "      <td>2004</td>\n",
              "      <td>19</td>\n",
              "      <td>2004-05-15</td>\n",
              "      <td>15</td>\n",
              "      <td>5</td>\n",
              "      <td>2004</td>\n",
              "      <td>20</td>\n",
              "      <td>...</td>\n",
              "      <td>0.000</td>\n",
              "      <td>1.099</td>\n",
              "      <td>1.099</td>\n",
              "      <td>0.257</td>\n",
              "      <td>0.000</td>\n",
              "      <td>0.842</td>\n",
              "      <td>0.011</td>\n",
              "      <td>0.8347</td>\n",
              "      <td>0.8546</td>\n",
              "      <td>0.013</td>\n",
              "    </tr>\n",
              "    <tr>\n",
              "      <th>36197</th>\n",
              "      <td>2004-05-09</td>\n",
              "      <td>9</td>\n",
              "      <td>5</td>\n",
              "      <td>2004</td>\n",
              "      <td>19</td>\n",
              "      <td>2004-05-15</td>\n",
              "      <td>15</td>\n",
              "      <td>5</td>\n",
              "      <td>2004</td>\n",
              "      <td>20</td>\n",
              "      <td>...</td>\n",
              "      <td>0.000</td>\n",
              "      <td>1.084</td>\n",
              "      <td>1.084</td>\n",
              "      <td>0.295</td>\n",
              "      <td>0.000</td>\n",
              "      <td>0.789</td>\n",
              "      <td>0.000</td>\n",
              "      <td>0.7888</td>\n",
              "      <td>0.7888</td>\n",
              "      <td>0.000</td>\n",
              "    </tr>\n",
              "    <tr>\n",
              "      <th>36198</th>\n",
              "      <td>2004-05-09</td>\n",
              "      <td>9</td>\n",
              "      <td>5</td>\n",
              "      <td>2004</td>\n",
              "      <td>19</td>\n",
              "      <td>2004-05-15</td>\n",
              "      <td>15</td>\n",
              "      <td>5</td>\n",
              "      <td>2004</td>\n",
              "      <td>20</td>\n",
              "      <td>...</td>\n",
              "      <td>0.000</td>\n",
              "      <td>1.079</td>\n",
              "      <td>1.079</td>\n",
              "      <td>0.374</td>\n",
              "      <td>0.000</td>\n",
              "      <td>0.705</td>\n",
              "      <td>0.136</td>\n",
              "      <td>0.4214</td>\n",
              "      <td>0.8031</td>\n",
              "      <td>0.193</td>\n",
              "    </tr>\n",
              "    <tr>\n",
              "      <th>36199</th>\n",
              "      <td>2004-05-09</td>\n",
              "      <td>9</td>\n",
              "      <td>5</td>\n",
              "      <td>2004</td>\n",
              "      <td>19</td>\n",
              "      <td>2004-05-15</td>\n",
              "      <td>15</td>\n",
              "      <td>5</td>\n",
              "      <td>2004</td>\n",
              "      <td>20</td>\n",
              "      <td>...</td>\n",
              "      <td>0.001</td>\n",
              "      <td>1.180</td>\n",
              "      <td>1.184</td>\n",
              "      <td>0.354</td>\n",
              "      <td>0.001</td>\n",
              "      <td>0.830</td>\n",
              "      <td>0.096</td>\n",
              "      <td>0.6811</td>\n",
              "      <td>0.9982</td>\n",
              "      <td>0.116</td>\n",
              "    </tr>\n",
              "    <tr>\n",
              "      <th>36200</th>\n",
              "      <td>2004-05-09</td>\n",
              "      <td>9</td>\n",
              "      <td>5</td>\n",
              "      <td>2004</td>\n",
              "      <td>19</td>\n",
              "      <td>2004-05-15</td>\n",
              "      <td>15</td>\n",
              "      <td>5</td>\n",
              "      <td>2004</td>\n",
              "      <td>20</td>\n",
              "      <td>...</td>\n",
              "      <td>0.000</td>\n",
              "      <td>1.149</td>\n",
              "      <td>1.149</td>\n",
              "      <td>0.357</td>\n",
              "      <td>0.000</td>\n",
              "      <td>0.792</td>\n",
              "      <td>0.098</td>\n",
              "      <td>0.6827</td>\n",
              "      <td>0.9071</td>\n",
              "      <td>0.124</td>\n",
              "    </tr>\n",
              "  </tbody>\n",
              "</table>\n",
              "<p>5 rows × 26 columns</p>\n",
              "</div>\n",
              "      <button class=\"colab-df-convert\" onclick=\"convertToInteractive('df-93e445a3-e3e2-4be2-b014-c7c6224d5d8e')\"\n",
              "              title=\"Convert this dataframe to an interactive table.\"\n",
              "              style=\"display:none;\">\n",
              "        \n",
              "  <svg xmlns=\"http://www.w3.org/2000/svg\" height=\"24px\"viewBox=\"0 0 24 24\"\n",
              "       width=\"24px\">\n",
              "    <path d=\"M0 0h24v24H0V0z\" fill=\"none\"/>\n",
              "    <path d=\"M18.56 5.44l.94 2.06.94-2.06 2.06-.94-2.06-.94-.94-2.06-.94 2.06-2.06.94zm-11 1L8.5 8.5l.94-2.06 2.06-.94-2.06-.94L8.5 2.5l-.94 2.06-2.06.94zm10 10l.94 2.06.94-2.06 2.06-.94-2.06-.94-.94-2.06-.94 2.06-2.06.94z\"/><path d=\"M17.41 7.96l-1.37-1.37c-.4-.4-.92-.59-1.43-.59-.52 0-1.04.2-1.43.59L10.3 9.45l-7.72 7.72c-.78.78-.78 2.05 0 2.83L4 21.41c.39.39.9.59 1.41.59.51 0 1.02-.2 1.41-.59l7.78-7.78 2.81-2.81c.8-.78.8-2.07 0-2.86zM5.41 20L4 18.59l7.72-7.72 1.47 1.35L5.41 20z\"/>\n",
              "  </svg>\n",
              "      </button>\n",
              "      \n",
              "  <style>\n",
              "    .colab-df-container {\n",
              "      display:flex;\n",
              "      flex-wrap:wrap;\n",
              "      gap: 12px;\n",
              "    }\n",
              "\n",
              "    .colab-df-convert {\n",
              "      background-color: #E8F0FE;\n",
              "      border: none;\n",
              "      border-radius: 50%;\n",
              "      cursor: pointer;\n",
              "      display: none;\n",
              "      fill: #1967D2;\n",
              "      height: 32px;\n",
              "      padding: 0 0 0 0;\n",
              "      width: 32px;\n",
              "    }\n",
              "\n",
              "    .colab-df-convert:hover {\n",
              "      background-color: #E2EBFA;\n",
              "      box-shadow: 0px 1px 2px rgba(60, 64, 67, 0.3), 0px 1px 3px 1px rgba(60, 64, 67, 0.15);\n",
              "      fill: #174EA6;\n",
              "    }\n",
              "\n",
              "    [theme=dark] .colab-df-convert {\n",
              "      background-color: #3B4455;\n",
              "      fill: #D2E3FC;\n",
              "    }\n",
              "\n",
              "    [theme=dark] .colab-df-convert:hover {\n",
              "      background-color: #434B5C;\n",
              "      box-shadow: 0px 1px 3px 1px rgba(0, 0, 0, 0.15);\n",
              "      filter: drop-shadow(0px 1px 2px rgba(0, 0, 0, 0.3));\n",
              "      fill: #FFFFFF;\n",
              "    }\n",
              "  </style>\n",
              "\n",
              "      <script>\n",
              "        const buttonEl =\n",
              "          document.querySelector('#df-93e445a3-e3e2-4be2-b014-c7c6224d5d8e button.colab-df-convert');\n",
              "        buttonEl.style.display =\n",
              "          google.colab.kernel.accessAllowed ? 'block' : 'none';\n",
              "\n",
              "        async function convertToInteractive(key) {\n",
              "          const element = document.querySelector('#df-93e445a3-e3e2-4be2-b014-c7c6224d5d8e');\n",
              "          const dataTable =\n",
              "            await google.colab.kernel.invokeFunction('convertToInteractive',\n",
              "                                                     [key], {});\n",
              "          if (!dataTable) return;\n",
              "\n",
              "          const docLinkHtml = 'Like what you see? Visit the ' +\n",
              "            '<a target=\"_blank\" href=https://colab.research.google.com/notebooks/data_table.ipynb>data table notebook</a>'\n",
              "            + ' to learn more about interactive tables.';\n",
              "          element.innerHTML = '';\n",
              "          dataTable['output_type'] = 'display_data';\n",
              "          await google.colab.output.renderOutput(dataTable, element);\n",
              "          const docLink = document.createElement('div');\n",
              "          docLink.innerHTML = docLinkHtml;\n",
              "          element.appendChild(docLink);\n",
              "        }\n",
              "      </script>\n",
              "    </div>\n",
              "  </div>\n",
              "  "
            ]
          },
          "metadata": {},
          "execution_count": 869
        }
      ]
    },
    {
      "cell_type": "code",
      "source": [],
      "metadata": {
        "id": "DMdZT_BPqof4"
      },
      "execution_count": 869,
      "outputs": []
    },
    {
      "cell_type": "code",
      "source": [],
      "metadata": {
        "id": "Dm0dB5CVqoc5"
      },
      "execution_count": 869,
      "outputs": []
    },
    {
      "cell_type": "code",
      "source": [],
      "metadata": {
        "id": "FSmhnbhCqoYp"
      },
      "execution_count": 869,
      "outputs": []
    },
    {
      "cell_type": "code",
      "source": [],
      "metadata": {
        "id": "hEE6-W3pqoUR"
      },
      "execution_count": 869,
      "outputs": []
    },
    {
      "cell_type": "code",
      "source": [],
      "metadata": {
        "id": "1BVES2ZaqoQW"
      },
      "execution_count": 869,
      "outputs": []
    },
    {
      "cell_type": "code",
      "source": [],
      "metadata": {
        "id": "oND5N-x9qoNe"
      },
      "execution_count": 869,
      "outputs": []
    },
    {
      "cell_type": "code",
      "source": [],
      "metadata": {
        "id": "dvP4mjypqoEo"
      },
      "execution_count": 869,
      "outputs": []
    },
    {
      "cell_type": "code",
      "source": [],
      "metadata": {
        "id": "7NXZj4Agqm74"
      },
      "execution_count": 869,
      "outputs": []
    }
  ]
}